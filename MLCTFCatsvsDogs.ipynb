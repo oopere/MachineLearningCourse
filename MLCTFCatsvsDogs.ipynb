{
  "cells": [
    {
      "cell_type": "markdown",
      "metadata": {
        "id": "R3u_pPS7PSrj"
      },
      "source": [
        "\n",
        "let's start with TensorFlow.\n",
        "\n",
        "\n",
        "---\n",
        "\n",
        "\n",
        "In this collab, we are goig to solve three problems, and create thre different neuronal nets.\n"
      ]
    },
    {
      "cell_type": "markdown",
      "metadata": {
        "id": "K0Ez6Wz2T__6"
      },
      "source": [
        "## First Sample. The most simple problem to solve \n",
        "\n",
        "---\n",
        "\n",
        "\n"
      ]
    },
    {
      "cell_type": "code",
      "execution_count": 1,
      "metadata": {
        "colab": {
          "base_uri": "https://localhost:8080/"
        },
        "id": "pddGlKsiO_du",
        "outputId": "c6efe2a0-5455-4123-a015-9374ab10cbc7"
      },
      "outputs": [
        {
          "output_type": "stream",
          "name": "stdout",
          "text": [
            "2.8.2\n"
          ]
        }
      ],
      "source": [
        "#First steep is import the libraries. \n",
        "import tensorflow as tf\n",
        "#Numpy is a lybrary that allow us to work with arrays. \n",
        "import numpy as np\n",
        "#keras is an open source neural networks lybrary writted in python that run's in varios frameworks, TensorFlow included. \n",
        "from tensorflow import keras\n",
        "print (tf.__version__)\n"
      ]
    },
    {
      "cell_type": "code",
      "execution_count": 3,
      "metadata": {
        "id": "A9ClkratT9ZD"
      },
      "outputs": [],
      "source": [
        "#create 2 arrays, and the model must discover the relationship betwen the values. \n",
        "# (n * -1) + 2\n",
        "X = np.array([-2.0, -1.0, 0.0, 1.0, 2.0, 3.0, 4.0, 5.0, 6.0, 7.0, 8.0], dtype=float)\n",
        "y = np.array([4.0, 3.0, 2.0, 1.0, 0.0, -1.0, -2.0, -3.0, -4.0, -5.0, -6.0], dtype=float)"
      ]
    },
    {
      "cell_type": "code",
      "execution_count": 2,
      "metadata": {
        "id": "qlPs6OeGQ7bZ"
      },
      "outputs": [],
      "source": [
        "#Model with just one dense layer, one neuron, and one input. This is the most simple model possible. \n",
        "model = tf.keras.Sequential(keras.layers.Dense(units=1, input_shape=[1]))\n"
      ]
    },
    {
      "cell_type": "code",
      "execution_count": 4,
      "metadata": {
        "colab": {
          "base_uri": "https://localhost:8080/"
        },
        "id": "UiE53I3fWFvI",
        "outputId": "df045f98-f88f-402c-b1d4-9dfb0c8a453a"
      },
      "outputs": [
        {
          "output_type": "stream",
          "name": "stdout",
          "text": [
            "Epoch 1/250\n",
            "1/1 [==============================] - 2s 2s/step - loss: 84.9895\n",
            "Epoch 2/250\n",
            "1/1 [==============================] - 0s 8ms/step - loss: 33.3862\n",
            "Epoch 3/250\n",
            "1/1 [==============================] - 0s 8ms/step - loss: 14.1327\n",
            "Epoch 4/250\n",
            "1/1 [==============================] - 0s 11ms/step - loss: 6.9275\n",
            "Epoch 5/250\n",
            "1/1 [==============================] - 0s 10ms/step - loss: 4.2102\n",
            "Epoch 6/250\n",
            "1/1 [==============================] - 0s 8ms/step - loss: 3.1649\n",
            "Epoch 7/250\n",
            "1/1 [==============================] - 0s 9ms/step - loss: 2.7430\n",
            "Epoch 8/250\n",
            "1/1 [==============================] - 0s 10ms/step - loss: 2.5539\n",
            "Epoch 9/250\n",
            "1/1 [==============================] - 0s 7ms/step - loss: 2.4522\n",
            "Epoch 10/250\n",
            "1/1 [==============================] - 0s 8ms/step - loss: 2.3837\n",
            "Epoch 11/250\n",
            "1/1 [==============================] - 0s 9ms/step - loss: 2.3282\n",
            "Epoch 12/250\n",
            "1/1 [==============================] - 0s 8ms/step - loss: 2.2781\n",
            "Epoch 13/250\n",
            "1/1 [==============================] - 0s 7ms/step - loss: 2.2306\n",
            "Epoch 14/250\n",
            "1/1 [==============================] - 0s 15ms/step - loss: 2.1847\n",
            "Epoch 15/250\n",
            "1/1 [==============================] - 0s 10ms/step - loss: 2.1399\n",
            "Epoch 16/250\n",
            "1/1 [==============================] - 0s 8ms/step - loss: 2.0962\n",
            "Epoch 17/250\n",
            "1/1 [==============================] - 0s 12ms/step - loss: 2.0534\n",
            "Epoch 18/250\n",
            "1/1 [==============================] - 0s 8ms/step - loss: 2.0114\n",
            "Epoch 19/250\n",
            "1/1 [==============================] - 0s 8ms/step - loss: 1.9703\n",
            "Epoch 20/250\n",
            "1/1 [==============================] - 0s 6ms/step - loss: 1.9301\n",
            "Epoch 21/250\n",
            "1/1 [==============================] - 0s 8ms/step - loss: 1.8907\n",
            "Epoch 22/250\n",
            "1/1 [==============================] - 0s 9ms/step - loss: 1.8521\n",
            "Epoch 23/250\n",
            "1/1 [==============================] - 0s 8ms/step - loss: 1.8142\n",
            "Epoch 24/250\n",
            "1/1 [==============================] - 0s 10ms/step - loss: 1.7772\n",
            "Epoch 25/250\n",
            "1/1 [==============================] - 0s 6ms/step - loss: 1.7409\n",
            "Epoch 26/250\n",
            "1/1 [==============================] - 0s 9ms/step - loss: 1.7054\n",
            "Epoch 27/250\n",
            "1/1 [==============================] - 0s 8ms/step - loss: 1.6705\n",
            "Epoch 28/250\n",
            "1/1 [==============================] - 0s 7ms/step - loss: 1.6364\n",
            "Epoch 29/250\n",
            "1/1 [==============================] - 0s 9ms/step - loss: 1.6030\n",
            "Epoch 30/250\n",
            "1/1 [==============================] - 0s 9ms/step - loss: 1.5703\n",
            "Epoch 31/250\n",
            "1/1 [==============================] - 0s 13ms/step - loss: 1.5382\n",
            "Epoch 32/250\n",
            "1/1 [==============================] - 0s 9ms/step - loss: 1.5068\n",
            "Epoch 33/250\n",
            "1/1 [==============================] - 0s 8ms/step - loss: 1.4760\n",
            "Epoch 34/250\n",
            "1/1 [==============================] - 0s 5ms/step - loss: 1.4459\n",
            "Epoch 35/250\n",
            "1/1 [==============================] - 0s 6ms/step - loss: 1.4163\n",
            "Epoch 36/250\n",
            "1/1 [==============================] - 0s 5ms/step - loss: 1.3874\n",
            "Epoch 37/250\n",
            "1/1 [==============================] - 0s 5ms/step - loss: 1.3591\n",
            "Epoch 38/250\n",
            "1/1 [==============================] - 0s 5ms/step - loss: 1.3313\n",
            "Epoch 39/250\n",
            "1/1 [==============================] - 0s 6ms/step - loss: 1.3041\n",
            "Epoch 40/250\n",
            "1/1 [==============================] - 0s 6ms/step - loss: 1.2775\n",
            "Epoch 41/250\n",
            "1/1 [==============================] - 0s 6ms/step - loss: 1.2514\n",
            "Epoch 42/250\n",
            "1/1 [==============================] - 0s 5ms/step - loss: 1.2259\n",
            "Epoch 43/250\n",
            "1/1 [==============================] - 0s 6ms/step - loss: 1.2008\n",
            "Epoch 44/250\n",
            "1/1 [==============================] - 0s 5ms/step - loss: 1.1763\n",
            "Epoch 45/250\n",
            "1/1 [==============================] - 0s 5ms/step - loss: 1.1523\n",
            "Epoch 46/250\n",
            "1/1 [==============================] - 0s 7ms/step - loss: 1.1288\n",
            "Epoch 47/250\n",
            "1/1 [==============================] - 0s 8ms/step - loss: 1.1057\n",
            "Epoch 48/250\n",
            "1/1 [==============================] - 0s 8ms/step - loss: 1.0831\n",
            "Epoch 49/250\n",
            "1/1 [==============================] - 0s 8ms/step - loss: 1.0610\n",
            "Epoch 50/250\n",
            "1/1 [==============================] - 0s 6ms/step - loss: 1.0393\n",
            "Epoch 51/250\n",
            "1/1 [==============================] - 0s 5ms/step - loss: 1.0181\n",
            "Epoch 52/250\n",
            "1/1 [==============================] - 0s 5ms/step - loss: 0.9973\n",
            "Epoch 53/250\n",
            "1/1 [==============================] - 0s 5ms/step - loss: 0.9770\n",
            "Epoch 54/250\n",
            "1/1 [==============================] - 0s 5ms/step - loss: 0.9570\n",
            "Epoch 55/250\n",
            "1/1 [==============================] - 0s 5ms/step - loss: 0.9375\n",
            "Epoch 56/250\n",
            "1/1 [==============================] - 0s 5ms/step - loss: 0.9183\n",
            "Epoch 57/250\n",
            "1/1 [==============================] - 0s 5ms/step - loss: 0.8996\n",
            "Epoch 58/250\n",
            "1/1 [==============================] - 0s 5ms/step - loss: 0.8812\n",
            "Epoch 59/250\n",
            "1/1 [==============================] - 0s 5ms/step - loss: 0.8632\n",
            "Epoch 60/250\n",
            "1/1 [==============================] - 0s 5ms/step - loss: 0.8456\n",
            "Epoch 61/250\n",
            "1/1 [==============================] - 0s 5ms/step - loss: 0.8283\n",
            "Epoch 62/250\n",
            "1/1 [==============================] - 0s 5ms/step - loss: 0.8114\n",
            "Epoch 63/250\n",
            "1/1 [==============================] - 0s 5ms/step - loss: 0.7948\n",
            "Epoch 64/250\n",
            "1/1 [==============================] - 0s 5ms/step - loss: 0.7786\n",
            "Epoch 65/250\n",
            "1/1 [==============================] - 0s 5ms/step - loss: 0.7627\n",
            "Epoch 66/250\n",
            "1/1 [==============================] - 0s 5ms/step - loss: 0.7471\n",
            "Epoch 67/250\n",
            "1/1 [==============================] - 0s 5ms/step - loss: 0.7319\n",
            "Epoch 68/250\n",
            "1/1 [==============================] - 0s 5ms/step - loss: 0.7169\n",
            "Epoch 69/250\n",
            "1/1 [==============================] - 0s 5ms/step - loss: 0.7023\n",
            "Epoch 70/250\n",
            "1/1 [==============================] - 0s 5ms/step - loss: 0.6879\n",
            "Epoch 71/250\n",
            "1/1 [==============================] - 0s 13ms/step - loss: 0.6739\n",
            "Epoch 72/250\n",
            "1/1 [==============================] - 0s 10ms/step - loss: 0.6601\n",
            "Epoch 73/250\n",
            "1/1 [==============================] - 0s 9ms/step - loss: 0.6466\n",
            "Epoch 74/250\n",
            "1/1 [==============================] - 0s 8ms/step - loss: 0.6334\n",
            "Epoch 75/250\n",
            "1/1 [==============================] - 0s 11ms/step - loss: 0.6205\n",
            "Epoch 76/250\n",
            "1/1 [==============================] - 0s 7ms/step - loss: 0.6078\n",
            "Epoch 77/250\n",
            "1/1 [==============================] - 0s 9ms/step - loss: 0.5954\n",
            "Epoch 78/250\n",
            "1/1 [==============================] - 0s 7ms/step - loss: 0.5833\n",
            "Epoch 79/250\n",
            "1/1 [==============================] - 0s 8ms/step - loss: 0.5713\n",
            "Epoch 80/250\n",
            "1/1 [==============================] - 0s 7ms/step - loss: 0.5597\n",
            "Epoch 81/250\n",
            "1/1 [==============================] - 0s 7ms/step - loss: 0.5482\n",
            "Epoch 82/250\n",
            "1/1 [==============================] - 0s 7ms/step - loss: 0.5371\n",
            "Epoch 83/250\n",
            "1/1 [==============================] - 0s 7ms/step - loss: 0.5261\n",
            "Epoch 84/250\n",
            "1/1 [==============================] - 0s 7ms/step - loss: 0.5153\n",
            "Epoch 85/250\n",
            "1/1 [==============================] - 0s 7ms/step - loss: 0.5048\n",
            "Epoch 86/250\n",
            "1/1 [==============================] - 0s 7ms/step - loss: 0.4945\n",
            "Epoch 87/250\n",
            "1/1 [==============================] - 0s 11ms/step - loss: 0.4844\n",
            "Epoch 88/250\n",
            "1/1 [==============================] - 0s 9ms/step - loss: 0.4745\n",
            "Epoch 89/250\n",
            "1/1 [==============================] - 0s 7ms/step - loss: 0.4648\n",
            "Epoch 90/250\n",
            "1/1 [==============================] - 0s 7ms/step - loss: 0.4553\n",
            "Epoch 91/250\n",
            "1/1 [==============================] - 0s 7ms/step - loss: 0.4460\n",
            "Epoch 92/250\n",
            "1/1 [==============================] - 0s 7ms/step - loss: 0.4369\n",
            "Epoch 93/250\n",
            "1/1 [==============================] - 0s 7ms/step - loss: 0.4280\n",
            "Epoch 94/250\n",
            "1/1 [==============================] - 0s 8ms/step - loss: 0.4193\n",
            "Epoch 95/250\n",
            "1/1 [==============================] - 0s 6ms/step - loss: 0.4107\n",
            "Epoch 96/250\n",
            "1/1 [==============================] - 0s 7ms/step - loss: 0.4023\n",
            "Epoch 97/250\n",
            "1/1 [==============================] - 0s 7ms/step - loss: 0.3941\n",
            "Epoch 98/250\n",
            "1/1 [==============================] - 0s 6ms/step - loss: 0.3861\n",
            "Epoch 99/250\n",
            "1/1 [==============================] - 0s 7ms/step - loss: 0.3782\n",
            "Epoch 100/250\n",
            "1/1 [==============================] - 0s 6ms/step - loss: 0.3704\n",
            "Epoch 101/250\n",
            "1/1 [==============================] - 0s 6ms/step - loss: 0.3629\n",
            "Epoch 102/250\n",
            "1/1 [==============================] - 0s 6ms/step - loss: 0.3555\n",
            "Epoch 103/250\n",
            "1/1 [==============================] - 0s 6ms/step - loss: 0.3482\n",
            "Epoch 104/250\n",
            "1/1 [==============================] - 0s 6ms/step - loss: 0.3411\n",
            "Epoch 105/250\n",
            "1/1 [==============================] - 0s 6ms/step - loss: 0.3341\n",
            "Epoch 106/250\n",
            "1/1 [==============================] - 0s 6ms/step - loss: 0.3273\n",
            "Epoch 107/250\n",
            "1/1 [==============================] - 0s 6ms/step - loss: 0.3206\n",
            "Epoch 108/250\n",
            "1/1 [==============================] - 0s 11ms/step - loss: 0.3141\n",
            "Epoch 109/250\n",
            "1/1 [==============================] - 0s 9ms/step - loss: 0.3077\n",
            "Epoch 110/250\n",
            "1/1 [==============================] - 0s 6ms/step - loss: 0.3014\n",
            "Epoch 111/250\n",
            "1/1 [==============================] - 0s 6ms/step - loss: 0.2952\n",
            "Epoch 112/250\n",
            "1/1 [==============================] - 0s 12ms/step - loss: 0.2892\n",
            "Epoch 113/250\n",
            "1/1 [==============================] - 0s 7ms/step - loss: 0.2833\n",
            "Epoch 114/250\n",
            "1/1 [==============================] - 0s 7ms/step - loss: 0.2775\n",
            "Epoch 115/250\n",
            "1/1 [==============================] - 0s 7ms/step - loss: 0.2718\n",
            "Epoch 116/250\n",
            "1/1 [==============================] - 0s 6ms/step - loss: 0.2663\n",
            "Epoch 117/250\n",
            "1/1 [==============================] - 0s 6ms/step - loss: 0.2609\n",
            "Epoch 118/250\n",
            "1/1 [==============================] - 0s 21ms/step - loss: 0.2555\n",
            "Epoch 119/250\n",
            "1/1 [==============================] - 0s 11ms/step - loss: 0.2503\n",
            "Epoch 120/250\n",
            "1/1 [==============================] - 0s 10ms/step - loss: 0.2452\n",
            "Epoch 121/250\n",
            "1/1 [==============================] - 0s 10ms/step - loss: 0.2402\n",
            "Epoch 122/250\n",
            "1/1 [==============================] - 0s 11ms/step - loss: 0.2353\n",
            "Epoch 123/250\n",
            "1/1 [==============================] - 0s 11ms/step - loss: 0.2305\n",
            "Epoch 124/250\n",
            "1/1 [==============================] - 0s 8ms/step - loss: 0.2258\n",
            "Epoch 125/250\n",
            "1/1 [==============================] - 0s 8ms/step - loss: 0.2212\n",
            "Epoch 126/250\n",
            "1/1 [==============================] - 0s 9ms/step - loss: 0.2166\n",
            "Epoch 127/250\n",
            "1/1 [==============================] - 0s 9ms/step - loss: 0.2122\n",
            "Epoch 128/250\n",
            "1/1 [==============================] - 0s 7ms/step - loss: 0.2079\n",
            "Epoch 129/250\n",
            "1/1 [==============================] - 0s 9ms/step - loss: 0.2036\n",
            "Epoch 130/250\n",
            "1/1 [==============================] - 0s 17ms/step - loss: 0.1995\n",
            "Epoch 131/250\n",
            "1/1 [==============================] - 0s 8ms/step - loss: 0.1954\n",
            "Epoch 132/250\n",
            "1/1 [==============================] - 0s 14ms/step - loss: 0.1914\n",
            "Epoch 133/250\n",
            "1/1 [==============================] - 0s 7ms/step - loss: 0.1875\n",
            "Epoch 134/250\n",
            "1/1 [==============================] - 0s 8ms/step - loss: 0.1837\n",
            "Epoch 135/250\n",
            "1/1 [==============================] - 0s 8ms/step - loss: 0.1799\n",
            "Epoch 136/250\n",
            "1/1 [==============================] - 0s 9ms/step - loss: 0.1763\n",
            "Epoch 137/250\n",
            "1/1 [==============================] - 0s 7ms/step - loss: 0.1727\n",
            "Epoch 138/250\n",
            "1/1 [==============================] - 0s 8ms/step - loss: 0.1691\n",
            "Epoch 139/250\n",
            "1/1 [==============================] - 0s 7ms/step - loss: 0.1657\n",
            "Epoch 140/250\n",
            "1/1 [==============================] - 0s 7ms/step - loss: 0.1623\n",
            "Epoch 141/250\n",
            "1/1 [==============================] - 0s 6ms/step - loss: 0.1590\n",
            "Epoch 142/250\n",
            "1/1 [==============================] - 0s 6ms/step - loss: 0.1557\n",
            "Epoch 143/250\n",
            "1/1 [==============================] - 0s 7ms/step - loss: 0.1526\n",
            "Epoch 144/250\n",
            "1/1 [==============================] - 0s 6ms/step - loss: 0.1494\n",
            "Epoch 145/250\n",
            "1/1 [==============================] - 0s 16ms/step - loss: 0.1464\n",
            "Epoch 146/250\n",
            "1/1 [==============================] - 0s 8ms/step - loss: 0.1434\n",
            "Epoch 147/250\n",
            "1/1 [==============================] - 0s 9ms/step - loss: 0.1405\n",
            "Epoch 148/250\n",
            "1/1 [==============================] - 0s 6ms/step - loss: 0.1376\n",
            "Epoch 149/250\n",
            "1/1 [==============================] - 0s 7ms/step - loss: 0.1348\n",
            "Epoch 150/250\n",
            "1/1 [==============================] - 0s 7ms/step - loss: 0.1320\n",
            "Epoch 151/250\n",
            "1/1 [==============================] - 0s 12ms/step - loss: 0.1293\n",
            "Epoch 152/250\n",
            "1/1 [==============================] - 0s 9ms/step - loss: 0.1267\n",
            "Epoch 153/250\n",
            "1/1 [==============================] - 0s 8ms/step - loss: 0.1241\n",
            "Epoch 154/250\n",
            "1/1 [==============================] - 0s 10ms/step - loss: 0.1216\n",
            "Epoch 155/250\n",
            "1/1 [==============================] - 0s 14ms/step - loss: 0.1191\n",
            "Epoch 156/250\n",
            "1/1 [==============================] - 0s 9ms/step - loss: 0.1167\n",
            "Epoch 157/250\n",
            "1/1 [==============================] - 0s 73ms/step - loss: 0.1143\n",
            "Epoch 158/250\n",
            "1/1 [==============================] - 0s 28ms/step - loss: 0.1119\n",
            "Epoch 159/250\n",
            "1/1 [==============================] - 0s 15ms/step - loss: 0.1097\n",
            "Epoch 160/250\n",
            "1/1 [==============================] - 0s 8ms/step - loss: 0.1074\n",
            "Epoch 161/250\n",
            "1/1 [==============================] - 0s 11ms/step - loss: 0.1052\n",
            "Epoch 162/250\n",
            "1/1 [==============================] - 0s 11ms/step - loss: 0.1031\n",
            "Epoch 163/250\n",
            "1/1 [==============================] - 0s 8ms/step - loss: 0.1010\n",
            "Epoch 164/250\n",
            "1/1 [==============================] - 0s 5ms/step - loss: 0.0989\n",
            "Epoch 165/250\n",
            "1/1 [==============================] - 0s 8ms/step - loss: 0.0969\n",
            "Epoch 166/250\n",
            "1/1 [==============================] - 0s 9ms/step - loss: 0.0949\n",
            "Epoch 167/250\n",
            "1/1 [==============================] - 0s 14ms/step - loss: 0.0930\n",
            "Epoch 168/250\n",
            "1/1 [==============================] - 0s 8ms/step - loss: 0.0911\n",
            "Epoch 169/250\n",
            "1/1 [==============================] - 0s 6ms/step - loss: 0.0892\n",
            "Epoch 170/250\n",
            "1/1 [==============================] - 0s 6ms/step - loss: 0.0874\n",
            "Epoch 171/250\n",
            "1/1 [==============================] - 0s 6ms/step - loss: 0.0856\n",
            "Epoch 172/250\n",
            "1/1 [==============================] - 0s 6ms/step - loss: 0.0839\n",
            "Epoch 173/250\n",
            "1/1 [==============================] - 0s 8ms/step - loss: 0.0821\n",
            "Epoch 174/250\n",
            "1/1 [==============================] - 0s 6ms/step - loss: 0.0805\n",
            "Epoch 175/250\n",
            "1/1 [==============================] - 0s 5ms/step - loss: 0.0788\n",
            "Epoch 176/250\n",
            "1/1 [==============================] - 0s 5ms/step - loss: 0.0772\n",
            "Epoch 177/250\n",
            "1/1 [==============================] - 0s 5ms/step - loss: 0.0756\n",
            "Epoch 178/250\n",
            "1/1 [==============================] - 0s 6ms/step - loss: 0.0741\n",
            "Epoch 179/250\n",
            "1/1 [==============================] - 0s 6ms/step - loss: 0.0726\n",
            "Epoch 180/250\n",
            "1/1 [==============================] - 0s 6ms/step - loss: 0.0711\n",
            "Epoch 181/250\n",
            "1/1 [==============================] - 0s 6ms/step - loss: 0.0696\n",
            "Epoch 182/250\n",
            "1/1 [==============================] - 0s 5ms/step - loss: 0.0682\n",
            "Epoch 183/250\n",
            "1/1 [==============================] - 0s 6ms/step - loss: 0.0668\n",
            "Epoch 184/250\n",
            "1/1 [==============================] - 0s 6ms/step - loss: 0.0655\n",
            "Epoch 185/250\n",
            "1/1 [==============================] - 0s 14ms/step - loss: 0.0641\n",
            "Epoch 186/250\n",
            "1/1 [==============================] - 0s 8ms/step - loss: 0.0628\n",
            "Epoch 187/250\n",
            "1/1 [==============================] - 0s 11ms/step - loss: 0.0615\n",
            "Epoch 188/250\n",
            "1/1 [==============================] - 0s 8ms/step - loss: 0.0603\n",
            "Epoch 189/250\n",
            "1/1 [==============================] - 0s 8ms/step - loss: 0.0591\n",
            "Epoch 190/250\n",
            "1/1 [==============================] - 0s 8ms/step - loss: 0.0578\n",
            "Epoch 191/250\n",
            "1/1 [==============================] - 0s 9ms/step - loss: 0.0567\n",
            "Epoch 192/250\n",
            "1/1 [==============================] - 0s 10ms/step - loss: 0.0555\n",
            "Epoch 193/250\n",
            "1/1 [==============================] - 0s 6ms/step - loss: 0.0544\n",
            "Epoch 194/250\n",
            "1/1 [==============================] - 0s 7ms/step - loss: 0.0533\n",
            "Epoch 195/250\n",
            "1/1 [==============================] - 0s 6ms/step - loss: 0.0522\n",
            "Epoch 196/250\n",
            "1/1 [==============================] - 0s 7ms/step - loss: 0.0511\n",
            "Epoch 197/250\n",
            "1/1 [==============================] - 0s 5ms/step - loss: 0.0501\n",
            "Epoch 198/250\n",
            "1/1 [==============================] - 0s 12ms/step - loss: 0.0490\n",
            "Epoch 199/250\n",
            "1/1 [==============================] - 0s 10ms/step - loss: 0.0480\n",
            "Epoch 200/250\n",
            "1/1 [==============================] - 0s 5ms/step - loss: 0.0471\n",
            "Epoch 201/250\n",
            "1/1 [==============================] - 0s 5ms/step - loss: 0.0461\n",
            "Epoch 202/250\n",
            "1/1 [==============================] - 0s 6ms/step - loss: 0.0452\n",
            "Epoch 203/250\n",
            "1/1 [==============================] - 0s 8ms/step - loss: 0.0442\n",
            "Epoch 204/250\n",
            "1/1 [==============================] - 0s 6ms/step - loss: 0.0433\n",
            "Epoch 205/250\n",
            "1/1 [==============================] - 0s 15ms/step - loss: 0.0424\n",
            "Epoch 206/250\n",
            "1/1 [==============================] - 0s 8ms/step - loss: 0.0416\n",
            "Epoch 207/250\n",
            "1/1 [==============================] - 0s 11ms/step - loss: 0.0407\n",
            "Epoch 208/250\n",
            "1/1 [==============================] - 0s 7ms/step - loss: 0.0399\n",
            "Epoch 209/250\n",
            "1/1 [==============================] - 0s 10ms/step - loss: 0.0391\n",
            "Epoch 210/250\n",
            "1/1 [==============================] - 0s 5ms/step - loss: 0.0383\n",
            "Epoch 211/250\n",
            "1/1 [==============================] - 0s 6ms/step - loss: 0.0375\n",
            "Epoch 212/250\n",
            "1/1 [==============================] - 0s 38ms/step - loss: 0.0367\n",
            "Epoch 213/250\n",
            "1/1 [==============================] - 0s 7ms/step - loss: 0.0360\n",
            "Epoch 214/250\n",
            "1/1 [==============================] - 0s 5ms/step - loss: 0.0353\n",
            "Epoch 215/250\n",
            "1/1 [==============================] - 0s 8ms/step - loss: 0.0345\n",
            "Epoch 216/250\n",
            "1/1 [==============================] - 0s 9ms/step - loss: 0.0338\n",
            "Epoch 217/250\n",
            "1/1 [==============================] - 0s 15ms/step - loss: 0.0331\n",
            "Epoch 218/250\n",
            "1/1 [==============================] - 0s 11ms/step - loss: 0.0325\n",
            "Epoch 219/250\n",
            "1/1 [==============================] - 0s 5ms/step - loss: 0.0318\n",
            "Epoch 220/250\n",
            "1/1 [==============================] - 0s 5ms/step - loss: 0.0311\n",
            "Epoch 221/250\n",
            "1/1 [==============================] - 0s 5ms/step - loss: 0.0305\n",
            "Epoch 222/250\n",
            "1/1 [==============================] - 0s 5ms/step - loss: 0.0299\n",
            "Epoch 223/250\n",
            "1/1 [==============================] - 0s 13ms/step - loss: 0.0293\n",
            "Epoch 224/250\n",
            "1/1 [==============================] - 0s 6ms/step - loss: 0.0287\n",
            "Epoch 225/250\n",
            "1/1 [==============================] - 0s 10ms/step - loss: 0.0281\n",
            "Epoch 226/250\n",
            "1/1 [==============================] - 0s 8ms/step - loss: 0.0275\n",
            "Epoch 227/250\n",
            "1/1 [==============================] - 0s 8ms/step - loss: 0.0270\n",
            "Epoch 228/250\n",
            "1/1 [==============================] - 0s 9ms/step - loss: 0.0264\n",
            "Epoch 229/250\n",
            "1/1 [==============================] - 0s 6ms/step - loss: 0.0259\n",
            "Epoch 230/250\n",
            "1/1 [==============================] - 0s 5ms/step - loss: 0.0253\n",
            "Epoch 231/250\n",
            "1/1 [==============================] - 0s 14ms/step - loss: 0.0248\n",
            "Epoch 232/250\n",
            "1/1 [==============================] - 0s 9ms/step - loss: 0.0243\n",
            "Epoch 233/250\n",
            "1/1 [==============================] - 0s 6ms/step - loss: 0.0238\n",
            "Epoch 234/250\n",
            "1/1 [==============================] - 0s 6ms/step - loss: 0.0233\n",
            "Epoch 235/250\n",
            "1/1 [==============================] - 0s 6ms/step - loss: 0.0229\n",
            "Epoch 236/250\n",
            "1/1 [==============================] - 0s 7ms/step - loss: 0.0224\n",
            "Epoch 237/250\n",
            "1/1 [==============================] - 0s 14ms/step - loss: 0.0219\n",
            "Epoch 238/250\n",
            "1/1 [==============================] - 0s 9ms/step - loss: 0.0215\n",
            "Epoch 239/250\n",
            "1/1 [==============================] - 0s 7ms/step - loss: 0.0210\n",
            "Epoch 240/250\n",
            "1/1 [==============================] - 0s 11ms/step - loss: 0.0206\n",
            "Epoch 241/250\n",
            "1/1 [==============================] - 0s 8ms/step - loss: 0.0202\n",
            "Epoch 242/250\n",
            "1/1 [==============================] - 0s 8ms/step - loss: 0.0198\n",
            "Epoch 243/250\n",
            "1/1 [==============================] - 0s 10ms/step - loss: 0.0194\n",
            "Epoch 244/250\n",
            "1/1 [==============================] - 0s 8ms/step - loss: 0.0190\n",
            "Epoch 245/250\n",
            "1/1 [==============================] - 0s 8ms/step - loss: 0.0186\n",
            "Epoch 246/250\n",
            "1/1 [==============================] - 0s 9ms/step - loss: 0.0182\n",
            "Epoch 247/250\n",
            "1/1 [==============================] - 0s 7ms/step - loss: 0.0178\n",
            "Epoch 248/250\n",
            "1/1 [==============================] - 0s 7ms/step - loss: 0.0175\n",
            "Epoch 249/250\n",
            "1/1 [==============================] - 0s 6ms/step - loss: 0.0171\n",
            "Epoch 250/250\n",
            "1/1 [==============================] - 0s 6ms/step - loss: 0.0168\n"
          ]
        },
        {
          "output_type": "execute_result",
          "data": {
            "text/plain": [
              "<keras.callbacks.History at 0x7f0a704c6550>"
            ]
          },
          "metadata": {},
          "execution_count": 4
        }
      ],
      "source": [
        "#compile and train the model.\n",
        "#compile and indicate the optimezer and the model. By the moment we need to understand that this both functions are where the magic happens. \n",
        "#The optimizer is the function responsible to make a guess. \n",
        "#The loss function is responsible to indicate how accurated the guees is. \n",
        "#They try to be more accurated in each epoch\n",
        "model.compile(optimizer=\"sgd\", loss=\"mean_squared_error\") \n",
        "model.fit(X, y, epochs=250)"
      ]
    },
    {
      "cell_type": "code",
      "execution_count": 5,
      "metadata": {
        "colab": {
          "base_uri": "https://localhost:8080/"
        },
        "id": "cqtIdC_PZxAU",
        "outputId": "e3f4a370-2edd-4d5b-8f86-8a1621d8b562"
      },
      "outputs": [
        {
          "output_type": "stream",
          "name": "stdout",
          "text": [
            "[[-7.890001]]\n"
          ]
        }
      ],
      "source": [
        "#expect something near -8. \n",
        "print(model.predict([10.0]))"
      ]
    },
    {
      "cell_type": "markdown",
      "metadata": {
        "id": "V-EfFty6_uKR"
      },
      "source": [
        "# Working with Images\n",
        "Dataset:\n",
        "This dataset is really common and used in a los of samples and tutorials. \n",
        "https://download.microsoft.com/download/3/E/1/3E1C3F21-ECDB-4869-8368-6DEBA77B919F/kagglecatsanddogs_5340.zip\n",
        "\n",
        "References: \n",
        "\n",
        "This is an amazing article, using Keras, but not with Tensorflow. I got a lot of information and inspiration from this articles. For sure that anyone able to follow this course can understand and get ideas. \n",
        "\n",
        "https://machinelearningmastery.com/how-to-develop-a-convolutional-neural-network-to-classify-photos-of-dogs-and-cats/\n",
        "\n",
        "Maybe the best introduction to Machine Learning with tensorflow is the list from Laurence Moroney available in youtube. I get a lot from the video number 5, to create this sample. \n",
        "https://www.youtube.com/watch?v=nq7_ZYJPWf0&t=5s\n",
        "\n",
        "\n",
        "As you can see all the aproches are similar, but not the same. Is easy to copy one model who works with the same dataset, but you must understand what are you doing and experiment by yourself. "
      ]
    },
    {
      "cell_type": "code",
      "execution_count": 6,
      "metadata": {
        "colab": {
          "base_uri": "https://localhost:8080/"
        },
        "id": "OvREzvxr5nSj",
        "outputId": "054b991f-2099-4439-ef47-9e41955ca3bc"
      },
      "outputs": [
        {
          "output_type": "stream",
          "name": "stdout",
          "text": [
            "2.8.2\n"
          ]
        }
      ],
      "source": [
        "#First step is import the libraries. \n",
        "import tensorflow as tf\n",
        "#Numpy is a lybrary that allow us to work with arrays. \n",
        "import numpy as np\n",
        "#keras is an open source neural networks lybrary writted in python that run's in varios frameworks, TensorFlow included. \n",
        "from tensorflow import keras\n",
        "from time import time\n",
        "\n",
        "print (tf.__version__)\n"
      ]
    },
    {
      "cell_type": "code",
      "execution_count": 7,
      "metadata": {
        "colab": {
          "base_uri": "https://localhost:8080/"
        },
        "id": "S91fBKeP_0Ng",
        "outputId": "1d0b0086-e04d-430e-fb5a-7a1c9c027c38"
      },
      "outputs": [
        {
          "output_type": "stream",
          "name": "stdout",
          "text": [
            "--2022-07-13 15:26:07--  https://download.microsoft.com/download/3/E/1/3E1C3F21-ECDB-4869-8368-6DEBA77B919F/kagglecatsanddogs_5340.zip\n",
            "Resolving download.microsoft.com (download.microsoft.com)... 104.117.232.107, 2600:1409:3000:4a4::e59, 2600:1409:3000:48e::e59\n",
            "Connecting to download.microsoft.com (download.microsoft.com)|104.117.232.107|:443... connected.\n",
            "HTTP request sent, awaiting response... 200 OK\n",
            "Length: 824887076 (787M) [application/octet-stream]\n",
            "Saving to: ‘/tmp/catsvsdogs.zip’\n",
            "\n",
            "/tmp/catsvsdogs.zip 100%[===================>] 786.67M   197MB/s    in 4.3s    \n",
            "\n",
            "2022-07-13 15:26:11 (183 MB/s) - ‘/tmp/catsvsdogs.zip’ saved [824887076/824887076]\n",
            "\n"
          ]
        }
      ],
      "source": [
        "#obtain the data from microsoft.com\n",
        "#the same dataset is available in kaggle but with a different organization\n",
        "#https://www.kaggle.com/competitions/dogs-vs-cats/data\n",
        "\n",
        "!wget --no-check-certificate \\\n",
        "https://download.microsoft.com/download/3/E/1/3E1C3F21-ECDB-4869-8368-6DEBA77B919F/kagglecatsanddogs_5340.zip \\-O /tmp/catsvsdogs.zip\n",
        "\n"
      ]
    },
    {
      "cell_type": "code",
      "execution_count": 8,
      "metadata": {
        "id": "OkyG_WmaOJlP"
      },
      "outputs": [],
      "source": [
        "#unzip the data\n",
        "import zipfile\n",
        "cvr_zip_file = '/tmp/catsvsdogs.zip'\n",
        "zipmem = zipfile.ZipFile(cvr_zip_file)\n",
        "zipmem.extractall('/tmp/catsvsdogs')\n",
        "zipmem.close()\n",
        "\n"
      ]
    },
    {
      "cell_type": "code",
      "execution_count": 9,
      "metadata": {
        "id": "iUJmgc99vKD_"
      },
      "outputs": [],
      "source": [
        "#create the directory structure\n",
        "import os\n",
        "\n",
        "#we need a try block, because it fails when the directories already exist. \n",
        "try:\n",
        "  os.mkdir('/tmp/datacvd')\n",
        "  os.mkdir('/tmp/datacvd/train')\n",
        "  os.mkdir('/tmp/datacvd/validation')\n",
        "  os.mkdir('/tmp/datacvd/train/cats')\n",
        "  os.mkdir('/tmp/datacvd/train/dogs')\n",
        "  os.mkdir('/tmp/datacvd/validation/cats')\n",
        "  os.mkdir('/tmp/datacvd/validation/dogs')\n",
        "except:\n",
        "  pass"
      ]
    },
    {
      "cell_type": "code",
      "execution_count": 11,
      "metadata": {
        "colab": {
          "base_uri": "https://localhost:8080/"
        },
        "id": "VrAvPeb2zxce",
        "outputId": "3cb729c8-cfdf-4e5f-9560-edb8a451c605"
      },
      "outputs": [
        {
          "output_type": "stream",
          "name": "stdout",
          "text": [
            "2000\n",
            "10500\n",
            "2000\n",
            "10500\n"
          ]
        }
      ],
      "source": [
        "#we need 4 datasets, two for training the model and two for validate or test the model. \n",
        "#to classify the images in this dataset we can move it from their original directories to \n",
        "#a new ones with the correct structure. \n",
        "\n",
        "from shutil import copyfile\n",
        "\n",
        "#this array contents all the images to move/copy\n",
        "imagesCats=[]\n",
        "imagesDogs=[]\n",
        "\n",
        "for imagename in os.listdir('/tmp/catsvsdogs/PetImages/Cat/'):\n",
        "  imageCat = '/tmp/catsvsdogs/PetImages/Cat/' + imagename\n",
        "  if (os.path.getsize(imageCat)) > 0:\n",
        "    imagesCats.append(imagename)\n",
        "\n",
        "\n",
        "for imagename in os.listdir('/tmp/catsvsdogs/PetImages/Dog/'):\n",
        "  imageDog = '/tmp/catsvsdogs/PetImages/Dog/' + imagename\n",
        "  if (os.path.getsize(imageDog)) > 0:\n",
        "    imagesDogs.append(imagename)\n",
        "\n",
        "\n",
        "\n",
        "\n",
        "counterImage = 0\n",
        "for imagename in imagesCats:\n",
        "  if  counterImage < 2000:\n",
        "    copyfile('/tmp/catsvsdogs/PetImages/Cat/' + imagename, '/tmp/datacvd/validation/cats/'+imagename)\n",
        "  else:\n",
        "    copyfile('/tmp/catsvsdogs/PetImages/Cat/' + imagename, '/tmp/datacvd/train/cats/'+imagename)\n",
        "  counterImage +=1\n",
        "\n",
        "counterImage = 0\n",
        "for imagename in imagesDogs:\n",
        "  if  counterImage < 2000:\n",
        "    copyfile('/tmp/catsvsdogs/PetImages/Dog/' + imagename, '/tmp/datacvd/validation/dogs/'+imagename)\n",
        "  else:\n",
        "    copyfile('/tmp/catsvsdogs/PetImages/Dog/' + imagename, '/tmp/datacvd/train/dogs/'+imagename)\n",
        "  counterImage +=1\n",
        "\n",
        "print(len(os.listdir('/tmp/datacvd/validation/dogs/')))\n",
        "print(len(os.listdir('/tmp/datacvd/train/dogs/')))\n",
        "print(len(os.listdir('/tmp/datacvd/validation/cats/')))\n",
        "print(len(os.listdir('/tmp/datacvd/train/cats/')))\n"
      ]
    },
    {
      "cell_type": "code",
      "execution_count": 12,
      "metadata": {
        "id": "4IjdNUfPbPsQ"
      },
      "outputs": [],
      "source": [
        "#create the model\n",
        "#it's a minimal model for images, with just an Convolutionatl layer and a MaxPooling layer\n",
        "model = tf.keras.models.Sequential([\n",
        "  tf.keras.layers.Conv2D(16, (4,4), activation=\"relu\", input_shape=(150, 150, 3)),\n",
        "  tf.keras.layers.MaxPooling2D(2,2),  \n",
        "  tf.keras.layers.Flatten(), \n",
        "  tf.keras.layers.Dense(128, activation=\"relu\"), \n",
        "  tf.keras.layers.Dense(1, activation=\"sigmoid\")\n",
        "])\n"
      ]
    },
    {
      "cell_type": "code",
      "execution_count": 13,
      "metadata": {
        "colab": {
          "base_uri": "https://localhost:8080/"
        },
        "id": "IKQXXxUzefcZ",
        "outputId": "9a541090-b57f-4963-d5a1-1fe922fc297e"
      },
      "outputs": [
        {
          "output_type": "stream",
          "name": "stdout",
          "text": [
            "Model: \"sequential_1\"\n",
            "_________________________________________________________________\n",
            " Layer (type)                Output Shape              Param #   \n",
            "=================================================================\n",
            " conv2d (Conv2D)             (None, 147, 147, 16)      784       \n",
            "                                                                 \n",
            " max_pooling2d (MaxPooling2D  (None, 73, 73, 16)       0         \n",
            " )                                                               \n",
            "                                                                 \n",
            " flatten (Flatten)           (None, 85264)             0         \n",
            "                                                                 \n",
            " dense_1 (Dense)             (None, 128)               10913920  \n",
            "                                                                 \n",
            " dense_2 (Dense)             (None, 1)                 129       \n",
            "                                                                 \n",
            "=================================================================\n",
            "Total params: 10,914,833\n",
            "Trainable params: 10,914,833\n",
            "Non-trainable params: 0\n",
            "_________________________________________________________________\n"
          ]
        }
      ],
      "source": [
        "model.summary()"
      ]
    },
    {
      "cell_type": "code",
      "execution_count": 14,
      "metadata": {
        "id": "9lU68GaYeo8h"
      },
      "outputs": [],
      "source": [
        " #create the model2\n",
        "#a model with more convutionals and Pooling layers obtains leess parameters. \n",
        "model2 = tf.keras.models.Sequential([\n",
        "  tf.keras.layers.Conv2D(16, (4,4), activation=\"relu\", input_shape=(150, 150, 3)),\n",
        "  tf.keras.layers.MaxPooling2D(2,2),  \n",
        "  tf.keras.layers.Conv2D(32, (4,4), activation=\"relu\"),\n",
        "  tf.keras.layers.MaxPooling2D(2,2),  \n",
        "  tf.keras.layers.Conv2D(64, (4,4), activation=\"relu\"),\n",
        "  tf.keras.layers.MaxPooling2D(2,2),  \n",
        "  tf.keras.layers.Flatten(), \n",
        "  tf.keras.layers.Dense(512, activation=\"relu\"), \n",
        "  tf.keras.layers.Dense(1, activation=\"sigmoid\")\n",
        "])"
      ]
    },
    {
      "cell_type": "code",
      "execution_count": 15,
      "metadata": {
        "colab": {
          "base_uri": "https://localhost:8080/"
        },
        "id": "ygmXqTe_e3Tx",
        "outputId": "2b5ca7f4-3d29-4075-a054-87d452a5aacb"
      },
      "outputs": [
        {
          "output_type": "stream",
          "name": "stdout",
          "text": [
            "Model: \"sequential_2\"\n",
            "_________________________________________________________________\n",
            " Layer (type)                Output Shape              Param #   \n",
            "=================================================================\n",
            " conv2d_1 (Conv2D)           (None, 147, 147, 16)      784       \n",
            "                                                                 \n",
            " max_pooling2d_1 (MaxPooling  (None, 73, 73, 16)       0         \n",
            " 2D)                                                             \n",
            "                                                                 \n",
            " conv2d_2 (Conv2D)           (None, 70, 70, 32)        8224      \n",
            "                                                                 \n",
            " max_pooling2d_2 (MaxPooling  (None, 35, 35, 32)       0         \n",
            " 2D)                                                             \n",
            "                                                                 \n",
            " conv2d_3 (Conv2D)           (None, 32, 32, 64)        32832     \n",
            "                                                                 \n",
            " max_pooling2d_3 (MaxPooling  (None, 16, 16, 64)       0         \n",
            " 2D)                                                             \n",
            "                                                                 \n",
            " flatten_1 (Flatten)         (None, 16384)             0         \n",
            "                                                                 \n",
            " dense_3 (Dense)             (None, 512)               8389120   \n",
            "                                                                 \n",
            " dense_4 (Dense)             (None, 1)                 513       \n",
            "                                                                 \n",
            "=================================================================\n",
            "Total params: 8,431,473\n",
            "Trainable params: 8,431,473\n",
            "Non-trainable params: 0\n",
            "_________________________________________________________________\n"
          ]
        }
      ],
      "source": [
        "model2.summary()"
      ]
    },
    {
      "cell_type": "code",
      "execution_count": 16,
      "metadata": {
        "id": "Wf3hcRN8e6sb"
      },
      "outputs": [],
      "source": [
        "#compile models \n",
        "from tensorflow.keras.optimizers import RMSprop\n",
        "#binary_crossentropy is a loss function that works really weel with binary clasifications. \n",
        "model.compile(loss=\"binary_crossentropy\", \n",
        "              optimizer=RMSprop(learning_rate=0.001), \n",
        "              metrics=['accuracy'])\n",
        "model2.compile(loss=\"binary_crossentropy\", \n",
        "              optimizer=RMSprop(learning_rate=0.001), \n",
        "              metrics=['accuracy'])"
      ]
    },
    {
      "cell_type": "code",
      "execution_count": 17,
      "metadata": {
        "colab": {
          "base_uri": "https://localhost:8080/"
        },
        "id": "gxgcfWQugXoH",
        "outputId": "f9bac00b-f674-4ca4-eede-8d8951a3e43f"
      },
      "outputs": [
        {
          "output_type": "stream",
          "name": "stdout",
          "text": [
            "Found 20998 images belonging to 2 classes.\n",
            "Found 4000 images belonging to 2 classes.\n"
          ]
        }
      ],
      "source": [
        "#preparing the images\n",
        "from tensorflow.keras.preprocessing.image import ImageDataGenerator\n",
        "#TRAIN Dataset\n",
        "#Normalize the images\n",
        "train_idg = ImageDataGenerator(rescale=1/255)\n",
        "train_data = train_idg.flow_from_directory(\n",
        "    '/tmp/datacvd/train', \n",
        "    target_size = (150, 150), \n",
        "    batch_size = 105, \n",
        "    class_mode='binary'\n",
        ")\n",
        "#VALIDATION Dataset\n",
        "val_idg = ImageDataGenerator(rescale=1/255)\n",
        "val_data = val_idg.flow_from_directory(\n",
        "    '/tmp/datacvd/validation', \n",
        "    target_size = (150, 150), \n",
        "    batch_size = 100, \n",
        "    class_mode='binary'\n",
        ")"
      ]
    },
    {
      "cell_type": "code",
      "execution_count": 18,
      "metadata": {
        "colab": {
          "base_uri": "https://localhost:8080/"
        },
        "id": "pgLBJic-m2Gz",
        "outputId": "0a3797b3-9087-431b-a7ad-17b6880aa072"
      },
      "outputs": [
        {
          "output_type": "stream",
          "name": "stdout",
          "text": [
            "Epoch 1/15\n",
            " 46/100 [============>.................] - ETA: 15s - loss: 2.9252 - accuracy: 0.5159"
          ]
        },
        {
          "output_type": "stream",
          "name": "stderr",
          "text": [
            "/usr/local/lib/python3.7/dist-packages/PIL/TiffImagePlugin.py:770: UserWarning: Possibly corrupt EXIF data.  Expecting to read 32 bytes but only got 0. Skipping tag 270\n",
            "  \" Skipping tag %s\" % (size, len(data), tag)\n",
            "/usr/local/lib/python3.7/dist-packages/PIL/TiffImagePlugin.py:770: UserWarning: Possibly corrupt EXIF data.  Expecting to read 5 bytes but only got 0. Skipping tag 271\n",
            "  \" Skipping tag %s\" % (size, len(data), tag)\n",
            "/usr/local/lib/python3.7/dist-packages/PIL/TiffImagePlugin.py:770: UserWarning: Possibly corrupt EXIF data.  Expecting to read 8 bytes but only got 0. Skipping tag 272\n",
            "  \" Skipping tag %s\" % (size, len(data), tag)\n",
            "/usr/local/lib/python3.7/dist-packages/PIL/TiffImagePlugin.py:770: UserWarning: Possibly corrupt EXIF data.  Expecting to read 8 bytes but only got 0. Skipping tag 282\n",
            "  \" Skipping tag %s\" % (size, len(data), tag)\n",
            "/usr/local/lib/python3.7/dist-packages/PIL/TiffImagePlugin.py:770: UserWarning: Possibly corrupt EXIF data.  Expecting to read 8 bytes but only got 0. Skipping tag 283\n",
            "  \" Skipping tag %s\" % (size, len(data), tag)\n",
            "/usr/local/lib/python3.7/dist-packages/PIL/TiffImagePlugin.py:770: UserWarning: Possibly corrupt EXIF data.  Expecting to read 20 bytes but only got 0. Skipping tag 306\n",
            "  \" Skipping tag %s\" % (size, len(data), tag)\n",
            "/usr/local/lib/python3.7/dist-packages/PIL/TiffImagePlugin.py:770: UserWarning: Possibly corrupt EXIF data.  Expecting to read 48 bytes but only got 0. Skipping tag 532\n",
            "  \" Skipping tag %s\" % (size, len(data), tag)\n",
            "/usr/local/lib/python3.7/dist-packages/PIL/TiffImagePlugin.py:788: UserWarning: Corrupt EXIF data.  Expecting to read 2 bytes but only got 0. \n",
            "  warnings.warn(str(msg))\n"
          ]
        },
        {
          "output_type": "stream",
          "name": "stdout",
          "text": [
            "100/100 [==============================] - 45s 353ms/step - loss: 1.7152 - accuracy: 0.5545 - val_loss: 0.6315 - val_accuracy: 0.6725\n",
            "Epoch 2/15\n",
            "100/100 [==============================] - 35s 348ms/step - loss: 0.6142 - accuracy: 0.6817 - val_loss: 0.5638 - val_accuracy: 0.7110\n",
            "Epoch 3/15\n",
            "100/100 [==============================] - 35s 347ms/step - loss: 0.5497 - accuracy: 0.7311 - val_loss: 0.5447 - val_accuracy: 0.7235\n",
            "Epoch 4/15\n",
            "100/100 [==============================] - 35s 346ms/step - loss: 0.4950 - accuracy: 0.7610 - val_loss: 0.5501 - val_accuracy: 0.7235\n",
            "Epoch 5/15\n",
            "100/100 [==============================] - 34s 345ms/step - loss: 0.4554 - accuracy: 0.7914 - val_loss: 0.5213 - val_accuracy: 0.7505\n",
            "Epoch 6/15\n",
            "100/100 [==============================] - 34s 345ms/step - loss: 0.4058 - accuracy: 0.8232 - val_loss: 0.5291 - val_accuracy: 0.7490\n",
            "Epoch 7/15\n",
            "100/100 [==============================] - 35s 347ms/step - loss: 0.3581 - accuracy: 0.8487 - val_loss: 0.5391 - val_accuracy: 0.7415\n",
            "Epoch 8/15\n",
            "100/100 [==============================] - 34s 343ms/step - loss: 0.3084 - accuracy: 0.8730 - val_loss: 0.5595 - val_accuracy: 0.7455\n",
            "Epoch 9/15\n",
            "100/100 [==============================] - 35s 352ms/step - loss: 0.2693 - accuracy: 0.8981 - val_loss: 0.5655 - val_accuracy: 0.7455\n",
            "Epoch 10/15\n",
            "100/100 [==============================] - 34s 345ms/step - loss: 0.2213 - accuracy: 0.9241 - val_loss: 0.6014 - val_accuracy: 0.7330\n",
            "Epoch 11/15\n",
            "100/100 [==============================] - 34s 343ms/step - loss: 0.1862 - accuracy: 0.9347 - val_loss: 0.6438 - val_accuracy: 0.7425\n",
            "Epoch 12/15\n",
            "100/100 [==============================] - 35s 345ms/step - loss: 0.1488 - accuracy: 0.9503 - val_loss: 0.7085 - val_accuracy: 0.7470\n",
            "Epoch 13/15\n",
            "100/100 [==============================] - 34s 345ms/step - loss: 0.1242 - accuracy: 0.9621 - val_loss: 0.7415 - val_accuracy: 0.7380\n",
            "Epoch 14/15\n",
            "100/100 [==============================] - 34s 343ms/step - loss: 0.1125 - accuracy: 0.9644 - val_loss: 0.7014 - val_accuracy: 0.7590\n",
            "Epoch 15/15\n",
            "100/100 [==============================] - 35s 347ms/step - loss: 0.1075 - accuracy: 0.9698 - val_loss: 0.8130 - val_accuracy: 0.7440\n"
          ]
        }
      ],
      "source": [
        "#Training the model\n",
        "#epochs * steps_per_epoch * batch_size\n",
        "\n",
        "history = model.fit(\n",
        "     train_data,\n",
        "     validation_data = val_data, \n",
        "     epochs=15,\n",
        "     steps_per_epoch=100,\n",
        "     validation_steps=20,\n",
        "     verbose=1)"
      ]
    },
    {
      "cell_type": "code",
      "execution_count": 19,
      "metadata": {
        "colab": {
          "base_uri": "https://localhost:8080/"
        },
        "id": "gkzjM_j-nGj0",
        "outputId": "9bd5de70-181e-45e2-c8d3-eea044ebcd70"
      },
      "outputs": [
        {
          "output_type": "stream",
          "name": "stdout",
          "text": [
            "Epoch 1/15\n",
            " 58/100 [================>.............] - ETA: 12s - loss: 0.9915 - accuracy: 0.5300"
          ]
        },
        {
          "output_type": "stream",
          "name": "stderr",
          "text": [
            "/usr/local/lib/python3.7/dist-packages/PIL/TiffImagePlugin.py:770: UserWarning: Possibly corrupt EXIF data.  Expecting to read 32 bytes but only got 0. Skipping tag 270\n",
            "  \" Skipping tag %s\" % (size, len(data), tag)\n",
            "/usr/local/lib/python3.7/dist-packages/PIL/TiffImagePlugin.py:770: UserWarning: Possibly corrupt EXIF data.  Expecting to read 5 bytes but only got 0. Skipping tag 271\n",
            "  \" Skipping tag %s\" % (size, len(data), tag)\n",
            "/usr/local/lib/python3.7/dist-packages/PIL/TiffImagePlugin.py:770: UserWarning: Possibly corrupt EXIF data.  Expecting to read 8 bytes but only got 0. Skipping tag 272\n",
            "  \" Skipping tag %s\" % (size, len(data), tag)\n",
            "/usr/local/lib/python3.7/dist-packages/PIL/TiffImagePlugin.py:770: UserWarning: Possibly corrupt EXIF data.  Expecting to read 8 bytes but only got 0. Skipping tag 282\n",
            "  \" Skipping tag %s\" % (size, len(data), tag)\n",
            "/usr/local/lib/python3.7/dist-packages/PIL/TiffImagePlugin.py:770: UserWarning: Possibly corrupt EXIF data.  Expecting to read 8 bytes but only got 0. Skipping tag 283\n",
            "  \" Skipping tag %s\" % (size, len(data), tag)\n",
            "/usr/local/lib/python3.7/dist-packages/PIL/TiffImagePlugin.py:770: UserWarning: Possibly corrupt EXIF data.  Expecting to read 20 bytes but only got 0. Skipping tag 306\n",
            "  \" Skipping tag %s\" % (size, len(data), tag)\n",
            "/usr/local/lib/python3.7/dist-packages/PIL/TiffImagePlugin.py:770: UserWarning: Possibly corrupt EXIF data.  Expecting to read 48 bytes but only got 0. Skipping tag 532\n",
            "  \" Skipping tag %s\" % (size, len(data), tag)\n",
            "/usr/local/lib/python3.7/dist-packages/PIL/TiffImagePlugin.py:788: UserWarning: Corrupt EXIF data.  Expecting to read 2 bytes but only got 0. \n",
            "  warnings.warn(str(msg))\n"
          ]
        },
        {
          "output_type": "stream",
          "name": "stdout",
          "text": [
            "100/100 [==============================] - 37s 362ms/step - loss: 0.8763 - accuracy: 0.5475 - val_loss: 0.7055 - val_accuracy: 0.5090\n",
            "Epoch 2/15\n",
            "100/100 [==============================] - 35s 352ms/step - loss: 0.6381 - accuracy: 0.6432 - val_loss: 0.5740 - val_accuracy: 0.7000\n",
            "Epoch 3/15\n",
            "100/100 [==============================] - 35s 349ms/step - loss: 0.5691 - accuracy: 0.7016 - val_loss: 0.5192 - val_accuracy: 0.7440\n",
            "Epoch 4/15\n",
            "100/100 [==============================] - 38s 379ms/step - loss: 0.5363 - accuracy: 0.7347 - val_loss: 0.9325 - val_accuracy: 0.5480\n",
            "Epoch 5/15\n",
            "100/100 [==============================] - 35s 346ms/step - loss: 0.5055 - accuracy: 0.7572 - val_loss: 0.4928 - val_accuracy: 0.7755\n",
            "Epoch 6/15\n",
            "100/100 [==============================] - 35s 354ms/step - loss: 0.4561 - accuracy: 0.7885 - val_loss: 0.4502 - val_accuracy: 0.7850\n",
            "Epoch 7/15\n",
            "100/100 [==============================] - 35s 346ms/step - loss: 0.4164 - accuracy: 0.8098 - val_loss: 0.4330 - val_accuracy: 0.7990\n",
            "Epoch 8/15\n",
            "100/100 [==============================] - 35s 347ms/step - loss: 0.3962 - accuracy: 0.8210 - val_loss: 0.4028 - val_accuracy: 0.8135\n",
            "Epoch 9/15\n",
            "100/100 [==============================] - 35s 346ms/step - loss: 0.3580 - accuracy: 0.8416 - val_loss: 0.4214 - val_accuracy: 0.8165\n",
            "Epoch 10/15\n",
            "100/100 [==============================] - 39s 392ms/step - loss: 0.3228 - accuracy: 0.8589 - val_loss: 0.4368 - val_accuracy: 0.8095\n",
            "Epoch 11/15\n",
            "100/100 [==============================] - 35s 346ms/step - loss: 0.2888 - accuracy: 0.8791 - val_loss: 0.4839 - val_accuracy: 0.7985\n",
            "Epoch 12/15\n",
            "100/100 [==============================] - 34s 345ms/step - loss: 0.2700 - accuracy: 0.8852 - val_loss: 0.5693 - val_accuracy: 0.7115\n",
            "Epoch 13/15\n",
            "100/100 [==============================] - 35s 347ms/step - loss: 0.2241 - accuracy: 0.9103 - val_loss: 0.4220 - val_accuracy: 0.8310\n",
            "Epoch 14/15\n",
            "100/100 [==============================] - 35s 345ms/step - loss: 0.1867 - accuracy: 0.9267 - val_loss: 0.5277 - val_accuracy: 0.8030\n",
            "Epoch 15/15\n",
            "100/100 [==============================] - 35s 346ms/step - loss: 0.1651 - accuracy: 0.9359 - val_loss: 0.5853 - val_accuracy: 0.7965\n"
          ]
        }
      ],
      "source": [
        "#Training the model2\n",
        "history2 = model2.fit(\n",
        "     train_data,\n",
        "     validation_data = val_data, \n",
        "     epochs=15,\n",
        "     steps_per_epoch=100,\n",
        "     validation_steps=20,\n",
        "     verbose=1)"
      ]
    },
    {
      "cell_type": "code",
      "execution_count": 20,
      "metadata": {
        "colab": {
          "base_uri": "https://localhost:8080/",
          "height": 1000
        },
        "id": "JNviBnsWtnVb",
        "outputId": "52fd3e80-37d8-423a-d0a7-6a04285a21b0"
      },
      "outputs": [
        {
          "output_type": "execute_result",
          "data": {
            "text/plain": [
              "<Figure size 432x288 with 0 Axes>"
            ]
          },
          "metadata": {},
          "execution_count": 20
        },
        {
          "output_type": "display_data",
          "data": {
            "text/plain": [
              "<Figure size 432x288 with 1 Axes>"
            ],
            "image/png": "[encoded data removed]"
          },
          "metadata": {
            "needs_background": "light"
          }
        },
        {
          "output_type": "display_data",
          "data": {
            "text/plain": [
              "<Figure size 432x288 with 1 Axes>"
            ],
            "image/png": "[encoded data removed]"
          },
          "metadata": {
            "needs_background": "light"
          }
        },
        {
          "output_type": "display_data",
          "data": {
            "text/plain": [
              "<Figure size 432x288 with 1 Axes>"
            ],
            "image/png": "[encoded data removed]"
          },
          "metadata": {
            "needs_background": "light"
          }
        },
        {
          "output_type": "display_data",
          "data": {
            "text/plain": [
              "<Figure size 432x288 with 1 Axes>"
            ],
            "image/png": "[encoded data removed]"
          },
          "metadata": {
            "needs_background": "light"
          }
        },
        {
          "output_type": "display_data",
          "data": {
            "text/plain": [
              "<Figure size 432x288 with 0 Axes>"
            ]
          },
          "metadata": {}
        }
      ],
      "source": [
        "%matplotlib inline\n",
        " \n",
        "import matplotlib.image  as mpimg\n",
        "import matplotlib.pyplot as plt\n",
        "\n",
        "acc=history.history['accuracy']\n",
        "val_acc=history.history['val_accuracy']\n",
        "loss=history.history['loss']\n",
        "val_loss=history.history['val_loss']\n",
        "\n",
        "acc2=history2.history['accuracy']\n",
        "val_acc2=history2.history['val_accuracy']\n",
        "loss2=history2.history['loss']\n",
        "val_loss2=history2.history['val_loss']\n",
        " \n",
        "epochs=range(len(acc)) # Get number of epochs\n",
        "\n",
        "plt.plot(epochs, acc, 'r', \"Training Accuracy\")\n",
        "plt.plot(epochs, val_acc, 'b', \"Validation Accuracy\")\n",
        "plt.title('Model1: Training and validation accuracy')\n",
        "plt.figure()\n",
        "\n",
        "\n",
        "plt.plot(epochs, loss, 'r', \"Training Loss\")\n",
        "plt.plot(epochs, val_loss, 'b', \"Validation Loss\")\n",
        "plt.figure()\n",
        "\n",
        "plt.plot(epochs, acc2, 'r', \"Training Accuracy\")\n",
        "plt.plot(epochs, val_acc2, 'b', \"Validation Accuracy\")\n",
        "plt.title('Model2: Training and validation accuracy')\n",
        "plt.figure()\n",
        "\n",
        "\n",
        "plt.plot(epochs, loss2, 'r', \"Training Loss\")\n",
        "plt.plot(epochs, val_loss2, 'b', \"Validation Loss\")\n",
        "plt.figure()\n",
        "\n"
      ]
    },
    {
      "cell_type": "markdown",
      "metadata": {
        "id": "AUpHU6tfprGQ"
      },
      "source": [
        "## Solve OVERFITTING with Image Augmentation\n",
        "Image augmentation add variations to the images reducing the overfitting. \n",
        "\n",
        "\n",
        "\n"
      ]
    },
    {
      "cell_type": "code",
      "execution_count": 21,
      "metadata": {
        "colab": {
          "base_uri": "https://localhost:8080/"
        },
        "id": "X4WfEZ6gpq1I",
        "outputId": "24d03487-be59-41e4-ab5c-c62d74445189"
      },
      "outputs": [
        {
          "output_type": "stream",
          "name": "stdout",
          "text": [
            "Found 20998 images belonging to 2 classes.\n",
            "Found 4000 images belonging to 2 classes.\n"
          ]
        }
      ],
      "source": [
        "#preparing the images but using random movements to obtain images from \n",
        "#image augmentation applied only to train data generator. \n",
        "\n",
        "from tensorflow.keras.preprocessing.image import ImageDataGenerator\n",
        "#TRAIN Dataset\n",
        "#Normalize the images\n",
        "train_idg = ImageDataGenerator(rescale=1/255, \n",
        "                               rotation_range=20, \n",
        "                               width_shift_range=0.1, \n",
        "                               height_shift_range=0.1, \n",
        "                               shear_range=0.2, \n",
        "                               zoom_range=0.1, \n",
        "                               horizontal_flip=True)\n",
        "train_data = train_idg.flow_from_directory(\n",
        "    '/tmp/datacvd/train', \n",
        "    target_size = (150, 150), \n",
        "    batch_size = 105, \n",
        "    class_mode='binary'\n",
        ")\n",
        "#VALIDATION Dataset\n",
        "val_idg = ImageDataGenerator(rescale=1/255)\n",
        "val_data = val_idg.flow_from_directory(\n",
        "    '/tmp/datacvd/validation', \n",
        "    target_size = (150, 150), \n",
        "    batch_size = 100, \n",
        "    class_mode='binary'\n",
        ")"
      ]
    },
    {
      "cell_type": "code",
      "execution_count": 22,
      "metadata": {
        "colab": {
          "base_uri": "https://localhost:8080/"
        },
        "id": "u3sRQBeC1Ao4",
        "outputId": "394abe5e-47bd-4482-ea58-0fe45c606a88"
      },
      "outputs": [
        {
          "output_type": "stream",
          "name": "stdout",
          "text": [
            "Epoch 1/15\n",
            " 66/100 [==================>...........] - ETA: 24s - loss: 0.6513 - accuracy: 0.7004"
          ]
        },
        {
          "output_type": "stream",
          "name": "stderr",
          "text": [
            "/usr/local/lib/python3.7/dist-packages/PIL/TiffImagePlugin.py:770: UserWarning: Possibly corrupt EXIF data.  Expecting to read 32 bytes but only got 0. Skipping tag 270\n",
            "  \" Skipping tag %s\" % (size, len(data), tag)\n",
            "/usr/local/lib/python3.7/dist-packages/PIL/TiffImagePlugin.py:770: UserWarning: Possibly corrupt EXIF data.  Expecting to read 5 bytes but only got 0. Skipping tag 271\n",
            "  \" Skipping tag %s\" % (size, len(data), tag)\n",
            "/usr/local/lib/python3.7/dist-packages/PIL/TiffImagePlugin.py:770: UserWarning: Possibly corrupt EXIF data.  Expecting to read 8 bytes but only got 0. Skipping tag 272\n",
            "  \" Skipping tag %s\" % (size, len(data), tag)\n",
            "/usr/local/lib/python3.7/dist-packages/PIL/TiffImagePlugin.py:770: UserWarning: Possibly corrupt EXIF data.  Expecting to read 8 bytes but only got 0. Skipping tag 282\n",
            "  \" Skipping tag %s\" % (size, len(data), tag)\n",
            "/usr/local/lib/python3.7/dist-packages/PIL/TiffImagePlugin.py:770: UserWarning: Possibly corrupt EXIF data.  Expecting to read 8 bytes but only got 0. Skipping tag 283\n",
            "  \" Skipping tag %s\" % (size, len(data), tag)\n",
            "/usr/local/lib/python3.7/dist-packages/PIL/TiffImagePlugin.py:770: UserWarning: Possibly corrupt EXIF data.  Expecting to read 20 bytes but only got 0. Skipping tag 306\n",
            "  \" Skipping tag %s\" % (size, len(data), tag)\n",
            "/usr/local/lib/python3.7/dist-packages/PIL/TiffImagePlugin.py:770: UserWarning: Possibly corrupt EXIF data.  Expecting to read 48 bytes but only got 0. Skipping tag 532\n",
            "  \" Skipping tag %s\" % (size, len(data), tag)\n",
            "/usr/local/lib/python3.7/dist-packages/PIL/TiffImagePlugin.py:788: UserWarning: Corrupt EXIF data.  Expecting to read 2 bytes but only got 0. \n",
            "  warnings.warn(str(msg))\n"
          ]
        },
        {
          "output_type": "stream",
          "name": "stdout",
          "text": [
            "100/100 [==============================] - 79s 786ms/step - loss: 0.6280 - accuracy: 0.7010 - val_loss: 0.5388 - val_accuracy: 0.7525\n",
            "Epoch 2/15\n",
            "100/100 [==============================] - 77s 768ms/step - loss: 0.5751 - accuracy: 0.7150 - val_loss: 0.5653 - val_accuracy: 0.7160\n",
            "Epoch 3/15\n",
            "100/100 [==============================] - 76s 764ms/step - loss: 0.5545 - accuracy: 0.7239 - val_loss: 0.5498 - val_accuracy: 0.7275\n",
            "Epoch 4/15\n",
            "100/100 [==============================] - 77s 766ms/step - loss: 0.5489 - accuracy: 0.7256 - val_loss: 0.5592 - val_accuracy: 0.7210\n",
            "Epoch 5/15\n",
            "100/100 [==============================] - 77s 765ms/step - loss: 0.5567 - accuracy: 0.7166 - val_loss: 0.4857 - val_accuracy: 0.7595\n",
            "Epoch 6/15\n",
            "100/100 [==============================] - 77s 767ms/step - loss: 0.5479 - accuracy: 0.7342 - val_loss: 0.4841 - val_accuracy: 0.7620\n",
            "Epoch 7/15\n",
            "100/100 [==============================] - 77s 766ms/step - loss: 0.5418 - accuracy: 0.7270 - val_loss: 0.5062 - val_accuracy: 0.7520\n",
            "Epoch 8/15\n",
            "100/100 [==============================] - 77s 775ms/step - loss: 0.5419 - accuracy: 0.7309 - val_loss: 0.4977 - val_accuracy: 0.7600\n",
            "Epoch 9/15\n",
            "100/100 [==============================] - 77s 767ms/step - loss: 0.5386 - accuracy: 0.7353 - val_loss: 0.5030 - val_accuracy: 0.7585\n",
            "Epoch 10/15\n",
            "100/100 [==============================] - 77s 768ms/step - loss: 0.5385 - accuracy: 0.7372 - val_loss: 0.5383 - val_accuracy: 0.7390\n",
            "Epoch 11/15\n",
            "100/100 [==============================] - 77s 768ms/step - loss: 0.5276 - accuracy: 0.7344 - val_loss: 0.5699 - val_accuracy: 0.7100\n",
            "Epoch 12/15\n",
            "100/100 [==============================] - 77s 770ms/step - loss: 0.5264 - accuracy: 0.7407 - val_loss: 0.5337 - val_accuracy: 0.7445\n",
            "Epoch 13/15\n",
            "100/100 [==============================] - 77s 769ms/step - loss: 0.5311 - accuracy: 0.7425 - val_loss: 0.4992 - val_accuracy: 0.7725\n",
            "Epoch 14/15\n",
            "100/100 [==============================] - 77s 767ms/step - loss: 0.5268 - accuracy: 0.7473 - val_loss: 0.5362 - val_accuracy: 0.7555\n",
            "Epoch 15/15\n",
            "100/100 [==============================] - 77s 768ms/step - loss: 0.5211 - accuracy: 0.7461 - val_loss: 0.5960 - val_accuracy: 0.7225\n"
          ]
        }
      ],
      "source": [
        "#Training the model\n",
        "#with the new imagegenerator\n",
        "\n",
        "history = model.fit(\n",
        "     train_data,\n",
        "     validation_data = val_data, \n",
        "     epochs=15,\n",
        "     steps_per_epoch=100,\n",
        "     validation_steps=20,\n",
        "     verbose=1)"
      ]
    },
    {
      "cell_type": "code",
      "source": [
        "#Traning the model2\n",
        "history2 = model2.fit(\n",
        "     train_data,\n",
        "     validation_data = val_data, \n",
        "     epochs=15,\n",
        "     steps_per_epoch=100,\n",
        "     validation_steps=20,\n",
        "     verbose=1)"
      ],
      "metadata": {
        "colab": {
          "base_uri": "https://localhost:8080/"
        },
        "id": "XWTnrtunwOKD",
        "outputId": "2a411303-3da5-4929-d0c4-ba012909c2f5"
      },
      "execution_count": 24,
      "outputs": [
        {
          "output_type": "stream",
          "name": "stdout",
          "text": [
            "Epoch 1/15\n",
            "100/100 [==============================] - 77s 775ms/step - loss: 0.4735 - accuracy: 0.7835 - val_loss: 0.3888 - val_accuracy: 0.8225\n",
            "Epoch 2/15\n",
            "100/100 [==============================] - 77s 768ms/step - loss: 0.4451 - accuracy: 0.7941 - val_loss: 0.3800 - val_accuracy: 0.8350\n",
            "Epoch 3/15\n",
            "100/100 [==============================] - 77s 770ms/step - loss: 0.4263 - accuracy: 0.8068 - val_loss: 0.3531 - val_accuracy: 0.8505\n",
            "Epoch 4/15\n",
            "100/100 [==============================] - 77s 769ms/step - loss: 0.4135 - accuracy: 0.8136 - val_loss: 0.3479 - val_accuracy: 0.8520\n",
            "Epoch 5/15\n",
            " 27/100 [=======>......................] - ETA: 51s - loss: 0.4202 - accuracy: 0.8162"
          ]
        },
        {
          "output_type": "stream",
          "name": "stderr",
          "text": [
            "/usr/local/lib/python3.7/dist-packages/PIL/TiffImagePlugin.py:770: UserWarning: Possibly corrupt EXIF data.  Expecting to read 32 bytes but only got 0. Skipping tag 270\n",
            "  \" Skipping tag %s\" % (size, len(data), tag)\n",
            "/usr/local/lib/python3.7/dist-packages/PIL/TiffImagePlugin.py:770: UserWarning: Possibly corrupt EXIF data.  Expecting to read 5 bytes but only got 0. Skipping tag 271\n",
            "  \" Skipping tag %s\" % (size, len(data), tag)\n",
            "/usr/local/lib/python3.7/dist-packages/PIL/TiffImagePlugin.py:770: UserWarning: Possibly corrupt EXIF data.  Expecting to read 8 bytes but only got 0. Skipping tag 272\n",
            "  \" Skipping tag %s\" % (size, len(data), tag)\n",
            "/usr/local/lib/python3.7/dist-packages/PIL/TiffImagePlugin.py:770: UserWarning: Possibly corrupt EXIF data.  Expecting to read 8 bytes but only got 0. Skipping tag 282\n",
            "  \" Skipping tag %s\" % (size, len(data), tag)\n",
            "/usr/local/lib/python3.7/dist-packages/PIL/TiffImagePlugin.py:770: UserWarning: Possibly corrupt EXIF data.  Expecting to read 8 bytes but only got 0. Skipping tag 283\n",
            "  \" Skipping tag %s\" % (size, len(data), tag)\n",
            "/usr/local/lib/python3.7/dist-packages/PIL/TiffImagePlugin.py:770: UserWarning: Possibly corrupt EXIF data.  Expecting to read 20 bytes but only got 0. Skipping tag 306\n",
            "  \" Skipping tag %s\" % (size, len(data), tag)\n",
            "/usr/local/lib/python3.7/dist-packages/PIL/TiffImagePlugin.py:770: UserWarning: Possibly corrupt EXIF data.  Expecting to read 48 bytes but only got 0. Skipping tag 532\n",
            "  \" Skipping tag %s\" % (size, len(data), tag)\n",
            "/usr/local/lib/python3.7/dist-packages/PIL/TiffImagePlugin.py:788: UserWarning: Corrupt EXIF data.  Expecting to read 2 bytes but only got 0. \n",
            "  warnings.warn(str(msg))\n"
          ]
        },
        {
          "output_type": "stream",
          "name": "stdout",
          "text": [
            "100/100 [==============================] - 77s 770ms/step - loss: 0.4074 - accuracy: 0.8188 - val_loss: 0.3395 - val_accuracy: 0.8535\n",
            "Epoch 6/15\n",
            "100/100 [==============================] - 77s 771ms/step - loss: 0.3931 - accuracy: 0.8237 - val_loss: 0.3454 - val_accuracy: 0.8540\n",
            "Epoch 7/15\n",
            "100/100 [==============================] - 77s 771ms/step - loss: 0.3832 - accuracy: 0.8281 - val_loss: 0.4057 - val_accuracy: 0.8040\n",
            "Epoch 8/15\n",
            "100/100 [==============================] - 77s 771ms/step - loss: 0.3903 - accuracy: 0.8216 - val_loss: 0.3255 - val_accuracy: 0.8585\n",
            "Epoch 9/15\n",
            "100/100 [==============================] - 77s 766ms/step - loss: 0.3866 - accuracy: 0.8272 - val_loss: 0.2893 - val_accuracy: 0.8680\n",
            "Epoch 10/15\n",
            "100/100 [==============================] - 77s 767ms/step - loss: 0.3728 - accuracy: 0.8341 - val_loss: 0.2830 - val_accuracy: 0.8755\n",
            "Epoch 11/15\n",
            "100/100 [==============================] - 77s 769ms/step - loss: 0.3651 - accuracy: 0.8366 - val_loss: 0.3835 - val_accuracy: 0.8205\n",
            "Epoch 12/15\n",
            "100/100 [==============================] - 77s 768ms/step - loss: 0.3674 - accuracy: 0.8396 - val_loss: 0.2963 - val_accuracy: 0.8845\n",
            "Epoch 13/15\n",
            "100/100 [==============================] - 77s 767ms/step - loss: 0.3504 - accuracy: 0.8453 - val_loss: 0.3109 - val_accuracy: 0.8670\n",
            "Epoch 14/15\n",
            "100/100 [==============================] - 77s 772ms/step - loss: 0.3973 - accuracy: 0.8373 - val_loss: 0.2888 - val_accuracy: 0.8785\n",
            "Epoch 15/15\n",
            "100/100 [==============================] - 77s 770ms/step - loss: 0.3608 - accuracy: 0.8374 - val_loss: 0.2455 - val_accuracy: 0.8980\n"
          ]
        }
      ]
    },
    {
      "cell_type": "code",
      "source": [
        "%matplotlib inline\n",
        " \n",
        "import matplotlib.image  as mpimg\n",
        "import matplotlib.pyplot as plt\n",
        "\n",
        "acc=history.history['accuracy']\n",
        "val_acc=history.history['val_accuracy']\n",
        "loss=history.history['loss']\n",
        "val_loss=history.history['val_loss']\n",
        "\n",
        "acc2=history2.history['accuracy']\n",
        "val_acc2=history2.history['val_accuracy']\n",
        "loss2=history2.history['loss']\n",
        "val_loss2=history2.history['val_loss']\n",
        " \n",
        "epochs=range(len(acc)) # Get number of epochs\n",
        "\n",
        "plt.plot(epochs, acc, 'r', \"Training Accuracy\")\n",
        "plt.plot(epochs, val_acc, 'b', \"Validation Accuracy\")\n",
        "plt.title('Model1: Training and validation accuracy')\n",
        "plt.figure()\n",
        "\n",
        "\n",
        "plt.plot(epochs, loss, 'r', \"Training Loss\")\n",
        "plt.plot(epochs, val_loss, 'b', \"Validation Loss\")\n",
        "plt.figure()\n",
        "\n",
        "plt.plot(epochs, acc2, 'r', \"Training Accuracy\")\n",
        "plt.plot(epochs, val_acc2, 'b', \"Validation Accuracy\")\n",
        "plt.title('Model2: Training and validation accuracy')\n",
        "plt.figure()\n",
        "\n",
        "\n",
        "plt.plot(epochs, loss2, 'r', \"Training Loss\")\n",
        "plt.plot(epochs, val_loss2, 'b', \"Validation Loss\")\n",
        "plt.figure()"
      ],
      "metadata": {
        "colab": {
          "base_uri": "https://localhost:8080/",
          "height": 1000
        },
        "id": "C4ad_iRrKCTh",
        "outputId": "b6ee2642-62ae-47cb-8dff-ad2a2e777ca0"
      },
      "execution_count": 23,
      "outputs": [
        {
          "output_type": "execute_result",
          "data": {
            "text/plain": [
              "<Figure size 432x288 with 0 Axes>"
            ]
          },
          "metadata": {},
          "execution_count": 23
        },
        {
          "output_type": "display_data",
          "data": {
            "text/plain": [
              "<Figure size 432x288 with 1 Axes>"
            ],
            "image/png": "[encoded data removed]"
          },
          "metadata": {
            "needs_background": "light"
          }
        },
        {
          "output_type": "display_data",
          "data": {
            "text/plain": [
              "<Figure size 432x288 with 1 Axes>"
            ],
            "image/png": "[encoded data removed]"
          },
          "metadata": {
            "needs_background": "light"
          }
        },
        {
          "output_type": "display_data",
          "data": {
            "text/plain": [
              "<Figure size 432x288 with 1 Axes>"
            ],
            "image/png": "[encoded data removed]"
          },
          "metadata": {
            "needs_background": "light"
          }
        },
        {
          "output_type": "display_data",
          "data": {
            "text/plain": [
              "<Figure size 432x288 with 1 Axes>"
            ],
            "image/png": "[encoded data removed]"
          },
          "metadata": {
            "needs_background": "light"
          }
        },
        {
          "output_type": "display_data",
          "data": {
            "text/plain": [
              "<Figure size 432x288 with 0 Axes>"
            ]
          },
          "metadata": {}
        }
      ]
    },
    {
      "cell_type": "markdown",
      "source": [
        "### Add a some dropout layers to the models\n",
        "A dropout layer can help with the overfitting reducing the amount of information in every image. "
      ],
      "metadata": {
        "id": "p0P63hfsUUkP"
      }
    },
    {
      "cell_type": "code",
      "source": [
        "#create the model with a dropout layer. \n",
        "#it's a minimal model for images, with just an Convolutionatl layer and a MaxPooling layer\n",
        "modelDrop1 = tf.keras.models.Sequential([\n",
        "  tf.keras.layers.Conv2D(16, (4,4), activation=\"relu\", input_shape=(150, 150, 3)),\n",
        "  tf.keras.layers.MaxPooling2D(2,2),  \n",
        "  tf.keras.layers.Dropout(0.5), \n",
        "  tf.keras.layers.Flatten(), \n",
        "  tf.keras.layers.Dense(128, activation=\"relu\"), \n",
        "  tf.keras.layers.Dense(1, activation=\"sigmoid\")\n",
        "])"
      ],
      "metadata": {
        "id": "0rcbgIf2NNTR"
      },
      "execution_count": null,
      "outputs": []
    },
    {
      "cell_type": "code",
      "source": [
        " #create the model with dropouts layers. \n",
        "#a model with more convutionals and Pooling layers obtains leess parameters. \n",
        "modelDrop2 = tf.keras.models.Sequential([\n",
        "  tf.keras.layers.Conv2D(16, (4,4), activation=\"relu\", input_shape=(150, 150, 3)),\n",
        "  tf.keras.layers.MaxPooling2D(2,2),\n",
        "  tf.keras.layers.Dropout(0.2),   \n",
        "  tf.keras.layers.Conv2D(32, (4,4), activation=\"relu\"),\n",
        "  tf.keras.layers.MaxPooling2D(2,2),  \n",
        "  tf.keras.layers.Dropout(0.2),  \n",
        "  tf.keras.layers.Conv2D(64, (4,4), activation=\"relu\"),\n",
        "  tf.keras.layers.MaxPooling2D(2,2),  \n",
        "  tf.keras.layers.Dropout(0.5), \n",
        "  tf.keras.layers.Flatten(), \n",
        "  tf.keras.layers.Dense(512, activation=\"relu\"), \n",
        "  tf.keras.layers.Dense(1, activation=\"sigmoid\")\n",
        "])"
      ],
      "metadata": {
        "id": "k7BSwtqoNlgr"
      },
      "execution_count": null,
      "outputs": []
    },
    {
      "cell_type": "code",
      "source": [
        "#compile the dropout models \n",
        "from tensorflow.keras.optimizers import RMSprop\n",
        "#binary_crossentropy is a loss function that works really weel with binary clasifications. \n",
        "modelDrop1.compile(loss=\"binary_crossentropy\", \n",
        "              optimizer=RMSprop(learning_rate=0.001), \n",
        "              metrics=['accuracy'])\n",
        "modelDrop2.compile(loss=\"binary_crossentropy\", \n",
        "              optimizer=RMSprop(learning_rate=0.001), \n",
        "              metrics=['accuracy'])"
      ],
      "metadata": {
        "id": "_GXo-eXrOhbo"
      },
      "execution_count": null,
      "outputs": []
    },
    {
      "cell_type": "code",
      "source": [
        "#Training the model\n",
        "#with the new imagegenerator\n",
        "\n",
        "historyDrop = modelDrop1.fit(\n",
        "     train_data,\n",
        "     validation_data = val_data, \n",
        "     epochs=15,\n",
        "     steps_per_epoch=100,\n",
        "     validation_steps=20,\n",
        "     verbose=1)"
      ],
      "metadata": {
        "colab": {
          "base_uri": "https://localhost:8080/"
        },
        "id": "bjTbC7iJOsKC",
        "outputId": "fce556b3-2693-4d22-b894-089db6982890"
      },
      "execution_count": null,
      "outputs": [
        {
          "output_type": "stream",
          "name": "stdout",
          "text": [
            "Epoch 1/15\n",
            "100/100 [==============================] - ETA: 0s - loss: 1.1276 - accuracy: 0.5413"
          ]
        },
        {
          "output_type": "stream",
          "name": "stderr",
          "text": [
            "/usr/local/lib/python3.7/dist-packages/PIL/TiffImagePlugin.py:770: UserWarning: Possibly corrupt EXIF data.  Expecting to read 32 bytes but only got 0. Skipping tag 270\n",
            "  \" Skipping tag %s\" % (size, len(data), tag)\n",
            "/usr/local/lib/python3.7/dist-packages/PIL/TiffImagePlugin.py:770: UserWarning: Possibly corrupt EXIF data.  Expecting to read 5 bytes but only got 0. Skipping tag 271\n",
            "  \" Skipping tag %s\" % (size, len(data), tag)\n",
            "/usr/local/lib/python3.7/dist-packages/PIL/TiffImagePlugin.py:770: UserWarning: Possibly corrupt EXIF data.  Expecting to read 8 bytes but only got 0. Skipping tag 272\n",
            "  \" Skipping tag %s\" % (size, len(data), tag)\n",
            "/usr/local/lib/python3.7/dist-packages/PIL/TiffImagePlugin.py:770: UserWarning: Possibly corrupt EXIF data.  Expecting to read 8 bytes but only got 0. Skipping tag 282\n",
            "  \" Skipping tag %s\" % (size, len(data), tag)\n",
            "/usr/local/lib/python3.7/dist-packages/PIL/TiffImagePlugin.py:770: UserWarning: Possibly corrupt EXIF data.  Expecting to read 8 bytes but only got 0. Skipping tag 283\n",
            "  \" Skipping tag %s\" % (size, len(data), tag)\n",
            "/usr/local/lib/python3.7/dist-packages/PIL/TiffImagePlugin.py:770: UserWarning: Possibly corrupt EXIF data.  Expecting to read 20 bytes but only got 0. Skipping tag 306\n",
            "  \" Skipping tag %s\" % (size, len(data), tag)\n",
            "/usr/local/lib/python3.7/dist-packages/PIL/TiffImagePlugin.py:770: UserWarning: Possibly corrupt EXIF data.  Expecting to read 48 bytes but only got 0. Skipping tag 532\n",
            "  \" Skipping tag %s\" % (size, len(data), tag)\n",
            "/usr/local/lib/python3.7/dist-packages/PIL/TiffImagePlugin.py:788: UserWarning: Corrupt EXIF data.  Expecting to read 2 bytes but only got 0. \n",
            "  warnings.warn(str(msg))\n"
          ]
        },
        {
          "output_type": "stream",
          "name": "stdout",
          "text": [
            "\b\b\b\b\b\b\b\b\b\b\b\b\b\b\b\b\b\b\b\b\b\b\b\b\b\b\b\b\b\b\b\b\b\b\b\b\b\b\b\b\b\b\b\b\b\b\b\b\b\b\b\b\b\b\b\b\b\b\b\b\b\b\b\b\b\b\b\b\b\b\b\b\b\b\b\b\b\b\b\b\b\b\b\b\r100/100 [==============================] - 78s 776ms/step - loss: 1.1276 - accuracy: 0.5413 - val_loss: 0.6457 - val_accuracy: 0.6430\n",
            "Epoch 2/15\n",
            "100/100 [==============================] - 77s 765ms/step - loss: 0.6527 - accuracy: 0.6235 - val_loss: 0.6968 - val_accuracy: 0.5570\n",
            "Epoch 3/15\n",
            "100/100 [==============================] - 77s 772ms/step - loss: 0.6271 - accuracy: 0.6496 - val_loss: 0.5681 - val_accuracy: 0.7230\n",
            "Epoch 4/15\n",
            "100/100 [==============================] - 77s 768ms/step - loss: 0.6089 - accuracy: 0.6741 - val_loss: 0.5576 - val_accuracy: 0.7255\n",
            "Epoch 5/15\n",
            "100/100 [==============================] - 77s 768ms/step - loss: 0.6032 - accuracy: 0.6795 - val_loss: 0.5777 - val_accuracy: 0.6820\n",
            "Epoch 6/15\n",
            "100/100 [==============================] - 77s 773ms/step - loss: 0.5796 - accuracy: 0.6953 - val_loss: 0.5215 - val_accuracy: 0.7475\n",
            "Epoch 7/15\n",
            "100/100 [==============================] - 76s 765ms/step - loss: 0.5725 - accuracy: 0.6989 - val_loss: 0.5777 - val_accuracy: 0.6860\n",
            "Epoch 8/15\n",
            "100/100 [==============================] - 77s 766ms/step - loss: 0.5645 - accuracy: 0.7139 - val_loss: 0.5233 - val_accuracy: 0.7450\n",
            "Epoch 9/15\n",
            "100/100 [==============================] - 78s 775ms/step - loss: 0.5605 - accuracy: 0.7131 - val_loss: 0.5084 - val_accuracy: 0.7560\n",
            "Epoch 10/15\n",
            "100/100 [==============================] - 77s 768ms/step - loss: 0.5606 - accuracy: 0.7149 - val_loss: 0.4999 - val_accuracy: 0.7570\n",
            "Epoch 11/15\n",
            "100/100 [==============================] - 78s 776ms/step - loss: 0.5520 - accuracy: 0.7184 - val_loss: 0.5418 - val_accuracy: 0.7255\n",
            "Epoch 12/15\n",
            "100/100 [==============================] - 77s 771ms/step - loss: 0.5489 - accuracy: 0.7186 - val_loss: 0.5059 - val_accuracy: 0.7495\n",
            "Epoch 13/15\n",
            "100/100 [==============================] - 77s 766ms/step - loss: 0.5476 - accuracy: 0.7206 - val_loss: 0.5035 - val_accuracy: 0.7515\n",
            "Epoch 14/15\n",
            "100/100 [==============================] - 78s 776ms/step - loss: 0.5434 - accuracy: 0.7246 - val_loss: 0.5332 - val_accuracy: 0.7435\n",
            "Epoch 15/15\n",
            "100/100 [==============================] - 77s 769ms/step - loss: 0.5418 - accuracy: 0.7256 - val_loss: 0.4825 - val_accuracy: 0.7705\n"
          ]
        }
      ]
    },
    {
      "cell_type": "code",
      "source": [
        "#Trianing the model2\n",
        "start = time()\n",
        "historyDrop2 = model2.fit(\n",
        "     train_data,\n",
        "     validation_data = val_data, \n",
        "     epochs=15,\n",
        "     steps_per_epoch=100,\n",
        "     validation_steps=20,\n",
        "     verbose=1)\n",
        "print (time()-start)"
      ],
      "metadata": {
        "colab": {
          "base_uri": "https://localhost:8080/"
        },
        "id": "okRgnzimOtXZ",
        "outputId": "170c925b-2fca-4ca2-c6ff-f0c7d0dd641d"
      },
      "execution_count": null,
      "outputs": [
        {
          "output_type": "stream",
          "name": "stdout",
          "text": [
            "Epoch 1/15\n",
            "100/100 [==============================] - ETA: 0s - loss: 0.3556 - accuracy: 0.8462"
          ]
        },
        {
          "output_type": "stream",
          "name": "stderr",
          "text": [
            "/usr/local/lib/python3.7/dist-packages/PIL/TiffImagePlugin.py:770: UserWarning: Possibly corrupt EXIF data.  Expecting to read 32 bytes but only got 0. Skipping tag 270\n",
            "  \" Skipping tag %s\" % (size, len(data), tag)\n",
            "/usr/local/lib/python3.7/dist-packages/PIL/TiffImagePlugin.py:770: UserWarning: Possibly corrupt EXIF data.  Expecting to read 5 bytes but only got 0. Skipping tag 271\n",
            "  \" Skipping tag %s\" % (size, len(data), tag)\n",
            "/usr/local/lib/python3.7/dist-packages/PIL/TiffImagePlugin.py:770: UserWarning: Possibly corrupt EXIF data.  Expecting to read 8 bytes but only got 0. Skipping tag 272\n",
            "  \" Skipping tag %s\" % (size, len(data), tag)\n",
            "/usr/local/lib/python3.7/dist-packages/PIL/TiffImagePlugin.py:770: UserWarning: Possibly corrupt EXIF data.  Expecting to read 8 bytes but only got 0. Skipping tag 282\n",
            "  \" Skipping tag %s\" % (size, len(data), tag)\n",
            "/usr/local/lib/python3.7/dist-packages/PIL/TiffImagePlugin.py:770: UserWarning: Possibly corrupt EXIF data.  Expecting to read 8 bytes but only got 0. Skipping tag 283\n",
            "  \" Skipping tag %s\" % (size, len(data), tag)\n",
            "/usr/local/lib/python3.7/dist-packages/PIL/TiffImagePlugin.py:770: UserWarning: Possibly corrupt EXIF data.  Expecting to read 20 bytes but only got 0. Skipping tag 306\n",
            "  \" Skipping tag %s\" % (size, len(data), tag)\n",
            "/usr/local/lib/python3.7/dist-packages/PIL/TiffImagePlugin.py:770: UserWarning: Possibly corrupt EXIF data.  Expecting to read 48 bytes but only got 0. Skipping tag 532\n",
            "  \" Skipping tag %s\" % (size, len(data), tag)\n",
            "/usr/local/lib/python3.7/dist-packages/PIL/TiffImagePlugin.py:788: UserWarning: Corrupt EXIF data.  Expecting to read 2 bytes but only got 0. \n",
            "  warnings.warn(str(msg))\n"
          ]
        },
        {
          "output_type": "stream",
          "name": "stdout",
          "text": [
            "\b\b\b\b\b\b\b\b\b\b\b\b\b\b\b\b\b\b\b\b\b\b\b\b\b\b\b\b\b\b\b\b\b\b\b\b\b\b\b\b\b\b\b\b\b\b\b\b\b\b\b\b\b\b\b\b\b\b\b\b\b\b\b\b\b\b\b\b\b\b\b\b\b\b\b\b\b\b\b\b\b\b\b\b\r100/100 [==============================] - 78s 778ms/step - loss: 0.3556 - accuracy: 0.8462 - val_loss: 0.3307 - val_accuracy: 0.8570\n",
            "Epoch 2/15\n",
            "100/100 [==============================] - 77s 772ms/step - loss: 0.3426 - accuracy: 0.8539 - val_loss: 0.2883 - val_accuracy: 0.8780\n",
            "Epoch 3/15\n",
            "100/100 [==============================] - 84s 844ms/step - loss: 0.3586 - accuracy: 0.8410 - val_loss: 0.3075 - val_accuracy: 0.8760\n",
            "Epoch 4/15\n",
            "100/100 [==============================] - 80s 793ms/step - loss: 0.3405 - accuracy: 0.8514 - val_loss: 0.2904 - val_accuracy: 0.8770\n",
            "Epoch 5/15\n",
            "100/100 [==============================] - 78s 775ms/step - loss: 0.3368 - accuracy: 0.8559 - val_loss: 0.2961 - val_accuracy: 0.8815\n",
            "Epoch 6/15\n",
            "100/100 [==============================] - 78s 781ms/step - loss: 0.3359 - accuracy: 0.8571 - val_loss: 0.4564 - val_accuracy: 0.7920\n",
            "Epoch 7/15\n",
            "100/100 [==============================] - 77s 775ms/step - loss: 0.3289 - accuracy: 0.8611 - val_loss: 0.4597 - val_accuracy: 0.8095\n",
            "Epoch 8/15\n",
            "100/100 [==============================] - 76s 762ms/step - loss: 0.3247 - accuracy: 0.8614 - val_loss: 0.2495 - val_accuracy: 0.8965\n",
            "Epoch 9/15\n",
            "100/100 [==============================] - 77s 774ms/step - loss: 0.3236 - accuracy: 0.8623 - val_loss: 0.3098 - val_accuracy: 0.8720\n",
            "Epoch 10/15\n",
            "100/100 [==============================] - 77s 772ms/step - loss: 0.3185 - accuracy: 0.8641 - val_loss: 0.2941 - val_accuracy: 0.8825\n",
            "Epoch 11/15\n",
            "100/100 [==============================] - 77s 773ms/step - loss: 0.3382 - accuracy: 0.8621 - val_loss: 0.3056 - val_accuracy: 0.8715\n",
            "Epoch 12/15\n",
            "100/100 [==============================] - 77s 772ms/step - loss: 0.3250 - accuracy: 0.8625 - val_loss: 0.2807 - val_accuracy: 0.8850\n",
            "Epoch 13/15\n",
            "100/100 [==============================] - 78s 775ms/step - loss: 0.3240 - accuracy: 0.8638 - val_loss: 0.2787 - val_accuracy: 0.8985\n",
            "Epoch 14/15\n",
            "100/100 [==============================] - 78s 781ms/step - loss: 0.3238 - accuracy: 0.8615 - val_loss: 0.2856 - val_accuracy: 0.8930\n",
            "Epoch 15/15\n",
            "100/100 [==============================] - 77s 774ms/step - loss: 0.3225 - accuracy: 0.8676 - val_loss: 0.2894 - val_accuracy: 0.8825\n",
            "1254.8212189674377\n"
          ]
        }
      ]
    },
    {
      "cell_type": "code",
      "source": [
        "%matplotlib inline\n",
        " \n",
        "import matplotlib.image  as mpimg\n",
        "import matplotlib.pyplot as plt\n",
        "\n",
        "acc=historyDrop.history['accuracy']\n",
        "val_acc=historyDrop.history['val_accuracy']\n",
        "loss=historyDrop.history['loss']\n",
        "val_loss=historyDrop.history['val_loss']\n",
        "\n",
        "acc2=historyDrop2.history['accuracy']\n",
        "val_acc2=historyDrop2.history['val_accuracy']\n",
        "loss2=historyDrop2.history['loss']\n",
        "val_loss2=historyDrop2.history['val_loss']\n",
        " \n",
        "epochs=range(len(acc)) # Get number of epochs\n",
        "\n",
        "plt.plot(epochs, acc, 'r', \"Training Accuracy\")\n",
        "plt.plot(epochs, val_acc, 'b', \"Validation Accuracy\")\n",
        "plt.title('Model1: Training and validation accuracy')\n",
        "plt.figure()\n",
        "\n",
        "\n",
        "plt.plot(epochs, loss, 'r', \"Training Loss\")\n",
        "plt.plot(epochs, val_loss, 'b', \"Validation Loss\")\n",
        "plt.figure()\n",
        "\n",
        "plt.plot(epochs, acc2, 'r', \"Training Accuracy\")\n",
        "plt.plot(epochs, val_acc2, 'b', \"Validation Accuracy\")\n",
        "plt.title('Model2: Training and validation accuracy')\n",
        "plt.figure()\n",
        "\n",
        "\n",
        "plt.plot(epochs, loss2, 'r', \"Training Loss\")\n",
        "plt.plot(epochs, val_loss2, 'b', \"Validation Loss\")\n",
        "plt.figure()"
      ],
      "metadata": {
        "colab": {
          "base_uri": "https://localhost:8080/",
          "height": 1000
        },
        "id": "6XrXop6k_2Cq",
        "outputId": "b0497da9-58a4-456d-ab9d-23c64f181c74"
      },
      "execution_count": null,
      "outputs": [
        {
          "output_type": "execute_result",
          "data": {
            "text/plain": [
              "<Figure size 432x288 with 0 Axes>"
            ]
          },
          "metadata": {},
          "execution_count": 43
        },
        {
          "output_type": "display_data",
          "data": {
            "text/plain": [
              "<Figure size 432x288 with 1 Axes>"
            ],
            "image/png": "[encoded data removed]"
          },
          "metadata": {
            "needs_background": "light"
          }
        },
        {
          "output_type": "display_data",
          "data": {
            "text/plain": [
              "<Figure size 432x288 with 1 Axes>"
            ],
            "image/png": "[encoded data removed]"
          },
          "metadata": {
            "needs_background": "light"
          }
        },
        {
          "output_type": "display_data",
          "data": {
            "text/plain": [
              "<Figure size 432x288 with 1 Axes>"
            ],
            "image/png": "[encoded data removed]"
          },
          "metadata": {
            "needs_background": "light"
          }
        },
        {
          "output_type": "display_data",
          "data": {
            "text/plain": [
              "<Figure size 432x288 with 1 Axes>"
            ],
            "image/png": "[encoded data removed]"
          },
          "metadata": {
            "needs_background": "light"
          }
        },
        {
          "output_type": "display_data",
          "data": {
            "text/plain": [
              "<Figure size 432x288 with 0 Axes>"
            ]
          },
          "metadata": {}
        }
      ]
    }
  ],
  "metadata": {
    "colab": {
      "collapsed_sections": [
        "K0Ez6Wz2T__6"
      ],
      "name": "MLCTFCatsvsDogs.ipynb",
      "provenance": []
    },
    "kernelspec": {
      "display_name": "Python 3",
      "name": "python3"
    },
    "language_info": {
      "name": "python"
    },
    "accelerator": "GPU"
  },
  "nbformat": 4,
  "nbformat_minor": 0
}