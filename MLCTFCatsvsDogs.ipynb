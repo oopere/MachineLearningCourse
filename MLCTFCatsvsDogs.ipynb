{
  "cells": [
    {
      "cell_type": "markdown",
      "metadata": {
        "id": "view-in-github",
        "colab_type": "text"
      },
      "source": [
        "<a href=\"https://colab.research.google.com/github/oopere/MachineLearningCourse/blob/main/MLCTFCatsvsDogs.ipynb\" target=\"_parent\"><img src=\"https://colab.research.google.com/assets/colab-badge.svg\" alt=\"Open In Colab\"/></a>"
      ]
    },
    {
      "cell_type": "markdown",
      "metadata": {
        "id": "R3u_pPS7PSrj"
      },
      "source": [
        "\n",
        "let's start with TensorFlow.\n",
        "\n",
        "\n",
        "---\n",
        "\n",
        "\n",
        "In this collab, we are goig to solve three problems, and create thre different neuronal nets.\n"
      ]
    },
    {
      "cell_type": "markdown",
      "metadata": {
        "id": "K0Ez6Wz2T__6"
      },
      "source": [
        "## First Sample. The most simple problem to solve \n",
        "\n",
        "---\n",
        "\n",
        "\n"
      ]
    },
    {
      "cell_type": "code",
      "execution_count": null,
      "metadata": {
        "colab": {
          "base_uri": "https://localhost:8080/"
        },
        "id": "pddGlKsiO_du",
        "outputId": "73207341-f177-46b6-acbb-8e26a407ec60"
      },
      "outputs": [
        {
          "name": "stdout",
          "output_type": "stream",
          "text": [
            "2.8.0\n"
          ]
        }
      ],
      "source": [
        "#First steep is import the libraries. \n",
        "import tensorflow as tf\n",
        "#Numpy is a lybrary that allow us to work with arrays. \n",
        "import numpy as np\n",
        "#keras is an open source neural networks lybrary writted in python that run's in varios frameworks, TensorFlow included. \n",
        "from tensorflow import keras\n",
        "print (tf.__version__)\n"
      ]
    },
    {
      "cell_type": "code",
      "execution_count": null,
      "metadata": {
        "id": "qlPs6OeGQ7bZ"
      },
      "outputs": [],
      "source": [
        "#Model with just one dense layer, one neuron, and one input. This is the most simple model possible. \n",
        "model = tf.keras.Sequential(keras.layers.Dense(units=1, input_shape=[1]))\n"
      ]
    },
    {
      "cell_type": "code",
      "execution_count": null,
      "metadata": {
        "id": "A9ClkratT9ZD"
      },
      "outputs": [],
      "source": [
        "#create 2 arrays, and the model must discover the relationship betwen the values. \n",
        "# (n * -1) + 2\n",
        "X = np.array([-2.0, -1.0, 0.0, 1.0, 2.0, 3.0, 4.0, 5.0, 6.0, 7.0, 8.0], dtype=float)\n",
        "y = np.array([4.0, 3.0, 2.0, 1.0, 0.0, -1.0, -2.0, -3.0, -4.0, -5.0, -6.0], dtype=float)"
      ]
    },
    {
      "cell_type": "code",
      "execution_count": null,
      "metadata": {
        "colab": {
          "base_uri": "https://localhost:8080/"
        },
        "id": "UiE53I3fWFvI",
        "outputId": "dad7fd9b-17f6-4279-a473-b32bdf6fd6fb"
      },
      "outputs": [
        {
          "name": "stdout",
          "output_type": "stream",
          "text": [
            "Epoch 1/250\n",
            "1/1 [==============================] - 0s 239ms/step - loss: 6.3385e-05\n",
            "Epoch 2/250\n",
            "1/1 [==============================] - 0s 8ms/step - loss: 6.2090e-05\n",
            "Epoch 3/250\n",
            "1/1 [==============================] - 0s 6ms/step - loss: 6.0822e-05\n",
            "Epoch 4/250\n",
            "1/1 [==============================] - 0s 4ms/step - loss: 5.9580e-05\n",
            "Epoch 5/250\n",
            "1/1 [==============================] - 0s 5ms/step - loss: 5.8363e-05\n",
            "Epoch 6/250\n",
            "1/1 [==============================] - 0s 4ms/step - loss: 5.7171e-05\n",
            "Epoch 7/250\n",
            "1/1 [==============================] - 0s 5ms/step - loss: 5.6004e-05\n",
            "Epoch 8/250\n",
            "1/1 [==============================] - 0s 5ms/step - loss: 5.4860e-05\n",
            "Epoch 9/250\n",
            "1/1 [==============================] - 0s 5ms/step - loss: 5.3739e-05\n",
            "Epoch 10/250\n",
            "1/1 [==============================] - 0s 9ms/step - loss: 5.2642e-05\n",
            "Epoch 11/250\n",
            "1/1 [==============================] - 0s 5ms/step - loss: 5.1566e-05\n",
            "Epoch 12/250\n",
            "1/1 [==============================] - 0s 5ms/step - loss: 5.0514e-05\n",
            "Epoch 13/250\n",
            "1/1 [==============================] - 0s 5ms/step - loss: 4.9482e-05\n",
            "Epoch 14/250\n",
            "1/1 [==============================] - 0s 5ms/step - loss: 4.8470e-05\n",
            "Epoch 15/250\n",
            "1/1 [==============================] - 0s 5ms/step - loss: 4.7480e-05\n",
            "Epoch 16/250\n",
            "1/1 [==============================] - 0s 5ms/step - loss: 4.6512e-05\n",
            "Epoch 17/250\n",
            "1/1 [==============================] - 0s 5ms/step - loss: 4.5562e-05\n",
            "Epoch 18/250\n",
            "1/1 [==============================] - 0s 5ms/step - loss: 4.4631e-05\n",
            "Epoch 19/250\n",
            "1/1 [==============================] - 0s 9ms/step - loss: 4.3719e-05\n",
            "Epoch 20/250\n",
            "1/1 [==============================] - 0s 5ms/step - loss: 4.2827e-05\n",
            "Epoch 21/250\n",
            "1/1 [==============================] - 0s 5ms/step - loss: 4.1952e-05\n",
            "Epoch 22/250\n",
            "1/1 [==============================] - 0s 22ms/step - loss: 4.1096e-05\n",
            "Epoch 23/250\n",
            "1/1 [==============================] - 0s 7ms/step - loss: 4.0256e-05\n",
            "Epoch 24/250\n",
            "1/1 [==============================] - 0s 7ms/step - loss: 3.9434e-05\n",
            "Epoch 25/250\n",
            "1/1 [==============================] - 0s 7ms/step - loss: 3.8629e-05\n",
            "Epoch 26/250\n",
            "1/1 [==============================] - 0s 10ms/step - loss: 3.7840e-05\n",
            "Epoch 27/250\n",
            "1/1 [==============================] - 0s 7ms/step - loss: 3.7067e-05\n",
            "Epoch 28/250\n",
            "1/1 [==============================] - 0s 5ms/step - loss: 3.6311e-05\n",
            "Epoch 29/250\n",
            "1/1 [==============================] - 0s 5ms/step - loss: 3.5569e-05\n",
            "Epoch 30/250\n",
            "1/1 [==============================] - 0s 6ms/step - loss: 3.4842e-05\n",
            "Epoch 31/250\n",
            "1/1 [==============================] - 0s 13ms/step - loss: 3.4131e-05\n",
            "Epoch 32/250\n",
            "1/1 [==============================] - 0s 7ms/step - loss: 3.3434e-05\n",
            "Epoch 33/250\n",
            "1/1 [==============================] - 0s 7ms/step - loss: 3.2751e-05\n",
            "Epoch 34/250\n",
            "1/1 [==============================] - 0s 7ms/step - loss: 3.2082e-05\n",
            "Epoch 35/250\n",
            "1/1 [==============================] - 0s 7ms/step - loss: 3.1427e-05\n",
            "Epoch 36/250\n",
            "1/1 [==============================] - 0s 7ms/step - loss: 3.0785e-05\n",
            "Epoch 37/250\n",
            "1/1 [==============================] - 0s 8ms/step - loss: 3.0156e-05\n",
            "Epoch 38/250\n",
            "1/1 [==============================] - 0s 6ms/step - loss: 2.9542e-05\n",
            "Epoch 39/250\n",
            "1/1 [==============================] - 0s 6ms/step - loss: 2.8938e-05\n",
            "Epoch 40/250\n",
            "1/1 [==============================] - 0s 7ms/step - loss: 2.8347e-05\n",
            "Epoch 41/250\n",
            "1/1 [==============================] - 0s 7ms/step - loss: 2.7768e-05\n",
            "Epoch 42/250\n",
            "1/1 [==============================] - 0s 7ms/step - loss: 2.7201e-05\n",
            "Epoch 43/250\n",
            "1/1 [==============================] - 0s 6ms/step - loss: 2.6645e-05\n",
            "Epoch 44/250\n",
            "1/1 [==============================] - 0s 7ms/step - loss: 2.6101e-05\n",
            "Epoch 45/250\n",
            "1/1 [==============================] - 0s 7ms/step - loss: 2.5568e-05\n",
            "Epoch 46/250\n",
            "1/1 [==============================] - 0s 7ms/step - loss: 2.5047e-05\n",
            "Epoch 47/250\n",
            "1/1 [==============================] - 0s 7ms/step - loss: 2.4534e-05\n",
            "Epoch 48/250\n",
            "1/1 [==============================] - 0s 7ms/step - loss: 2.4033e-05\n",
            "Epoch 49/250\n",
            "1/1 [==============================] - 0s 7ms/step - loss: 2.3542e-05\n",
            "Epoch 50/250\n",
            "1/1 [==============================] - 0s 6ms/step - loss: 2.3061e-05\n",
            "Epoch 51/250\n",
            "1/1 [==============================] - 0s 7ms/step - loss: 2.2590e-05\n",
            "Epoch 52/250\n",
            "1/1 [==============================] - 0s 15ms/step - loss: 2.2128e-05\n",
            "Epoch 53/250\n",
            "1/1 [==============================] - 0s 6ms/step - loss: 2.1676e-05\n",
            "Epoch 54/250\n",
            "1/1 [==============================] - 0s 7ms/step - loss: 2.1234e-05\n",
            "Epoch 55/250\n",
            "1/1 [==============================] - 0s 6ms/step - loss: 2.0800e-05\n",
            "Epoch 56/250\n",
            "1/1 [==============================] - 0s 6ms/step - loss: 2.0376e-05\n",
            "Epoch 57/250\n",
            "1/1 [==============================] - 0s 6ms/step - loss: 1.9959e-05\n",
            "Epoch 58/250\n",
            "1/1 [==============================] - 0s 7ms/step - loss: 1.9551e-05\n",
            "Epoch 59/250\n",
            "1/1 [==============================] - 0s 7ms/step - loss: 1.9152e-05\n",
            "Epoch 60/250\n",
            "1/1 [==============================] - 0s 7ms/step - loss: 1.8761e-05\n",
            "Epoch 61/250\n",
            "1/1 [==============================] - 0s 6ms/step - loss: 1.8377e-05\n",
            "Epoch 62/250\n",
            "1/1 [==============================] - 0s 7ms/step - loss: 1.8002e-05\n",
            "Epoch 63/250\n",
            "1/1 [==============================] - 0s 7ms/step - loss: 1.7634e-05\n",
            "Epoch 64/250\n",
            "1/1 [==============================] - 0s 7ms/step - loss: 1.7275e-05\n",
            "Epoch 65/250\n",
            "1/1 [==============================] - 0s 8ms/step - loss: 1.6922e-05\n",
            "Epoch 66/250\n",
            "1/1 [==============================] - 0s 8ms/step - loss: 1.6577e-05\n",
            "Epoch 67/250\n",
            "1/1 [==============================] - 0s 7ms/step - loss: 1.6238e-05\n",
            "Epoch 68/250\n",
            "1/1 [==============================] - 0s 8ms/step - loss: 1.5906e-05\n",
            "Epoch 69/250\n",
            "1/1 [==============================] - 0s 7ms/step - loss: 1.5582e-05\n",
            "Epoch 70/250\n",
            "1/1 [==============================] - 0s 7ms/step - loss: 1.5264e-05\n",
            "Epoch 71/250\n",
            "1/1 [==============================] - 0s 7ms/step - loss: 1.4951e-05\n",
            "Epoch 72/250\n",
            "1/1 [==============================] - 0s 7ms/step - loss: 1.4646e-05\n",
            "Epoch 73/250\n",
            "1/1 [==============================] - 0s 7ms/step - loss: 1.4347e-05\n",
            "Epoch 74/250\n",
            "1/1 [==============================] - 0s 8ms/step - loss: 1.4054e-05\n",
            "Epoch 75/250\n",
            "1/1 [==============================] - 0s 7ms/step - loss: 1.3767e-05\n",
            "Epoch 76/250\n",
            "1/1 [==============================] - 0s 8ms/step - loss: 1.3486e-05\n",
            "Epoch 77/250\n",
            "1/1 [==============================] - 0s 7ms/step - loss: 1.3211e-05\n",
            "Epoch 78/250\n",
            "1/1 [==============================] - 0s 9ms/step - loss: 1.2941e-05\n",
            "Epoch 79/250\n",
            "1/1 [==============================] - 0s 8ms/step - loss: 1.2676e-05\n",
            "Epoch 80/250\n",
            "1/1 [==============================] - 0s 10ms/step - loss: 1.2418e-05\n",
            "Epoch 81/250\n",
            "1/1 [==============================] - 0s 7ms/step - loss: 1.2164e-05\n",
            "Epoch 82/250\n",
            "1/1 [==============================] - 0s 8ms/step - loss: 1.1916e-05\n",
            "Epoch 83/250\n",
            "1/1 [==============================] - 0s 8ms/step - loss: 1.1672e-05\n",
            "Epoch 84/250\n",
            "1/1 [==============================] - 0s 8ms/step - loss: 1.1434e-05\n",
            "Epoch 85/250\n",
            "1/1 [==============================] - 0s 7ms/step - loss: 1.1201e-05\n",
            "Epoch 86/250\n",
            "1/1 [==============================] - 0s 8ms/step - loss: 1.0971e-05\n",
            "Epoch 87/250\n",
            "1/1 [==============================] - 0s 7ms/step - loss: 1.0748e-05\n",
            "Epoch 88/250\n",
            "1/1 [==============================] - 0s 7ms/step - loss: 1.0528e-05\n",
            "Epoch 89/250\n",
            "1/1 [==============================] - 0s 8ms/step - loss: 1.0313e-05\n",
            "Epoch 90/250\n",
            "1/1 [==============================] - 0s 7ms/step - loss: 1.0102e-05\n",
            "Epoch 91/250\n",
            "1/1 [==============================] - 0s 7ms/step - loss: 9.8962e-06\n",
            "Epoch 92/250\n",
            "1/1 [==============================] - 0s 8ms/step - loss: 9.6942e-06\n",
            "Epoch 93/250\n",
            "1/1 [==============================] - 0s 7ms/step - loss: 9.4961e-06\n",
            "Epoch 94/250\n",
            "1/1 [==============================] - 0s 7ms/step - loss: 9.3022e-06\n",
            "Epoch 95/250\n",
            "1/1 [==============================] - 0s 7ms/step - loss: 9.1119e-06\n",
            "Epoch 96/250\n",
            "1/1 [==============================] - 0s 7ms/step - loss: 8.9262e-06\n",
            "Epoch 97/250\n",
            "1/1 [==============================] - 0s 18ms/step - loss: 8.7442e-06\n",
            "Epoch 98/250\n",
            "1/1 [==============================] - 0s 15ms/step - loss: 8.5654e-06\n",
            "Epoch 99/250\n",
            "1/1 [==============================] - 0s 18ms/step - loss: 8.3904e-06\n",
            "Epoch 100/250\n",
            "1/1 [==============================] - 0s 9ms/step - loss: 8.2189e-06\n",
            "Epoch 101/250\n",
            "1/1 [==============================] - 0s 11ms/step - loss: 8.0513e-06\n",
            "Epoch 102/250\n",
            "1/1 [==============================] - 0s 9ms/step - loss: 7.8864e-06\n",
            "Epoch 103/250\n",
            "1/1 [==============================] - 0s 10ms/step - loss: 7.7256e-06\n",
            "Epoch 104/250\n",
            "1/1 [==============================] - 0s 15ms/step - loss: 7.5679e-06\n",
            "Epoch 105/250\n",
            "1/1 [==============================] - 0s 14ms/step - loss: 7.4136e-06\n",
            "Epoch 106/250\n",
            "1/1 [==============================] - 0s 16ms/step - loss: 7.2621e-06\n",
            "Epoch 107/250\n",
            "1/1 [==============================] - 0s 10ms/step - loss: 7.1137e-06\n",
            "Epoch 108/250\n",
            "1/1 [==============================] - 0s 10ms/step - loss: 6.9685e-06\n",
            "Epoch 109/250\n",
            "1/1 [==============================] - 0s 7ms/step - loss: 6.8260e-06\n",
            "Epoch 110/250\n",
            "1/1 [==============================] - 0s 8ms/step - loss: 6.6868e-06\n",
            "Epoch 111/250\n",
            "1/1 [==============================] - 0s 10ms/step - loss: 6.5501e-06\n",
            "Epoch 112/250\n",
            "1/1 [==============================] - 0s 11ms/step - loss: 6.4162e-06\n",
            "Epoch 113/250\n",
            "1/1 [==============================] - 0s 10ms/step - loss: 6.2849e-06\n",
            "Epoch 114/250\n",
            "1/1 [==============================] - 0s 8ms/step - loss: 6.1569e-06\n",
            "Epoch 115/250\n",
            "1/1 [==============================] - 0s 7ms/step - loss: 6.0312e-06\n",
            "Epoch 116/250\n",
            "1/1 [==============================] - 0s 7ms/step - loss: 5.9084e-06\n",
            "Epoch 117/250\n",
            "1/1 [==============================] - 0s 6ms/step - loss: 5.7875e-06\n",
            "Epoch 118/250\n",
            "1/1 [==============================] - 0s 7ms/step - loss: 5.6697e-06\n",
            "Epoch 119/250\n",
            "1/1 [==============================] - 0s 7ms/step - loss: 5.5535e-06\n",
            "Epoch 120/250\n",
            "1/1 [==============================] - 0s 7ms/step - loss: 5.4402e-06\n",
            "Epoch 121/250\n",
            "1/1 [==============================] - 0s 13ms/step - loss: 5.3290e-06\n",
            "Epoch 122/250\n",
            "1/1 [==============================] - 0s 7ms/step - loss: 5.2200e-06\n",
            "Epoch 123/250\n",
            "1/1 [==============================] - 0s 7ms/step - loss: 5.1133e-06\n",
            "Epoch 124/250\n",
            "1/1 [==============================] - 0s 7ms/step - loss: 5.0090e-06\n",
            "Epoch 125/250\n",
            "1/1 [==============================] - 0s 7ms/step - loss: 4.9067e-06\n",
            "Epoch 126/250\n",
            "1/1 [==============================] - 0s 6ms/step - loss: 4.8064e-06\n",
            "Epoch 127/250\n",
            "1/1 [==============================] - 0s 6ms/step - loss: 4.7082e-06\n",
            "Epoch 128/250\n",
            "1/1 [==============================] - 0s 9ms/step - loss: 4.6122e-06\n",
            "Epoch 129/250\n",
            "1/1 [==============================] - 0s 7ms/step - loss: 4.5181e-06\n",
            "Epoch 130/250\n",
            "1/1 [==============================] - 0s 8ms/step - loss: 4.4258e-06\n",
            "Epoch 131/250\n",
            "1/1 [==============================] - 0s 8ms/step - loss: 4.3352e-06\n",
            "Epoch 132/250\n",
            "1/1 [==============================] - 0s 7ms/step - loss: 4.2468e-06\n",
            "Epoch 133/250\n",
            "1/1 [==============================] - 0s 9ms/step - loss: 4.1602e-06\n",
            "Epoch 134/250\n",
            "1/1 [==============================] - 0s 6ms/step - loss: 4.0752e-06\n",
            "Epoch 135/250\n",
            "1/1 [==============================] - 0s 7ms/step - loss: 3.9921e-06\n",
            "Epoch 136/250\n",
            "1/1 [==============================] - 0s 7ms/step - loss: 3.9107e-06\n",
            "Epoch 137/250\n",
            "1/1 [==============================] - 0s 6ms/step - loss: 3.8305e-06\n",
            "Epoch 138/250\n",
            "1/1 [==============================] - 0s 8ms/step - loss: 3.7524e-06\n",
            "Epoch 139/250\n",
            "1/1 [==============================] - 0s 9ms/step - loss: 3.6758e-06\n",
            "Epoch 140/250\n",
            "1/1 [==============================] - 0s 5ms/step - loss: 3.6009e-06\n",
            "Epoch 141/250\n",
            "1/1 [==============================] - 0s 5ms/step - loss: 3.5274e-06\n",
            "Epoch 142/250\n",
            "1/1 [==============================] - 0s 6ms/step - loss: 3.4552e-06\n",
            "Epoch 143/250\n",
            "1/1 [==============================] - 0s 6ms/step - loss: 3.3846e-06\n",
            "Epoch 144/250\n",
            "1/1 [==============================] - 0s 6ms/step - loss: 3.3155e-06\n",
            "Epoch 145/250\n",
            "1/1 [==============================] - 0s 8ms/step - loss: 3.2478e-06\n",
            "Epoch 146/250\n",
            "1/1 [==============================] - 0s 5ms/step - loss: 3.1814e-06\n",
            "Epoch 147/250\n",
            "1/1 [==============================] - 0s 6ms/step - loss: 3.1163e-06\n",
            "Epoch 148/250\n",
            "1/1 [==============================] - 0s 6ms/step - loss: 3.0529e-06\n",
            "Epoch 149/250\n",
            "1/1 [==============================] - 0s 6ms/step - loss: 2.9904e-06\n",
            "Epoch 150/250\n",
            "1/1 [==============================] - 0s 5ms/step - loss: 2.9294e-06\n",
            "Epoch 151/250\n",
            "1/1 [==============================] - 0s 5ms/step - loss: 2.8697e-06\n",
            "Epoch 152/250\n",
            "1/1 [==============================] - 0s 5ms/step - loss: 2.8110e-06\n",
            "Epoch 153/250\n",
            "1/1 [==============================] - 0s 5ms/step - loss: 2.7537e-06\n",
            "Epoch 154/250\n",
            "1/1 [==============================] - 0s 5ms/step - loss: 2.6973e-06\n",
            "Epoch 155/250\n",
            "1/1 [==============================] - 0s 5ms/step - loss: 2.6423e-06\n",
            "Epoch 156/250\n",
            "1/1 [==============================] - 0s 8ms/step - loss: 2.5884e-06\n",
            "Epoch 157/250\n",
            "1/1 [==============================] - 0s 7ms/step - loss: 2.5354e-06\n",
            "Epoch 158/250\n",
            "1/1 [==============================] - 0s 6ms/step - loss: 2.4836e-06\n",
            "Epoch 159/250\n",
            "1/1 [==============================] - 0s 6ms/step - loss: 2.4328e-06\n",
            "Epoch 160/250\n",
            "1/1 [==============================] - 0s 5ms/step - loss: 2.3833e-06\n",
            "Epoch 161/250\n",
            "1/1 [==============================] - 0s 5ms/step - loss: 2.3345e-06\n",
            "Epoch 162/250\n",
            "1/1 [==============================] - 0s 6ms/step - loss: 2.2868e-06\n",
            "Epoch 163/250\n",
            "1/1 [==============================] - 0s 6ms/step - loss: 2.2403e-06\n",
            "Epoch 164/250\n",
            "1/1 [==============================] - 0s 5ms/step - loss: 2.1944e-06\n",
            "Epoch 165/250\n",
            "1/1 [==============================] - 0s 5ms/step - loss: 2.1496e-06\n",
            "Epoch 166/250\n",
            "1/1 [==============================] - 0s 6ms/step - loss: 2.1057e-06\n",
            "Epoch 167/250\n",
            "1/1 [==============================] - 0s 6ms/step - loss: 2.0627e-06\n",
            "Epoch 168/250\n",
            "1/1 [==============================] - 0s 6ms/step - loss: 2.0207e-06\n",
            "Epoch 169/250\n",
            "1/1 [==============================] - 0s 6ms/step - loss: 1.9792e-06\n",
            "Epoch 170/250\n",
            "1/1 [==============================] - 0s 6ms/step - loss: 1.9390e-06\n",
            "Epoch 171/250\n",
            "1/1 [==============================] - 0s 6ms/step - loss: 1.8994e-06\n",
            "Epoch 172/250\n",
            "1/1 [==============================] - 0s 6ms/step - loss: 1.8606e-06\n",
            "Epoch 173/250\n",
            "1/1 [==============================] - 0s 6ms/step - loss: 1.8226e-06\n",
            "Epoch 174/250\n",
            "1/1 [==============================] - 0s 5ms/step - loss: 1.7855e-06\n",
            "Epoch 175/250\n",
            "1/1 [==============================] - 0s 6ms/step - loss: 1.7489e-06\n",
            "Epoch 176/250\n",
            "1/1 [==============================] - 0s 6ms/step - loss: 1.7132e-06\n",
            "Epoch 177/250\n",
            "1/1 [==============================] - 0s 5ms/step - loss: 1.6781e-06\n",
            "Epoch 178/250\n",
            "1/1 [==============================] - 0s 6ms/step - loss: 1.6438e-06\n",
            "Epoch 179/250\n",
            "1/1 [==============================] - 0s 5ms/step - loss: 1.6102e-06\n",
            "Epoch 180/250\n",
            "1/1 [==============================] - 0s 12ms/step - loss: 1.5772e-06\n",
            "Epoch 181/250\n",
            "1/1 [==============================] - 0s 9ms/step - loss: 1.5452e-06\n",
            "Epoch 182/250\n",
            "1/1 [==============================] - 0s 8ms/step - loss: 1.5137e-06\n",
            "Epoch 183/250\n",
            "1/1 [==============================] - 0s 5ms/step - loss: 1.4828e-06\n",
            "Epoch 184/250\n",
            "1/1 [==============================] - 0s 5ms/step - loss: 1.4525e-06\n",
            "Epoch 185/250\n",
            "1/1 [==============================] - 0s 5ms/step - loss: 1.4230e-06\n",
            "Epoch 186/250\n",
            "1/1 [==============================] - 0s 5ms/step - loss: 1.3938e-06\n",
            "Epoch 187/250\n",
            "1/1 [==============================] - 0s 8ms/step - loss: 1.3652e-06\n",
            "Epoch 188/250\n",
            "1/1 [==============================] - 0s 5ms/step - loss: 1.3373e-06\n",
            "Epoch 189/250\n",
            "1/1 [==============================] - 0s 5ms/step - loss: 1.3100e-06\n",
            "Epoch 190/250\n",
            "1/1 [==============================] - 0s 5ms/step - loss: 1.2833e-06\n",
            "Epoch 191/250\n",
            "1/1 [==============================] - 0s 6ms/step - loss: 1.2572e-06\n",
            "Epoch 192/250\n",
            "1/1 [==============================] - 0s 6ms/step - loss: 1.2314e-06\n",
            "Epoch 193/250\n",
            "1/1 [==============================] - 0s 16ms/step - loss: 1.2063e-06\n",
            "Epoch 194/250\n",
            "1/1 [==============================] - 0s 12ms/step - loss: 1.1817e-06\n",
            "Epoch 195/250\n",
            "1/1 [==============================] - 0s 7ms/step - loss: 1.1575e-06\n",
            "Epoch 196/250\n",
            "1/1 [==============================] - 0s 5ms/step - loss: 1.1339e-06\n",
            "Epoch 197/250\n",
            "1/1 [==============================] - 0s 6ms/step - loss: 1.1107e-06\n",
            "Epoch 198/250\n",
            "1/1 [==============================] - 0s 5ms/step - loss: 1.0881e-06\n",
            "Epoch 199/250\n",
            "1/1 [==============================] - 0s 8ms/step - loss: 1.0658e-06\n",
            "Epoch 200/250\n",
            "1/1 [==============================] - 0s 6ms/step - loss: 1.0441e-06\n",
            "Epoch 201/250\n",
            "1/1 [==============================] - 0s 5ms/step - loss: 1.0229e-06\n",
            "Epoch 202/250\n",
            "1/1 [==============================] - 0s 5ms/step - loss: 1.0019e-06\n",
            "Epoch 203/250\n",
            "1/1 [==============================] - 0s 8ms/step - loss: 9.8144e-07\n",
            "Epoch 204/250\n",
            "1/1 [==============================] - 0s 5ms/step - loss: 9.6134e-07\n",
            "Epoch 205/250\n",
            "1/1 [==============================] - 0s 6ms/step - loss: 9.4164e-07\n",
            "Epoch 206/250\n",
            "1/1 [==============================] - 0s 5ms/step - loss: 9.2252e-07\n",
            "Epoch 207/250\n",
            "1/1 [==============================] - 0s 5ms/step - loss: 9.0370e-07\n",
            "Epoch 208/250\n",
            "1/1 [==============================] - 0s 6ms/step - loss: 8.8513e-07\n",
            "Epoch 209/250\n",
            "1/1 [==============================] - 0s 6ms/step - loss: 8.6701e-07\n",
            "Epoch 210/250\n",
            "1/1 [==============================] - 0s 6ms/step - loss: 8.4943e-07\n",
            "Epoch 211/250\n",
            "1/1 [==============================] - 0s 7ms/step - loss: 8.3214e-07\n",
            "Epoch 212/250\n",
            "1/1 [==============================] - 0s 7ms/step - loss: 8.1521e-07\n",
            "Epoch 213/250\n",
            "1/1 [==============================] - 0s 6ms/step - loss: 7.9844e-07\n",
            "Epoch 214/250\n",
            "1/1 [==============================] - 0s 10ms/step - loss: 7.8219e-07\n",
            "Epoch 215/250\n",
            "1/1 [==============================] - 0s 6ms/step - loss: 7.6622e-07\n",
            "Epoch 216/250\n",
            "1/1 [==============================] - 0s 7ms/step - loss: 7.5056e-07\n",
            "Epoch 217/250\n",
            "1/1 [==============================] - 0s 9ms/step - loss: 7.3519e-07\n",
            "Epoch 218/250\n",
            "1/1 [==============================] - 0s 9ms/step - loss: 7.2008e-07\n",
            "Epoch 219/250\n",
            "1/1 [==============================] - 0s 6ms/step - loss: 7.0545e-07\n",
            "Epoch 220/250\n",
            "1/1 [==============================] - 0s 9ms/step - loss: 6.9100e-07\n",
            "Epoch 221/250\n",
            "1/1 [==============================] - 0s 6ms/step - loss: 6.7679e-07\n",
            "Epoch 222/250\n",
            "1/1 [==============================] - 0s 7ms/step - loss: 6.6288e-07\n",
            "Epoch 223/250\n",
            "1/1 [==============================] - 0s 9ms/step - loss: 6.4932e-07\n",
            "Epoch 224/250\n",
            "1/1 [==============================] - 0s 7ms/step - loss: 6.3600e-07\n",
            "Epoch 225/250\n",
            "1/1 [==============================] - 0s 6ms/step - loss: 6.2292e-07\n",
            "Epoch 226/250\n",
            "1/1 [==============================] - 0s 6ms/step - loss: 6.1018e-07\n",
            "Epoch 227/250\n",
            "1/1 [==============================] - 0s 6ms/step - loss: 5.9761e-07\n",
            "Epoch 228/250\n",
            "1/1 [==============================] - 0s 9ms/step - loss: 5.8548e-07\n",
            "Epoch 229/250\n",
            "1/1 [==============================] - 0s 6ms/step - loss: 5.7345e-07\n",
            "Epoch 230/250\n",
            "1/1 [==============================] - 0s 6ms/step - loss: 5.6170e-07\n",
            "Epoch 231/250\n",
            "1/1 [==============================] - 0s 10ms/step - loss: 5.5023e-07\n",
            "Epoch 232/250\n",
            "1/1 [==============================] - 0s 7ms/step - loss: 5.3898e-07\n",
            "Epoch 233/250\n",
            "1/1 [==============================] - 0s 12ms/step - loss: 5.2797e-07\n",
            "Epoch 234/250\n",
            "1/1 [==============================] - 0s 13ms/step - loss: 5.1725e-07\n",
            "Epoch 235/250\n",
            "1/1 [==============================] - 0s 5ms/step - loss: 5.0673e-07\n",
            "Epoch 236/250\n",
            "1/1 [==============================] - 0s 6ms/step - loss: 4.9646e-07\n",
            "Epoch 237/250\n",
            "1/1 [==============================] - 0s 9ms/step - loss: 4.8623e-07\n",
            "Epoch 238/250\n",
            "1/1 [==============================] - 0s 10ms/step - loss: 4.7628e-07\n",
            "Epoch 239/250\n",
            "1/1 [==============================] - 0s 9ms/step - loss: 4.6649e-07\n",
            "Epoch 240/250\n",
            "1/1 [==============================] - 0s 9ms/step - loss: 4.5699e-07\n",
            "Epoch 241/250\n",
            "1/1 [==============================] - 0s 7ms/step - loss: 4.4765e-07\n",
            "Epoch 242/250\n",
            "1/1 [==============================] - 0s 6ms/step - loss: 4.3860e-07\n",
            "Epoch 243/250\n",
            "1/1 [==============================] - 0s 6ms/step - loss: 4.2963e-07\n",
            "Epoch 244/250\n",
            "1/1 [==============================] - 0s 6ms/step - loss: 4.2082e-07\n",
            "Epoch 245/250\n",
            "1/1 [==============================] - 0s 6ms/step - loss: 4.1220e-07\n",
            "Epoch 246/250\n",
            "1/1 [==============================] - 0s 6ms/step - loss: 4.0374e-07\n",
            "Epoch 247/250\n",
            "1/1 [==============================] - 0s 5ms/step - loss: 3.9558e-07\n",
            "Epoch 248/250\n",
            "1/1 [==============================] - 0s 5ms/step - loss: 3.8745e-07\n",
            "Epoch 249/250\n",
            "1/1 [==============================] - 0s 6ms/step - loss: 3.7954e-07\n",
            "Epoch 250/250\n",
            "1/1 [==============================] - 0s 6ms/step - loss: 3.7183e-07\n"
          ]
        },
        {
          "data": {
            "text/plain": [
              "<keras.callbacks.History at 0x7ff8eb9fa710>"
            ]
          },
          "execution_count": 7,
          "metadata": {},
          "output_type": "execute_result"
        }
      ],
      "source": [
        "#compile and train the model.\n",
        "#compile and indicate the optimezer and the model. By the moment we need to understand that this both functions are where the magic happens. \n",
        "#The optimizer is the function responsible to make a guess. \n",
        "#The loss function is responsible to indicate how accurated the guees is. \n",
        "#They try to be more accurated in each epoch\n",
        "model.compile(optimizer=\"sgd\", loss=\"mean_squared_error\") \n",
        "model.fit(X, y, epochs=250)"
      ]
    },
    {
      "cell_type": "code",
      "execution_count": null,
      "metadata": {
        "colab": {
          "base_uri": "https://localhost:8080/"
        },
        "id": "cqtIdC_PZxAU",
        "outputId": "9bcf005d-d416-4a15-b98c-a8b82b392cfc"
      },
      "outputs": [
        {
          "name": "stdout",
          "output_type": "stream",
          "text": [
            "[[-7.993168]]\n"
          ]
        }
      ],
      "source": [
        "#expect something near -8. \n",
        "print(model.predict([10.0]))"
      ]
    },
    {
      "cell_type": "markdown",
      "metadata": {
        "id": "V-EfFty6_uKR"
      },
      "source": [
        "# Working with Images\n",
        "Dataset:\n",
        "This dataset is really common and used in a los of samples and tutorials. \n",
        "https://download.microsoft.com/download/3/E/1/3E1C3F21-ECDB-4869-8368-6DEBA77B919F/kagglecatsanddogs_5340.zip\n",
        "\n",
        "References: \n",
        "\n",
        "This is an amazing article, using Keras, but not with Tensorflow. I got a lot of information and inspiration from this articles. For sure that anyone able to follow this course can understand and get ideas. \n",
        "\n",
        "https://machinelearningmastery.com/how-to-develop-a-convolutional-neural-network-to-classify-photos-of-dogs-and-cats/\n",
        "\n",
        "Maybe the best introduction to Machine Learning with tensorflow is the list from Laurence Moroney available in youtube. I get a lot from the video number 5, to create this sample. \n",
        "https://www.youtube.com/watch?v=nq7_ZYJPWf0&t=5s\n",
        "\n",
        "\n",
        "As you can see all the aproches are similar, but not the same. Is easy to copy one model who works with the same dataset, but you must understand what are you doing and experiment by yourself. "
      ]
    },
    {
      "cell_type": "code",
      "execution_count": 41,
      "metadata": {
        "colab": {
          "base_uri": "https://localhost:8080/"
        },
        "id": "OvREzvxr5nSj",
        "outputId": "2a63a821-f2b2-494d-c6dc-a6e64c4ed9bd"
      },
      "outputs": [
        {
          "output_type": "stream",
          "name": "stdout",
          "text": [
            "2.8.0\n"
          ]
        }
      ],
      "source": [
        "#First step is import the libraries. \n",
        "import tensorflow as tf\n",
        "#Numpy is a lybrary that allow us to work with arrays. \n",
        "import numpy as np\n",
        "#keras is an open source neural networks lybrary writted in python that run's in varios frameworks, TensorFlow included. \n",
        "from tensorflow import keras\n",
        "from time import time\n",
        "\n",
        "print (tf.__version__)\n"
      ]
    },
    {
      "cell_type": "code",
      "execution_count": 2,
      "metadata": {
        "colab": {
          "base_uri": "https://localhost:8080/"
        },
        "id": "S91fBKeP_0Ng",
        "outputId": "45729bec-c0e2-420c-a115-bceb13083ed6"
      },
      "outputs": [
        {
          "output_type": "stream",
          "name": "stdout",
          "text": [
            "--2022-05-25 18:25:54--  https://download.microsoft.com/download/3/E/1/3E1C3F21-ECDB-4869-8368-6DEBA77B919F/kagglecatsanddogs_5340.zip\n",
            "Resolving download.microsoft.com (download.microsoft.com)... 88.221.40.237, 2a02:26f0:b200:3a0::e59, 2a02:26f0:b200:3aa::e59\n",
            "Connecting to download.microsoft.com (download.microsoft.com)|88.221.40.237|:443... connected.\n",
            "HTTP request sent, awaiting response... 200 OK\n",
            "Length: 824887076 (787M) [application/octet-stream]\n",
            "Saving to: ‘/tmp/catsvsdogs.zip’\n",
            "\n",
            "/tmp/catsvsdogs.zip 100%[===================>] 786.67M   145MB/s    in 5.5s    \n",
            "\n",
            "2022-05-25 18:26:00 (144 MB/s) - ‘/tmp/catsvsdogs.zip’ saved [824887076/824887076]\n",
            "\n"
          ]
        }
      ],
      "source": [
        "#obtain the data from microsoft.com\n",
        "#the same dataset is available in kaggle but with a different organization\n",
        "#https://www.kaggle.com/competitions/dogs-vs-cats/data\n",
        "\n",
        "!wget --no-check-certificate \\\n",
        "https://download.microsoft.com/download/3/E/1/3E1C3F21-ECDB-4869-8368-6DEBA77B919F/kagglecatsanddogs_5340.zip \\-O /tmp/catsvsdogs.zip\n",
        "\n"
      ]
    },
    {
      "cell_type": "code",
      "execution_count": 7,
      "metadata": {
        "id": "OkyG_WmaOJlP"
      },
      "outputs": [],
      "source": [
        "#unzip the data\n",
        "import zipfile\n",
        "cvr_zip_file = '/tmp/catsvsdogs.zip'\n",
        "zipmem = zipfile.ZipFile(cvr_zip_file)\n",
        "zipmem.extractall('/tmp/catsvsdogs')\n",
        "zipmem.close()\n",
        "\n"
      ]
    },
    {
      "cell_type": "code",
      "execution_count": 21,
      "metadata": {
        "id": "iUJmgc99vKD_"
      },
      "outputs": [],
      "source": [
        "#create the directory structure\n",
        "import os\n",
        "\n",
        "#we need a try block, because it fails when the directories already exist. \n",
        "try:\n",
        "  os.mkdir('/tmp/datacvd')\n",
        "  os.mkdir('/tmp/datacvd/train')\n",
        "  os.mkdir('/tmp/datacvd/validation')\n",
        "  os.mkdir('/tmp/datacvd/train/cats')\n",
        "  os.mkdir('/tmp/datacvd/train/dogs')\n",
        "  os.mkdir('/tmp/datacvd/validation/cats')\n",
        "  os.mkdir('/tmp/datacvd/validation/dogs')\n",
        "except:\n",
        "  pass"
      ]
    },
    {
      "cell_type": "code",
      "execution_count": 22,
      "metadata": {
        "colab": {
          "base_uri": "https://localhost:8080/"
        },
        "id": "VrAvPeb2zxce",
        "outputId": "c58244f3-aa56-40ef-9c7e-c0b7ebe9fc7a"
      },
      "outputs": [
        {
          "output_type": "stream",
          "name": "stdout",
          "text": [
            "2000\n",
            "10500\n",
            "2000\n",
            "10500\n"
          ]
        }
      ],
      "source": [
        "#we need 4 datasets, two for training the model and two for validate or test the model. \n",
        "#to classify the images in this dataset we can move it from their original directories to \n",
        "#a new ones with the correct structure. \n",
        "\n",
        "from shutil import copyfile\n",
        "\n",
        "#this array contents all the images to move/copy\n",
        "imagesCats=[]\n",
        "imagesDogs=[]\n",
        "\n",
        "for imagename in os.listdir('/tmp/catsvsdogs/PetImages/Cat/'):\n",
        "  imageCat = '/tmp/catsvsdogs/PetImages/Cat/' + imagename\n",
        "  if (os.path.getsize(imageCat)) > 0:\n",
        "    imagesCats.append(imagename)\n",
        "\n",
        "\n",
        "for imagename in os.listdir('/tmp/catsvsdogs/PetImages/Dog/'):\n",
        "  if (counterImage > maxImages):\n",
        "    break\n",
        "  imageDog = '/tmp/catsvsdogs/PetImages/Dog/' + imagename\n",
        "  if (os.path.getsize(imageDog)) > 0:\n",
        "    imagesDogs.append(imagename)\n",
        "\n",
        "\n",
        "\n",
        "\n",
        "counterImage = 0\n",
        "for imagename in imagesCats:\n",
        "  if  counterImage < 2000:\n",
        "    copyfile('/tmp/catsvsdogs/PetImages/Cat/' + imagename, '/tmp/datacvd/validation/cats/'+imagename)\n",
        "  else:\n",
        "    copyfile('/tmp/catsvsdogs/PetImages/Cat/' + imagename, '/tmp/datacvd/train/cats/'+imagename)\n",
        "  counterImage +=1\n",
        "\n",
        "counterImage = 0\n",
        "for imagename in imagesDogs:\n",
        "  if  counterImage < 2000:\n",
        "    copyfile('/tmp/catsvsdogs/PetImages/Dog/' + imagename, '/tmp/datacvd/validation/dogs/'+imagename)\n",
        "  else:\n",
        "    copyfile('/tmp/catsvsdogs/PetImages/Dog/' + imagename, '/tmp/datacvd/train/dogs/'+imagename)\n",
        "  counterImage +=1\n",
        "\n",
        "print(len(os.listdir('/tmp/datacvd/validation/dogs/')))\n",
        "print(len(os.listdir('/tmp/datacvd/train/dogs/')))\n",
        "print(len(os.listdir('/tmp/datacvd/validation/cats/')))\n",
        "print(len(os.listdir('/tmp/datacvd/train/cats/')))\n"
      ]
    },
    {
      "cell_type": "code",
      "execution_count": 23,
      "metadata": {
        "id": "4IjdNUfPbPsQ"
      },
      "outputs": [],
      "source": [
        "#create the model\n",
        "#it's a minimal model for images, with just an Convolutionatl layer and a MaxPooling layer\n",
        "model = tf.keras.models.Sequential([\n",
        "  tf.keras.layers.Conv2D(16, (4,4), activation=\"relu\", input_shape=(150, 150, 3)),\n",
        "  tf.keras.layers.MaxPooling2D(2,2),  \n",
        "  tf.keras.layers.Flatten(), \n",
        "  tf.keras.layers.Dense(128, activation=\"relu\"), \n",
        "  tf.keras.layers.Dense(1, activation=\"sigmoid\")\n",
        "])\n"
      ]
    },
    {
      "cell_type": "code",
      "execution_count": 24,
      "metadata": {
        "colab": {
          "base_uri": "https://localhost:8080/"
        },
        "id": "IKQXXxUzefcZ",
        "outputId": "c7455c6d-3083-4343-ef37-d9a2ebe9c8a4"
      },
      "outputs": [
        {
          "output_type": "stream",
          "name": "stdout",
          "text": [
            "Model: \"sequential_2\"\n",
            "_________________________________________________________________\n",
            " Layer (type)                Output Shape              Param #   \n",
            "=================================================================\n",
            " conv2d_4 (Conv2D)           (None, 147, 147, 16)      784       \n",
            "                                                                 \n",
            " max_pooling2d_4 (MaxPooling  (None, 73, 73, 16)       0         \n",
            " 2D)                                                             \n",
            "                                                                 \n",
            " flatten_2 (Flatten)         (None, 85264)             0         \n",
            "                                                                 \n",
            " dense_4 (Dense)             (None, 128)               10913920  \n",
            "                                                                 \n",
            " dense_5 (Dense)             (None, 1)                 129       \n",
            "                                                                 \n",
            "=================================================================\n",
            "Total params: 10,914,833\n",
            "Trainable params: 10,914,833\n",
            "Non-trainable params: 0\n",
            "_________________________________________________________________\n"
          ]
        }
      ],
      "source": [
        "model.summary()"
      ]
    },
    {
      "cell_type": "code",
      "execution_count": 25,
      "metadata": {
        "id": "9lU68GaYeo8h"
      },
      "outputs": [],
      "source": [
        " #create the model\n",
        "#a model with more convutionals and Pooling layers obtains leess parameters. \n",
        "model2 = tf.keras.models.Sequential([\n",
        "  tf.keras.layers.Conv2D(16, (4,4), activation=\"relu\", input_shape=(150, 150, 3)),\n",
        "  tf.keras.layers.MaxPooling2D(2,2),  \n",
        "  tf.keras.layers.Conv2D(32, (4,4), activation=\"relu\"),\n",
        "  tf.keras.layers.MaxPooling2D(2,2),  \n",
        "  tf.keras.layers.Conv2D(64, (4,4), activation=\"relu\"),\n",
        "  tf.keras.layers.MaxPooling2D(2,2),  \n",
        "  tf.keras.layers.Flatten(), \n",
        "  tf.keras.layers.Dense(512, activation=\"relu\"), \n",
        "  tf.keras.layers.Dense(1, activation=\"sigmoid\")\n",
        "])"
      ]
    },
    {
      "cell_type": "code",
      "execution_count": 26,
      "metadata": {
        "colab": {
          "base_uri": "https://localhost:8080/"
        },
        "id": "ygmXqTe_e3Tx",
        "outputId": "fa4989b2-4843-4d34-8f76-cdc04b28a4ad"
      },
      "outputs": [
        {
          "output_type": "stream",
          "name": "stdout",
          "text": [
            "Model: \"sequential_3\"\n",
            "_________________________________________________________________\n",
            " Layer (type)                Output Shape              Param #   \n",
            "=================================================================\n",
            " conv2d_5 (Conv2D)           (None, 147, 147, 16)      784       \n",
            "                                                                 \n",
            " max_pooling2d_5 (MaxPooling  (None, 73, 73, 16)       0         \n",
            " 2D)                                                             \n",
            "                                                                 \n",
            " conv2d_6 (Conv2D)           (None, 70, 70, 32)        8224      \n",
            "                                                                 \n",
            " max_pooling2d_6 (MaxPooling  (None, 35, 35, 32)       0         \n",
            " 2D)                                                             \n",
            "                                                                 \n",
            " conv2d_7 (Conv2D)           (None, 32, 32, 64)        32832     \n",
            "                                                                 \n",
            " max_pooling2d_7 (MaxPooling  (None, 16, 16, 64)       0         \n",
            " 2D)                                                             \n",
            "                                                                 \n",
            " flatten_3 (Flatten)         (None, 16384)             0         \n",
            "                                                                 \n",
            " dense_6 (Dense)             (None, 512)               8389120   \n",
            "                                                                 \n",
            " dense_7 (Dense)             (None, 1)                 513       \n",
            "                                                                 \n",
            "=================================================================\n",
            "Total params: 8,431,473\n",
            "Trainable params: 8,431,473\n",
            "Non-trainable params: 0\n",
            "_________________________________________________________________\n"
          ]
        }
      ],
      "source": [
        "model2.summary()"
      ]
    },
    {
      "cell_type": "code",
      "execution_count": 27,
      "metadata": {
        "id": "Wf3hcRN8e6sb"
      },
      "outputs": [],
      "source": [
        "#compile models \n",
        "from tensorflow.keras.optimizers import RMSprop\n",
        "#binary_crossentropy is a loss function that works really weel with binary clasifications. \n",
        "model.compile(loss=\"binary_crossentropy\", \n",
        "              optimizer=RMSprop(learning_rate=0.001), \n",
        "              metrics=['accuracy'])\n",
        "model2.compile(loss=\"binary_crossentropy\", \n",
        "              optimizer=RMSprop(learning_rate=0.001), \n",
        "              metrics=['accuracy'])"
      ]
    },
    {
      "cell_type": "code",
      "execution_count": 28,
      "metadata": {
        "colab": {
          "base_uri": "https://localhost:8080/"
        },
        "id": "gxgcfWQugXoH",
        "outputId": "457c87e4-735f-448b-bc7c-a783f16a9561"
      },
      "outputs": [
        {
          "output_type": "stream",
          "name": "stdout",
          "text": [
            "Found 20998 images belonging to 2 classes.\n",
            "Found 4000 images belonging to 2 classes.\n"
          ]
        }
      ],
      "source": [
        "#preparing the images\n",
        "from tensorflow.keras.preprocessing.image import ImageDataGenerator\n",
        "#TRAIN Dataset\n",
        "#Normalize the images\n",
        "train_idg = ImageDataGenerator(rescale=1/255)\n",
        "train_data = train_idg.flow_from_directory(\n",
        "    '/tmp/datacvd/train', \n",
        "    target_size = (150, 150), \n",
        "    batch_size = 105, \n",
        "    class_mode='binary'\n",
        ")\n",
        "#VALIDATION Dataset\n",
        "val_idg = ImageDataGenerator(rescale=1/255)\n",
        "val_data = val_idg.flow_from_directory(\n",
        "    '/tmp/datacvd/validation', \n",
        "    target_size = (150, 150), \n",
        "    batch_size = 100, \n",
        "    class_mode='binary'\n",
        ")"
      ]
    },
    {
      "cell_type": "code",
      "execution_count": 29,
      "metadata": {
        "colab": {
          "base_uri": "https://localhost:8080/"
        },
        "id": "pgLBJic-m2Gz",
        "outputId": "0454ea13-6692-438a-d7ca-513719108078"
      },
      "outputs": [
        {
          "output_type": "stream",
          "name": "stdout",
          "text": [
            "Epoch 1/15\n",
            "100/100 [==============================] - 36s 351ms/step - loss: 1.3770 - accuracy: 0.5859 - val_loss: 0.8535 - val_accuracy: 0.5300\n",
            "Epoch 2/15\n",
            "100/100 [==============================] - ETA: 0s - loss: 0.6053 - accuracy: 0.6879"
          ]
        },
        {
          "output_type": "stream",
          "name": "stderr",
          "text": [
            "/usr/local/lib/python3.7/dist-packages/PIL/TiffImagePlugin.py:770: UserWarning: Possibly corrupt EXIF data.  Expecting to read 32 bytes but only got 0. Skipping tag 270\n",
            "  \" Skipping tag %s\" % (size, len(data), tag)\n",
            "/usr/local/lib/python3.7/dist-packages/PIL/TiffImagePlugin.py:770: UserWarning: Possibly corrupt EXIF data.  Expecting to read 5 bytes but only got 0. Skipping tag 271\n",
            "  \" Skipping tag %s\" % (size, len(data), tag)\n",
            "/usr/local/lib/python3.7/dist-packages/PIL/TiffImagePlugin.py:770: UserWarning: Possibly corrupt EXIF data.  Expecting to read 8 bytes but only got 0. Skipping tag 272\n",
            "  \" Skipping tag %s\" % (size, len(data), tag)\n",
            "/usr/local/lib/python3.7/dist-packages/PIL/TiffImagePlugin.py:770: UserWarning: Possibly corrupt EXIF data.  Expecting to read 8 bytes but only got 0. Skipping tag 282\n",
            "  \" Skipping tag %s\" % (size, len(data), tag)\n",
            "/usr/local/lib/python3.7/dist-packages/PIL/TiffImagePlugin.py:770: UserWarning: Possibly corrupt EXIF data.  Expecting to read 8 bytes but only got 0. Skipping tag 283\n",
            "  \" Skipping tag %s\" % (size, len(data), tag)\n",
            "/usr/local/lib/python3.7/dist-packages/PIL/TiffImagePlugin.py:770: UserWarning: Possibly corrupt EXIF data.  Expecting to read 20 bytes but only got 0. Skipping tag 306\n",
            "  \" Skipping tag %s\" % (size, len(data), tag)\n",
            "/usr/local/lib/python3.7/dist-packages/PIL/TiffImagePlugin.py:770: UserWarning: Possibly corrupt EXIF data.  Expecting to read 48 bytes but only got 0. Skipping tag 532\n",
            "  \" Skipping tag %s\" % (size, len(data), tag)\n",
            "/usr/local/lib/python3.7/dist-packages/PIL/TiffImagePlugin.py:788: UserWarning: Corrupt EXIF data.  Expecting to read 2 bytes but only got 0. \n",
            "  warnings.warn(str(msg))\n"
          ]
        },
        {
          "output_type": "stream",
          "name": "stdout",
          "text": [
            "\b\b\b\b\b\b\b\b\b\b\b\b\b\b\b\b\b\b\b\b\b\b\b\b\b\b\b\b\b\b\b\b\b\b\b\b\b\b\b\b\b\b\b\b\b\b\b\b\b\b\b\b\b\b\b\b\b\b\b\b\b\b\b\b\b\b\b\b\b\b\b\b\b\b\b\b\b\b\b\b\b\b\b\b\r100/100 [==============================] - 35s 345ms/step - loss: 0.6053 - accuracy: 0.6879 - val_loss: 0.6763 - val_accuracy: 0.6475\n",
            "Epoch 3/15\n",
            "100/100 [==============================] - 35s 346ms/step - loss: 0.5378 - accuracy: 0.7403 - val_loss: 0.5536 - val_accuracy: 0.7255\n",
            "Epoch 4/15\n",
            "100/100 [==============================] - 34s 344ms/step - loss: 0.4641 - accuracy: 0.7893 - val_loss: 0.5787 - val_accuracy: 0.7285\n",
            "Epoch 5/15\n",
            "100/100 [==============================] - 35s 346ms/step - loss: 0.4170 - accuracy: 0.8137 - val_loss: 0.5722 - val_accuracy: 0.7225\n",
            "Epoch 6/15\n",
            "100/100 [==============================] - 35s 347ms/step - loss: 0.3583 - accuracy: 0.8517 - val_loss: 0.6730 - val_accuracy: 0.7000\n",
            "Epoch 7/15\n",
            "100/100 [==============================] - 35s 348ms/step - loss: 0.3145 - accuracy: 0.8739 - val_loss: 0.6003 - val_accuracy: 0.7315\n",
            "Epoch 8/15\n",
            "100/100 [==============================] - 35s 346ms/step - loss: 0.2594 - accuracy: 0.9007 - val_loss: 0.6679 - val_accuracy: 0.7290\n",
            "Epoch 9/15\n",
            "100/100 [==============================] - 35s 345ms/step - loss: 0.2050 - accuracy: 0.9264 - val_loss: 0.7498 - val_accuracy: 0.7270\n",
            "Epoch 10/15\n",
            "100/100 [==============================] - 34s 344ms/step - loss: 0.1770 - accuracy: 0.9418 - val_loss: 0.7094 - val_accuracy: 0.7260\n",
            "Epoch 11/15\n",
            "100/100 [==============================] - 34s 341ms/step - loss: 0.1526 - accuracy: 0.9520 - val_loss: 0.8057 - val_accuracy: 0.7315\n",
            "Epoch 12/15\n",
            "100/100 [==============================] - 34s 343ms/step - loss: 0.1494 - accuracy: 0.9521 - val_loss: 1.0934 - val_accuracy: 0.6980\n",
            "Epoch 13/15\n",
            "100/100 [==============================] - 34s 344ms/step - loss: 0.0969 - accuracy: 0.9713 - val_loss: 1.2354 - val_accuracy: 0.6870\n",
            "Epoch 14/15\n",
            "100/100 [==============================] - 34s 343ms/step - loss: 0.0785 - accuracy: 0.9753 - val_loss: 0.9273 - val_accuracy: 0.7330\n",
            "Epoch 15/15\n",
            "100/100 [==============================] - 34s 341ms/step - loss: 0.0922 - accuracy: 0.9777 - val_loss: 0.9299 - val_accuracy: 0.7175\n"
          ]
        }
      ],
      "source": [
        "#Training the model\n",
        "#epochs * steps_per_epoch * batch_size\n",
        "\n",
        "history = model.fit(\n",
        "     train_data,\n",
        "     validation_data = val_data, \n",
        "     epochs=15,\n",
        "     steps_per_epoch=100,\n",
        "     validation_steps=20,\n",
        "     verbose=1)"
      ]
    },
    {
      "cell_type": "code",
      "execution_count": 30,
      "metadata": {
        "colab": {
          "base_uri": "https://localhost:8080/"
        },
        "id": "gkzjM_j-nGj0",
        "outputId": "44901d5c-12a5-4543-b213-e963d691a0d1"
      },
      "outputs": [
        {
          "output_type": "stream",
          "name": "stdout",
          "text": [
            "Epoch 1/15\n",
            "100/100 [==============================] - 37s 366ms/step - loss: 0.7873 - accuracy: 0.5530 - val_loss: 0.6664 - val_accuracy: 0.6100\n",
            "Epoch 2/15\n",
            "100/100 [==============================] - 35s 349ms/step - loss: 0.6450 - accuracy: 0.6413 - val_loss: 0.5710 - val_accuracy: 0.7005\n",
            "Epoch 3/15\n",
            "100/100 [==============================] - ETA: 0s - loss: 0.5687 - accuracy: 0.7036"
          ]
        },
        {
          "output_type": "stream",
          "name": "stderr",
          "text": [
            "/usr/local/lib/python3.7/dist-packages/PIL/TiffImagePlugin.py:770: UserWarning: Possibly corrupt EXIF data.  Expecting to read 32 bytes but only got 0. Skipping tag 270\n",
            "  \" Skipping tag %s\" % (size, len(data), tag)\n",
            "/usr/local/lib/python3.7/dist-packages/PIL/TiffImagePlugin.py:770: UserWarning: Possibly corrupt EXIF data.  Expecting to read 5 bytes but only got 0. Skipping tag 271\n",
            "  \" Skipping tag %s\" % (size, len(data), tag)\n",
            "/usr/local/lib/python3.7/dist-packages/PIL/TiffImagePlugin.py:770: UserWarning: Possibly corrupt EXIF data.  Expecting to read 8 bytes but only got 0. Skipping tag 272\n",
            "  \" Skipping tag %s\" % (size, len(data), tag)\n",
            "/usr/local/lib/python3.7/dist-packages/PIL/TiffImagePlugin.py:770: UserWarning: Possibly corrupt EXIF data.  Expecting to read 8 bytes but only got 0. Skipping tag 282\n",
            "  \" Skipping tag %s\" % (size, len(data), tag)\n",
            "/usr/local/lib/python3.7/dist-packages/PIL/TiffImagePlugin.py:770: UserWarning: Possibly corrupt EXIF data.  Expecting to read 8 bytes but only got 0. Skipping tag 283\n",
            "  \" Skipping tag %s\" % (size, len(data), tag)\n",
            "/usr/local/lib/python3.7/dist-packages/PIL/TiffImagePlugin.py:770: UserWarning: Possibly corrupt EXIF data.  Expecting to read 20 bytes but only got 0. Skipping tag 306\n",
            "  \" Skipping tag %s\" % (size, len(data), tag)\n",
            "/usr/local/lib/python3.7/dist-packages/PIL/TiffImagePlugin.py:770: UserWarning: Possibly corrupt EXIF data.  Expecting to read 48 bytes but only got 0. Skipping tag 532\n",
            "  \" Skipping tag %s\" % (size, len(data), tag)\n",
            "/usr/local/lib/python3.7/dist-packages/PIL/TiffImagePlugin.py:788: UserWarning: Corrupt EXIF data.  Expecting to read 2 bytes but only got 0. \n",
            "  warnings.warn(str(msg))\n"
          ]
        },
        {
          "output_type": "stream",
          "name": "stdout",
          "text": [
            "\b\b\b\b\b\b\b\b\b\b\b\b\b\b\b\b\b\b\b\b\b\b\b\b\b\b\b\b\b\b\b\b\b\b\b\b\b\b\b\b\b\b\b\b\b\b\b\b\b\b\b\b\b\b\b\b\b\b\b\b\b\b\b\b\b\b\b\b\b\b\b\b\b\b\b\b\b\b\b\b\b\b\b\b\r100/100 [==============================] - 35s 348ms/step - loss: 0.5687 - accuracy: 0.7036 - val_loss: 0.4892 - val_accuracy: 0.7665\n",
            "Epoch 4/15\n",
            "100/100 [==============================] - 35s 348ms/step - loss: 0.5172 - accuracy: 0.7423 - val_loss: 0.5476 - val_accuracy: 0.7315\n",
            "Epoch 5/15\n",
            "100/100 [==============================] - 35s 349ms/step - loss: 0.4757 - accuracy: 0.7765 - val_loss: 0.4912 - val_accuracy: 0.7665\n",
            "Epoch 6/15\n",
            "100/100 [==============================] - 34s 344ms/step - loss: 0.4498 - accuracy: 0.7895 - val_loss: 0.4667 - val_accuracy: 0.7915\n",
            "Epoch 7/15\n",
            "100/100 [==============================] - 35s 351ms/step - loss: 0.4078 - accuracy: 0.8127 - val_loss: 0.4365 - val_accuracy: 0.7955\n",
            "Epoch 8/15\n",
            "100/100 [==============================] - 35s 348ms/step - loss: 0.3758 - accuracy: 0.8302 - val_loss: 0.5917 - val_accuracy: 0.7295\n",
            "Epoch 9/15\n",
            "100/100 [==============================] - 35s 348ms/step - loss: 0.3395 - accuracy: 0.8510 - val_loss: 0.5623 - val_accuracy: 0.7785\n",
            "Epoch 10/15\n",
            "100/100 [==============================] - 35s 350ms/step - loss: 0.2954 - accuracy: 0.8716 - val_loss: 0.5067 - val_accuracy: 0.7950\n",
            "Epoch 11/15\n",
            "100/100 [==============================] - 35s 352ms/step - loss: 0.2665 - accuracy: 0.8892 - val_loss: 0.4841 - val_accuracy: 0.7950\n",
            "Epoch 12/15\n",
            "100/100 [==============================] - 35s 348ms/step - loss: 0.2263 - accuracy: 0.9115 - val_loss: 0.8071 - val_accuracy: 0.6680\n",
            "Epoch 13/15\n",
            "100/100 [==============================] - 35s 349ms/step - loss: 0.2036 - accuracy: 0.9203 - val_loss: 0.4774 - val_accuracy: 0.8245\n",
            "Epoch 14/15\n",
            "100/100 [==============================] - 35s 346ms/step - loss: 0.1640 - accuracy: 0.9373 - val_loss: 0.5001 - val_accuracy: 0.8330\n",
            "Epoch 15/15\n",
            "100/100 [==============================] - 35s 348ms/step - loss: 0.1394 - accuracy: 0.9490 - val_loss: 0.5752 - val_accuracy: 0.8275\n"
          ]
        }
      ],
      "source": [
        "#Trianing the model2\n",
        "history2 = model2.fit(\n",
        "     train_data,\n",
        "     validation_data = val_data, \n",
        "     epochs=15,\n",
        "     steps_per_epoch=100,\n",
        "     validation_steps=20,\n",
        "     verbose=1)"
      ]
    },
    {
      "cell_type": "code",
      "execution_count": 31,
      "metadata": {
        "colab": {
          "base_uri": "https://localhost:8080/",
          "height": 1000
        },
        "id": "JNviBnsWtnVb",
        "outputId": "a90c1c90-4eb7-4212-f366-138c06fe59d3"
      },
      "outputs": [
        {
          "output_type": "execute_result",
          "data": {
            "text/plain": [
              "<Figure size 432x288 with 0 Axes>"
            ]
          },
          "metadata": {},
          "execution_count": 31
        },
        {
          "output_type": "display_data",
          "data": {
            "text/plain": [
              "<Figure size 432x288 with 1 Axes>"
            ],
            "image/png": "[encoded data removed]"
          },
          "metadata": {
            "needs_background": "light"
          }
        },
        {
          "output_type": "display_data",
          "data": {
            "text/plain": [
              "<Figure size 432x288 with 1 Axes>"
            ],
            "image/png": "[encoded data removed]"
          },
          "metadata": {
            "needs_background": "light"
          }
        },
        {
          "output_type": "display_data",
          "data": {
            "text/plain": [
              "<Figure size 432x288 with 1 Axes>"
            ],
            "image/png": "[encoded data removed]"
          },
          "metadata": {
            "needs_background": "light"
          }
        },
        {
          "output_type": "display_data",
          "data": {
            "text/plain": [
              "<Figure size 432x288 with 1 Axes>"
            ],
            "image/png": "[encoded data removed]"
          },
          "metadata": {
            "needs_background": "light"
          }
        },
        {
          "output_type": "display_data",
          "data": {
            "text/plain": [
              "<Figure size 432x288 with 0 Axes>"
            ]
          },
          "metadata": {}
        }
      ],
      "source": [
        "%matplotlib inline\n",
        " \n",
        "import matplotlib.image  as mpimg\n",
        "import matplotlib.pyplot as plt\n",
        "\n",
        "acc=history.history['accuracy']\n",
        "val_acc=history.history['val_accuracy']\n",
        "loss=history.history['loss']\n",
        "val_loss=history.history['val_loss']\n",
        "\n",
        "acc2=history2.history['accuracy']\n",
        "val_acc2=history2.history['val_accuracy']\n",
        "loss2=history2.history['loss']\n",
        "val_loss2=history2.history['val_loss']\n",
        " \n",
        "epochs=range(len(acc)) # Get number of epochs\n",
        "\n",
        "plt.plot(epochs, acc, 'r', \"Training Accuracy\")\n",
        "plt.plot(epochs, val_acc, 'b', \"Validation Accuracy\")\n",
        "plt.title('Model1: Training and validation accuracy')\n",
        "plt.figure()\n",
        "\n",
        "\n",
        "plt.plot(epochs, loss, 'r', \"Training Loss\")\n",
        "plt.plot(epochs, val_loss, 'b', \"Validation Loss\")\n",
        "plt.figure()\n",
        "\n",
        "plt.plot(epochs, acc2, 'r', \"Training Accuracy\")\n",
        "plt.plot(epochs, val_acc2, 'b', \"Validation Accuracy\")\n",
        "plt.title('Model2: Training and validation accuracy')\n",
        "plt.figure()\n",
        "\n",
        "\n",
        "plt.plot(epochs, loss2, 'r', \"Training Loss\")\n",
        "plt.plot(epochs, val_loss2, 'b', \"Validation Loss\")\n",
        "plt.figure()\n",
        "\n"
      ]
    },
    {
      "cell_type": "markdown",
      "metadata": {
        "id": "AUpHU6tfprGQ"
      },
      "source": [
        "## Solve OVERFITTING with Image Augmentation\n",
        "Image augmentation add variations to the images reducing the overfitting. \n",
        "\n",
        "\n",
        "\n"
      ]
    },
    {
      "cell_type": "code",
      "execution_count": 32,
      "metadata": {
        "colab": {
          "base_uri": "https://localhost:8080/"
        },
        "id": "X4WfEZ6gpq1I",
        "outputId": "883aec4a-dd89-4d65-eb72-31c0f6ba7653"
      },
      "outputs": [
        {
          "output_type": "stream",
          "name": "stdout",
          "text": [
            "Found 20998 images belonging to 2 classes.\n",
            "Found 4000 images belonging to 2 classes.\n"
          ]
        }
      ],
      "source": [
        "#preparing the images but using random movements to obtain images from \n",
        "#image augmentation applied only to train data generator. \n",
        "\n",
        "from tensorflow.keras.preprocessing.image import ImageDataGenerator\n",
        "#TRAIN Dataset\n",
        "#Normalize the images\n",
        "train_idg = ImageDataGenerator(rescale=1/255, \n",
        "                               rotation_range=20, \n",
        "                               width_shift_range=0.1, \n",
        "                               height_shift_range=0.1, \n",
        "                               shear_range=0.2, \n",
        "                               zoom_range=0.1, \n",
        "                               horizontal_flip=True)\n",
        "train_data = train_idg.flow_from_directory(\n",
        "    '/tmp/datacvd/train', \n",
        "    target_size = (150, 150), \n",
        "    batch_size = 105, \n",
        "    class_mode='binary'\n",
        ")\n",
        "#VALIDATION Dataset\n",
        "val_idg = ImageDataGenerator(rescale=1/255)\n",
        "val_data = val_idg.flow_from_directory(\n",
        "    '/tmp/datacvd/validation', \n",
        "    target_size = (150, 150), \n",
        "    batch_size = 100, \n",
        "    class_mode='binary'\n",
        ")"
      ]
    },
    {
      "cell_type": "code",
      "execution_count": 33,
      "metadata": {
        "colab": {
          "base_uri": "https://localhost:8080/"
        },
        "id": "u3sRQBeC1Ao4",
        "outputId": "0676f2ae-60bc-4935-cd8f-ee53739c4448"
      },
      "outputs": [
        {
          "output_type": "stream",
          "name": "stdout",
          "text": [
            "Epoch 1/15\n",
            "100/100 [==============================] - ETA: 0s - loss: 0.6228 - accuracy: 0.6876"
          ]
        },
        {
          "output_type": "stream",
          "name": "stderr",
          "text": [
            "/usr/local/lib/python3.7/dist-packages/PIL/TiffImagePlugin.py:770: UserWarning: Possibly corrupt EXIF data.  Expecting to read 32 bytes but only got 0. Skipping tag 270\n",
            "  \" Skipping tag %s\" % (size, len(data), tag)\n",
            "/usr/local/lib/python3.7/dist-packages/PIL/TiffImagePlugin.py:770: UserWarning: Possibly corrupt EXIF data.  Expecting to read 5 bytes but only got 0. Skipping tag 271\n",
            "  \" Skipping tag %s\" % (size, len(data), tag)\n",
            "/usr/local/lib/python3.7/dist-packages/PIL/TiffImagePlugin.py:770: UserWarning: Possibly corrupt EXIF data.  Expecting to read 8 bytes but only got 0. Skipping tag 272\n",
            "  \" Skipping tag %s\" % (size, len(data), tag)\n",
            "/usr/local/lib/python3.7/dist-packages/PIL/TiffImagePlugin.py:770: UserWarning: Possibly corrupt EXIF data.  Expecting to read 8 bytes but only got 0. Skipping tag 282\n",
            "  \" Skipping tag %s\" % (size, len(data), tag)\n",
            "/usr/local/lib/python3.7/dist-packages/PIL/TiffImagePlugin.py:770: UserWarning: Possibly corrupt EXIF data.  Expecting to read 8 bytes but only got 0. Skipping tag 283\n",
            "  \" Skipping tag %s\" % (size, len(data), tag)\n",
            "/usr/local/lib/python3.7/dist-packages/PIL/TiffImagePlugin.py:770: UserWarning: Possibly corrupt EXIF data.  Expecting to read 20 bytes but only got 0. Skipping tag 306\n",
            "  \" Skipping tag %s\" % (size, len(data), tag)\n",
            "/usr/local/lib/python3.7/dist-packages/PIL/TiffImagePlugin.py:770: UserWarning: Possibly corrupt EXIF data.  Expecting to read 48 bytes but only got 0. Skipping tag 532\n",
            "  \" Skipping tag %s\" % (size, len(data), tag)\n",
            "/usr/local/lib/python3.7/dist-packages/PIL/TiffImagePlugin.py:788: UserWarning: Corrupt EXIF data.  Expecting to read 2 bytes but only got 0. \n",
            "  warnings.warn(str(msg))\n"
          ]
        },
        {
          "output_type": "stream",
          "name": "stdout",
          "text": [
            "\b\b\b\b\b\b\b\b\b\b\b\b\b\b\b\b\b\b\b\b\b\b\b\b\b\b\b\b\b\b\b\b\b\b\b\b\b\b\b\b\b\b\b\b\b\b\b\b\b\b\b\b\b\b\b\b\b\b\b\b\b\b\b\b\b\b\b\b\b\b\b\b\b\b\b\b\b\b\b\b\b\b\b\b\r100/100 [==============================] - 77s 774ms/step - loss: 0.6228 - accuracy: 0.6876 - val_loss: 0.6402 - val_accuracy: 0.6775\n",
            "Epoch 2/15\n",
            "100/100 [==============================] - 76s 765ms/step - loss: 0.5700 - accuracy: 0.7138 - val_loss: 0.5122 - val_accuracy: 0.7555\n",
            "Epoch 3/15\n",
            "100/100 [==============================] - 77s 769ms/step - loss: 0.5747 - accuracy: 0.7130 - val_loss: 0.5145 - val_accuracy: 0.7560\n",
            "Epoch 4/15\n",
            "100/100 [==============================] - 77s 767ms/step - loss: 0.5618 - accuracy: 0.7168 - val_loss: 0.5328 - val_accuracy: 0.7525\n",
            "Epoch 5/15\n",
            "100/100 [==============================] - 77s 769ms/step - loss: 0.5557 - accuracy: 0.7261 - val_loss: 0.5350 - val_accuracy: 0.7465\n",
            "Epoch 6/15\n",
            "100/100 [==============================] - 77s 769ms/step - loss: 0.5492 - accuracy: 0.7302 - val_loss: 0.5754 - val_accuracy: 0.7110\n",
            "Epoch 7/15\n",
            "100/100 [==============================] - 77s 767ms/step - loss: 0.5563 - accuracy: 0.7268 - val_loss: 0.4946 - val_accuracy: 0.7685\n",
            "Epoch 8/15\n",
            "100/100 [==============================] - 77s 768ms/step - loss: 0.5619 - accuracy: 0.7219 - val_loss: 0.5407 - val_accuracy: 0.7455\n",
            "Epoch 9/15\n",
            "100/100 [==============================] - 77s 772ms/step - loss: 0.5413 - accuracy: 0.7343 - val_loss: 0.5208 - val_accuracy: 0.7450\n",
            "Epoch 10/15\n",
            "100/100 [==============================] - 77s 773ms/step - loss: 0.5460 - accuracy: 0.7295 - val_loss: 0.5256 - val_accuracy: 0.7540\n",
            "Epoch 11/15\n",
            "100/100 [==============================] - 77s 769ms/step - loss: 0.5324 - accuracy: 0.7345 - val_loss: 0.5449 - val_accuracy: 0.7535\n",
            "Epoch 12/15\n",
            "100/100 [==============================] - 77s 766ms/step - loss: 0.5355 - accuracy: 0.7357 - val_loss: 0.4869 - val_accuracy: 0.7430\n",
            "Epoch 13/15\n",
            "100/100 [==============================] - 77s 767ms/step - loss: 0.5303 - accuracy: 0.7393 - val_loss: 0.5491 - val_accuracy: 0.7390\n",
            "Epoch 14/15\n",
            "100/100 [==============================] - 76s 763ms/step - loss: 0.5353 - accuracy: 0.7413 - val_loss: 0.5081 - val_accuracy: 0.7495\n",
            "Epoch 15/15\n",
            "100/100 [==============================] - 76s 764ms/step - loss: 0.5352 - accuracy: 0.7410 - val_loss: 0.5271 - val_accuracy: 0.7605\n"
          ]
        }
      ],
      "source": [
        "#Training the model\n",
        "#with the new imagegenerator\n",
        "\n",
        "history = model.fit(\n",
        "     train_data,\n",
        "     validation_data = val_data, \n",
        "     epochs=15,\n",
        "     steps_per_epoch=100,\n",
        "     validation_steps=20,\n",
        "     verbose=1)"
      ]
    },
    {
      "cell_type": "code",
      "source": [
        "#Trianing the model2\n",
        "history2 = model2.fit(\n",
        "     train_data,\n",
        "     validation_data = val_data, \n",
        "     epochs=15,\n",
        "     steps_per_epoch=100,\n",
        "     validation_steps=20,\n",
        "     verbose=1)"
      ],
      "metadata": {
        "colab": {
          "base_uri": "https://localhost:8080/"
        },
        "id": "XWTnrtunwOKD",
        "outputId": "4ffe6fb1-c36a-4b6f-e164-a63e8ad2f098"
      },
      "execution_count": 35,
      "outputs": [
        {
          "output_type": "stream",
          "name": "stdout",
          "text": [
            "Epoch 1/15\n",
            "100/100 [==============================] - ETA: 0s - loss: 0.4951 - accuracy: 0.7716"
          ]
        },
        {
          "output_type": "stream",
          "name": "stderr",
          "text": [
            "/usr/local/lib/python3.7/dist-packages/PIL/TiffImagePlugin.py:770: UserWarning: Possibly corrupt EXIF data.  Expecting to read 32 bytes but only got 0. Skipping tag 270\n",
            "  \" Skipping tag %s\" % (size, len(data), tag)\n",
            "/usr/local/lib/python3.7/dist-packages/PIL/TiffImagePlugin.py:770: UserWarning: Possibly corrupt EXIF data.  Expecting to read 5 bytes but only got 0. Skipping tag 271\n",
            "  \" Skipping tag %s\" % (size, len(data), tag)\n",
            "/usr/local/lib/python3.7/dist-packages/PIL/TiffImagePlugin.py:770: UserWarning: Possibly corrupt EXIF data.  Expecting to read 8 bytes but only got 0. Skipping tag 272\n",
            "  \" Skipping tag %s\" % (size, len(data), tag)\n",
            "/usr/local/lib/python3.7/dist-packages/PIL/TiffImagePlugin.py:770: UserWarning: Possibly corrupt EXIF data.  Expecting to read 8 bytes but only got 0. Skipping tag 282\n",
            "  \" Skipping tag %s\" % (size, len(data), tag)\n",
            "/usr/local/lib/python3.7/dist-packages/PIL/TiffImagePlugin.py:770: UserWarning: Possibly corrupt EXIF data.  Expecting to read 8 bytes but only got 0. Skipping tag 283\n",
            "  \" Skipping tag %s\" % (size, len(data), tag)\n",
            "/usr/local/lib/python3.7/dist-packages/PIL/TiffImagePlugin.py:770: UserWarning: Possibly corrupt EXIF data.  Expecting to read 20 bytes but only got 0. Skipping tag 306\n",
            "  \" Skipping tag %s\" % (size, len(data), tag)\n",
            "/usr/local/lib/python3.7/dist-packages/PIL/TiffImagePlugin.py:770: UserWarning: Possibly corrupt EXIF data.  Expecting to read 48 bytes but only got 0. Skipping tag 532\n",
            "  \" Skipping tag %s\" % (size, len(data), tag)\n",
            "/usr/local/lib/python3.7/dist-packages/PIL/TiffImagePlugin.py:788: UserWarning: Corrupt EXIF data.  Expecting to read 2 bytes but only got 0. \n",
            "  warnings.warn(str(msg))\n"
          ]
        },
        {
          "output_type": "stream",
          "name": "stdout",
          "text": [
            "\b\b\b\b\b\b\b\b\b\b\b\b\b\b\b\b\b\b\b\b\b\b\b\b\b\b\b\b\b\b\b\b\b\b\b\b\b\b\b\b\b\b\b\b\b\b\b\b\b\b\b\b\b\b\b\b\b\b\b\b\b\b\b\b\b\b\b\b\b\b\b\b\b\b\b\b\b\b\b\b\b\b\b\b\r100/100 [==============================] - 78s 777ms/step - loss: 0.4951 - accuracy: 0.7716 - val_loss: 0.4104 - val_accuracy: 0.8150\n",
            "Epoch 2/15\n",
            "100/100 [==============================] - 77s 772ms/step - loss: 0.4494 - accuracy: 0.7926 - val_loss: 0.3817 - val_accuracy: 0.8400\n",
            "Epoch 3/15\n",
            "100/100 [==============================] - 77s 775ms/step - loss: 0.4434 - accuracy: 0.7988 - val_loss: 0.3429 - val_accuracy: 0.8565\n",
            "Epoch 4/15\n",
            "100/100 [==============================] - 77s 770ms/step - loss: 0.4375 - accuracy: 0.8023 - val_loss: 0.3844 - val_accuracy: 0.8415\n",
            "Epoch 5/15\n",
            "100/100 [==============================] - 77s 770ms/step - loss: 0.4079 - accuracy: 0.8147 - val_loss: 0.3174 - val_accuracy: 0.8670\n",
            "Epoch 6/15\n",
            "100/100 [==============================] - 77s 772ms/step - loss: 0.4040 - accuracy: 0.8186 - val_loss: 0.3257 - val_accuracy: 0.8670\n",
            "Epoch 7/15\n",
            "100/100 [==============================] - 77s 770ms/step - loss: 0.3991 - accuracy: 0.8203 - val_loss: 0.3221 - val_accuracy: 0.8660\n",
            "Epoch 8/15\n",
            "100/100 [==============================] - 77s 772ms/step - loss: 0.4004 - accuracy: 0.8232 - val_loss: 0.3335 - val_accuracy: 0.8560\n",
            "Epoch 9/15\n",
            "100/100 [==============================] - 77s 772ms/step - loss: 0.3784 - accuracy: 0.8343 - val_loss: 0.3482 - val_accuracy: 0.8660\n",
            "Epoch 10/15\n",
            "100/100 [==============================] - 77s 773ms/step - loss: 0.3762 - accuracy: 0.8331 - val_loss: 0.3446 - val_accuracy: 0.8570\n",
            "Epoch 11/15\n",
            "100/100 [==============================] - 77s 773ms/step - loss: 0.3761 - accuracy: 0.8338 - val_loss: 0.3727 - val_accuracy: 0.8340\n",
            "Epoch 12/15\n",
            "100/100 [==============================] - 77s 772ms/step - loss: 0.3754 - accuracy: 0.8338 - val_loss: 0.3404 - val_accuracy: 0.8590\n",
            "Epoch 13/15\n",
            "100/100 [==============================] - 77s 774ms/step - loss: 0.3620 - accuracy: 0.8370 - val_loss: 0.3262 - val_accuracy: 0.8740\n",
            "Epoch 14/15\n",
            "100/100 [==============================] - 77s 770ms/step - loss: 0.3685 - accuracy: 0.8396 - val_loss: 0.3596 - val_accuracy: 0.8610\n",
            "Epoch 15/15\n",
            "100/100 [==============================] - 77s 774ms/step - loss: 0.3560 - accuracy: 0.8496 - val_loss: 0.3678 - val_accuracy: 0.8475\n"
          ]
        }
      ]
    },
    {
      "cell_type": "code",
      "source": [
        "%matplotlib inline\n",
        " \n",
        "import matplotlib.image  as mpimg\n",
        "import matplotlib.pyplot as plt\n",
        "\n",
        "acc=history.history['accuracy']\n",
        "val_acc=history.history['val_accuracy']\n",
        "loss=history.history['loss']\n",
        "val_loss=history.history['val_loss']\n",
        "\n",
        "acc2=history2.history['accuracy']\n",
        "val_acc2=history2.history['val_accuracy']\n",
        "loss2=history2.history['loss']\n",
        "val_loss2=history2.history['val_loss']\n",
        " \n",
        "epochs=range(len(acc)) # Get number of epochs\n",
        "\n",
        "plt.plot(epochs, acc, 'r', \"Training Accuracy\")\n",
        "plt.plot(epochs, val_acc, 'b', \"Validation Accuracy\")\n",
        "plt.title('Model1: Training and validation accuracy')\n",
        "plt.figure()\n",
        "\n",
        "\n",
        "plt.plot(epochs, loss, 'r', \"Training Loss\")\n",
        "plt.plot(epochs, val_loss, 'b', \"Validation Loss\")\n",
        "plt.figure()\n",
        "\n",
        "plt.plot(epochs, acc2, 'r', \"Training Accuracy\")\n",
        "plt.plot(epochs, val_acc2, 'b', \"Validation Accuracy\")\n",
        "plt.title('Model2: Training and validation accuracy')\n",
        "plt.figure()\n",
        "\n",
        "\n",
        "plt.plot(epochs, loss2, 'r', \"Training Loss\")\n",
        "plt.plot(epochs, val_loss2, 'b', \"Validation Loss\")\n",
        "plt.figure()"
      ],
      "metadata": {
        "colab": {
          "base_uri": "https://localhost:8080/",
          "height": 1000
        },
        "id": "C4ad_iRrKCTh",
        "outputId": "f279f2d1-099f-4bdc-e8a4-4a9273e98641"
      },
      "execution_count": 36,
      "outputs": [
        {
          "output_type": "execute_result",
          "data": {
            "text/plain": [
              "<Figure size 432x288 with 0 Axes>"
            ]
          },
          "metadata": {},
          "execution_count": 36
        },
        {
          "output_type": "display_data",
          "data": {
            "text/plain": [
              "<Figure size 432x288 with 1 Axes>"
            ],
            "image/png": "[encoded data removed]"
          },
          "metadata": {
            "needs_background": "light"
          }
        },
        {
          "output_type": "display_data",
          "data": {
            "text/plain": [
              "<Figure size 432x288 with 1 Axes>"
            ],
            "image/png": "[encoded data removed]"
          },
          "metadata": {
            "needs_background": "light"
          }
        },
        {
          "output_type": "display_data",
          "data": {
            "text/plain": [
              "<Figure size 432x288 with 1 Axes>"
            ],
            "image/png": "[encoded data removed]"
          },
          "metadata": {
            "needs_background": "light"
          }
        },
        {
          "output_type": "display_data",
          "data": {
            "text/plain": [
              "<Figure size 432x288 with 1 Axes>"
            ],
            "image/png": "[encoded data removed]"
          },
          "metadata": {
            "needs_background": "light"
          }
        },
        {
          "output_type": "display_data",
          "data": {
            "text/plain": [
              "<Figure size 432x288 with 0 Axes>"
            ]
          },
          "metadata": {}
        }
      ]
    },
    {
      "cell_type": "markdown",
      "source": [
        "### Add a some dropout layers to the models\n",
        "A dropout layer can help with the overfitting reducing the amount of information in every image. "
      ],
      "metadata": {
        "id": "p0P63hfsUUkP"
      }
    },
    {
      "cell_type": "code",
      "source": [
        "#create the model with a dropout layer. \n",
        "#it's a minimal model for images, with just an Convolutionatl layer and a MaxPooling layer\n",
        "modelDrop1 = tf.keras.models.Sequential([\n",
        "  tf.keras.layers.Conv2D(16, (4,4), activation=\"relu\", input_shape=(150, 150, 3)),\n",
        "  tf.keras.layers.MaxPooling2D(2,2),  \n",
        "  tf.keras.layers.Dropout(0.5), \n",
        "  tf.keras.layers.Flatten(), \n",
        "  tf.keras.layers.Dense(128, activation=\"relu\"), \n",
        "  tf.keras.layers.Dense(1, activation=\"sigmoid\")\n",
        "])"
      ],
      "metadata": {
        "id": "0rcbgIf2NNTR"
      },
      "execution_count": 37,
      "outputs": []
    },
    {
      "cell_type": "code",
      "source": [
        " #create the model with dropouts layers. \n",
        "#a model with more convutionals and Pooling layers obtains leess parameters. \n",
        "modelDrop2 = tf.keras.models.Sequential([\n",
        "  tf.keras.layers.Conv2D(16, (4,4), activation=\"relu\", input_shape=(150, 150, 3)),\n",
        "  tf.keras.layers.MaxPooling2D(2,2),\n",
        "  tf.keras.layers.Dropout(0.2),   \n",
        "  tf.keras.layers.Conv2D(32, (4,4), activation=\"relu\"),\n",
        "  tf.keras.layers.MaxPooling2D(2,2),  \n",
        "  tf.keras.layers.Dropout(0.2),  \n",
        "  tf.keras.layers.Conv2D(64, (4,4), activation=\"relu\"),\n",
        "  tf.keras.layers.MaxPooling2D(2,2),  \n",
        "  tf.keras.layers.Dropout(0.5), \n",
        "  tf.keras.layers.Flatten(), \n",
        "  tf.keras.layers.Dense(512, activation=\"relu\"), \n",
        "  tf.keras.layers.Dense(1, activation=\"sigmoid\")\n",
        "])"
      ],
      "metadata": {
        "id": "k7BSwtqoNlgr"
      },
      "execution_count": 38,
      "outputs": []
    },
    {
      "cell_type": "code",
      "source": [
        "#compile the dropout models \n",
        "from tensorflow.keras.optimizers import RMSprop\n",
        "#binary_crossentropy is a loss function that works really weel with binary clasifications. \n",
        "modelDrop1.compile(loss=\"binary_crossentropy\", \n",
        "              optimizer=RMSprop(learning_rate=0.001), \n",
        "              metrics=['accuracy'])\n",
        "modelDrop2.compile(loss=\"binary_crossentropy\", \n",
        "              optimizer=RMSprop(learning_rate=0.001), \n",
        "              metrics=['accuracy'])"
      ],
      "metadata": {
        "id": "_GXo-eXrOhbo"
      },
      "execution_count": 39,
      "outputs": []
    },
    {
      "cell_type": "code",
      "source": [
        "#Training the model\n",
        "#with the new imagegenerator\n",
        "\n",
        "historyDrop = modelDrop1.fit(\n",
        "     train_data,\n",
        "     validation_data = val_data, \n",
        "     epochs=15,\n",
        "     steps_per_epoch=100,\n",
        "     validation_steps=20,\n",
        "     verbose=1)"
      ],
      "metadata": {
        "colab": {
          "base_uri": "https://localhost:8080/"
        },
        "id": "bjTbC7iJOsKC",
        "outputId": "fce556b3-2693-4d22-b894-089db6982890"
      },
      "execution_count": 40,
      "outputs": [
        {
          "output_type": "stream",
          "name": "stdout",
          "text": [
            "Epoch 1/15\n",
            "100/100 [==============================] - ETA: 0s - loss: 1.1276 - accuracy: 0.5413"
          ]
        },
        {
          "output_type": "stream",
          "name": "stderr",
          "text": [
            "/usr/local/lib/python3.7/dist-packages/PIL/TiffImagePlugin.py:770: UserWarning: Possibly corrupt EXIF data.  Expecting to read 32 bytes but only got 0. Skipping tag 270\n",
            "  \" Skipping tag %s\" % (size, len(data), tag)\n",
            "/usr/local/lib/python3.7/dist-packages/PIL/TiffImagePlugin.py:770: UserWarning: Possibly corrupt EXIF data.  Expecting to read 5 bytes but only got 0. Skipping tag 271\n",
            "  \" Skipping tag %s\" % (size, len(data), tag)\n",
            "/usr/local/lib/python3.7/dist-packages/PIL/TiffImagePlugin.py:770: UserWarning: Possibly corrupt EXIF data.  Expecting to read 8 bytes but only got 0. Skipping tag 272\n",
            "  \" Skipping tag %s\" % (size, len(data), tag)\n",
            "/usr/local/lib/python3.7/dist-packages/PIL/TiffImagePlugin.py:770: UserWarning: Possibly corrupt EXIF data.  Expecting to read 8 bytes but only got 0. Skipping tag 282\n",
            "  \" Skipping tag %s\" % (size, len(data), tag)\n",
            "/usr/local/lib/python3.7/dist-packages/PIL/TiffImagePlugin.py:770: UserWarning: Possibly corrupt EXIF data.  Expecting to read 8 bytes but only got 0. Skipping tag 283\n",
            "  \" Skipping tag %s\" % (size, len(data), tag)\n",
            "/usr/local/lib/python3.7/dist-packages/PIL/TiffImagePlugin.py:770: UserWarning: Possibly corrupt EXIF data.  Expecting to read 20 bytes but only got 0. Skipping tag 306\n",
            "  \" Skipping tag %s\" % (size, len(data), tag)\n",
            "/usr/local/lib/python3.7/dist-packages/PIL/TiffImagePlugin.py:770: UserWarning: Possibly corrupt EXIF data.  Expecting to read 48 bytes but only got 0. Skipping tag 532\n",
            "  \" Skipping tag %s\" % (size, len(data), tag)\n",
            "/usr/local/lib/python3.7/dist-packages/PIL/TiffImagePlugin.py:788: UserWarning: Corrupt EXIF data.  Expecting to read 2 bytes but only got 0. \n",
            "  warnings.warn(str(msg))\n"
          ]
        },
        {
          "output_type": "stream",
          "name": "stdout",
          "text": [
            "\b\b\b\b\b\b\b\b\b\b\b\b\b\b\b\b\b\b\b\b\b\b\b\b\b\b\b\b\b\b\b\b\b\b\b\b\b\b\b\b\b\b\b\b\b\b\b\b\b\b\b\b\b\b\b\b\b\b\b\b\b\b\b\b\b\b\b\b\b\b\b\b\b\b\b\b\b\b\b\b\b\b\b\b\r100/100 [==============================] - 78s 776ms/step - loss: 1.1276 - accuracy: 0.5413 - val_loss: 0.6457 - val_accuracy: 0.6430\n",
            "Epoch 2/15\n",
            "100/100 [==============================] - 77s 765ms/step - loss: 0.6527 - accuracy: 0.6235 - val_loss: 0.6968 - val_accuracy: 0.5570\n",
            "Epoch 3/15\n",
            "100/100 [==============================] - 77s 772ms/step - loss: 0.6271 - accuracy: 0.6496 - val_loss: 0.5681 - val_accuracy: 0.7230\n",
            "Epoch 4/15\n",
            "100/100 [==============================] - 77s 768ms/step - loss: 0.6089 - accuracy: 0.6741 - val_loss: 0.5576 - val_accuracy: 0.7255\n",
            "Epoch 5/15\n",
            "100/100 [==============================] - 77s 768ms/step - loss: 0.6032 - accuracy: 0.6795 - val_loss: 0.5777 - val_accuracy: 0.6820\n",
            "Epoch 6/15\n",
            "100/100 [==============================] - 77s 773ms/step - loss: 0.5796 - accuracy: 0.6953 - val_loss: 0.5215 - val_accuracy: 0.7475\n",
            "Epoch 7/15\n",
            "100/100 [==============================] - 76s 765ms/step - loss: 0.5725 - accuracy: 0.6989 - val_loss: 0.5777 - val_accuracy: 0.6860\n",
            "Epoch 8/15\n",
            "100/100 [==============================] - 77s 766ms/step - loss: 0.5645 - accuracy: 0.7139 - val_loss: 0.5233 - val_accuracy: 0.7450\n",
            "Epoch 9/15\n",
            "100/100 [==============================] - 78s 775ms/step - loss: 0.5605 - accuracy: 0.7131 - val_loss: 0.5084 - val_accuracy: 0.7560\n",
            "Epoch 10/15\n",
            "100/100 [==============================] - 77s 768ms/step - loss: 0.5606 - accuracy: 0.7149 - val_loss: 0.4999 - val_accuracy: 0.7570\n",
            "Epoch 11/15\n",
            "100/100 [==============================] - 78s 776ms/step - loss: 0.5520 - accuracy: 0.7184 - val_loss: 0.5418 - val_accuracy: 0.7255\n",
            "Epoch 12/15\n",
            "100/100 [==============================] - 77s 771ms/step - loss: 0.5489 - accuracy: 0.7186 - val_loss: 0.5059 - val_accuracy: 0.7495\n",
            "Epoch 13/15\n",
            "100/100 [==============================] - 77s 766ms/step - loss: 0.5476 - accuracy: 0.7206 - val_loss: 0.5035 - val_accuracy: 0.7515\n",
            "Epoch 14/15\n",
            "100/100 [==============================] - 78s 776ms/step - loss: 0.5434 - accuracy: 0.7246 - val_loss: 0.5332 - val_accuracy: 0.7435\n",
            "Epoch 15/15\n",
            "100/100 [==============================] - 77s 769ms/step - loss: 0.5418 - accuracy: 0.7256 - val_loss: 0.4825 - val_accuracy: 0.7705\n"
          ]
        }
      ]
    },
    {
      "cell_type": "code",
      "source": [
        "#Trianing the model2\n",
        "start = time()\n",
        "historyDrop2 = model2.fit(\n",
        "     train_data,\n",
        "     validation_data = val_data, \n",
        "     epochs=15,\n",
        "     steps_per_epoch=100,\n",
        "     validation_steps=20,\n",
        "     verbose=1)\n",
        "print (time()-start)"
      ],
      "metadata": {
        "colab": {
          "base_uri": "https://localhost:8080/"
        },
        "id": "okRgnzimOtXZ",
        "outputId": "170c925b-2fca-4ca2-c6ff-f0c7d0dd641d"
      },
      "execution_count": 42,
      "outputs": [
        {
          "output_type": "stream",
          "name": "stdout",
          "text": [
            "Epoch 1/15\n",
            "100/100 [==============================] - ETA: 0s - loss: 0.3556 - accuracy: 0.8462"
          ]
        },
        {
          "output_type": "stream",
          "name": "stderr",
          "text": [
            "/usr/local/lib/python3.7/dist-packages/PIL/TiffImagePlugin.py:770: UserWarning: Possibly corrupt EXIF data.  Expecting to read 32 bytes but only got 0. Skipping tag 270\n",
            "  \" Skipping tag %s\" % (size, len(data), tag)\n",
            "/usr/local/lib/python3.7/dist-packages/PIL/TiffImagePlugin.py:770: UserWarning: Possibly corrupt EXIF data.  Expecting to read 5 bytes but only got 0. Skipping tag 271\n",
            "  \" Skipping tag %s\" % (size, len(data), tag)\n",
            "/usr/local/lib/python3.7/dist-packages/PIL/TiffImagePlugin.py:770: UserWarning: Possibly corrupt EXIF data.  Expecting to read 8 bytes but only got 0. Skipping tag 272\n",
            "  \" Skipping tag %s\" % (size, len(data), tag)\n",
            "/usr/local/lib/python3.7/dist-packages/PIL/TiffImagePlugin.py:770: UserWarning: Possibly corrupt EXIF data.  Expecting to read 8 bytes but only got 0. Skipping tag 282\n",
            "  \" Skipping tag %s\" % (size, len(data), tag)\n",
            "/usr/local/lib/python3.7/dist-packages/PIL/TiffImagePlugin.py:770: UserWarning: Possibly corrupt EXIF data.  Expecting to read 8 bytes but only got 0. Skipping tag 283\n",
            "  \" Skipping tag %s\" % (size, len(data), tag)\n",
            "/usr/local/lib/python3.7/dist-packages/PIL/TiffImagePlugin.py:770: UserWarning: Possibly corrupt EXIF data.  Expecting to read 20 bytes but only got 0. Skipping tag 306\n",
            "  \" Skipping tag %s\" % (size, len(data), tag)\n",
            "/usr/local/lib/python3.7/dist-packages/PIL/TiffImagePlugin.py:770: UserWarning: Possibly corrupt EXIF data.  Expecting to read 48 bytes but only got 0. Skipping tag 532\n",
            "  \" Skipping tag %s\" % (size, len(data), tag)\n",
            "/usr/local/lib/python3.7/dist-packages/PIL/TiffImagePlugin.py:788: UserWarning: Corrupt EXIF data.  Expecting to read 2 bytes but only got 0. \n",
            "  warnings.warn(str(msg))\n"
          ]
        },
        {
          "output_type": "stream",
          "name": "stdout",
          "text": [
            "\b\b\b\b\b\b\b\b\b\b\b\b\b\b\b\b\b\b\b\b\b\b\b\b\b\b\b\b\b\b\b\b\b\b\b\b\b\b\b\b\b\b\b\b\b\b\b\b\b\b\b\b\b\b\b\b\b\b\b\b\b\b\b\b\b\b\b\b\b\b\b\b\b\b\b\b\b\b\b\b\b\b\b\b\r100/100 [==============================] - 78s 778ms/step - loss: 0.3556 - accuracy: 0.8462 - val_loss: 0.3307 - val_accuracy: 0.8570\n",
            "Epoch 2/15\n",
            "100/100 [==============================] - 77s 772ms/step - loss: 0.3426 - accuracy: 0.8539 - val_loss: 0.2883 - val_accuracy: 0.8780\n",
            "Epoch 3/15\n",
            "100/100 [==============================] - 84s 844ms/step - loss: 0.3586 - accuracy: 0.8410 - val_loss: 0.3075 - val_accuracy: 0.8760\n",
            "Epoch 4/15\n",
            "100/100 [==============================] - 80s 793ms/step - loss: 0.3405 - accuracy: 0.8514 - val_loss: 0.2904 - val_accuracy: 0.8770\n",
            "Epoch 5/15\n",
            "100/100 [==============================] - 78s 775ms/step - loss: 0.3368 - accuracy: 0.8559 - val_loss: 0.2961 - val_accuracy: 0.8815\n",
            "Epoch 6/15\n",
            "100/100 [==============================] - 78s 781ms/step - loss: 0.3359 - accuracy: 0.8571 - val_loss: 0.4564 - val_accuracy: 0.7920\n",
            "Epoch 7/15\n",
            "100/100 [==============================] - 77s 775ms/step - loss: 0.3289 - accuracy: 0.8611 - val_loss: 0.4597 - val_accuracy: 0.8095\n",
            "Epoch 8/15\n",
            "100/100 [==============================] - 76s 762ms/step - loss: 0.3247 - accuracy: 0.8614 - val_loss: 0.2495 - val_accuracy: 0.8965\n",
            "Epoch 9/15\n",
            "100/100 [==============================] - 77s 774ms/step - loss: 0.3236 - accuracy: 0.8623 - val_loss: 0.3098 - val_accuracy: 0.8720\n",
            "Epoch 10/15\n",
            "100/100 [==============================] - 77s 772ms/step - loss: 0.3185 - accuracy: 0.8641 - val_loss: 0.2941 - val_accuracy: 0.8825\n",
            "Epoch 11/15\n",
            "100/100 [==============================] - 77s 773ms/step - loss: 0.3382 - accuracy: 0.8621 - val_loss: 0.3056 - val_accuracy: 0.8715\n",
            "Epoch 12/15\n",
            "100/100 [==============================] - 77s 772ms/step - loss: 0.3250 - accuracy: 0.8625 - val_loss: 0.2807 - val_accuracy: 0.8850\n",
            "Epoch 13/15\n",
            "100/100 [==============================] - 78s 775ms/step - loss: 0.3240 - accuracy: 0.8638 - val_loss: 0.2787 - val_accuracy: 0.8985\n",
            "Epoch 14/15\n",
            "100/100 [==============================] - 78s 781ms/step - loss: 0.3238 - accuracy: 0.8615 - val_loss: 0.2856 - val_accuracy: 0.8930\n",
            "Epoch 15/15\n",
            "100/100 [==============================] - 77s 774ms/step - loss: 0.3225 - accuracy: 0.8676 - val_loss: 0.2894 - val_accuracy: 0.8825\n",
            "1254.8212189674377\n"
          ]
        }
      ]
    },
    {
      "cell_type": "code",
      "source": [
        "%matplotlib inline\n",
        " \n",
        "import matplotlib.image  as mpimg\n",
        "import matplotlib.pyplot as plt\n",
        "\n",
        "acc=historyDrop.history['accuracy']\n",
        "val_acc=historyDrop.history['val_accuracy']\n",
        "loss=historyDrop.history['loss']\n",
        "val_loss=historyDrop.history['val_loss']\n",
        "\n",
        "acc2=historyDrop2.history['accuracy']\n",
        "val_acc2=historyDrop2.history['val_accuracy']\n",
        "loss2=historyDrop2.history['loss']\n",
        "val_loss2=historyDrop2.history['val_loss']\n",
        " \n",
        "epochs=range(len(acc)) # Get number of epochs\n",
        "\n",
        "plt.plot(epochs, acc, 'r', \"Training Accuracy\")\n",
        "plt.plot(epochs, val_acc, 'b', \"Validation Accuracy\")\n",
        "plt.title('Model1: Training and validation accuracy')\n",
        "plt.figure()\n",
        "\n",
        "\n",
        "plt.plot(epochs, loss, 'r', \"Training Loss\")\n",
        "plt.plot(epochs, val_loss, 'b', \"Validation Loss\")\n",
        "plt.figure()\n",
        "\n",
        "plt.plot(epochs, acc2, 'r', \"Training Accuracy\")\n",
        "plt.plot(epochs, val_acc2, 'b', \"Validation Accuracy\")\n",
        "plt.title('Model2: Training and validation accuracy')\n",
        "plt.figure()\n",
        "\n",
        "\n",
        "plt.plot(epochs, loss2, 'r', \"Training Loss\")\n",
        "plt.plot(epochs, val_loss2, 'b', \"Validation Loss\")\n",
        "plt.figure()"
      ],
      "metadata": {
        "colab": {
          "base_uri": "https://localhost:8080/",
          "height": 1000
        },
        "id": "6XrXop6k_2Cq",
        "outputId": "b0497da9-58a4-456d-ab9d-23c64f181c74"
      },
      "execution_count": 43,
      "outputs": [
        {
          "output_type": "execute_result",
          "data": {
            "text/plain": [
              "<Figure size 432x288 with 0 Axes>"
            ]
          },
          "metadata": {},
          "execution_count": 43
        },
        {
          "output_type": "display_data",
          "data": {
            "text/plain": [
              "<Figure size 432x288 with 1 Axes>"
            ],
            "image/png": "[encoded data removed]"
          },
          "metadata": {
            "needs_background": "light"
          }
        },
        {
          "output_type": "display_data",
          "data": {
            "text/plain": [
              "<Figure size 432x288 with 1 Axes>"
            ],
            "image/png": "[encoded data removed]"
          },
          "metadata": {
            "needs_background": "light"
          }
        },
        {
          "output_type": "display_data",
          "data": {
            "text/plain": [
              "<Figure size 432x288 with 1 Axes>"
            ],
            "image/png": "[encoded data removed]"
          },
          "metadata": {
            "needs_background": "light"
          }
        },
        {
          "output_type": "display_data",
          "data": {
            "text/plain": [
              "<Figure size 432x288 with 1 Axes>"
            ],
            "image/png": "[encoded data removed]"
          },
          "metadata": {
            "needs_background": "light"
          }
        },
        {
          "output_type": "display_data",
          "data": {
            "text/plain": [
              "<Figure size 432x288 with 0 Axes>"
            ]
          },
          "metadata": {}
        }
      ]
    }
  ],
  "metadata": {
    "colab": {
      "collapsed_sections": [
        "K0Ez6Wz2T__6"
      ],
      "name": "MLCTFCatsvsDogs.ipynb",
      "provenance": [],
      "authorship_tag": "ABX9TyOLsVPpFG54nwmCjuV1kgeZ",
      "include_colab_link": true
    },
    "kernelspec": {
      "display_name": "Python 3",
      "name": "python3"
    },
    "language_info": {
      "name": "python"
    },
    "accelerator": "GPU"
  },
  "nbformat": 4,
  "nbformat_minor": 0
}