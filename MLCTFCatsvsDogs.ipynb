{
  "cells": [
    {
      "cell_type": "markdown",
      "metadata": {
        "id": "R3u_pPS7PSrj"
      },
      "source": [
        "\n",
        "let's start with TensorFlow.\n",
        "\n",
        "\n",
        "---\n",
        "\n",
        "\n",
        "In this collab, we are goig to solve three problems, and create thre different neuronal nets.\n"
      ]
    },
    {
      "cell_type": "markdown",
      "metadata": {
        "id": "K0Ez6Wz2T__6"
      },
      "source": [
        "## First Sample. The most simple problem to solve \n",
        "\n",
        "---\n",
        "\n",
        "\n"
      ]
    },
    {
      "cell_type": "code",
      "execution_count": 4,
      "metadata": {
        "colab": {
          "base_uri": "https://localhost:8080/"
        },
        "id": "pddGlKsiO_du",
        "outputId": "be5185b8-93d8-4afb-f198-cb1f553a8fca"
      },
      "outputs": [
        {
          "output_type": "stream",
          "name": "stdout",
          "text": [
            "2.8.2\n"
          ]
        }
      ],
      "source": [
        "#First steep is import the libraries. \n",
        "import tensorflow as tf\n",
        "#Numpy is a lybrary that allow us to work with arrays. \n",
        "import numpy as np\n",
        "#keras is an open source neural networks lybrary writted in python that run's in varios frameworks, TensorFlow included. \n",
        "from tensorflow import keras\n",
        "print (tf.__version__)\n"
      ]
    },
    {
      "cell_type": "code",
      "execution_count": 5,
      "metadata": {
        "id": "A9ClkratT9ZD"
      },
      "outputs": [],
      "source": [
        "#create 2 arrays, and the model must discover the relationship betwen the values. \n",
        "# (n * -1) + 2\n",
        "X = np.array([-2.0, -1.0, 0.0, 1.0, 2.0, 3.0, 4.0, 5.0, 6.0, 7.0, 8.0], dtype=float)\n",
        "y = np.array([4.0, 3.0, 2.0, 1.0, 0.0, -1.0, -2.0, -3.0, -4.0, -5.0, -6.0], dtype=float)"
      ]
    },
    {
      "cell_type": "code",
      "execution_count": 6,
      "metadata": {
        "id": "qlPs6OeGQ7bZ"
      },
      "outputs": [],
      "source": [
        "#Model with just one dense layer, one neuron, and one input. This is the most simple model possible. \n",
        "model = tf.keras.Sequential(keras.layers.Dense(units=1, input_shape=[1]))\n"
      ]
    },
    {
      "cell_type": "code",
      "execution_count": 7,
      "metadata": {
        "colab": {
          "base_uri": "https://localhost:8080/"
        },
        "id": "UiE53I3fWFvI",
        "outputId": "edb210b3-4a12-47b7-c6ae-113c03b9c4ad"
      },
      "outputs": [
        {
          "output_type": "stream",
          "name": "stdout",
          "text": [
            "Epoch 1/250\n",
            "1/1 [==============================] - 2s 2s/step - loss: 11.0837\n",
            "Epoch 2/250\n",
            "1/1 [==============================] - 0s 9ms/step - loss: 5.2700\n",
            "Epoch 3/250\n",
            "1/1 [==============================] - 0s 7ms/step - loss: 3.0815\n",
            "Epoch 4/250\n",
            "1/1 [==============================] - 0s 8ms/step - loss: 2.2436\n",
            "Epoch 5/250\n",
            "1/1 [==============================] - 0s 7ms/step - loss: 1.9092\n",
            "Epoch 6/250\n",
            "1/1 [==============================] - 0s 9ms/step - loss: 1.7627\n",
            "Epoch 7/250\n",
            "1/1 [==============================] - 0s 10ms/step - loss: 1.6867\n",
            "Epoch 8/250\n",
            "1/1 [==============================] - 0s 6ms/step - loss: 1.6374\n",
            "Epoch 9/250\n",
            "1/1 [==============================] - 0s 5ms/step - loss: 1.5984\n",
            "Epoch 10/250\n",
            "1/1 [==============================] - 0s 5ms/step - loss: 1.5637\n",
            "Epoch 11/250\n",
            "1/1 [==============================] - 0s 5ms/step - loss: 1.5310\n",
            "Epoch 12/250\n",
            "1/1 [==============================] - 0s 5ms/step - loss: 1.4994\n",
            "Epoch 13/250\n",
            "1/1 [==============================] - 0s 6ms/step - loss: 1.4687\n",
            "Epoch 14/250\n",
            "1/1 [==============================] - 0s 5ms/step - loss: 1.4386\n",
            "Epoch 15/250\n",
            "1/1 [==============================] - 0s 5ms/step - loss: 1.4093\n",
            "Epoch 16/250\n",
            "1/1 [==============================] - 0s 5ms/step - loss: 1.3805\n",
            "Epoch 17/250\n",
            "1/1 [==============================] - 0s 5ms/step - loss: 1.3523\n",
            "Epoch 18/250\n",
            "1/1 [==============================] - 0s 5ms/step - loss: 1.3247\n",
            "Epoch 19/250\n",
            "1/1 [==============================] - 0s 5ms/step - loss: 1.2976\n",
            "Epoch 20/250\n",
            "1/1 [==============================] - 0s 5ms/step - loss: 1.2711\n",
            "Epoch 21/250\n",
            "1/1 [==============================] - 0s 10ms/step - loss: 1.2452\n",
            "Epoch 22/250\n",
            "1/1 [==============================] - 0s 9ms/step - loss: 1.2197\n",
            "Epoch 23/250\n",
            "1/1 [==============================] - 0s 5ms/step - loss: 1.1948\n",
            "Epoch 24/250\n",
            "1/1 [==============================] - 0s 5ms/step - loss: 1.1704\n",
            "Epoch 25/250\n",
            "1/1 [==============================] - 0s 5ms/step - loss: 1.1465\n",
            "Epoch 26/250\n",
            "1/1 [==============================] - 0s 6ms/step - loss: 1.1231\n",
            "Epoch 27/250\n",
            "1/1 [==============================] - 0s 5ms/step - loss: 1.1002\n",
            "Epoch 28/250\n",
            "1/1 [==============================] - 0s 5ms/step - loss: 1.0777\n",
            "Epoch 29/250\n",
            "1/1 [==============================] - 0s 6ms/step - loss: 1.0557\n",
            "Epoch 30/250\n",
            "1/1 [==============================] - 0s 6ms/step - loss: 1.0341\n",
            "Epoch 31/250\n",
            "1/1 [==============================] - 0s 6ms/step - loss: 1.0130\n",
            "Epoch 32/250\n",
            "1/1 [==============================] - 0s 5ms/step - loss: 0.9923\n",
            "Epoch 33/250\n",
            "1/1 [==============================] - 0s 5ms/step - loss: 0.9721\n",
            "Epoch 34/250\n",
            "1/1 [==============================] - 0s 6ms/step - loss: 0.9522\n",
            "Epoch 35/250\n",
            "1/1 [==============================] - 0s 6ms/step - loss: 0.9328\n",
            "Epoch 36/250\n",
            "1/1 [==============================] - 0s 6ms/step - loss: 0.9137\n",
            "Epoch 37/250\n",
            "1/1 [==============================] - 0s 10ms/step - loss: 0.8951\n",
            "Epoch 38/250\n",
            "1/1 [==============================] - 0s 6ms/step - loss: 0.8768\n",
            "Epoch 39/250\n",
            "1/1 [==============================] - 0s 6ms/step - loss: 0.8589\n",
            "Epoch 40/250\n",
            "1/1 [==============================] - 0s 6ms/step - loss: 0.8413\n",
            "Epoch 41/250\n",
            "1/1 [==============================] - 0s 6ms/step - loss: 0.8242\n",
            "Epoch 42/250\n",
            "1/1 [==============================] - 0s 6ms/step - loss: 0.8073\n",
            "Epoch 43/250\n",
            "1/1 [==============================] - 0s 6ms/step - loss: 0.7908\n",
            "Epoch 44/250\n",
            "1/1 [==============================] - 0s 6ms/step - loss: 0.7747\n",
            "Epoch 45/250\n",
            "1/1 [==============================] - 0s 5ms/step - loss: 0.7589\n",
            "Epoch 46/250\n",
            "1/1 [==============================] - 0s 6ms/step - loss: 0.7434\n",
            "Epoch 47/250\n",
            "1/1 [==============================] - 0s 6ms/step - loss: 0.7282\n",
            "Epoch 48/250\n",
            "1/1 [==============================] - 0s 6ms/step - loss: 0.7133\n",
            "Epoch 49/250\n",
            "1/1 [==============================] - 0s 6ms/step - loss: 0.6988\n",
            "Epoch 50/250\n",
            "1/1 [==============================] - 0s 6ms/step - loss: 0.6845\n",
            "Epoch 51/250\n",
            "1/1 [==============================] - 0s 6ms/step - loss: 0.6705\n",
            "Epoch 52/250\n",
            "1/1 [==============================] - 0s 6ms/step - loss: 0.6568\n",
            "Epoch 53/250\n",
            "1/1 [==============================] - 0s 6ms/step - loss: 0.6434\n",
            "Epoch 54/250\n",
            "1/1 [==============================] - 0s 6ms/step - loss: 0.6303\n",
            "Epoch 55/250\n",
            "1/1 [==============================] - 0s 7ms/step - loss: 0.6174\n",
            "Epoch 56/250\n",
            "1/1 [==============================] - 0s 6ms/step - loss: 0.6048\n",
            "Epoch 57/250\n",
            "1/1 [==============================] - 0s 7ms/step - loss: 0.5924\n",
            "Epoch 58/250\n",
            "1/1 [==============================] - 0s 6ms/step - loss: 0.5803\n",
            "Epoch 59/250\n",
            "1/1 [==============================] - 0s 6ms/step - loss: 0.5685\n",
            "Epoch 60/250\n",
            "1/1 [==============================] - 0s 11ms/step - loss: 0.5569\n",
            "Epoch 61/250\n",
            "1/1 [==============================] - 0s 8ms/step - loss: 0.5455\n",
            "Epoch 62/250\n",
            "1/1 [==============================] - 0s 7ms/step - loss: 0.5344\n",
            "Epoch 63/250\n",
            "1/1 [==============================] - 0s 5ms/step - loss: 0.5234\n",
            "Epoch 64/250\n",
            "1/1 [==============================] - 0s 6ms/step - loss: 0.5128\n",
            "Epoch 65/250\n",
            "1/1 [==============================] - 0s 6ms/step - loss: 0.5023\n",
            "Epoch 66/250\n",
            "1/1 [==============================] - 0s 6ms/step - loss: 0.4920\n",
            "Epoch 67/250\n",
            "1/1 [==============================] - 0s 5ms/step - loss: 0.4820\n",
            "Epoch 68/250\n",
            "1/1 [==============================] - 0s 6ms/step - loss: 0.4721\n",
            "Epoch 69/250\n",
            "1/1 [==============================] - 0s 5ms/step - loss: 0.4625\n",
            "Epoch 70/250\n",
            "1/1 [==============================] - 0s 5ms/step - loss: 0.4531\n",
            "Epoch 71/250\n",
            "1/1 [==============================] - 0s 5ms/step - loss: 0.4438\n",
            "Epoch 72/250\n",
            "1/1 [==============================] - 0s 5ms/step - loss: 0.4347\n",
            "Epoch 73/250\n",
            "1/1 [==============================] - 0s 5ms/step - loss: 0.4259\n",
            "Epoch 74/250\n",
            "1/1 [==============================] - 0s 5ms/step - loss: 0.4172\n",
            "Epoch 75/250\n",
            "1/1 [==============================] - 0s 6ms/step - loss: 0.4086\n",
            "Epoch 76/250\n",
            "1/1 [==============================] - 0s 5ms/step - loss: 0.4003\n",
            "Epoch 77/250\n",
            "1/1 [==============================] - 0s 5ms/step - loss: 0.3921\n",
            "Epoch 78/250\n",
            "1/1 [==============================] - 0s 5ms/step - loss: 0.3841\n",
            "Epoch 79/250\n",
            "1/1 [==============================] - 0s 6ms/step - loss: 0.3763\n",
            "Epoch 80/250\n",
            "1/1 [==============================] - 0s 6ms/step - loss: 0.3686\n",
            "Epoch 81/250\n",
            "1/1 [==============================] - 0s 5ms/step - loss: 0.3611\n",
            "Epoch 82/250\n",
            "1/1 [==============================] - 0s 5ms/step - loss: 0.3537\n",
            "Epoch 83/250\n",
            "1/1 [==============================] - 0s 5ms/step - loss: 0.3465\n",
            "Epoch 84/250\n",
            "1/1 [==============================] - 0s 5ms/step - loss: 0.3394\n",
            "Epoch 85/250\n",
            "1/1 [==============================] - 0s 6ms/step - loss: 0.3325\n",
            "Epoch 86/250\n",
            "1/1 [==============================] - 0s 5ms/step - loss: 0.3257\n",
            "Epoch 87/250\n",
            "1/1 [==============================] - 0s 5ms/step - loss: 0.3190\n",
            "Epoch 88/250\n",
            "1/1 [==============================] - 0s 5ms/step - loss: 0.3125\n",
            "Epoch 89/250\n",
            "1/1 [==============================] - 0s 5ms/step - loss: 0.3061\n",
            "Epoch 90/250\n",
            "1/1 [==============================] - 0s 5ms/step - loss: 0.2999\n",
            "Epoch 91/250\n",
            "1/1 [==============================] - 0s 7ms/step - loss: 0.2937\n",
            "Epoch 92/250\n",
            "1/1 [==============================] - 0s 5ms/step - loss: 0.2877\n",
            "Epoch 93/250\n",
            "1/1 [==============================] - 0s 5ms/step - loss: 0.2819\n",
            "Epoch 94/250\n",
            "1/1 [==============================] - 0s 5ms/step - loss: 0.2761\n",
            "Epoch 95/250\n",
            "1/1 [==============================] - 0s 8ms/step - loss: 0.2705\n",
            "Epoch 96/250\n",
            "1/1 [==============================] - 0s 5ms/step - loss: 0.2650\n",
            "Epoch 97/250\n",
            "1/1 [==============================] - 0s 5ms/step - loss: 0.2595\n",
            "Epoch 98/250\n",
            "1/1 [==============================] - 0s 5ms/step - loss: 0.2542\n",
            "Epoch 99/250\n",
            "1/1 [==============================] - 0s 5ms/step - loss: 0.2491\n",
            "Epoch 100/250\n",
            "1/1 [==============================] - 0s 9ms/step - loss: 0.2440\n",
            "Epoch 101/250\n",
            "1/1 [==============================] - 0s 5ms/step - loss: 0.2390\n",
            "Epoch 102/250\n",
            "1/1 [==============================] - 0s 5ms/step - loss: 0.2341\n",
            "Epoch 103/250\n",
            "1/1 [==============================] - 0s 5ms/step - loss: 0.2293\n",
            "Epoch 104/250\n",
            "1/1 [==============================] - 0s 5ms/step - loss: 0.2246\n",
            "Epoch 105/250\n",
            "1/1 [==============================] - 0s 6ms/step - loss: 0.2201\n",
            "Epoch 106/250\n",
            "1/1 [==============================] - 0s 5ms/step - loss: 0.2156\n",
            "Epoch 107/250\n",
            "1/1 [==============================] - 0s 5ms/step - loss: 0.2112\n",
            "Epoch 108/250\n",
            "1/1 [==============================] - 0s 6ms/step - loss: 0.2068\n",
            "Epoch 109/250\n",
            "1/1 [==============================] - 0s 5ms/step - loss: 0.2026\n",
            "Epoch 110/250\n",
            "1/1 [==============================] - 0s 5ms/step - loss: 0.1985\n",
            "Epoch 111/250\n",
            "1/1 [==============================] - 0s 5ms/step - loss: 0.1944\n",
            "Epoch 112/250\n",
            "1/1 [==============================] - 0s 5ms/step - loss: 0.1905\n",
            "Epoch 113/250\n",
            "1/1 [==============================] - 0s 5ms/step - loss: 0.1866\n",
            "Epoch 114/250\n",
            "1/1 [==============================] - 0s 5ms/step - loss: 0.1828\n",
            "Epoch 115/250\n",
            "1/1 [==============================] - 0s 5ms/step - loss: 0.1790\n",
            "Epoch 116/250\n",
            "1/1 [==============================] - 0s 5ms/step - loss: 0.1754\n",
            "Epoch 117/250\n",
            "1/1 [==============================] - 0s 6ms/step - loss: 0.1718\n",
            "Epoch 118/250\n",
            "1/1 [==============================] - 0s 5ms/step - loss: 0.1683\n",
            "Epoch 119/250\n",
            "1/1 [==============================] - 0s 5ms/step - loss: 0.1648\n",
            "Epoch 120/250\n",
            "1/1 [==============================] - 0s 10ms/step - loss: 0.1615\n",
            "Epoch 121/250\n",
            "1/1 [==============================] - 0s 5ms/step - loss: 0.1582\n",
            "Epoch 122/250\n",
            "1/1 [==============================] - 0s 5ms/step - loss: 0.1550\n",
            "Epoch 123/250\n",
            "1/1 [==============================] - 0s 5ms/step - loss: 0.1518\n",
            "Epoch 124/250\n",
            "1/1 [==============================] - 0s 5ms/step - loss: 0.1487\n",
            "Epoch 125/250\n",
            "1/1 [==============================] - 0s 5ms/step - loss: 0.1456\n",
            "Epoch 126/250\n",
            "1/1 [==============================] - 0s 5ms/step - loss: 0.1427\n",
            "Epoch 127/250\n",
            "1/1 [==============================] - 0s 5ms/step - loss: 0.1398\n",
            "Epoch 128/250\n",
            "1/1 [==============================] - 0s 5ms/step - loss: 0.1369\n",
            "Epoch 129/250\n",
            "1/1 [==============================] - 0s 5ms/step - loss: 0.1341\n",
            "Epoch 130/250\n",
            "1/1 [==============================] - 0s 17ms/step - loss: 0.1314\n",
            "Epoch 131/250\n",
            "1/1 [==============================] - 0s 10ms/step - loss: 0.1287\n",
            "Epoch 132/250\n",
            "1/1 [==============================] - 0s 8ms/step - loss: 0.1261\n",
            "Epoch 133/250\n",
            "1/1 [==============================] - 0s 10ms/step - loss: 0.1235\n",
            "Epoch 134/250\n",
            "1/1 [==============================] - 0s 8ms/step - loss: 0.1210\n",
            "Epoch 135/250\n",
            "1/1 [==============================] - 0s 5ms/step - loss: 0.1185\n",
            "Epoch 136/250\n",
            "1/1 [==============================] - 0s 6ms/step - loss: 0.1161\n",
            "Epoch 137/250\n",
            "1/1 [==============================] - 0s 6ms/step - loss: 0.1137\n",
            "Epoch 138/250\n",
            "1/1 [==============================] - 0s 5ms/step - loss: 0.1114\n",
            "Epoch 139/250\n",
            "1/1 [==============================] - 0s 6ms/step - loss: 0.1091\n",
            "Epoch 140/250\n",
            "1/1 [==============================] - 0s 6ms/step - loss: 0.1069\n",
            "Epoch 141/250\n",
            "1/1 [==============================] - 0s 6ms/step - loss: 0.1047\n",
            "Epoch 142/250\n",
            "1/1 [==============================] - 0s 6ms/step - loss: 0.1026\n",
            "Epoch 143/250\n",
            "1/1 [==============================] - 0s 9ms/step - loss: 0.1005\n",
            "Epoch 144/250\n",
            "1/1 [==============================] - 0s 6ms/step - loss: 0.0984\n",
            "Epoch 145/250\n",
            "1/1 [==============================] - 0s 5ms/step - loss: 0.0964\n",
            "Epoch 146/250\n",
            "1/1 [==============================] - 0s 5ms/step - loss: 0.0944\n",
            "Epoch 147/250\n",
            "1/1 [==============================] - 0s 5ms/step - loss: 0.0925\n",
            "Epoch 148/250\n",
            "1/1 [==============================] - 0s 5ms/step - loss: 0.0906\n",
            "Epoch 149/250\n",
            "1/1 [==============================] - 0s 5ms/step - loss: 0.0888\n",
            "Epoch 150/250\n",
            "1/1 [==============================] - 0s 5ms/step - loss: 0.0870\n",
            "Epoch 151/250\n",
            "1/1 [==============================] - 0s 8ms/step - loss: 0.0852\n",
            "Epoch 152/250\n",
            "1/1 [==============================] - 0s 5ms/step - loss: 0.0834\n",
            "Epoch 153/250\n",
            "1/1 [==============================] - 0s 5ms/step - loss: 0.0817\n",
            "Epoch 154/250\n",
            "1/1 [==============================] - 0s 5ms/step - loss: 0.0801\n",
            "Epoch 155/250\n",
            "1/1 [==============================] - 0s 5ms/step - loss: 0.0784\n",
            "Epoch 156/250\n",
            "1/1 [==============================] - 0s 6ms/step - loss: 0.0768\n",
            "Epoch 157/250\n",
            "1/1 [==============================] - 0s 6ms/step - loss: 0.0753\n",
            "Epoch 158/250\n",
            "1/1 [==============================] - 0s 5ms/step - loss: 0.0737\n",
            "Epoch 159/250\n",
            "1/1 [==============================] - 0s 5ms/step - loss: 0.0722\n",
            "Epoch 160/250\n",
            "1/1 [==============================] - 0s 6ms/step - loss: 0.0707\n",
            "Epoch 161/250\n",
            "1/1 [==============================] - 0s 5ms/step - loss: 0.0693\n",
            "Epoch 162/250\n",
            "1/1 [==============================] - 0s 6ms/step - loss: 0.0679\n",
            "Epoch 163/250\n",
            "1/1 [==============================] - 0s 5ms/step - loss: 0.0665\n",
            "Epoch 164/250\n",
            "1/1 [==============================] - 0s 5ms/step - loss: 0.0651\n",
            "Epoch 165/250\n",
            "1/1 [==============================] - 0s 5ms/step - loss: 0.0638\n",
            "Epoch 166/250\n",
            "1/1 [==============================] - 0s 5ms/step - loss: 0.0625\n",
            "Epoch 167/250\n",
            "1/1 [==============================] - 0s 5ms/step - loss: 0.0612\n",
            "Epoch 168/250\n",
            "1/1 [==============================] - 0s 13ms/step - loss: 0.0600\n",
            "Epoch 169/250\n",
            "1/1 [==============================] - 0s 8ms/step - loss: 0.0588\n",
            "Epoch 170/250\n",
            "1/1 [==============================] - 0s 5ms/step - loss: 0.0576\n",
            "Epoch 171/250\n",
            "1/1 [==============================] - 0s 5ms/step - loss: 0.0564\n",
            "Epoch 172/250\n",
            "1/1 [==============================] - 0s 5ms/step - loss: 0.0552\n",
            "Epoch 173/250\n",
            "1/1 [==============================] - 0s 5ms/step - loss: 0.0541\n",
            "Epoch 174/250\n",
            "1/1 [==============================] - 0s 6ms/step - loss: 0.0530\n",
            "Epoch 175/250\n",
            "1/1 [==============================] - 0s 5ms/step - loss: 0.0519\n",
            "Epoch 176/250\n",
            "1/1 [==============================] - 0s 5ms/step - loss: 0.0509\n",
            "Epoch 177/250\n",
            "1/1 [==============================] - 0s 6ms/step - loss: 0.0498\n",
            "Epoch 178/250\n",
            "1/1 [==============================] - 0s 5ms/step - loss: 0.0488\n",
            "Epoch 179/250\n",
            "1/1 [==============================] - 0s 5ms/step - loss: 0.0478\n",
            "Epoch 180/250\n",
            "1/1 [==============================] - 0s 5ms/step - loss: 0.0468\n",
            "Epoch 181/250\n",
            "1/1 [==============================] - 0s 5ms/step - loss: 0.0459\n",
            "Epoch 182/250\n",
            "1/1 [==============================] - 0s 5ms/step - loss: 0.0449\n",
            "Epoch 183/250\n",
            "1/1 [==============================] - 0s 6ms/step - loss: 0.0440\n",
            "Epoch 184/250\n",
            "1/1 [==============================] - 0s 5ms/step - loss: 0.0431\n",
            "Epoch 185/250\n",
            "1/1 [==============================] - 0s 6ms/step - loss: 0.0422\n",
            "Epoch 186/250\n",
            "1/1 [==============================] - 0s 6ms/step - loss: 0.0414\n",
            "Epoch 187/250\n",
            "1/1 [==============================] - 0s 6ms/step - loss: 0.0405\n",
            "Epoch 188/250\n",
            "1/1 [==============================] - 0s 5ms/step - loss: 0.0397\n",
            "Epoch 189/250\n",
            "1/1 [==============================] - 0s 6ms/step - loss: 0.0389\n",
            "Epoch 190/250\n",
            "1/1 [==============================] - 0s 7ms/step - loss: 0.0381\n",
            "Epoch 191/250\n",
            "1/1 [==============================] - 0s 8ms/step - loss: 0.0373\n",
            "Epoch 192/250\n",
            "1/1 [==============================] - 0s 6ms/step - loss: 0.0366\n",
            "Epoch 193/250\n",
            "1/1 [==============================] - 0s 11ms/step - loss: 0.0358\n",
            "Epoch 194/250\n",
            "1/1 [==============================] - 0s 12ms/step - loss: 0.0351\n",
            "Epoch 195/250\n",
            "1/1 [==============================] - 0s 11ms/step - loss: 0.0344\n",
            "Epoch 196/250\n",
            "1/1 [==============================] - 0s 9ms/step - loss: 0.0337\n",
            "Epoch 197/250\n",
            "1/1 [==============================] - 0s 9ms/step - loss: 0.0330\n",
            "Epoch 198/250\n",
            "1/1 [==============================] - 0s 5ms/step - loss: 0.0323\n",
            "Epoch 199/250\n",
            "1/1 [==============================] - 0s 6ms/step - loss: 0.0316\n",
            "Epoch 200/250\n",
            "1/1 [==============================] - 0s 5ms/step - loss: 0.0310\n",
            "Epoch 201/250\n",
            "1/1 [==============================] - 0s 6ms/step - loss: 0.0304\n",
            "Epoch 202/250\n",
            "1/1 [==============================] - 0s 7ms/step - loss: 0.0297\n",
            "Epoch 203/250\n",
            "1/1 [==============================] - 0s 6ms/step - loss: 0.0291\n",
            "Epoch 204/250\n",
            "1/1 [==============================] - 0s 6ms/step - loss: 0.0285\n",
            "Epoch 205/250\n",
            "1/1 [==============================] - 0s 7ms/step - loss: 0.0280\n",
            "Epoch 206/250\n",
            "1/1 [==============================] - 0s 6ms/step - loss: 0.0274\n",
            "Epoch 207/250\n",
            "1/1 [==============================] - 0s 6ms/step - loss: 0.0268\n",
            "Epoch 208/250\n",
            "1/1 [==============================] - 0s 6ms/step - loss: 0.0263\n",
            "Epoch 209/250\n",
            "1/1 [==============================] - 0s 7ms/step - loss: 0.0257\n",
            "Epoch 210/250\n",
            "1/1 [==============================] - 0s 10ms/step - loss: 0.0252\n",
            "Epoch 211/250\n",
            "1/1 [==============================] - 0s 6ms/step - loss: 0.0247\n",
            "Epoch 212/250\n",
            "1/1 [==============================] - 0s 6ms/step - loss: 0.0242\n",
            "Epoch 213/250\n",
            "1/1 [==============================] - 0s 7ms/step - loss: 0.0237\n",
            "Epoch 214/250\n",
            "1/1 [==============================] - 0s 7ms/step - loss: 0.0232\n",
            "Epoch 215/250\n",
            "1/1 [==============================] - 0s 7ms/step - loss: 0.0227\n",
            "Epoch 216/250\n",
            "1/1 [==============================] - 0s 8ms/step - loss: 0.0223\n",
            "Epoch 217/250\n",
            "1/1 [==============================] - 0s 6ms/step - loss: 0.0218\n",
            "Epoch 218/250\n",
            "1/1 [==============================] - 0s 6ms/step - loss: 0.0214\n",
            "Epoch 219/250\n",
            "1/1 [==============================] - 0s 6ms/step - loss: 0.0209\n",
            "Epoch 220/250\n",
            "1/1 [==============================] - 0s 6ms/step - loss: 0.0205\n",
            "Epoch 221/250\n",
            "1/1 [==============================] - 0s 7ms/step - loss: 0.0201\n",
            "Epoch 222/250\n",
            "1/1 [==============================] - 0s 6ms/step - loss: 0.0197\n",
            "Epoch 223/250\n",
            "1/1 [==============================] - 0s 7ms/step - loss: 0.0193\n",
            "Epoch 224/250\n",
            "1/1 [==============================] - 0s 8ms/step - loss: 0.0189\n",
            "Epoch 225/250\n",
            "1/1 [==============================] - 0s 7ms/step - loss: 0.0185\n",
            "Epoch 226/250\n",
            "1/1 [==============================] - 0s 5ms/step - loss: 0.0181\n",
            "Epoch 227/250\n",
            "1/1 [==============================] - 0s 5ms/step - loss: 0.0178\n",
            "Epoch 228/250\n",
            "1/1 [==============================] - 0s 6ms/step - loss: 0.0174\n",
            "Epoch 229/250\n",
            "1/1 [==============================] - 0s 7ms/step - loss: 0.0170\n",
            "Epoch 230/250\n",
            "1/1 [==============================] - 0s 6ms/step - loss: 0.0167\n",
            "Epoch 231/250\n",
            "1/1 [==============================] - 0s 6ms/step - loss: 0.0163\n",
            "Epoch 232/250\n",
            "1/1 [==============================] - 0s 7ms/step - loss: 0.0160\n",
            "Epoch 233/250\n",
            "1/1 [==============================] - 0s 6ms/step - loss: 0.0157\n",
            "Epoch 234/250\n",
            "1/1 [==============================] - 0s 6ms/step - loss: 0.0154\n",
            "Epoch 235/250\n",
            "1/1 [==============================] - 0s 6ms/step - loss: 0.0151\n",
            "Epoch 236/250\n",
            "1/1 [==============================] - 0s 6ms/step - loss: 0.0147\n",
            "Epoch 237/250\n",
            "1/1 [==============================] - 0s 10ms/step - loss: 0.0144\n",
            "Epoch 238/250\n",
            "1/1 [==============================] - 0s 7ms/step - loss: 0.0141\n",
            "Epoch 239/250\n",
            "1/1 [==============================] - 0s 6ms/step - loss: 0.0139\n",
            "Epoch 240/250\n",
            "1/1 [==============================] - 0s 6ms/step - loss: 0.0136\n",
            "Epoch 241/250\n",
            "1/1 [==============================] - 0s 6ms/step - loss: 0.0133\n",
            "Epoch 242/250\n",
            "1/1 [==============================] - 0s 6ms/step - loss: 0.0130\n",
            "Epoch 243/250\n",
            "1/1 [==============================] - 0s 6ms/step - loss: 0.0128\n",
            "Epoch 244/250\n",
            "1/1 [==============================] - 0s 7ms/step - loss: 0.0125\n",
            "Epoch 245/250\n",
            "1/1 [==============================] - 0s 6ms/step - loss: 0.0122\n",
            "Epoch 246/250\n",
            "1/1 [==============================] - 0s 7ms/step - loss: 0.0120\n",
            "Epoch 247/250\n",
            "1/1 [==============================] - 0s 6ms/step - loss: 0.0118\n",
            "Epoch 248/250\n",
            "1/1 [==============================] - 0s 9ms/step - loss: 0.0115\n",
            "Epoch 249/250\n",
            "1/1 [==============================] - 0s 5ms/step - loss: 0.0113\n",
            "Epoch 250/250\n",
            "1/1 [==============================] - 0s 6ms/step - loss: 0.0110\n"
          ]
        },
        {
          "output_type": "execute_result",
          "data": {
            "text/plain": [
              "<keras.callbacks.History at 0x7f3830304890>"
            ]
          },
          "metadata": {},
          "execution_count": 7
        }
      ],
      "source": [
        "#compile and train the model.\n",
        "#compile and indicate the optimezer and the model. By the moment we need to understand that this both functions are where the magic happens. \n",
        "#The optimizer is the function responsible to make a guess. \n",
        "#The loss function is responsible to indicate how accurated the guees is. \n",
        "#They try to be more accurated in each epoch\n",
        "model.compile(optimizer=\"sgd\", loss=\"mean_squared_error\") \n",
        "model.fit(X, y, epochs=250)"
      ]
    },
    {
      "cell_type": "code",
      "execution_count": 8,
      "metadata": {
        "colab": {
          "base_uri": "https://localhost:8080/"
        },
        "id": "cqtIdC_PZxAU",
        "outputId": "10ec4478-464a-4728-a9a6-14aa3aaec9f1"
      },
      "outputs": [
        {
          "output_type": "stream",
          "name": "stdout",
          "text": [
            "[[-7.9107337]]\n"
          ]
        }
      ],
      "source": [
        "#expect something near -8. \n",
        "print(model.predict([10.0]))"
      ]
    },
    {
      "cell_type": "markdown",
      "metadata": {
        "id": "V-EfFty6_uKR"
      },
      "source": [
        "# Working with Images\n",
        "Dataset:\n",
        "This dataset is really common and used in a los of samples and tutorials. \n",
        "https://download.microsoft.com/download/3/E/1/3E1C3F21-ECDB-4869-8368-6DEBA77B919F/kagglecatsanddogs_5340.zip\n",
        "\n",
        "References: \n",
        "\n",
        "This is an amazing article, using Keras, but not with Tensorflow. I got a lot of information and inspiration from this articles. For sure that anyone able to follow this course can understand and get ideas. \n",
        "\n",
        "https://machinelearningmastery.com/how-to-develop-a-convolutional-neural-network-to-classify-photos-of-dogs-and-cats/\n",
        "\n",
        "Maybe the best introduction to Machine Learning with tensorflow is the list from Laurence Moroney available in youtube. I get a lot from the video number 5, to create this sample. \n",
        "https://www.youtube.com/watch?v=nq7_ZYJPWf0&t=5s\n",
        "\n",
        "\n",
        "As you can see all the aproches are similar, but not the same. Is easy to copy one model who works with the same dataset, but you must understand what are you doing and experiment by yourself. "
      ]
    },
    {
      "cell_type": "code",
      "execution_count": 9,
      "metadata": {
        "colab": {
          "base_uri": "https://localhost:8080/"
        },
        "id": "OvREzvxr5nSj",
        "outputId": "52274643-64a3-4d85-b05d-61a493433bf0"
      },
      "outputs": [
        {
          "output_type": "stream",
          "name": "stdout",
          "text": [
            "2.8.2\n"
          ]
        }
      ],
      "source": [
        "#First step is import the libraries. \n",
        "import tensorflow as tf\n",
        "#Numpy is a lybrary that allow us to work with arrays. \n",
        "import numpy as np\n",
        "#keras is an open source neural networks lybrary writted in python that run's in varios frameworks, TensorFlow included. \n",
        "from tensorflow import keras\n",
        "from time import time\n",
        "\n",
        "print (tf.__version__)\n"
      ]
    },
    {
      "cell_type": "code",
      "source": [
        "gEpochs=10"
      ],
      "metadata": {
        "id": "ZaAByKGTQHoQ"
      },
      "execution_count": 10,
      "outputs": []
    },
    {
      "cell_type": "code",
      "source": [
        "import matplotlib.pyplot as plt\n",
        "\n",
        "def plot_loss_acc(history):\n",
        "  '''Plots the training and validation loss and accuracy from a history object'''\n",
        "  acc = history.history['accuracy']\n",
        "  val_acc = history.history['val_accuracy']\n",
        "  loss = history.history['loss']\n",
        "  val_loss = history.history['val_loss']\n",
        "\n",
        "  epochs = range(len(acc))\n",
        "\n",
        "  plt.plot(epochs, acc, 'bo-', label='Training accuracy')\n",
        "  plt.plot(epochs, val_acc, 'go-', label='Validation accuracy')\n",
        "  plt.title('Training and validation accuracy')\n",
        "  plt.legend()\n",
        "\n",
        "  plt.figure()\n",
        "\n",
        "  plt.plot(epochs, loss, 'bo-', label='Training Loss')\n",
        "  plt.plot(epochs, val_loss, 'go-', label='Validation Loss')\n",
        "  plt.title('Training and validation loss')\n",
        "  plt.legend()\n",
        "\n",
        "  plt.show()"
      ],
      "metadata": {
        "id": "knnSbKJsafZ-"
      },
      "execution_count": 11,
      "outputs": []
    },
    {
      "cell_type": "code",
      "execution_count": 12,
      "metadata": {
        "colab": {
          "base_uri": "https://localhost:8080/"
        },
        "id": "S91fBKeP_0Ng",
        "outputId": "eb9f37c5-3420-4fc6-f7b4-cf00881e4c73"
      },
      "outputs": [
        {
          "output_type": "stream",
          "name": "stdout",
          "text": [
            "--2022-07-14 05:49:47--  https://download.microsoft.com/download/3/E/1/3E1C3F21-ECDB-4869-8368-6DEBA77B919F/kagglecatsanddogs_5340.zip\n",
            "Resolving download.microsoft.com (download.microsoft.com)... 92.123.124.137, 2a02:26f0:6b:5a5::e59, 2a02:26f0:6b:5b3::e59\n",
            "Connecting to download.microsoft.com (download.microsoft.com)|92.123.124.137|:443... connected.\n",
            "HTTP request sent, awaiting response... 200 OK\n",
            "Length: 824887076 (787M) [application/octet-stream]\n",
            "Saving to: ‘/tmp/catsvsdogs.zip’\n",
            "\n",
            "/tmp/catsvsdogs.zip 100%[===================>] 786.67M   127MB/s    in 6.2s    \n",
            "\n",
            "2022-07-14 05:49:54 (127 MB/s) - ‘/tmp/catsvsdogs.zip’ saved [824887076/824887076]\n",
            "\n"
          ]
        }
      ],
      "source": [
        "#obtain the data from microsoft.com\n",
        "#the same dataset is available in kaggle but with a different organization\n",
        "#https://www.kaggle.com/competitions/dogs-vs-cats/data\n",
        "\n",
        "!wget --no-check-certificate \\\n",
        "https://download.microsoft.com/download/3/E/1/3E1C3F21-ECDB-4869-8368-6DEBA77B919F/kagglecatsanddogs_5340.zip \\-O /tmp/catsvsdogs.zip\n",
        "\n"
      ]
    },
    {
      "cell_type": "code",
      "execution_count": 13,
      "metadata": {
        "id": "OkyG_WmaOJlP"
      },
      "outputs": [],
      "source": [
        "#unzip the data\n",
        "import zipfile\n",
        "cvr_zip_file = '/tmp/catsvsdogs.zip'\n",
        "zipmem = zipfile.ZipFile(cvr_zip_file)\n",
        "zipmem.extractall('/tmp/catsvsdogs')\n",
        "zipmem.close()\n",
        "\n"
      ]
    },
    {
      "cell_type": "code",
      "execution_count": 14,
      "metadata": {
        "id": "iUJmgc99vKD_"
      },
      "outputs": [],
      "source": [
        "#create the directory structure\n",
        "import os\n",
        "\n",
        "#we need a try block, because it fails when the directories already exist. \n",
        "try:\n",
        "  os.mkdir('/tmp/datacvd')\n",
        "  os.mkdir('/tmp/datacvd/train')\n",
        "  os.mkdir('/tmp/datacvd/validation')\n",
        "  os.mkdir('/tmp/datacvd/train/cats')\n",
        "  os.mkdir('/tmp/datacvd/train/dogs')\n",
        "  os.mkdir('/tmp/datacvd/validation/cats')\n",
        "  os.mkdir('/tmp/datacvd/validation/dogs')\n",
        "except:\n",
        "  pass"
      ]
    },
    {
      "cell_type": "code",
      "execution_count": 15,
      "metadata": {
        "colab": {
          "base_uri": "https://localhost:8080/"
        },
        "id": "VrAvPeb2zxce",
        "outputId": "2ca7b3ca-be42-4c8c-c069-cec8e8cf397e"
      },
      "outputs": [
        {
          "output_type": "stream",
          "name": "stdout",
          "text": [
            "2000\n",
            "10500\n",
            "2000\n",
            "10500\n"
          ]
        }
      ],
      "source": [
        "#we need 4 datasets, two for training the model and two for validate or test the model. \n",
        "#to classify the images in this dataset we can move it from their original directories to \n",
        "#a new ones with the correct structure. \n",
        "\n",
        "from shutil import copyfile\n",
        "\n",
        "#this array contents all the images to move/copy\n",
        "imagesCats=[]\n",
        "imagesDogs=[]\n",
        "\n",
        "for imagename in os.listdir('/tmp/catsvsdogs/PetImages/Cat/'):\n",
        "  imageCat = '/tmp/catsvsdogs/PetImages/Cat/' + imagename\n",
        "  if (os.path.getsize(imageCat)) > 0:\n",
        "    imagesCats.append(imagename)\n",
        "\n",
        "\n",
        "for imagename in os.listdir('/tmp/catsvsdogs/PetImages/Dog/'):\n",
        "  imageDog = '/tmp/catsvsdogs/PetImages/Dog/' + imagename\n",
        "  if (os.path.getsize(imageDog)) > 0:\n",
        "    imagesDogs.append(imagename)\n",
        "\n",
        "\n",
        "\n",
        "\n",
        "counterImage = 0\n",
        "for imagename in imagesCats:\n",
        "  if  counterImage < 2000:\n",
        "    copyfile('/tmp/catsvsdogs/PetImages/Cat/' + imagename, '/tmp/datacvd/validation/cats/'+imagename)\n",
        "  else:\n",
        "    copyfile('/tmp/catsvsdogs/PetImages/Cat/' + imagename, '/tmp/datacvd/train/cats/'+imagename)\n",
        "  counterImage +=1\n",
        "\n",
        "counterImage = 0\n",
        "for imagename in imagesDogs:\n",
        "  if  counterImage < 2000:\n",
        "    copyfile('/tmp/catsvsdogs/PetImages/Dog/' + imagename, '/tmp/datacvd/validation/dogs/'+imagename)\n",
        "  else:\n",
        "    copyfile('/tmp/catsvsdogs/PetImages/Dog/' + imagename, '/tmp/datacvd/train/dogs/'+imagename)\n",
        "  counterImage +=1\n",
        "\n",
        "print(len(os.listdir('/tmp/datacvd/validation/dogs/')))\n",
        "print(len(os.listdir('/tmp/datacvd/train/dogs/')))\n",
        "print(len(os.listdir('/tmp/datacvd/validation/cats/')))\n",
        "print(len(os.listdir('/tmp/datacvd/train/cats/')))\n"
      ]
    },
    {
      "cell_type": "code",
      "execution_count": 16,
      "metadata": {
        "id": "4IjdNUfPbPsQ"
      },
      "outputs": [],
      "source": [
        "#create the model\n",
        "#it's a minimal model for images, with just an Convolutionatl layer and a MaxPooling layer\n",
        "model = tf.keras.models.Sequential([\n",
        "  tf.keras.layers.Conv2D(16, (4,4), activation=\"relu\", input_shape=(150, 150, 3)),\n",
        "  tf.keras.layers.MaxPooling2D(2,2),  \n",
        "  tf.keras.layers.Flatten(), \n",
        "  tf.keras.layers.Dense(128, activation=\"relu\"), \n",
        "  tf.keras.layers.Dense(1, activation=\"sigmoid\")\n",
        "])\n"
      ]
    },
    {
      "cell_type": "code",
      "execution_count": 17,
      "metadata": {
        "colab": {
          "base_uri": "https://localhost:8080/"
        },
        "id": "IKQXXxUzefcZ",
        "outputId": "d06cb607-b725-44d8-ddf6-3c304808ca3c"
      },
      "outputs": [
        {
          "output_type": "stream",
          "name": "stdout",
          "text": [
            "Model: \"sequential_2\"\n",
            "_________________________________________________________________\n",
            " Layer (type)                Output Shape              Param #   \n",
            "=================================================================\n",
            " conv2d (Conv2D)             (None, 147, 147, 16)      784       \n",
            "                                                                 \n",
            " max_pooling2d (MaxPooling2D  (None, 73, 73, 16)       0         \n",
            " )                                                               \n",
            "                                                                 \n",
            " flatten (Flatten)           (None, 85264)             0         \n",
            "                                                                 \n",
            " dense_2 (Dense)             (None, 128)               10913920  \n",
            "                                                                 \n",
            " dense_3 (Dense)             (None, 1)                 129       \n",
            "                                                                 \n",
            "=================================================================\n",
            "Total params: 10,914,833\n",
            "Trainable params: 10,914,833\n",
            "Non-trainable params: 0\n",
            "_________________________________________________________________\n"
          ]
        }
      ],
      "source": [
        "model.summary()"
      ]
    },
    {
      "cell_type": "code",
      "execution_count": 18,
      "metadata": {
        "id": "9lU68GaYeo8h"
      },
      "outputs": [],
      "source": [
        " #create the model2\n",
        "#a model with more convutionals and Pooling layers obtains leess parameters. \n",
        "model2 = tf.keras.models.Sequential([\n",
        "  tf.keras.layers.Conv2D(16, (4,4), activation=\"relu\", input_shape=(150, 150, 3)),\n",
        "  tf.keras.layers.MaxPooling2D(2,2),  \n",
        "  tf.keras.layers.Conv2D(32, (4,4), activation=\"relu\"),\n",
        "  tf.keras.layers.MaxPooling2D(2,2),  \n",
        "  tf.keras.layers.Conv2D(64, (4,4), activation=\"relu\"),\n",
        "  tf.keras.layers.MaxPooling2D(2,2),  \n",
        "  tf.keras.layers.Flatten(), \n",
        "  tf.keras.layers.Dense(512, activation=\"relu\"), \n",
        "  tf.keras.layers.Dense(1, activation=\"sigmoid\")\n",
        "])"
      ]
    },
    {
      "cell_type": "code",
      "execution_count": 19,
      "metadata": {
        "colab": {
          "base_uri": "https://localhost:8080/"
        },
        "id": "ygmXqTe_e3Tx",
        "outputId": "27a4de6b-50f9-4e89-e195-5247869d28aa"
      },
      "outputs": [
        {
          "output_type": "stream",
          "name": "stdout",
          "text": [
            "Model: \"sequential_3\"\n",
            "_________________________________________________________________\n",
            " Layer (type)                Output Shape              Param #   \n",
            "=================================================================\n",
            " conv2d_1 (Conv2D)           (None, 147, 147, 16)      784       \n",
            "                                                                 \n",
            " max_pooling2d_1 (MaxPooling  (None, 73, 73, 16)       0         \n",
            " 2D)                                                             \n",
            "                                                                 \n",
            " conv2d_2 (Conv2D)           (None, 70, 70, 32)        8224      \n",
            "                                                                 \n",
            " max_pooling2d_2 (MaxPooling  (None, 35, 35, 32)       0         \n",
            " 2D)                                                             \n",
            "                                                                 \n",
            " conv2d_3 (Conv2D)           (None, 32, 32, 64)        32832     \n",
            "                                                                 \n",
            " max_pooling2d_3 (MaxPooling  (None, 16, 16, 64)       0         \n",
            " 2D)                                                             \n",
            "                                                                 \n",
            " flatten_1 (Flatten)         (None, 16384)             0         \n",
            "                                                                 \n",
            " dense_4 (Dense)             (None, 512)               8389120   \n",
            "                                                                 \n",
            " dense_5 (Dense)             (None, 1)                 513       \n",
            "                                                                 \n",
            "=================================================================\n",
            "Total params: 8,431,473\n",
            "Trainable params: 8,431,473\n",
            "Non-trainable params: 0\n",
            "_________________________________________________________________\n"
          ]
        }
      ],
      "source": [
        "model2.summary()"
      ]
    },
    {
      "cell_type": "code",
      "execution_count": 20,
      "metadata": {
        "id": "Wf3hcRN8e6sb"
      },
      "outputs": [],
      "source": [
        "#compile models \n",
        "from tensorflow.keras.optimizers import RMSprop\n",
        "#binary_crossentropy is a loss function that works really weel with binary clasifications. \n",
        "model.compile(loss=\"binary_crossentropy\", \n",
        "              optimizer=RMSprop(learning_rate=0.001), \n",
        "              metrics=['accuracy'])\n",
        "model2.compile(loss=\"binary_crossentropy\", \n",
        "              optimizer=RMSprop(learning_rate=0.001), \n",
        "              metrics=['accuracy'])"
      ]
    },
    {
      "cell_type": "code",
      "execution_count": 21,
      "metadata": {
        "colab": {
          "base_uri": "https://localhost:8080/"
        },
        "id": "gxgcfWQugXoH",
        "outputId": "0633ebc3-b0ff-4a35-ae9c-5da8d976269f"
      },
      "outputs": [
        {
          "output_type": "stream",
          "name": "stdout",
          "text": [
            "Found 20998 images belonging to 2 classes.\n",
            "Found 4000 images belonging to 2 classes.\n"
          ]
        }
      ],
      "source": [
        "#preparing the images\n",
        "from tensorflow.keras.preprocessing.image import ImageDataGenerator\n",
        "#TRAIN Dataset\n",
        "#Normalize the images\n",
        "train_idg = ImageDataGenerator(rescale=1/255)\n",
        "train_data = train_idg.flow_from_directory(\n",
        "    '/tmp/datacvd/train', \n",
        "    target_size = (150, 150), \n",
        "    batch_size = 105, \n",
        "    class_mode='binary'\n",
        ")\n",
        "#VALIDATION Dataset\n",
        "val_idg = ImageDataGenerator(rescale=1/255)\n",
        "val_data = val_idg.flow_from_directory(\n",
        "    '/tmp/datacvd/validation', \n",
        "    target_size = (150, 150), \n",
        "    batch_size = 100, \n",
        "    class_mode='binary'\n",
        ")"
      ]
    },
    {
      "cell_type": "code",
      "execution_count": 22,
      "metadata": {
        "colab": {
          "base_uri": "https://localhost:8080/"
        },
        "id": "pgLBJic-m2Gz",
        "outputId": "691c8295-626e-4c48-b2bf-9363e58693c6"
      },
      "outputs": [
        {
          "output_type": "stream",
          "name": "stdout",
          "text": [
            "Epoch 1/10\n",
            "159/200 [======================>.......] - ETA: 11s - loss: 1.3129 - accuracy: 0.6110"
          ]
        },
        {
          "output_type": "stream",
          "name": "stderr",
          "text": [
            "/usr/local/lib/python3.7/dist-packages/PIL/TiffImagePlugin.py:770: UserWarning: Possibly corrupt EXIF data.  Expecting to read 32 bytes but only got 0. Skipping tag 270\n",
            "  \" Skipping tag %s\" % (size, len(data), tag)\n",
            "/usr/local/lib/python3.7/dist-packages/PIL/TiffImagePlugin.py:770: UserWarning: Possibly corrupt EXIF data.  Expecting to read 5 bytes but only got 0. Skipping tag 271\n",
            "  \" Skipping tag %s\" % (size, len(data), tag)\n",
            "/usr/local/lib/python3.7/dist-packages/PIL/TiffImagePlugin.py:770: UserWarning: Possibly corrupt EXIF data.  Expecting to read 8 bytes but only got 0. Skipping tag 272\n",
            "  \" Skipping tag %s\" % (size, len(data), tag)\n",
            "/usr/local/lib/python3.7/dist-packages/PIL/TiffImagePlugin.py:770: UserWarning: Possibly corrupt EXIF data.  Expecting to read 8 bytes but only got 0. Skipping tag 282\n",
            "  \" Skipping tag %s\" % (size, len(data), tag)\n",
            "/usr/local/lib/python3.7/dist-packages/PIL/TiffImagePlugin.py:770: UserWarning: Possibly corrupt EXIF data.  Expecting to read 8 bytes but only got 0. Skipping tag 283\n",
            "  \" Skipping tag %s\" % (size, len(data), tag)\n",
            "/usr/local/lib/python3.7/dist-packages/PIL/TiffImagePlugin.py:770: UserWarning: Possibly corrupt EXIF data.  Expecting to read 20 bytes but only got 0. Skipping tag 306\n",
            "  \" Skipping tag %s\" % (size, len(data), tag)\n",
            "/usr/local/lib/python3.7/dist-packages/PIL/TiffImagePlugin.py:770: UserWarning: Possibly corrupt EXIF data.  Expecting to read 48 bytes but only got 0. Skipping tag 532\n",
            "  \" Skipping tag %s\" % (size, len(data), tag)\n",
            "/usr/local/lib/python3.7/dist-packages/PIL/TiffImagePlugin.py:788: UserWarning: Corrupt EXIF data.  Expecting to read 2 bytes but only got 0. \n",
            "  warnings.warn(str(msg))\n"
          ]
        },
        {
          "output_type": "stream",
          "name": "stdout",
          "text": [
            "200/200 [==============================] - 78s 344ms/step - loss: 1.1660 - accuracy: 0.6263 - val_loss: 0.5906 - val_accuracy: 0.7010\n",
            "Epoch 2/10\n",
            "200/200 [==============================] - 68s 340ms/step - loss: 0.5308 - accuracy: 0.7417 - val_loss: 0.5429 - val_accuracy: 0.7358\n",
            "Epoch 3/10\n",
            "200/200 [==============================] - 68s 342ms/step - loss: 0.4492 - accuracy: 0.7923 - val_loss: 0.5329 - val_accuracy: 0.7402\n",
            "Epoch 4/10\n",
            "200/200 [==============================] - 67s 335ms/step - loss: 0.3697 - accuracy: 0.8432 - val_loss: 0.5944 - val_accuracy: 0.7310\n",
            "Epoch 5/10\n",
            "200/200 [==============================] - 67s 333ms/step - loss: 0.2870 - accuracy: 0.8840 - val_loss: 0.6124 - val_accuracy: 0.7405\n",
            "Epoch 6/10\n",
            "200/200 [==============================] - 67s 335ms/step - loss: 0.2044 - accuracy: 0.9241 - val_loss: 0.7162 - val_accuracy: 0.7405\n",
            "Epoch 7/10\n",
            "200/200 [==============================] - 67s 333ms/step - loss: 0.1465 - accuracy: 0.9525 - val_loss: 0.7530 - val_accuracy: 0.7412\n",
            "Epoch 8/10\n",
            "200/200 [==============================] - 68s 338ms/step - loss: 0.1024 - accuracy: 0.9719 - val_loss: 0.8680 - val_accuracy: 0.7398\n",
            "Epoch 9/10\n",
            "200/200 [==============================] - 67s 336ms/step - loss: 0.0915 - accuracy: 0.9791 - val_loss: 1.0135 - val_accuracy: 0.7385\n",
            "Epoch 10/10\n",
            "200/200 [==============================] - 66s 331ms/step - loss: 0.0928 - accuracy: 0.9821 - val_loss: 1.0677 - val_accuracy: 0.7490\n"
          ]
        }
      ],
      "source": [
        "#Training the model\n",
        "#epochs * steps_per_epoch * batch_size\n",
        "\n",
        "history = model.fit(\n",
        "     train_data,\n",
        "     validation_data = val_data, \n",
        "     epochs=gEpochs,\n",
        "     steps_per_epoch=200,\n",
        "     validation_steps=40,\n",
        "     verbose=1)"
      ]
    },
    {
      "cell_type": "code",
      "source": [
        "plot_loss_acc(history)"
      ],
      "metadata": {
        "colab": {
          "base_uri": "https://localhost:8080/",
          "height": 545
        },
        "id": "bD_uGQQnbAix",
        "outputId": "c493d6d9-67b7-43a6-e989-166cb2487aef"
      },
      "execution_count": 23,
      "outputs": [
        {
          "output_type": "display_data",
          "data": {
            "text/plain": [
              "<Figure size 432x288 with 1 Axes>"
            ],
            "image/png": "[encoded data removed]"
          },
          "metadata": {
            "needs_background": "light"
          }
        },
        {
          "output_type": "display_data",
          "data": {
            "text/plain": [
              "<Figure size 432x288 with 1 Axes>"
            ],
            "image/png": "[encoded data removed]"
          },
          "metadata": {
            "needs_background": "light"
          }
        }
      ]
    },
    {
      "cell_type": "code",
      "execution_count": 24,
      "metadata": {
        "colab": {
          "base_uri": "https://localhost:8080/"
        },
        "id": "gkzjM_j-nGj0",
        "outputId": "204677ca-1776-4ac1-c27d-f0f4a59db074"
      },
      "outputs": [
        {
          "output_type": "stream",
          "name": "stdout",
          "text": [
            "Epoch 1/10\n",
            " 68/200 [=========>....................] - ETA: 38s - loss: 0.7661 - accuracy: 0.5490"
          ]
        },
        {
          "output_type": "stream",
          "name": "stderr",
          "text": [
            "/usr/local/lib/python3.7/dist-packages/PIL/TiffImagePlugin.py:770: UserWarning: Possibly corrupt EXIF data.  Expecting to read 32 bytes but only got 0. Skipping tag 270\n",
            "  \" Skipping tag %s\" % (size, len(data), tag)\n",
            "/usr/local/lib/python3.7/dist-packages/PIL/TiffImagePlugin.py:770: UserWarning: Possibly corrupt EXIF data.  Expecting to read 5 bytes but only got 0. Skipping tag 271\n",
            "  \" Skipping tag %s\" % (size, len(data), tag)\n",
            "/usr/local/lib/python3.7/dist-packages/PIL/TiffImagePlugin.py:770: UserWarning: Possibly corrupt EXIF data.  Expecting to read 8 bytes but only got 0. Skipping tag 272\n",
            "  \" Skipping tag %s\" % (size, len(data), tag)\n",
            "/usr/local/lib/python3.7/dist-packages/PIL/TiffImagePlugin.py:770: UserWarning: Possibly corrupt EXIF data.  Expecting to read 8 bytes but only got 0. Skipping tag 282\n",
            "  \" Skipping tag %s\" % (size, len(data), tag)\n",
            "/usr/local/lib/python3.7/dist-packages/PIL/TiffImagePlugin.py:770: UserWarning: Possibly corrupt EXIF data.  Expecting to read 8 bytes but only got 0. Skipping tag 283\n",
            "  \" Skipping tag %s\" % (size, len(data), tag)\n",
            "/usr/local/lib/python3.7/dist-packages/PIL/TiffImagePlugin.py:770: UserWarning: Possibly corrupt EXIF data.  Expecting to read 20 bytes but only got 0. Skipping tag 306\n",
            "  \" Skipping tag %s\" % (size, len(data), tag)\n",
            "/usr/local/lib/python3.7/dist-packages/PIL/TiffImagePlugin.py:770: UserWarning: Possibly corrupt EXIF data.  Expecting to read 48 bytes but only got 0. Skipping tag 532\n",
            "  \" Skipping tag %s\" % (size, len(data), tag)\n",
            "/usr/local/lib/python3.7/dist-packages/PIL/TiffImagePlugin.py:788: UserWarning: Corrupt EXIF data.  Expecting to read 2 bytes but only got 0. \n",
            "  warnings.warn(str(msg))\n"
          ]
        },
        {
          "output_type": "stream",
          "name": "stdout",
          "text": [
            "200/200 [==============================] - 69s 341ms/step - loss: 0.6773 - accuracy: 0.6182 - val_loss: 0.5495 - val_accuracy: 0.7305\n",
            "Epoch 2/10\n",
            "200/200 [==============================] - 68s 340ms/step - loss: 0.5310 - accuracy: 0.7403 - val_loss: 0.4919 - val_accuracy: 0.7558\n",
            "Epoch 3/10\n",
            "200/200 [==============================] - 67s 335ms/step - loss: 0.4590 - accuracy: 0.7846 - val_loss: 0.4211 - val_accuracy: 0.8095\n",
            "Epoch 4/10\n",
            "200/200 [==============================] - 67s 336ms/step - loss: 0.4001 - accuracy: 0.8190 - val_loss: 0.4137 - val_accuracy: 0.8127\n",
            "Epoch 5/10\n",
            "200/200 [==============================] - 68s 341ms/step - loss: 0.3416 - accuracy: 0.8515 - val_loss: 0.3901 - val_accuracy: 0.8285\n",
            "Epoch 6/10\n",
            "200/200 [==============================] - 67s 336ms/step - loss: 0.2827 - accuracy: 0.8795 - val_loss: 0.4511 - val_accuracy: 0.7872\n",
            "Epoch 7/10\n",
            "200/200 [==============================] - 67s 337ms/step - loss: 0.2140 - accuracy: 0.9141 - val_loss: 0.8103 - val_accuracy: 0.7120\n",
            "Epoch 8/10\n",
            "200/200 [==============================] - 68s 339ms/step - loss: 0.1451 - accuracy: 0.9446 - val_loss: 0.5671 - val_accuracy: 0.8188\n",
            "Epoch 9/10\n",
            "200/200 [==============================] - 67s 335ms/step - loss: 0.0994 - accuracy: 0.9636 - val_loss: 0.6131 - val_accuracy: 0.8378\n",
            "Epoch 10/10\n",
            "200/200 [==============================] - 67s 335ms/step - loss: 0.0664 - accuracy: 0.9759 - val_loss: 0.8005 - val_accuracy: 0.8365\n"
          ]
        }
      ],
      "source": [
        "#Training the model2\n",
        "history2 = model2.fit(\n",
        "     train_data,\n",
        "     validation_data = val_data, \n",
        "     epochs=gEpochs,\n",
        "     steps_per_epoch=200,\n",
        "     validation_steps=40,\n",
        "     verbose=1)"
      ]
    },
    {
      "cell_type": "code",
      "execution_count": 25,
      "metadata": {
        "colab": {
          "base_uri": "https://localhost:8080/",
          "height": 545
        },
        "id": "JNviBnsWtnVb",
        "outputId": "c4c3d0d4-8e3b-430d-93b4-80e8a0d4ec54"
      },
      "outputs": [
        {
          "output_type": "display_data",
          "data": {
            "text/plain": [
              "<Figure size 432x288 with 1 Axes>"
            ],
            "image/png": "[encoded data removed]"
          },
          "metadata": {
            "needs_background": "light"
          }
        },
        {
          "output_type": "display_data",
          "data": {
            "text/plain": [
              "<Figure size 432x288 with 1 Axes>"
            ],
            "image/png": "[encoded data removed]"
          },
          "metadata": {
            "needs_background": "light"
          }
        }
      ],
      "source": [
        "\n",
        "plot_loss_acc(history2)"
      ]
    },
    {
      "cell_type": "markdown",
      "metadata": {
        "id": "AUpHU6tfprGQ"
      },
      "source": [
        "## Solve OVERFITTING with Image Augmentation\n",
        "Image augmentation add variations to the images reducing the overfitting. \n",
        "\n",
        "\n",
        "\n"
      ]
    },
    {
      "cell_type": "code",
      "execution_count": 26,
      "metadata": {
        "colab": {
          "base_uri": "https://localhost:8080/"
        },
        "id": "X4WfEZ6gpq1I",
        "outputId": "f71870b1-f5e4-4989-a5e1-919b84a4aac9"
      },
      "outputs": [
        {
          "output_type": "stream",
          "name": "stdout",
          "text": [
            "Found 20998 images belonging to 2 classes.\n",
            "Found 4000 images belonging to 2 classes.\n"
          ]
        }
      ],
      "source": [
        "#preparing the images but using random movements to obtain images from \n",
        "#image augmentation applied only to train data generator. \n",
        "\n",
        "from tensorflow.keras.preprocessing.image import ImageDataGenerator\n",
        "#TRAIN Dataset\n",
        "#Normalize the images\n",
        "train_idg = ImageDataGenerator(rescale=1/255, \n",
        "                               rotation_range=20, \n",
        "                               width_shift_range=0.1, \n",
        "                               height_shift_range=0.1, \n",
        "                               shear_range=0.2, \n",
        "                               zoom_range=0.1, \n",
        "                               horizontal_flip=True)\n",
        "train_data = train_idg.flow_from_directory(\n",
        "    '/tmp/datacvd/train', \n",
        "    target_size = (150, 150), \n",
        "    batch_size = 105, \n",
        "    class_mode='binary'\n",
        ")\n",
        "#VALIDATION Dataset\n",
        "val_idg = ImageDataGenerator(rescale=1/255)\n",
        "val_data = val_idg.flow_from_directory(\n",
        "    '/tmp/datacvd/validation', \n",
        "    target_size = (150, 150), \n",
        "    batch_size = 100, \n",
        "    class_mode='binary'\n",
        ")"
      ]
    },
    {
      "cell_type": "code",
      "execution_count": 27,
      "metadata": {
        "colab": {
          "base_uri": "https://localhost:8080/"
        },
        "id": "u3sRQBeC1Ao4",
        "outputId": "a3b7983b-7440-42d7-9883-46c7b810aebc"
      },
      "outputs": [
        {
          "output_type": "stream",
          "name": "stdout",
          "text": [
            "Epoch 1/10\n",
            "184/200 [==========================>...] - ETA: 11s - loss: 0.6021 - accuracy: 0.7039"
          ]
        },
        {
          "output_type": "stream",
          "name": "stderr",
          "text": [
            "/usr/local/lib/python3.7/dist-packages/PIL/TiffImagePlugin.py:770: UserWarning: Possibly corrupt EXIF data.  Expecting to read 32 bytes but only got 0. Skipping tag 270\n",
            "  \" Skipping tag %s\" % (size, len(data), tag)\n",
            "/usr/local/lib/python3.7/dist-packages/PIL/TiffImagePlugin.py:770: UserWarning: Possibly corrupt EXIF data.  Expecting to read 5 bytes but only got 0. Skipping tag 271\n",
            "  \" Skipping tag %s\" % (size, len(data), tag)\n",
            "/usr/local/lib/python3.7/dist-packages/PIL/TiffImagePlugin.py:770: UserWarning: Possibly corrupt EXIF data.  Expecting to read 8 bytes but only got 0. Skipping tag 272\n",
            "  \" Skipping tag %s\" % (size, len(data), tag)\n",
            "/usr/local/lib/python3.7/dist-packages/PIL/TiffImagePlugin.py:770: UserWarning: Possibly corrupt EXIF data.  Expecting to read 8 bytes but only got 0. Skipping tag 282\n",
            "  \" Skipping tag %s\" % (size, len(data), tag)\n",
            "/usr/local/lib/python3.7/dist-packages/PIL/TiffImagePlugin.py:770: UserWarning: Possibly corrupt EXIF data.  Expecting to read 8 bytes but only got 0. Skipping tag 283\n",
            "  \" Skipping tag %s\" % (size, len(data), tag)\n",
            "/usr/local/lib/python3.7/dist-packages/PIL/TiffImagePlugin.py:770: UserWarning: Possibly corrupt EXIF data.  Expecting to read 20 bytes but only got 0. Skipping tag 306\n",
            "  \" Skipping tag %s\" % (size, len(data), tag)\n",
            "/usr/local/lib/python3.7/dist-packages/PIL/TiffImagePlugin.py:770: UserWarning: Possibly corrupt EXIF data.  Expecting to read 48 bytes but only got 0. Skipping tag 532\n",
            "  \" Skipping tag %s\" % (size, len(data), tag)\n",
            "/usr/local/lib/python3.7/dist-packages/PIL/TiffImagePlugin.py:788: UserWarning: Corrupt EXIF data.  Expecting to read 2 bytes but only got 0. \n",
            "  warnings.warn(str(msg))\n"
          ]
        },
        {
          "output_type": "stream",
          "name": "stdout",
          "text": [
            "200/200 [==============================] - 149s 748ms/step - loss: 0.5971 - accuracy: 0.7058 - val_loss: 0.5213 - val_accuracy: 0.7645\n",
            "Epoch 2/10\n",
            "200/200 [==============================] - 149s 746ms/step - loss: 0.5711 - accuracy: 0.7137 - val_loss: 0.5114 - val_accuracy: 0.7548\n",
            "Epoch 3/10\n",
            "200/200 [==============================] - 148s 743ms/step - loss: 0.5575 - accuracy: 0.7250 - val_loss: 0.5389 - val_accuracy: 0.7370\n",
            "Epoch 4/10\n",
            "200/200 [==============================] - 149s 745ms/step - loss: 0.5477 - accuracy: 0.7285 - val_loss: 0.5040 - val_accuracy: 0.7720\n",
            "Epoch 5/10\n",
            "200/200 [==============================] - 150s 748ms/step - loss: 0.5464 - accuracy: 0.7243 - val_loss: 0.5583 - val_accuracy: 0.7663\n",
            "Epoch 6/10\n",
            "200/200 [==============================] - 148s 740ms/step - loss: 0.5385 - accuracy: 0.7372 - val_loss: 0.5440 - val_accuracy: 0.7685\n",
            "Epoch 7/10\n",
            "200/200 [==============================] - 150s 750ms/step - loss: 0.5337 - accuracy: 0.7376 - val_loss: 0.5231 - val_accuracy: 0.7657\n",
            "Epoch 8/10\n",
            "200/200 [==============================] - 150s 748ms/step - loss: 0.5281 - accuracy: 0.7461 - val_loss: 0.5065 - val_accuracy: 0.7642\n",
            "Epoch 9/10\n",
            "200/200 [==============================] - 149s 746ms/step - loss: 0.5241 - accuracy: 0.7458 - val_loss: 0.5459 - val_accuracy: 0.7527\n",
            "Epoch 10/10\n",
            "200/200 [==============================] - 150s 749ms/step - loss: 0.5176 - accuracy: 0.7467 - val_loss: 0.5528 - val_accuracy: 0.7602\n"
          ]
        }
      ],
      "source": [
        "#Training the model\n",
        "#with the new imagegenerator\n",
        "\n",
        "history = model.fit(\n",
        "     train_data,\n",
        "     validation_data = val_data, \n",
        "     epochs=gEpochs,\n",
        "     steps_per_epoch=200,\n",
        "     validation_steps=40,\n",
        "     verbose=1)"
      ]
    },
    {
      "cell_type": "code",
      "source": [
        "plot_loss_acc(history)"
      ],
      "metadata": {
        "colab": {
          "base_uri": "https://localhost:8080/",
          "height": 545
        },
        "id": "C4ad_iRrKCTh",
        "outputId": "a137c1f8-1cef-41e4-a07e-785ccc6949ad"
      },
      "execution_count": 28,
      "outputs": [
        {
          "output_type": "display_data",
          "data": {
            "text/plain": [
              "<Figure size 432x288 with 1 Axes>"
            ],
            "image/png": "[encoded data removed]"
          },
          "metadata": {
            "needs_background": "light"
          }
        },
        {
          "output_type": "display_data",
          "data": {
            "text/plain": [
              "<Figure size 432x288 with 1 Axes>"
            ],
            "image/png": "[encoded data removed]"
          },
          "metadata": {
            "needs_background": "light"
          }
        }
      ]
    },
    {
      "cell_type": "code",
      "source": [
        "#Traning the model2\n",
        "history2 = model2.fit(\n",
        "     train_data,\n",
        "     validation_data = val_data, \n",
        "     epochs=gEpochs,\n",
        "     steps_per_epoch=200,\n",
        "     validation_steps=40,\n",
        "     verbose=1)"
      ],
      "metadata": {
        "colab": {
          "base_uri": "https://localhost:8080/"
        },
        "id": "XWTnrtunwOKD",
        "outputId": "3b59992f-db23-4e11-a7b1-4cf893896214"
      },
      "execution_count": 29,
      "outputs": [
        {
          "output_type": "stream",
          "name": "stdout",
          "text": [
            "Epoch 1/10\n",
            "108/200 [===============>..............] - ETA: 1:05 - loss: 0.4800 - accuracy: 0.7842"
          ]
        },
        {
          "output_type": "stream",
          "name": "stderr",
          "text": [
            "/usr/local/lib/python3.7/dist-packages/PIL/TiffImagePlugin.py:770: UserWarning: Possibly corrupt EXIF data.  Expecting to read 32 bytes but only got 0. Skipping tag 270\n",
            "  \" Skipping tag %s\" % (size, len(data), tag)\n",
            "/usr/local/lib/python3.7/dist-packages/PIL/TiffImagePlugin.py:770: UserWarning: Possibly corrupt EXIF data.  Expecting to read 5 bytes but only got 0. Skipping tag 271\n",
            "  \" Skipping tag %s\" % (size, len(data), tag)\n",
            "/usr/local/lib/python3.7/dist-packages/PIL/TiffImagePlugin.py:770: UserWarning: Possibly corrupt EXIF data.  Expecting to read 8 bytes but only got 0. Skipping tag 272\n",
            "  \" Skipping tag %s\" % (size, len(data), tag)\n",
            "/usr/local/lib/python3.7/dist-packages/PIL/TiffImagePlugin.py:770: UserWarning: Possibly corrupt EXIF data.  Expecting to read 8 bytes but only got 0. Skipping tag 282\n",
            "  \" Skipping tag %s\" % (size, len(data), tag)\n",
            "/usr/local/lib/python3.7/dist-packages/PIL/TiffImagePlugin.py:770: UserWarning: Possibly corrupt EXIF data.  Expecting to read 8 bytes but only got 0. Skipping tag 283\n",
            "  \" Skipping tag %s\" % (size, len(data), tag)\n",
            "/usr/local/lib/python3.7/dist-packages/PIL/TiffImagePlugin.py:770: UserWarning: Possibly corrupt EXIF data.  Expecting to read 20 bytes but only got 0. Skipping tag 306\n",
            "  \" Skipping tag %s\" % (size, len(data), tag)\n",
            "/usr/local/lib/python3.7/dist-packages/PIL/TiffImagePlugin.py:770: UserWarning: Possibly corrupt EXIF data.  Expecting to read 48 bytes but only got 0. Skipping tag 532\n",
            "  \" Skipping tag %s\" % (size, len(data), tag)\n",
            "/usr/local/lib/python3.7/dist-packages/PIL/TiffImagePlugin.py:788: UserWarning: Corrupt EXIF data.  Expecting to read 2 bytes but only got 0. \n",
            "  warnings.warn(str(msg))\n"
          ]
        },
        {
          "output_type": "stream",
          "name": "stdout",
          "text": [
            "200/200 [==============================] - 152s 760ms/step - loss: 0.4571 - accuracy: 0.7936 - val_loss: 0.3511 - val_accuracy: 0.8528\n",
            "Epoch 2/10\n",
            "200/200 [==============================] - 151s 756ms/step - loss: 0.4163 - accuracy: 0.8143 - val_loss: 0.3512 - val_accuracy: 0.8528\n",
            "Epoch 3/10\n",
            "200/200 [==============================] - 151s 753ms/step - loss: 0.3987 - accuracy: 0.8214 - val_loss: 0.3233 - val_accuracy: 0.8708\n",
            "Epoch 4/10\n",
            "200/200 [==============================] - 152s 758ms/step - loss: 0.3837 - accuracy: 0.8307 - val_loss: 0.3198 - val_accuracy: 0.8717\n",
            "Epoch 5/10\n",
            "200/200 [==============================] - 151s 757ms/step - loss: 0.3741 - accuracy: 0.8382 - val_loss: 0.2813 - val_accuracy: 0.8845\n",
            "Epoch 6/10\n",
            "200/200 [==============================] - 150s 751ms/step - loss: 0.3527 - accuracy: 0.8458 - val_loss: 0.2868 - val_accuracy: 0.8852\n",
            "Epoch 7/10\n",
            "200/200 [==============================] - 151s 756ms/step - loss: 0.3488 - accuracy: 0.8485 - val_loss: 0.2978 - val_accuracy: 0.8783\n",
            "Epoch 8/10\n",
            "200/200 [==============================] - 151s 753ms/step - loss: 0.3399 - accuracy: 0.8514 - val_loss: 0.3211 - val_accuracy: 0.8730\n",
            "Epoch 9/10\n",
            "200/200 [==============================] - 152s 760ms/step - loss: 0.3328 - accuracy: 0.8575 - val_loss: 0.3334 - val_accuracy: 0.8590\n",
            "Epoch 10/10\n",
            "200/200 [==============================] - 151s 756ms/step - loss: 0.3307 - accuracy: 0.8577 - val_loss: 0.3945 - val_accuracy: 0.8303\n"
          ]
        }
      ]
    },
    {
      "cell_type": "code",
      "source": [
        "plot_loss_acc(history2)"
      ],
      "metadata": {
        "colab": {
          "base_uri": "https://localhost:8080/",
          "height": 545
        },
        "id": "R3xLtZJ2kQLj",
        "outputId": "5dfc0425-c6e0-4ab2-b11f-923c3f22c4f3"
      },
      "execution_count": 30,
      "outputs": [
        {
          "output_type": "display_data",
          "data": {
            "text/plain": [
              "<Figure size 432x288 with 1 Axes>"
            ],
            "image/png": "[encoded data removed]"
          },
          "metadata": {
            "needs_background": "light"
          }
        },
        {
          "output_type": "display_data",
          "data": {
            "text/plain": [
              "<Figure size 432x288 with 1 Axes>"
            ],
            "image/png": "[encoded data removed]"
          },
          "metadata": {
            "needs_background": "light"
          }
        }
      ]
    },
    {
      "cell_type": "markdown",
      "source": [
        "### Add a some dropout layers to the models\n",
        "A dropout layer can help with the overfitting reducing the amount of information in every image. "
      ],
      "metadata": {
        "id": "p0P63hfsUUkP"
      }
    },
    {
      "cell_type": "code",
      "source": [
        "#create the model with a dropout layer. \n",
        "#it's a minimal model for images, with just an Convolutionatl layer and a MaxPooling layer\n",
        "modelDrop1 = tf.keras.models.Sequential([\n",
        "  tf.keras.layers.Conv2D(16, (4,4), activation=\"relu\", input_shape=(150, 150, 3)),\n",
        "  tf.keras.layers.MaxPooling2D(2,2),  \n",
        "  tf.keras.layers.Dropout(0.5), \n",
        "  tf.keras.layers.Flatten(), \n",
        "  tf.keras.layers.Dense(128, activation=\"relu\"), \n",
        "  tf.keras.layers.Dense(1, activation=\"sigmoid\")\n",
        "])"
      ],
      "metadata": {
        "id": "0rcbgIf2NNTR"
      },
      "execution_count": 31,
      "outputs": []
    },
    {
      "cell_type": "code",
      "source": [
        " #create the model with dropouts layers. \n",
        "#a model with more convutionals and Pooling layers obtains leess parameters. \n",
        "modelDrop2 = tf.keras.models.Sequential([\n",
        "  tf.keras.layers.Conv2D(16, (4,4), activation=\"relu\", input_shape=(150, 150, 3)),\n",
        "  tf.keras.layers.MaxPooling2D(2,2),\n",
        "  tf.keras.layers.Dropout(0.2),   \n",
        "  tf.keras.layers.Conv2D(32, (4,4), activation=\"relu\"),\n",
        "  tf.keras.layers.MaxPooling2D(2,2),  \n",
        "  tf.keras.layers.Dropout(0.2),  \n",
        "  tf.keras.layers.Conv2D(64, (4,4), activation=\"relu\"),\n",
        "  tf.keras.layers.MaxPooling2D(2,2),  \n",
        "  tf.keras.layers.Dropout(0.5), \n",
        "  tf.keras.layers.Flatten(), \n",
        "  tf.keras.layers.Dense(512, activation=\"relu\"), \n",
        "  tf.keras.layers.Dense(1, activation=\"sigmoid\")\n",
        "])"
      ],
      "metadata": {
        "id": "k7BSwtqoNlgr"
      },
      "execution_count": 40,
      "outputs": []
    },
    {
      "cell_type": "code",
      "source": [
        "#compile the dropout models \n",
        "from tensorflow.keras.optimizers import RMSprop\n",
        "#binary_crossentropy is a loss function that works really weel with binary clasifications. \n",
        "modelDrop1.compile(loss=\"binary_crossentropy\", \n",
        "              optimizer=RMSprop(learning_rate=0.001), \n",
        "              metrics=['accuracy'])\n",
        "modelDrop2.compile(loss=\"binary_crossentropy\", \n",
        "              optimizer=RMSprop(learning_rate=0.001), \n",
        "              metrics=['accuracy'])"
      ],
      "metadata": {
        "id": "_GXo-eXrOhbo"
      },
      "execution_count": 42,
      "outputs": []
    },
    {
      "cell_type": "code",
      "source": [
        "#Training the model\n",
        "#with the new imagegenerator\n",
        "\n",
        "historyDrop = modelDrop1.fit(\n",
        "     train_data,\n",
        "     validation_data = val_data, \n",
        "     epochs=gEpochs,\n",
        "     steps_per_epoch=200,\n",
        "     validation_steps=40,\n",
        "     verbose=1)"
      ],
      "metadata": {
        "colab": {
          "base_uri": "https://localhost:8080/"
        },
        "id": "bjTbC7iJOsKC",
        "outputId": "3be5df5f-a8b3-45ae-fa4e-ed2e303ac5dd"
      },
      "execution_count": 34,
      "outputs": [
        {
          "output_type": "stream",
          "name": "stdout",
          "text": [
            "Epoch 1/10\n",
            "174/200 [=========================>....] - ETA: 18s - loss: 1.0170 - accuracy: 0.5834"
          ]
        },
        {
          "output_type": "stream",
          "name": "stderr",
          "text": [
            "/usr/local/lib/python3.7/dist-packages/PIL/TiffImagePlugin.py:770: UserWarning: Possibly corrupt EXIF data.  Expecting to read 32 bytes but only got 0. Skipping tag 270\n",
            "  \" Skipping tag %s\" % (size, len(data), tag)\n",
            "/usr/local/lib/python3.7/dist-packages/PIL/TiffImagePlugin.py:770: UserWarning: Possibly corrupt EXIF data.  Expecting to read 5 bytes but only got 0. Skipping tag 271\n",
            "  \" Skipping tag %s\" % (size, len(data), tag)\n",
            "/usr/local/lib/python3.7/dist-packages/PIL/TiffImagePlugin.py:770: UserWarning: Possibly corrupt EXIF data.  Expecting to read 8 bytes but only got 0. Skipping tag 272\n",
            "  \" Skipping tag %s\" % (size, len(data), tag)\n",
            "/usr/local/lib/python3.7/dist-packages/PIL/TiffImagePlugin.py:770: UserWarning: Possibly corrupt EXIF data.  Expecting to read 8 bytes but only got 0. Skipping tag 282\n",
            "  \" Skipping tag %s\" % (size, len(data), tag)\n",
            "/usr/local/lib/python3.7/dist-packages/PIL/TiffImagePlugin.py:770: UserWarning: Possibly corrupt EXIF data.  Expecting to read 8 bytes but only got 0. Skipping tag 283\n",
            "  \" Skipping tag %s\" % (size, len(data), tag)\n",
            "/usr/local/lib/python3.7/dist-packages/PIL/TiffImagePlugin.py:770: UserWarning: Possibly corrupt EXIF data.  Expecting to read 20 bytes but only got 0. Skipping tag 306\n",
            "  \" Skipping tag %s\" % (size, len(data), tag)\n",
            "/usr/local/lib/python3.7/dist-packages/PIL/TiffImagePlugin.py:770: UserWarning: Possibly corrupt EXIF data.  Expecting to read 48 bytes but only got 0. Skipping tag 532\n",
            "  \" Skipping tag %s\" % (size, len(data), tag)\n",
            "/usr/local/lib/python3.7/dist-packages/PIL/TiffImagePlugin.py:788: UserWarning: Corrupt EXIF data.  Expecting to read 2 bytes but only got 0. \n",
            "  warnings.warn(str(msg))\n"
          ]
        },
        {
          "output_type": "stream",
          "name": "stdout",
          "text": [
            "200/200 [==============================] - 150s 747ms/step - loss: 0.9674 - accuracy: 0.5921 - val_loss: 0.5985 - val_accuracy: 0.6768\n",
            "Epoch 2/10\n",
            "200/200 [==============================] - 149s 747ms/step - loss: 0.6093 - accuracy: 0.6669 - val_loss: 0.5658 - val_accuracy: 0.7100\n",
            "Epoch 3/10\n",
            "200/200 [==============================] - 149s 746ms/step - loss: 0.5793 - accuracy: 0.6997 - val_loss: 0.5240 - val_accuracy: 0.7360\n",
            "Epoch 4/10\n",
            "200/200 [==============================] - 148s 742ms/step - loss: 0.5633 - accuracy: 0.7129 - val_loss: 0.5181 - val_accuracy: 0.7427\n",
            "Epoch 5/10\n",
            "200/200 [==============================] - 149s 744ms/step - loss: 0.5483 - accuracy: 0.7238 - val_loss: 0.5071 - val_accuracy: 0.7477\n",
            "Epoch 6/10\n",
            "200/200 [==============================] - 148s 742ms/step - loss: 0.5483 - accuracy: 0.7257 - val_loss: 0.5033 - val_accuracy: 0.7582\n",
            "Epoch 7/10\n",
            "200/200 [==============================] - 149s 745ms/step - loss: 0.5460 - accuracy: 0.7282 - val_loss: 0.4855 - val_accuracy: 0.7688\n",
            "Epoch 8/10\n",
            "200/200 [==============================] - 149s 745ms/step - loss: 0.5357 - accuracy: 0.7331 - val_loss: 0.5022 - val_accuracy: 0.7648\n",
            "Epoch 9/10\n",
            "200/200 [==============================] - 148s 741ms/step - loss: 0.5309 - accuracy: 0.7324 - val_loss: 0.4907 - val_accuracy: 0.7757\n",
            "Epoch 10/10\n",
            "200/200 [==============================] - 149s 746ms/step - loss: 0.5307 - accuracy: 0.7335 - val_loss: 0.4856 - val_accuracy: 0.7697\n"
          ]
        }
      ]
    },
    {
      "cell_type": "code",
      "source": [
        "plot_loss_acc(historyDrop)"
      ],
      "metadata": {
        "colab": {
          "base_uri": "https://localhost:8080/",
          "height": 545
        },
        "id": "C-OGv_Q7kcA6",
        "outputId": "7503f064-2dd7-4da8-81ed-f314a59c58da"
      },
      "execution_count": 43,
      "outputs": [
        {
          "output_type": "display_data",
          "data": {
            "text/plain": [
              "<Figure size 432x288 with 1 Axes>"
            ],
            "image/png": "[encoded data removed]"
          },
          "metadata": {
            "needs_background": "light"
          }
        },
        {
          "output_type": "display_data",
          "data": {
            "text/plain": [
              "<Figure size 432x288 with 1 Axes>"
            ],
            "image/png": "[encoded data removed]"
          },
          "metadata": {
            "needs_background": "light"
          }
        }
      ]
    },
    {
      "cell_type": "code",
      "source": [
        "#Training the model2\n",
        "start = time()\n",
        "historyDrop2 = modelDrop2.fit(\n",
        "     train_data,\n",
        "     validation_data = val_data, \n",
        "     epochs=gEpochs,\n",
        "     steps_per_epoch=200,\n",
        "     validation_steps=40,\n",
        "     verbose=1)\n",
        "print (time()-start)"
      ],
      "metadata": {
        "colab": {
          "base_uri": "https://localhost:8080/"
        },
        "id": "okRgnzimOtXZ",
        "outputId": "7372a7aa-c0dc-4e3b-9b61-10cb087e6cf0"
      },
      "execution_count": 44,
      "outputs": [
        {
          "output_type": "stream",
          "name": "stdout",
          "text": [
            "Epoch 1/10\n",
            "178/200 [=========================>....] - ETA: 15s - loss: 0.7553 - accuracy: 0.5453"
          ]
        },
        {
          "output_type": "stream",
          "name": "stderr",
          "text": [
            "/usr/local/lib/python3.7/dist-packages/PIL/TiffImagePlugin.py:770: UserWarning: Possibly corrupt EXIF data.  Expecting to read 32 bytes but only got 0. Skipping tag 270\n",
            "  \" Skipping tag %s\" % (size, len(data), tag)\n",
            "/usr/local/lib/python3.7/dist-packages/PIL/TiffImagePlugin.py:770: UserWarning: Possibly corrupt EXIF data.  Expecting to read 5 bytes but only got 0. Skipping tag 271\n",
            "  \" Skipping tag %s\" % (size, len(data), tag)\n",
            "/usr/local/lib/python3.7/dist-packages/PIL/TiffImagePlugin.py:770: UserWarning: Possibly corrupt EXIF data.  Expecting to read 8 bytes but only got 0. Skipping tag 272\n",
            "  \" Skipping tag %s\" % (size, len(data), tag)\n",
            "/usr/local/lib/python3.7/dist-packages/PIL/TiffImagePlugin.py:770: UserWarning: Possibly corrupt EXIF data.  Expecting to read 8 bytes but only got 0. Skipping tag 282\n",
            "  \" Skipping tag %s\" % (size, len(data), tag)\n",
            "/usr/local/lib/python3.7/dist-packages/PIL/TiffImagePlugin.py:770: UserWarning: Possibly corrupt EXIF data.  Expecting to read 8 bytes but only got 0. Skipping tag 283\n",
            "  \" Skipping tag %s\" % (size, len(data), tag)\n",
            "/usr/local/lib/python3.7/dist-packages/PIL/TiffImagePlugin.py:770: UserWarning: Possibly corrupt EXIF data.  Expecting to read 20 bytes but only got 0. Skipping tag 306\n",
            "  \" Skipping tag %s\" % (size, len(data), tag)\n",
            "/usr/local/lib/python3.7/dist-packages/PIL/TiffImagePlugin.py:770: UserWarning: Possibly corrupt EXIF data.  Expecting to read 48 bytes but only got 0. Skipping tag 532\n",
            "  \" Skipping tag %s\" % (size, len(data), tag)\n",
            "/usr/local/lib/python3.7/dist-packages/PIL/TiffImagePlugin.py:788: UserWarning: Corrupt EXIF data.  Expecting to read 2 bytes but only got 0. \n",
            "  warnings.warn(str(msg))\n"
          ]
        },
        {
          "output_type": "stream",
          "name": "stdout",
          "text": [
            "200/200 [==============================] - 155s 770ms/step - loss: 0.7437 - accuracy: 0.5545 - val_loss: 0.6284 - val_accuracy: 0.6522\n",
            "Epoch 2/10\n",
            "200/200 [==============================] - 153s 767ms/step - loss: 0.6251 - accuracy: 0.6553 - val_loss: 0.7140 - val_accuracy: 0.6010\n",
            "Epoch 3/10\n",
            "200/200 [==============================] - 154s 769ms/step - loss: 0.5806 - accuracy: 0.7016 - val_loss: 0.5047 - val_accuracy: 0.7600\n",
            "Epoch 4/10\n",
            "200/200 [==============================] - 153s 765ms/step - loss: 0.5508 - accuracy: 0.7187 - val_loss: 0.4767 - val_accuracy: 0.7835\n",
            "Epoch 5/10\n",
            "200/200 [==============================] - 154s 769ms/step - loss: 0.5272 - accuracy: 0.7334 - val_loss: 0.4888 - val_accuracy: 0.7558\n",
            "Epoch 6/10\n",
            "200/200 [==============================] - 153s 768ms/step - loss: 0.5093 - accuracy: 0.7517 - val_loss: 0.4219 - val_accuracy: 0.8127\n",
            "Epoch 7/10\n",
            "200/200 [==============================] - 153s 767ms/step - loss: 0.4909 - accuracy: 0.7619 - val_loss: 0.4034 - val_accuracy: 0.8240\n",
            "Epoch 8/10\n",
            "200/200 [==============================] - 152s 762ms/step - loss: 0.4729 - accuracy: 0.7740 - val_loss: 0.4124 - val_accuracy: 0.8175\n",
            "Epoch 9/10\n",
            "200/200 [==============================] - 154s 770ms/step - loss: 0.4612 - accuracy: 0.7837 - val_loss: 0.4111 - val_accuracy: 0.8260\n",
            "Epoch 10/10\n",
            "200/200 [==============================] - 153s 767ms/step - loss: 0.4552 - accuracy: 0.7882 - val_loss: 0.4263 - val_accuracy: 0.8085\n",
            "1535.9997851848602\n"
          ]
        }
      ]
    },
    {
      "cell_type": "code",
      "source": [
        "plot_loss_acc(historyDrop2)"
      ],
      "metadata": {
        "colab": {
          "base_uri": "https://localhost:8080/",
          "height": 545
        },
        "id": "6XrXop6k_2Cq",
        "outputId": "e774fff6-6fea-40f4-9a4a-135919ffd113"
      },
      "execution_count": 46,
      "outputs": [
        {
          "output_type": "display_data",
          "data": {
            "text/plain": [
              "<Figure size 432x288 with 1 Axes>"
            ],
            "image/png": "[encoded data removed]"
          },
          "metadata": {
            "needs_background": "light"
          }
        },
        {
          "output_type": "display_data",
          "data": {
            "text/plain": [
              "<Figure size 432x288 with 1 Axes>"
            ],
            "image/png": "[encoded data removed]"
          },
          "metadata": {
            "needs_background": "light"
          }
        }
      ]
    },
    {
      "cell_type": "code",
      "source": [
        ""
      ],
      "metadata": {
        "id": "9i-ergHltjQI"
      },
      "execution_count": null,
      "outputs": []
    }
  ],
  "metadata": {
    "colab": {
      "collapsed_sections": [
        "K0Ez6Wz2T__6"
      ],
      "name": "MLCTFCatsvsDogs.ipynb",
      "provenance": []
    },
    "kernelspec": {
      "display_name": "Python 3",
      "name": "python3"
    },
    "language_info": {
      "name": "python"
    },
    "accelerator": "GPU"
  },
  "nbformat": 4,
  "nbformat_minor": 0
}