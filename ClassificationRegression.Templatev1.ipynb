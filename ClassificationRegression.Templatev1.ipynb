{
 "cells": [
  {
   "cell_type": "markdown",
   "id": "f9ff1282",
   "metadata": {},
   "source": [
    "# Template for Classification / Regression problems. \n",
    "SCIKIT-LEARN RandomForestClassifier / RendomForestRegressor\n",
    "This .ipynb is to support a course for begginers. "
   ]
  },
  {
   "cell_type": "code",
   "execution_count": 23,
   "id": "d273bdf2",
   "metadata": {},
   "outputs": [],
   "source": [
    "#This .ipynb is to support a beginner's course in ML. \n",
    "#Course in spanish\n",
    "#https://martra.uadla.com/curso-practico-de-ia-sin-prerrequisitos/\n",
    "#Youtube list in spanish too: \n",
    "#https://www.youtube.com/playlist?list=PL2AK-_vf44omo8w56c_utGj5PRllwPW6s"
   ]
  },
  {
   "cell_type": "code",
   "execution_count": 24,
   "id": "84098ac8",
   "metadata": {},
   "outputs": [],
   "source": [
    "def createmodel(data, target, iterations, alg=0):\n",
    "    import pandas as pd\n",
    "    import numpy as np\n",
    "    from sklearn.ensemble import RandomForestClassifier\n",
    "    from sklearn.ensemble import RandomForestRegressor\n",
    "    from sklearn.model_selection import train_test_split, RandomizedSearchCV\n",
    "\n",
    "    np.random.seed(50)\n",
    "    \n",
    "    pd_dataframe = pd.read_csv(data)\n",
    "    X = pd_dataframe.drop(target, axis=1)\n",
    "    y = pd_dataframe[target]\n",
    "    #split data \n",
    "    X_train, X_test, y_train, y_test = train_test_split(X, y, test_size=0.2)\n",
    " \n",
    "    #configure values hyperparameters\n",
    "    gscgrid = {\"n_estimators\": [10, 50, 100, 120, 150], \n",
    "        \"max_features\": [\"auto\", \"sqrt\"], \n",
    "       \"max_depth\": [None, 5, 10, 20], \n",
    "       \"min_samples_split\": [2, 4, 6], \n",
    "        \"min_samples_leaf\": [1, 2, 4, 6]}\n",
    "    if alg == 0:\n",
    "        model = RandomForestClassifier(n_jobs = 1)\n",
    "    else: \n",
    "        model = RandomForestRegressor(n_jobs = 1)\n",
    "    \n",
    "    #using RandomizedSearchCV to try different hyperparameters\n",
    "    #cv is crossvalidation, the default value is 5. \n",
    "    #verbose indicates the level of trace desired. \n",
    "    #https://scikit-learn.org/stable/modules/generated/sklearn.model_selection.RandomizedSearchCV.html\n",
    "    gscmodel = RandomizedSearchCV(estimator=model, \n",
    "                           param_distributions=gscgrid, \n",
    "                           n_iter=iterations, \n",
    "                           cv=2, \n",
    "                           verbose=2)\n",
    "    gscmodel.fit(X_train, y_train)\n",
    "    y_preds = gscmodel.predict(X_test)\n",
    "    if alg == 0: \n",
    "        evaluate (y_test, y_preds)\n",
    "    else: \n",
    "        evaluateRegression(y_test, y_preds)\n",
    "    return gscmodel"
   ]
  },
  {
   "cell_type": "code",
   "execution_count": 25,
   "id": "9c296e5c",
   "metadata": {},
   "outputs": [],
   "source": [
    "def evaluateRegression(y_true, y_preds):\n",
    "    from sklearn.metrics import r2_score\n",
    "    \"\"\"\n",
    "    Evaluar modelo de regresion\n",
    "    \"\"\"\n",
    "    r2_score = r2_score(y_preds, y_true)\n",
    "\n",
    "    metric_dict = {\"r2_score\": round(r2_score, 2)}\n",
    "    print(f\"KPIs-------------------------------------\")\n",
    "    print(f\"r2: {r2_score * 100:.2f}%\")\n",
    "    print(f\"KPIs-------------------------------------\")\n",
    "    return metric_dict"
   ]
  },
  {
   "cell_type": "code",
   "execution_count": 26,
   "id": "a37f81fb",
   "metadata": {},
   "outputs": [],
   "source": [
    "def evaluate(y_true, y_preds):\n",
    "    from sklearn.metrics import accuracy_score, precision_score, recall_score, f1_score\n",
    "    \"\"\"\n",
    "    Evaluar modelo de clasificacion\n",
    "    \"\"\"\n",
    "    accuracy = accuracy_score(y_true, y_preds)\n",
    "    precision = precision_score(y_true, y_preds)\n",
    "    recall = recall_score(y_true, y_preds)\n",
    "    f1 = f1_score(y_true, y_preds)\n",
    "    metric_dict = {\"accuracy\": round(accuracy, 2), \n",
    "                  \"precision\":  round(accuracy, 2),\n",
    "                  \"recall\": round(recall, 2),\n",
    "                  \"f1\": round(f1, 2)}\n",
    "    print(f\"KPIs-------------------------------------\")\n",
    "    print(f\"Acc: {accuracy * 100:.2f}%\")\n",
    "    print(f\"precision: {precision * 100:.2f}%\")\n",
    "    print(f\"recall: {recall * 100:.2f}%\")\n",
    "    print(f\"f1score: {f1 * 100:.2f}%\")\n",
    "    print(f\"KPIs-------------------------------------\")\n",
    "    return metric_dict"
   ]
  },
  {
   "cell_type": "code",
   "execution_count": 30,
   "id": "ad9d8a79",
   "metadata": {},
   "outputs": [
    {
     "name": "stdout",
     "output_type": "stream",
     "text": [
      "Fitting 2 folds for each of 10 candidates, totalling 20 fits\n",
      "[CV] END max_depth=None, max_features=sqrt, min_samples_leaf=2, min_samples_split=4, n_estimators=120; total time=   2.9s\n",
      "[CV] END max_depth=None, max_features=sqrt, min_samples_leaf=2, min_samples_split=4, n_estimators=120; total time=   3.1s\n",
      "[CV] END max_depth=5, max_features=sqrt, min_samples_leaf=2, min_samples_split=2, n_estimators=100; total time=   1.0s\n",
      "[CV] END max_depth=5, max_features=sqrt, min_samples_leaf=2, min_samples_split=2, n_estimators=100; total time=   1.0s\n",
      "[CV] END max_depth=None, max_features=sqrt, min_samples_leaf=6, min_samples_split=2, n_estimators=50; total time=   1.0s\n",
      "[CV] END max_depth=None, max_features=sqrt, min_samples_leaf=6, min_samples_split=2, n_estimators=50; total time=   1.0s\n",
      "[CV] END max_depth=5, max_features=sqrt, min_samples_leaf=6, min_samples_split=2, n_estimators=10; total time=   0.1s\n",
      "[CV] END max_depth=5, max_features=sqrt, min_samples_leaf=6, min_samples_split=2, n_estimators=10; total time=   0.1s\n",
      "[CV] END max_depth=10, max_features=auto, min_samples_leaf=4, min_samples_split=6, n_estimators=150; total time=   2.3s\n",
      "[CV] END max_depth=10, max_features=auto, min_samples_leaf=4, min_samples_split=6, n_estimators=150; total time=   2.3s\n",
      "[CV] END max_depth=20, max_features=auto, min_samples_leaf=2, min_samples_split=2, n_estimators=150; total time=   3.8s\n",
      "[CV] END max_depth=20, max_features=auto, min_samples_leaf=2, min_samples_split=2, n_estimators=150; total time=   3.7s\n",
      "[CV] END max_depth=10, max_features=auto, min_samples_leaf=6, min_samples_split=4, n_estimators=10; total time=   0.2s\n",
      "[CV] END max_depth=10, max_features=auto, min_samples_leaf=6, min_samples_split=4, n_estimators=10; total time=   0.2s\n",
      "[CV] END max_depth=None, max_features=sqrt, min_samples_leaf=4, min_samples_split=4, n_estimators=120; total time=   2.5s\n",
      "[CV] END max_depth=None, max_features=sqrt, min_samples_leaf=4, min_samples_split=4, n_estimators=120; total time=   2.5s\n",
      "[CV] END max_depth=None, max_features=sqrt, min_samples_leaf=6, min_samples_split=4, n_estimators=150; total time=   3.1s\n",
      "[CV] END max_depth=None, max_features=sqrt, min_samples_leaf=6, min_samples_split=4, n_estimators=150; total time=   3.0s\n",
      "[CV] END max_depth=10, max_features=sqrt, min_samples_leaf=6, min_samples_split=6, n_estimators=10; total time=   0.2s\n",
      "[CV] END max_depth=10, max_features=sqrt, min_samples_leaf=6, min_samples_split=6, n_estimators=10; total time=   0.2s\n",
      "KPIs-------------------------------------\n",
      "Acc: 74.93%\n",
      "precision: 72.92%\n",
      "recall: 78.87%\n",
      "f1score: 75.78%\n",
      "KPIs-------------------------------------\n"
     ]
    },
    {
     "data": {
      "text/plain": [
       "{'n_estimators': 150,\n",
       " 'min_samples_split': 6,\n",
       " 'min_samples_leaf': 4,\n",
       " 'max_features': 'auto',\n",
       " 'max_depth': 10}"
      ]
     },
     "execution_count": 30,
     "metadata": {},
     "output_type": "execute_result"
    }
   ],
   "source": [
    "#Here you can change the parameters to adapt to your model. \n",
    "#data: your .csv, previously treated, without emptu data and only numbers. \n",
    "#target: the dependent variable. \n",
    "#iterations: more iterations more hyperparametrers configurations will try\n",
    "CL=0\n",
    "RE=1\n",
    "model = createmodel(data=\"videos/data/diabetes.csv\", \n",
    "                     target=\"Diabetes_binary\", \n",
    "                    #data=\"videos/data/carsclean.csv\",\n",
    "                    #target=\"price\", \n",
    "                     iterations=10, \n",
    "                    alg = CL)\n",
    "model.best_params_"
   ]
  },
  {
   "cell_type": "code",
   "execution_count": null,
   "id": "298fcb14",
   "metadata": {},
   "outputs": [],
   "source": []
  }
 ],
 "metadata": {
  "kernelspec": {
   "display_name": "Python 3 (ipykernel)",
   "language": "python",
   "name": "python3"
  },
  "language_info": {
   "codemirror_mode": {
    "name": "ipython",
    "version": 3
   },
   "file_extension": ".py",
   "mimetype": "text/x-python",
   "name": "python",
   "nbconvert_exporter": "python",
   "pygments_lexer": "ipython3",
   "version": "3.9.12"
  }
 },
 "nbformat": 4,
 "nbformat_minor": 5
}
