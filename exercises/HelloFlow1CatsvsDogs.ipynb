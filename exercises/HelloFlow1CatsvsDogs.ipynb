{
  "nbformat": 4,
  "nbformat_minor": 0,
  "metadata": {
    "colab": {
      "name": "HelloFlow1CatsvsDogs.ipynb",
      "provenance": [],
      "collapsed_sections": [],
      "authorship_tag": "ABX9TyPqzOSIaIoFDrCh6kqtZKlT",
      "include_colab_link": true
    },
    "kernelspec": {
      "name": "python3",
      "display_name": "Python 3"
    },
    "language_info": {
      "name": "python"
    },
    "accelerator": "GPU"
  },
  "cells": [
    {
      "cell_type": "markdown",
      "metadata": {
        "id": "view-in-github",
        "colab_type": "text"
      },
      "source": [
        "<a href=\"https://colab.research.google.com/github/oopere/MachineLearningCourse/blob/main/exercises/HelloFlow1CatsvsDogs.ipynb\" target=\"_parent\"><img src=\"https://colab.research.google.com/assets/colab-badge.svg\" alt=\"Open In Colab\"/></a>"
      ]
    },
    {
      "cell_type": "markdown",
      "source": [
        "\n",
        "let's start with TensorFlow.\n",
        "\n",
        "\n",
        "---\n",
        "\n",
        "\n",
        "In this collab, we are goig to solve three problems, and create thre different neuronal nets.\n"
      ],
      "metadata": {
        "id": "R3u_pPS7PSrj"
      }
    },
    {
      "cell_type": "markdown",
      "source": [
        "## First Sample. The most simple problem to solve \n",
        "\n",
        "---\n",
        "\n",
        "\n"
      ],
      "metadata": {
        "id": "K0Ez6Wz2T__6"
      }
    },
    {
      "cell_type": "code",
      "source": [
        "#First steep is import the libraries. \n",
        "import tensorflow as tf\n",
        "#Numpy is a lybrary that allow us to work with arrays. \n",
        "import numpy as np\n",
        "#keras is an open source neural networks lybrary writted in python that run's in varios frameworks, TensorFlow included. \n",
        "from tensorflow import keras\n",
        "print (tf.__version__)\n"
      ],
      "metadata": {
        "id": "pddGlKsiO_du",
        "colab": {
          "base_uri": "https://localhost:8080/"
        },
        "outputId": "73207341-f177-46b6-acbb-8e26a407ec60"
      },
      "execution_count": null,
      "outputs": [
        {
          "output_type": "stream",
          "name": "stdout",
          "text": [
            "2.8.0\n"
          ]
        }
      ]
    },
    {
      "cell_type": "code",
      "source": [
        "#Model with just one dense layer, one neuron, and one input. This is the most simple model possible. \n",
        "model = tf.keras.Sequential(keras.layers.Dense(units=1, input_shape=[1]))\n"
      ],
      "metadata": {
        "id": "qlPs6OeGQ7bZ"
      },
      "execution_count": null,
      "outputs": []
    },
    {
      "cell_type": "code",
      "source": [
        "#create 2 arrays, and the model must discover the relationship betwen the values. \n",
        "# (n * -1) + 2\n",
        "X = np.array([-2.0, -1.0, 0.0, 1.0, 2.0, 3.0, 4.0, 5.0, 6.0, 7.0, 8.0], dtype=float)\n",
        "y = np.array([4.0, 3.0, 2.0, 1.0, 0.0, -1.0, -2.0, -3.0, -4.0, -5.0, -6.0], dtype=float)"
      ],
      "metadata": {
        "id": "A9ClkratT9ZD"
      },
      "execution_count": null,
      "outputs": []
    },
    {
      "cell_type": "code",
      "source": [
        "#compile and train the model.\n",
        "#compile and indicate the optimezer and the model. By the moment we need to understand that this both functions are where the magic happens. \n",
        "#The optimizer is the function responsible to make a guess. \n",
        "#The loss function is responsible to indicate how accurated the guees is. \n",
        "#They try to be more accurated in each epoch\n",
        "model.compile(optimizer=\"sgd\", loss=\"mean_squared_error\") \n",
        "model.fit(X, y, epochs=250)"
      ],
      "metadata": {
        "colab": {
          "base_uri": "https://localhost:8080/"
        },
        "id": "UiE53I3fWFvI",
        "outputId": "dad7fd9b-17f6-4279-a473-b32bdf6fd6fb"
      },
      "execution_count": null,
      "outputs": [
        {
          "output_type": "stream",
          "name": "stdout",
          "text": [
            "Epoch 1/250\n",
            "1/1 [==============================] - 0s 239ms/step - loss: 6.3385e-05\n",
            "Epoch 2/250\n",
            "1/1 [==============================] - 0s 8ms/step - loss: 6.2090e-05\n",
            "Epoch 3/250\n",
            "1/1 [==============================] - 0s 6ms/step - loss: 6.0822e-05\n",
            "Epoch 4/250\n",
            "1/1 [==============================] - 0s 4ms/step - loss: 5.9580e-05\n",
            "Epoch 5/250\n",
            "1/1 [==============================] - 0s 5ms/step - loss: 5.8363e-05\n",
            "Epoch 6/250\n",
            "1/1 [==============================] - 0s 4ms/step - loss: 5.7171e-05\n",
            "Epoch 7/250\n",
            "1/1 [==============================] - 0s 5ms/step - loss: 5.6004e-05\n",
            "Epoch 8/250\n",
            "1/1 [==============================] - 0s 5ms/step - loss: 5.4860e-05\n",
            "Epoch 9/250\n",
            "1/1 [==============================] - 0s 5ms/step - loss: 5.3739e-05\n",
            "Epoch 10/250\n",
            "1/1 [==============================] - 0s 9ms/step - loss: 5.2642e-05\n",
            "Epoch 11/250\n",
            "1/1 [==============================] - 0s 5ms/step - loss: 5.1566e-05\n",
            "Epoch 12/250\n",
            "1/1 [==============================] - 0s 5ms/step - loss: 5.0514e-05\n",
            "Epoch 13/250\n",
            "1/1 [==============================] - 0s 5ms/step - loss: 4.9482e-05\n",
            "Epoch 14/250\n",
            "1/1 [==============================] - 0s 5ms/step - loss: 4.8470e-05\n",
            "Epoch 15/250\n",
            "1/1 [==============================] - 0s 5ms/step - loss: 4.7480e-05\n",
            "Epoch 16/250\n",
            "1/1 [==============================] - 0s 5ms/step - loss: 4.6512e-05\n",
            "Epoch 17/250\n",
            "1/1 [==============================] - 0s 5ms/step - loss: 4.5562e-05\n",
            "Epoch 18/250\n",
            "1/1 [==============================] - 0s 5ms/step - loss: 4.4631e-05\n",
            "Epoch 19/250\n",
            "1/1 [==============================] - 0s 9ms/step - loss: 4.3719e-05\n",
            "Epoch 20/250\n",
            "1/1 [==============================] - 0s 5ms/step - loss: 4.2827e-05\n",
            "Epoch 21/250\n",
            "1/1 [==============================] - 0s 5ms/step - loss: 4.1952e-05\n",
            "Epoch 22/250\n",
            "1/1 [==============================] - 0s 22ms/step - loss: 4.1096e-05\n",
            "Epoch 23/250\n",
            "1/1 [==============================] - 0s 7ms/step - loss: 4.0256e-05\n",
            "Epoch 24/250\n",
            "1/1 [==============================] - 0s 7ms/step - loss: 3.9434e-05\n",
            "Epoch 25/250\n",
            "1/1 [==============================] - 0s 7ms/step - loss: 3.8629e-05\n",
            "Epoch 26/250\n",
            "1/1 [==============================] - 0s 10ms/step - loss: 3.7840e-05\n",
            "Epoch 27/250\n",
            "1/1 [==============================] - 0s 7ms/step - loss: 3.7067e-05\n",
            "Epoch 28/250\n",
            "1/1 [==============================] - 0s 5ms/step - loss: 3.6311e-05\n",
            "Epoch 29/250\n",
            "1/1 [==============================] - 0s 5ms/step - loss: 3.5569e-05\n",
            "Epoch 30/250\n",
            "1/1 [==============================] - 0s 6ms/step - loss: 3.4842e-05\n",
            "Epoch 31/250\n",
            "1/1 [==============================] - 0s 13ms/step - loss: 3.4131e-05\n",
            "Epoch 32/250\n",
            "1/1 [==============================] - 0s 7ms/step - loss: 3.3434e-05\n",
            "Epoch 33/250\n",
            "1/1 [==============================] - 0s 7ms/step - loss: 3.2751e-05\n",
            "Epoch 34/250\n",
            "1/1 [==============================] - 0s 7ms/step - loss: 3.2082e-05\n",
            "Epoch 35/250\n",
            "1/1 [==============================] - 0s 7ms/step - loss: 3.1427e-05\n",
            "Epoch 36/250\n",
            "1/1 [==============================] - 0s 7ms/step - loss: 3.0785e-05\n",
            "Epoch 37/250\n",
            "1/1 [==============================] - 0s 8ms/step - loss: 3.0156e-05\n",
            "Epoch 38/250\n",
            "1/1 [==============================] - 0s 6ms/step - loss: 2.9542e-05\n",
            "Epoch 39/250\n",
            "1/1 [==============================] - 0s 6ms/step - loss: 2.8938e-05\n",
            "Epoch 40/250\n",
            "1/1 [==============================] - 0s 7ms/step - loss: 2.8347e-05\n",
            "Epoch 41/250\n",
            "1/1 [==============================] - 0s 7ms/step - loss: 2.7768e-05\n",
            "Epoch 42/250\n",
            "1/1 [==============================] - 0s 7ms/step - loss: 2.7201e-05\n",
            "Epoch 43/250\n",
            "1/1 [==============================] - 0s 6ms/step - loss: 2.6645e-05\n",
            "Epoch 44/250\n",
            "1/1 [==============================] - 0s 7ms/step - loss: 2.6101e-05\n",
            "Epoch 45/250\n",
            "1/1 [==============================] - 0s 7ms/step - loss: 2.5568e-05\n",
            "Epoch 46/250\n",
            "1/1 [==============================] - 0s 7ms/step - loss: 2.5047e-05\n",
            "Epoch 47/250\n",
            "1/1 [==============================] - 0s 7ms/step - loss: 2.4534e-05\n",
            "Epoch 48/250\n",
            "1/1 [==============================] - 0s 7ms/step - loss: 2.4033e-05\n",
            "Epoch 49/250\n",
            "1/1 [==============================] - 0s 7ms/step - loss: 2.3542e-05\n",
            "Epoch 50/250\n",
            "1/1 [==============================] - 0s 6ms/step - loss: 2.3061e-05\n",
            "Epoch 51/250\n",
            "1/1 [==============================] - 0s 7ms/step - loss: 2.2590e-05\n",
            "Epoch 52/250\n",
            "1/1 [==============================] - 0s 15ms/step - loss: 2.2128e-05\n",
            "Epoch 53/250\n",
            "1/1 [==============================] - 0s 6ms/step - loss: 2.1676e-05\n",
            "Epoch 54/250\n",
            "1/1 [==============================] - 0s 7ms/step - loss: 2.1234e-05\n",
            "Epoch 55/250\n",
            "1/1 [==============================] - 0s 6ms/step - loss: 2.0800e-05\n",
            "Epoch 56/250\n",
            "1/1 [==============================] - 0s 6ms/step - loss: 2.0376e-05\n",
            "Epoch 57/250\n",
            "1/1 [==============================] - 0s 6ms/step - loss: 1.9959e-05\n",
            "Epoch 58/250\n",
            "1/1 [==============================] - 0s 7ms/step - loss: 1.9551e-05\n",
            "Epoch 59/250\n",
            "1/1 [==============================] - 0s 7ms/step - loss: 1.9152e-05\n",
            "Epoch 60/250\n",
            "1/1 [==============================] - 0s 7ms/step - loss: 1.8761e-05\n",
            "Epoch 61/250\n",
            "1/1 [==============================] - 0s 6ms/step - loss: 1.8377e-05\n",
            "Epoch 62/250\n",
            "1/1 [==============================] - 0s 7ms/step - loss: 1.8002e-05\n",
            "Epoch 63/250\n",
            "1/1 [==============================] - 0s 7ms/step - loss: 1.7634e-05\n",
            "Epoch 64/250\n",
            "1/1 [==============================] - 0s 7ms/step - loss: 1.7275e-05\n",
            "Epoch 65/250\n",
            "1/1 [==============================] - 0s 8ms/step - loss: 1.6922e-05\n",
            "Epoch 66/250\n",
            "1/1 [==============================] - 0s 8ms/step - loss: 1.6577e-05\n",
            "Epoch 67/250\n",
            "1/1 [==============================] - 0s 7ms/step - loss: 1.6238e-05\n",
            "Epoch 68/250\n",
            "1/1 [==============================] - 0s 8ms/step - loss: 1.5906e-05\n",
            "Epoch 69/250\n",
            "1/1 [==============================] - 0s 7ms/step - loss: 1.5582e-05\n",
            "Epoch 70/250\n",
            "1/1 [==============================] - 0s 7ms/step - loss: 1.5264e-05\n",
            "Epoch 71/250\n",
            "1/1 [==============================] - 0s 7ms/step - loss: 1.4951e-05\n",
            "Epoch 72/250\n",
            "1/1 [==============================] - 0s 7ms/step - loss: 1.4646e-05\n",
            "Epoch 73/250\n",
            "1/1 [==============================] - 0s 7ms/step - loss: 1.4347e-05\n",
            "Epoch 74/250\n",
            "1/1 [==============================] - 0s 8ms/step - loss: 1.4054e-05\n",
            "Epoch 75/250\n",
            "1/1 [==============================] - 0s 7ms/step - loss: 1.3767e-05\n",
            "Epoch 76/250\n",
            "1/1 [==============================] - 0s 8ms/step - loss: 1.3486e-05\n",
            "Epoch 77/250\n",
            "1/1 [==============================] - 0s 7ms/step - loss: 1.3211e-05\n",
            "Epoch 78/250\n",
            "1/1 [==============================] - 0s 9ms/step - loss: 1.2941e-05\n",
            "Epoch 79/250\n",
            "1/1 [==============================] - 0s 8ms/step - loss: 1.2676e-05\n",
            "Epoch 80/250\n",
            "1/1 [==============================] - 0s 10ms/step - loss: 1.2418e-05\n",
            "Epoch 81/250\n",
            "1/1 [==============================] - 0s 7ms/step - loss: 1.2164e-05\n",
            "Epoch 82/250\n",
            "1/1 [==============================] - 0s 8ms/step - loss: 1.1916e-05\n",
            "Epoch 83/250\n",
            "1/1 [==============================] - 0s 8ms/step - loss: 1.1672e-05\n",
            "Epoch 84/250\n",
            "1/1 [==============================] - 0s 8ms/step - loss: 1.1434e-05\n",
            "Epoch 85/250\n",
            "1/1 [==============================] - 0s 7ms/step - loss: 1.1201e-05\n",
            "Epoch 86/250\n",
            "1/1 [==============================] - 0s 8ms/step - loss: 1.0971e-05\n",
            "Epoch 87/250\n",
            "1/1 [==============================] - 0s 7ms/step - loss: 1.0748e-05\n",
            "Epoch 88/250\n",
            "1/1 [==============================] - 0s 7ms/step - loss: 1.0528e-05\n",
            "Epoch 89/250\n",
            "1/1 [==============================] - 0s 8ms/step - loss: 1.0313e-05\n",
            "Epoch 90/250\n",
            "1/1 [==============================] - 0s 7ms/step - loss: 1.0102e-05\n",
            "Epoch 91/250\n",
            "1/1 [==============================] - 0s 7ms/step - loss: 9.8962e-06\n",
            "Epoch 92/250\n",
            "1/1 [==============================] - 0s 8ms/step - loss: 9.6942e-06\n",
            "Epoch 93/250\n",
            "1/1 [==============================] - 0s 7ms/step - loss: 9.4961e-06\n",
            "Epoch 94/250\n",
            "1/1 [==============================] - 0s 7ms/step - loss: 9.3022e-06\n",
            "Epoch 95/250\n",
            "1/1 [==============================] - 0s 7ms/step - loss: 9.1119e-06\n",
            "Epoch 96/250\n",
            "1/1 [==============================] - 0s 7ms/step - loss: 8.9262e-06\n",
            "Epoch 97/250\n",
            "1/1 [==============================] - 0s 18ms/step - loss: 8.7442e-06\n",
            "Epoch 98/250\n",
            "1/1 [==============================] - 0s 15ms/step - loss: 8.5654e-06\n",
            "Epoch 99/250\n",
            "1/1 [==============================] - 0s 18ms/step - loss: 8.3904e-06\n",
            "Epoch 100/250\n",
            "1/1 [==============================] - 0s 9ms/step - loss: 8.2189e-06\n",
            "Epoch 101/250\n",
            "1/1 [==============================] - 0s 11ms/step - loss: 8.0513e-06\n",
            "Epoch 102/250\n",
            "1/1 [==============================] - 0s 9ms/step - loss: 7.8864e-06\n",
            "Epoch 103/250\n",
            "1/1 [==============================] - 0s 10ms/step - loss: 7.7256e-06\n",
            "Epoch 104/250\n",
            "1/1 [==============================] - 0s 15ms/step - loss: 7.5679e-06\n",
            "Epoch 105/250\n",
            "1/1 [==============================] - 0s 14ms/step - loss: 7.4136e-06\n",
            "Epoch 106/250\n",
            "1/1 [==============================] - 0s 16ms/step - loss: 7.2621e-06\n",
            "Epoch 107/250\n",
            "1/1 [==============================] - 0s 10ms/step - loss: 7.1137e-06\n",
            "Epoch 108/250\n",
            "1/1 [==============================] - 0s 10ms/step - loss: 6.9685e-06\n",
            "Epoch 109/250\n",
            "1/1 [==============================] - 0s 7ms/step - loss: 6.8260e-06\n",
            "Epoch 110/250\n",
            "1/1 [==============================] - 0s 8ms/step - loss: 6.6868e-06\n",
            "Epoch 111/250\n",
            "1/1 [==============================] - 0s 10ms/step - loss: 6.5501e-06\n",
            "Epoch 112/250\n",
            "1/1 [==============================] - 0s 11ms/step - loss: 6.4162e-06\n",
            "Epoch 113/250\n",
            "1/1 [==============================] - 0s 10ms/step - loss: 6.2849e-06\n",
            "Epoch 114/250\n",
            "1/1 [==============================] - 0s 8ms/step - loss: 6.1569e-06\n",
            "Epoch 115/250\n",
            "1/1 [==============================] - 0s 7ms/step - loss: 6.0312e-06\n",
            "Epoch 116/250\n",
            "1/1 [==============================] - 0s 7ms/step - loss: 5.9084e-06\n",
            "Epoch 117/250\n",
            "1/1 [==============================] - 0s 6ms/step - loss: 5.7875e-06\n",
            "Epoch 118/250\n",
            "1/1 [==============================] - 0s 7ms/step - loss: 5.6697e-06\n",
            "Epoch 119/250\n",
            "1/1 [==============================] - 0s 7ms/step - loss: 5.5535e-06\n",
            "Epoch 120/250\n",
            "1/1 [==============================] - 0s 7ms/step - loss: 5.4402e-06\n",
            "Epoch 121/250\n",
            "1/1 [==============================] - 0s 13ms/step - loss: 5.3290e-06\n",
            "Epoch 122/250\n",
            "1/1 [==============================] - 0s 7ms/step - loss: 5.2200e-06\n",
            "Epoch 123/250\n",
            "1/1 [==============================] - 0s 7ms/step - loss: 5.1133e-06\n",
            "Epoch 124/250\n",
            "1/1 [==============================] - 0s 7ms/step - loss: 5.0090e-06\n",
            "Epoch 125/250\n",
            "1/1 [==============================] - 0s 7ms/step - loss: 4.9067e-06\n",
            "Epoch 126/250\n",
            "1/1 [==============================] - 0s 6ms/step - loss: 4.8064e-06\n",
            "Epoch 127/250\n",
            "1/1 [==============================] - 0s 6ms/step - loss: 4.7082e-06\n",
            "Epoch 128/250\n",
            "1/1 [==============================] - 0s 9ms/step - loss: 4.6122e-06\n",
            "Epoch 129/250\n",
            "1/1 [==============================] - 0s 7ms/step - loss: 4.5181e-06\n",
            "Epoch 130/250\n",
            "1/1 [==============================] - 0s 8ms/step - loss: 4.4258e-06\n",
            "Epoch 131/250\n",
            "1/1 [==============================] - 0s 8ms/step - loss: 4.3352e-06\n",
            "Epoch 132/250\n",
            "1/1 [==============================] - 0s 7ms/step - loss: 4.2468e-06\n",
            "Epoch 133/250\n",
            "1/1 [==============================] - 0s 9ms/step - loss: 4.1602e-06\n",
            "Epoch 134/250\n",
            "1/1 [==============================] - 0s 6ms/step - loss: 4.0752e-06\n",
            "Epoch 135/250\n",
            "1/1 [==============================] - 0s 7ms/step - loss: 3.9921e-06\n",
            "Epoch 136/250\n",
            "1/1 [==============================] - 0s 7ms/step - loss: 3.9107e-06\n",
            "Epoch 137/250\n",
            "1/1 [==============================] - 0s 6ms/step - loss: 3.8305e-06\n",
            "Epoch 138/250\n",
            "1/1 [==============================] - 0s 8ms/step - loss: 3.7524e-06\n",
            "Epoch 139/250\n",
            "1/1 [==============================] - 0s 9ms/step - loss: 3.6758e-06\n",
            "Epoch 140/250\n",
            "1/1 [==============================] - 0s 5ms/step - loss: 3.6009e-06\n",
            "Epoch 141/250\n",
            "1/1 [==============================] - 0s 5ms/step - loss: 3.5274e-06\n",
            "Epoch 142/250\n",
            "1/1 [==============================] - 0s 6ms/step - loss: 3.4552e-06\n",
            "Epoch 143/250\n",
            "1/1 [==============================] - 0s 6ms/step - loss: 3.3846e-06\n",
            "Epoch 144/250\n",
            "1/1 [==============================] - 0s 6ms/step - loss: 3.3155e-06\n",
            "Epoch 145/250\n",
            "1/1 [==============================] - 0s 8ms/step - loss: 3.2478e-06\n",
            "Epoch 146/250\n",
            "1/1 [==============================] - 0s 5ms/step - loss: 3.1814e-06\n",
            "Epoch 147/250\n",
            "1/1 [==============================] - 0s 6ms/step - loss: 3.1163e-06\n",
            "Epoch 148/250\n",
            "1/1 [==============================] - 0s 6ms/step - loss: 3.0529e-06\n",
            "Epoch 149/250\n",
            "1/1 [==============================] - 0s 6ms/step - loss: 2.9904e-06\n",
            "Epoch 150/250\n",
            "1/1 [==============================] - 0s 5ms/step - loss: 2.9294e-06\n",
            "Epoch 151/250\n",
            "1/1 [==============================] - 0s 5ms/step - loss: 2.8697e-06\n",
            "Epoch 152/250\n",
            "1/1 [==============================] - 0s 5ms/step - loss: 2.8110e-06\n",
            "Epoch 153/250\n",
            "1/1 [==============================] - 0s 5ms/step - loss: 2.7537e-06\n",
            "Epoch 154/250\n",
            "1/1 [==============================] - 0s 5ms/step - loss: 2.6973e-06\n",
            "Epoch 155/250\n",
            "1/1 [==============================] - 0s 5ms/step - loss: 2.6423e-06\n",
            "Epoch 156/250\n",
            "1/1 [==============================] - 0s 8ms/step - loss: 2.5884e-06\n",
            "Epoch 157/250\n",
            "1/1 [==============================] - 0s 7ms/step - loss: 2.5354e-06\n",
            "Epoch 158/250\n",
            "1/1 [==============================] - 0s 6ms/step - loss: 2.4836e-06\n",
            "Epoch 159/250\n",
            "1/1 [==============================] - 0s 6ms/step - loss: 2.4328e-06\n",
            "Epoch 160/250\n",
            "1/1 [==============================] - 0s 5ms/step - loss: 2.3833e-06\n",
            "Epoch 161/250\n",
            "1/1 [==============================] - 0s 5ms/step - loss: 2.3345e-06\n",
            "Epoch 162/250\n",
            "1/1 [==============================] - 0s 6ms/step - loss: 2.2868e-06\n",
            "Epoch 163/250\n",
            "1/1 [==============================] - 0s 6ms/step - loss: 2.2403e-06\n",
            "Epoch 164/250\n",
            "1/1 [==============================] - 0s 5ms/step - loss: 2.1944e-06\n",
            "Epoch 165/250\n",
            "1/1 [==============================] - 0s 5ms/step - loss: 2.1496e-06\n",
            "Epoch 166/250\n",
            "1/1 [==============================] - 0s 6ms/step - loss: 2.1057e-06\n",
            "Epoch 167/250\n",
            "1/1 [==============================] - 0s 6ms/step - loss: 2.0627e-06\n",
            "Epoch 168/250\n",
            "1/1 [==============================] - 0s 6ms/step - loss: 2.0207e-06\n",
            "Epoch 169/250\n",
            "1/1 [==============================] - 0s 6ms/step - loss: 1.9792e-06\n",
            "Epoch 170/250\n",
            "1/1 [==============================] - 0s 6ms/step - loss: 1.9390e-06\n",
            "Epoch 171/250\n",
            "1/1 [==============================] - 0s 6ms/step - loss: 1.8994e-06\n",
            "Epoch 172/250\n",
            "1/1 [==============================] - 0s 6ms/step - loss: 1.8606e-06\n",
            "Epoch 173/250\n",
            "1/1 [==============================] - 0s 6ms/step - loss: 1.8226e-06\n",
            "Epoch 174/250\n",
            "1/1 [==============================] - 0s 5ms/step - loss: 1.7855e-06\n",
            "Epoch 175/250\n",
            "1/1 [==============================] - 0s 6ms/step - loss: 1.7489e-06\n",
            "Epoch 176/250\n",
            "1/1 [==============================] - 0s 6ms/step - loss: 1.7132e-06\n",
            "Epoch 177/250\n",
            "1/1 [==============================] - 0s 5ms/step - loss: 1.6781e-06\n",
            "Epoch 178/250\n",
            "1/1 [==============================] - 0s 6ms/step - loss: 1.6438e-06\n",
            "Epoch 179/250\n",
            "1/1 [==============================] - 0s 5ms/step - loss: 1.6102e-06\n",
            "Epoch 180/250\n",
            "1/1 [==============================] - 0s 12ms/step - loss: 1.5772e-06\n",
            "Epoch 181/250\n",
            "1/1 [==============================] - 0s 9ms/step - loss: 1.5452e-06\n",
            "Epoch 182/250\n",
            "1/1 [==============================] - 0s 8ms/step - loss: 1.5137e-06\n",
            "Epoch 183/250\n",
            "1/1 [==============================] - 0s 5ms/step - loss: 1.4828e-06\n",
            "Epoch 184/250\n",
            "1/1 [==============================] - 0s 5ms/step - loss: 1.4525e-06\n",
            "Epoch 185/250\n",
            "1/1 [==============================] - 0s 5ms/step - loss: 1.4230e-06\n",
            "Epoch 186/250\n",
            "1/1 [==============================] - 0s 5ms/step - loss: 1.3938e-06\n",
            "Epoch 187/250\n",
            "1/1 [==============================] - 0s 8ms/step - loss: 1.3652e-06\n",
            "Epoch 188/250\n",
            "1/1 [==============================] - 0s 5ms/step - loss: 1.3373e-06\n",
            "Epoch 189/250\n",
            "1/1 [==============================] - 0s 5ms/step - loss: 1.3100e-06\n",
            "Epoch 190/250\n",
            "1/1 [==============================] - 0s 5ms/step - loss: 1.2833e-06\n",
            "Epoch 191/250\n",
            "1/1 [==============================] - 0s 6ms/step - loss: 1.2572e-06\n",
            "Epoch 192/250\n",
            "1/1 [==============================] - 0s 6ms/step - loss: 1.2314e-06\n",
            "Epoch 193/250\n",
            "1/1 [==============================] - 0s 16ms/step - loss: 1.2063e-06\n",
            "Epoch 194/250\n",
            "1/1 [==============================] - 0s 12ms/step - loss: 1.1817e-06\n",
            "Epoch 195/250\n",
            "1/1 [==============================] - 0s 7ms/step - loss: 1.1575e-06\n",
            "Epoch 196/250\n",
            "1/1 [==============================] - 0s 5ms/step - loss: 1.1339e-06\n",
            "Epoch 197/250\n",
            "1/1 [==============================] - 0s 6ms/step - loss: 1.1107e-06\n",
            "Epoch 198/250\n",
            "1/1 [==============================] - 0s 5ms/step - loss: 1.0881e-06\n",
            "Epoch 199/250\n",
            "1/1 [==============================] - 0s 8ms/step - loss: 1.0658e-06\n",
            "Epoch 200/250\n",
            "1/1 [==============================] - 0s 6ms/step - loss: 1.0441e-06\n",
            "Epoch 201/250\n",
            "1/1 [==============================] - 0s 5ms/step - loss: 1.0229e-06\n",
            "Epoch 202/250\n",
            "1/1 [==============================] - 0s 5ms/step - loss: 1.0019e-06\n",
            "Epoch 203/250\n",
            "1/1 [==============================] - 0s 8ms/step - loss: 9.8144e-07\n",
            "Epoch 204/250\n",
            "1/1 [==============================] - 0s 5ms/step - loss: 9.6134e-07\n",
            "Epoch 205/250\n",
            "1/1 [==============================] - 0s 6ms/step - loss: 9.4164e-07\n",
            "Epoch 206/250\n",
            "1/1 [==============================] - 0s 5ms/step - loss: 9.2252e-07\n",
            "Epoch 207/250\n",
            "1/1 [==============================] - 0s 5ms/step - loss: 9.0370e-07\n",
            "Epoch 208/250\n",
            "1/1 [==============================] - 0s 6ms/step - loss: 8.8513e-07\n",
            "Epoch 209/250\n",
            "1/1 [==============================] - 0s 6ms/step - loss: 8.6701e-07\n",
            "Epoch 210/250\n",
            "1/1 [==============================] - 0s 6ms/step - loss: 8.4943e-07\n",
            "Epoch 211/250\n",
            "1/1 [==============================] - 0s 7ms/step - loss: 8.3214e-07\n",
            "Epoch 212/250\n",
            "1/1 [==============================] - 0s 7ms/step - loss: 8.1521e-07\n",
            "Epoch 213/250\n",
            "1/1 [==============================] - 0s 6ms/step - loss: 7.9844e-07\n",
            "Epoch 214/250\n",
            "1/1 [==============================] - 0s 10ms/step - loss: 7.8219e-07\n",
            "Epoch 215/250\n",
            "1/1 [==============================] - 0s 6ms/step - loss: 7.6622e-07\n",
            "Epoch 216/250\n",
            "1/1 [==============================] - 0s 7ms/step - loss: 7.5056e-07\n",
            "Epoch 217/250\n",
            "1/1 [==============================] - 0s 9ms/step - loss: 7.3519e-07\n",
            "Epoch 218/250\n",
            "1/1 [==============================] - 0s 9ms/step - loss: 7.2008e-07\n",
            "Epoch 219/250\n",
            "1/1 [==============================] - 0s 6ms/step - loss: 7.0545e-07\n",
            "Epoch 220/250\n",
            "1/1 [==============================] - 0s 9ms/step - loss: 6.9100e-07\n",
            "Epoch 221/250\n",
            "1/1 [==============================] - 0s 6ms/step - loss: 6.7679e-07\n",
            "Epoch 222/250\n",
            "1/1 [==============================] - 0s 7ms/step - loss: 6.6288e-07\n",
            "Epoch 223/250\n",
            "1/1 [==============================] - 0s 9ms/step - loss: 6.4932e-07\n",
            "Epoch 224/250\n",
            "1/1 [==============================] - 0s 7ms/step - loss: 6.3600e-07\n",
            "Epoch 225/250\n",
            "1/1 [==============================] - 0s 6ms/step - loss: 6.2292e-07\n",
            "Epoch 226/250\n",
            "1/1 [==============================] - 0s 6ms/step - loss: 6.1018e-07\n",
            "Epoch 227/250\n",
            "1/1 [==============================] - 0s 6ms/step - loss: 5.9761e-07\n",
            "Epoch 228/250\n",
            "1/1 [==============================] - 0s 9ms/step - loss: 5.8548e-07\n",
            "Epoch 229/250\n",
            "1/1 [==============================] - 0s 6ms/step - loss: 5.7345e-07\n",
            "Epoch 230/250\n",
            "1/1 [==============================] - 0s 6ms/step - loss: 5.6170e-07\n",
            "Epoch 231/250\n",
            "1/1 [==============================] - 0s 10ms/step - loss: 5.5023e-07\n",
            "Epoch 232/250\n",
            "1/1 [==============================] - 0s 7ms/step - loss: 5.3898e-07\n",
            "Epoch 233/250\n",
            "1/1 [==============================] - 0s 12ms/step - loss: 5.2797e-07\n",
            "Epoch 234/250\n",
            "1/1 [==============================] - 0s 13ms/step - loss: 5.1725e-07\n",
            "Epoch 235/250\n",
            "1/1 [==============================] - 0s 5ms/step - loss: 5.0673e-07\n",
            "Epoch 236/250\n",
            "1/1 [==============================] - 0s 6ms/step - loss: 4.9646e-07\n",
            "Epoch 237/250\n",
            "1/1 [==============================] - 0s 9ms/step - loss: 4.8623e-07\n",
            "Epoch 238/250\n",
            "1/1 [==============================] - 0s 10ms/step - loss: 4.7628e-07\n",
            "Epoch 239/250\n",
            "1/1 [==============================] - 0s 9ms/step - loss: 4.6649e-07\n",
            "Epoch 240/250\n",
            "1/1 [==============================] - 0s 9ms/step - loss: 4.5699e-07\n",
            "Epoch 241/250\n",
            "1/1 [==============================] - 0s 7ms/step - loss: 4.4765e-07\n",
            "Epoch 242/250\n",
            "1/1 [==============================] - 0s 6ms/step - loss: 4.3860e-07\n",
            "Epoch 243/250\n",
            "1/1 [==============================] - 0s 6ms/step - loss: 4.2963e-07\n",
            "Epoch 244/250\n",
            "1/1 [==============================] - 0s 6ms/step - loss: 4.2082e-07\n",
            "Epoch 245/250\n",
            "1/1 [==============================] - 0s 6ms/step - loss: 4.1220e-07\n",
            "Epoch 246/250\n",
            "1/1 [==============================] - 0s 6ms/step - loss: 4.0374e-07\n",
            "Epoch 247/250\n",
            "1/1 [==============================] - 0s 5ms/step - loss: 3.9558e-07\n",
            "Epoch 248/250\n",
            "1/1 [==============================] - 0s 5ms/step - loss: 3.8745e-07\n",
            "Epoch 249/250\n",
            "1/1 [==============================] - 0s 6ms/step - loss: 3.7954e-07\n",
            "Epoch 250/250\n",
            "1/1 [==============================] - 0s 6ms/step - loss: 3.7183e-07\n"
          ]
        },
        {
          "output_type": "execute_result",
          "data": {
            "text/plain": [
              "<keras.callbacks.History at 0x7ff8eb9fa710>"
            ]
          },
          "metadata": {},
          "execution_count": 7
        }
      ]
    },
    {
      "cell_type": "code",
      "source": [
        "#expect something near -8. \n",
        "print(model.predict([10.0]))"
      ],
      "metadata": {
        "colab": {
          "base_uri": "https://localhost:8080/"
        },
        "id": "cqtIdC_PZxAU",
        "outputId": "9bcf005d-d416-4a15-b98c-a8b82b392cfc"
      },
      "execution_count": null,
      "outputs": [
        {
          "output_type": "stream",
          "name": "stdout",
          "text": [
            "[[-7.993168]]\n"
          ]
        }
      ]
    },
    {
      "cell_type": "markdown",
      "source": [
        "# Working with Images\n",
        "https://www.kaggle.com/datasets/muniryadi/cat-vs-rabbit?select=val-cat-rabbit\n",
        "\n",
        "cats vs rabbits"
      ],
      "metadata": {
        "id": "V-EfFty6_uKR"
      }
    },
    {
      "cell_type": "code",
      "source": [
        "#First steep is import the libraries. \n",
        "import tensorflow as tf\n",
        "#Numpy is a lybrary that allow us to work with arrays. \n",
        "import numpy as np\n",
        "#keras is an open source neural networks lybrary writted in python that run's in varios frameworks, TensorFlow included. \n",
        "from tensorflow import keras\n",
        "print (tf.__version__)\n"
      ],
      "metadata": {
        "colab": {
          "base_uri": "https://localhost:8080/"
        },
        "id": "OvREzvxr5nSj",
        "outputId": "0411ec98-20c6-42a1-b63d-bdf0a94da1ac"
      },
      "execution_count": 22,
      "outputs": [
        {
          "output_type": "stream",
          "name": "stdout",
          "text": [
            "2.8.0\n"
          ]
        }
      ]
    },
    {
      "cell_type": "code",
      "source": [
        "#obtain the data from martra.uadla.com\n",
        "\n",
        "!wget --no-check-certificate \\\n",
        "https://martra.uadla.com/docs/validationCats.zip \\-O /tmp/validationCats.zip\n",
        "\n",
        "!wget --no-check-certificate \\\n",
        "https://martra.uadla.com/docs/validationDogs.zip \\-O /tmp/validationDogs.zip\n",
        "\n",
        "!wget --no-check-certificate \\\n",
        "https://martra.uadla.com/docs/trainCats.zip \\-O /tmp/trainCats.zip\n",
        "\n",
        "!wget --no-check-certificate \\\n",
        "https://martra.uadla.com/docs/trainDogs.zip \\-O /tmp/trainDogs.zip\n"
      ],
      "metadata": {
        "colab": {
          "base_uri": "https://localhost:8080/"
        },
        "id": "S91fBKeP_0Ng",
        "outputId": "e6a61fa5-7f9e-4bbc-b180-084031b8f392"
      },
      "execution_count": 23,
      "outputs": [
        {
          "output_type": "stream",
          "name": "stdout",
          "text": [
            "--2022-05-23 22:19:38--  https://martra.uadla.com/docs/validationCats.zip\n",
            "Resolving martra.uadla.com (martra.uadla.com)... 162.144.22.118\n",
            "Connecting to martra.uadla.com (martra.uadla.com)|162.144.22.118|:443... connected.\n",
            "HTTP request sent, awaiting response... 200 OK\n",
            "Length: 71717093 (68M) [application/zip]\n",
            "Saving to: ‘/tmp/validationCats.zip’\n",
            "\n",
            "/tmp/validationCats 100%[===================>]  68.39M  14.9MB/s    in 6.0s    \n",
            "\n",
            "2022-05-23 22:19:45 (11.3 MB/s) - ‘/tmp/validationCats.zip’ saved [71717093/71717093]\n",
            "\n",
            "--2022-05-23 22:19:45--  https://martra.uadla.com/docs/validationDogs.zip\n",
            "Resolving martra.uadla.com (martra.uadla.com)... 162.144.22.118\n",
            "Connecting to martra.uadla.com (martra.uadla.com)|162.144.22.118|:443... connected.\n",
            "HTTP request sent, awaiting response... 200 OK\n",
            "Length: 88854115 (85M) [application/zip]\n",
            "Saving to: ‘/tmp/validationDogs.zip’\n",
            "\n",
            "/tmp/validationDogs 100%[===================>]  84.74M  14.5MB/s    in 7.2s    \n",
            "\n",
            "2022-05-23 22:19:53 (11.7 MB/s) - ‘/tmp/validationDogs.zip’ saved [88854115/88854115]\n",
            "\n",
            "--2022-05-23 22:19:53--  https://martra.uadla.com/docs/trainCats.zip\n",
            "Resolving martra.uadla.com (martra.uadla.com)... 162.144.22.118\n",
            "Connecting to martra.uadla.com (martra.uadla.com)|162.144.22.118|:443... connected.\n",
            "HTTP request sent, awaiting response... 200 OK\n",
            "Length: 299507692 (286M) [application/zip]\n",
            "Saving to: ‘/tmp/trainCats.zip’\n",
            "\n",
            "/tmp/trainCats.zip  100%[===================>] 285.63M  14.7MB/s    in 21s     \n",
            "\n",
            "2022-05-23 22:20:15 (13.5 MB/s) - ‘/tmp/trainCats.zip’ saved [299507692/299507692]\n",
            "\n",
            "--2022-05-23 22:20:15--  https://martra.uadla.com/docs/trainDogs.zip\n",
            "Resolving martra.uadla.com (martra.uadla.com)... 162.144.22.118\n",
            "Connecting to martra.uadla.com (martra.uadla.com)|162.144.22.118|:443... connected.\n",
            "HTTP request sent, awaiting response... 200 OK\n",
            "Length: 352669645 (336M) [application/zip]\n",
            "Saving to: ‘/tmp/trainDogs.zip’\n",
            "\n",
            "/tmp/trainDogs.zip  100%[===================>] 336.33M  14.9MB/s    in 24s     \n",
            "\n",
            "2022-05-23 22:20:40 (14.0 MB/s) - ‘/tmp/trainDogs.zip’ saved [352669645/352669645]\n",
            "\n"
          ]
        }
      ]
    },
    {
      "cell_type": "code",
      "source": [
        "#unzip the data\n",
        "import zipfile\n",
        "cvr_zip_file = '/tmp/validationCats.zip'\n",
        "zipmem = zipfile.ZipFile(cvr_zip_file)\n",
        "zipmem.extractall('/tmp/catsvsdogs/validation')\n",
        "\n",
        "cvr_zip_file = '/tmp/validationDogs.zip'\n",
        "zipmem = zipfile.ZipFile(cvr_zip_file)\n",
        "zipmem.extractall('/tmp/catsvsdogs/validation')\n",
        "\n",
        "cvr_zip_file = '/tmp/trainDogs.zip'\n",
        "zipmem = zipfile.ZipFile(cvr_zip_file)\n",
        "zipmem.extractall('/tmp/catsvsdogs/training')\n",
        "\n",
        "cvr_zip_file = '/tmp/trainCats.zip'\n",
        "zipmem = zipfile.ZipFile(cvr_zip_file)\n",
        "zipmem.extractall('/tmp/catsvsdogs/training')\n",
        "\n",
        "zipmem.close()"
      ],
      "metadata": {
        "id": "OkyG_WmaOJlP"
      },
      "execution_count": 25,
      "outputs": []
    },
    {
      "cell_type": "code",
      "source": [
        "#create the model\n",
        "#it's a minimal model for images, with just an Convolutionatl layer and a MaxPooling layer\n",
        "model = tf.keras.models.Sequential([\n",
        "  tf.keras.layers.Conv2D(16, (4,4), activation=\"relu\", input_shape=(150, 150, 3)),\n",
        "  tf.keras.layers.MaxPooling2D(2,2),  \n",
        "  tf.keras.layers.Flatten(), \n",
        "  tf.keras.layers.Dense(128, activation=\"relu\"), \n",
        "  tf.keras.layers.Dense(1, activation=\"sigmoid\")\n",
        "])\n"
      ],
      "metadata": {
        "id": "4IjdNUfPbPsQ"
      },
      "execution_count": 49,
      "outputs": []
    },
    {
      "cell_type": "code",
      "source": [
        "model.summary()"
      ],
      "metadata": {
        "colab": {
          "base_uri": "https://localhost:8080/"
        },
        "id": "IKQXXxUzefcZ",
        "outputId": "d0201ace-384c-4562-f6e8-a3dcf875affe"
      },
      "execution_count": 50,
      "outputs": [
        {
          "output_type": "stream",
          "name": "stdout",
          "text": [
            "Model: \"sequential_5\"\n",
            "_________________________________________________________________\n",
            " Layer (type)                Output Shape              Param #   \n",
            "=================================================================\n",
            " conv2d_11 (Conv2D)          (None, 147, 147, 16)      784       \n",
            "                                                                 \n",
            " max_pooling2d_11 (MaxPoolin  (None, 73, 73, 16)       0         \n",
            " g2D)                                                            \n",
            "                                                                 \n",
            " flatten_5 (Flatten)         (None, 85264)             0         \n",
            "                                                                 \n",
            " dense_11 (Dense)            (None, 128)               10913920  \n",
            "                                                                 \n",
            " dense_12 (Dense)            (None, 1)                 129       \n",
            "                                                                 \n",
            "=================================================================\n",
            "Total params: 10,914,833\n",
            "Trainable params: 10,914,833\n",
            "Non-trainable params: 0\n",
            "_________________________________________________________________\n"
          ]
        }
      ]
    },
    {
      "cell_type": "code",
      "source": [
        " #create the model\n",
        "#a model with more convutionals and Pooling layers obtains leess parameters. \n",
        "model2 = tf.keras.models.Sequential([\n",
        "  tf.keras.layers.Conv2D(16, (4,4), activation=\"relu\", input_shape=(150, 150, 3)),\n",
        "  tf.keras.layers.MaxPooling2D(2,2),  \n",
        "  tf.keras.layers.Conv2D(32, (4,4), activation=\"relu\"),\n",
        "  tf.keras.layers.MaxPooling2D(2,2),  \n",
        "  tf.keras.layers.Conv2D(64, (4,4), activation=\"relu\"),\n",
        "  tf.keras.layers.MaxPooling2D(2,2),  \n",
        "  tf.keras.layers.Flatten(), \n",
        "  tf.keras.layers.Dense(512, activation=\"relu\"), \n",
        "  tf.keras.layers.Dense(256, activation=\"relu\"), \n",
        "  tf.keras.layers.Dense(1, activation=\"sigmoid\")\n",
        "])"
      ],
      "metadata": {
        "id": "9lU68GaYeo8h"
      },
      "execution_count": 51,
      "outputs": []
    },
    {
      "cell_type": "code",
      "source": [
        "model2.summary()"
      ],
      "metadata": {
        "colab": {
          "base_uri": "https://localhost:8080/"
        },
        "id": "ygmXqTe_e3Tx",
        "outputId": "cf9b868d-3e6e-4d4c-b6e6-07c0031fbcb6"
      },
      "execution_count": 52,
      "outputs": [
        {
          "output_type": "stream",
          "name": "stdout",
          "text": [
            "Model: \"sequential_6\"\n",
            "_________________________________________________________________\n",
            " Layer (type)                Output Shape              Param #   \n",
            "=================================================================\n",
            " conv2d_12 (Conv2D)          (None, 147, 147, 16)      784       \n",
            "                                                                 \n",
            " max_pooling2d_12 (MaxPoolin  (None, 73, 73, 16)       0         \n",
            " g2D)                                                            \n",
            "                                                                 \n",
            " conv2d_13 (Conv2D)          (None, 70, 70, 32)        8224      \n",
            "                                                                 \n",
            " max_pooling2d_13 (MaxPoolin  (None, 35, 35, 32)       0         \n",
            " g2D)                                                            \n",
            "                                                                 \n",
            " conv2d_14 (Conv2D)          (None, 32, 32, 64)        32832     \n",
            "                                                                 \n",
            " max_pooling2d_14 (MaxPoolin  (None, 16, 16, 64)       0         \n",
            " g2D)                                                            \n",
            "                                                                 \n",
            " flatten_6 (Flatten)         (None, 16384)             0         \n",
            "                                                                 \n",
            " dense_13 (Dense)            (None, 512)               8389120   \n",
            "                                                                 \n",
            " dense_14 (Dense)            (None, 256)               131328    \n",
            "                                                                 \n",
            " dense_15 (Dense)            (None, 1)                 257       \n",
            "                                                                 \n",
            "=================================================================\n",
            "Total params: 8,562,545\n",
            "Trainable params: 8,562,545\n",
            "Non-trainable params: 0\n",
            "_________________________________________________________________\n"
          ]
        }
      ]
    },
    {
      "cell_type": "code",
      "source": [
        "#compile model \n",
        "from tensorflow.keras.optimizers import RMSprop\n",
        "#binary_crossentropy is a loss function that works really weel with binary clasifications. \n",
        "model.compile(loss=\"binary_crossentropy\", \n",
        "              optimizer=RMSprop(learning_rate=0.001), \n",
        "              metrics=['accuracy'])\n",
        "model2.compile(loss=\"binary_crossentropy\", \n",
        "              optimizer=RMSprop(learning_rate=0.001), \n",
        "              metrics=['accuracy'])"
      ],
      "metadata": {
        "id": "Wf3hcRN8e6sb"
      },
      "execution_count": 53,
      "outputs": []
    },
    {
      "cell_type": "code",
      "source": [
        "#preparing the images\n",
        "from tensorflow.keras.preprocessing.image import ImageDataGenerator\n",
        "#TRAIN Dataset\n",
        "#Normalize the images\n",
        "train_idg = ImageDataGenerator(rescale=1/255)\n",
        "train_data = train_idg.flow_from_directory(\n",
        "    '/tmp/catsvsdogs/training', \n",
        "    target_size = (150, 150), \n",
        "    batch_size = 250, \n",
        "    class_mode='binary'\n",
        ")\n",
        "#VALIDATION Dataset\n",
        "val_idg = ImageDataGenerator(rescale=1/255)\n",
        "val_data = val_idg.flow_from_directory(\n",
        "    '/tmp/catsvsdogs/validation', \n",
        "    target_size = (150, 150), \n",
        "    batch_size = 250, \n",
        "    class_mode='binary'\n",
        ")"
      ],
      "metadata": {
        "colab": {
          "base_uri": "https://localhost:8080/"
        },
        "id": "gxgcfWQugXoH",
        "outputId": "c6e0b456-6716-4c23-a14a-ecd710b5f7f3"
      },
      "execution_count": 54,
      "outputs": [
        {
          "output_type": "stream",
          "name": "stdout",
          "text": [
            "Found 19998 images belonging to 2 classes.\n",
            "Found 5002 images belonging to 2 classes.\n"
          ]
        }
      ]
    },
    {
      "cell_type": "code",
      "source": [
        "#Trianing the model\n",
        "#epochs * steps_per_epoch * batch_size\n",
        "\n",
        "history = model.fit(\n",
        "     train_data,\n",
        "     validation_data = val_data, \n",
        "     epochs=15,\n",
        "     steps_per_epoch=20,\n",
        "     validation_steps=6,\n",
        "     verbose=1)"
      ],
      "metadata": {
        "colab": {
          "base_uri": "https://localhost:8080/",
          "height": 1000
        },
        "id": "pgLBJic-m2Gz",
        "outputId": "2ff3498b-9fec-45e7-82ce-56c3db1040b1"
      },
      "execution_count": 55,
      "outputs": [
        {
          "output_type": "stream",
          "name": "stdout",
          "text": [
            "Epoch 1/15\n",
            "20/20 [==============================] - 20s 968ms/step - loss: 5.4488 - accuracy: 0.4978 - val_loss: 0.7642 - val_accuracy: 0.5240\n",
            "Epoch 2/15\n",
            "20/20 [==============================] - 19s 985ms/step - loss: 0.7585 - accuracy: 0.5406 - val_loss: 0.7566 - val_accuracy: 0.5160\n",
            "Epoch 3/15\n",
            " 6/20 [========>.....................] - ETA: 9s - loss: 0.6836 - accuracy: 0.5747 "
          ]
        },
        {
          "output_type": "error",
          "ename": "UnknownError",
          "evalue": "ignored",
          "traceback": [
            "\u001b[0;31m---------------------------------------------------------------------------\u001b[0m",
            "\u001b[0;31mUnknownError\u001b[0m                              Traceback (most recent call last)",
            "\u001b[0;32m<ipython-input-55-c9dd0131251d>\u001b[0m in \u001b[0;36m<module>\u001b[0;34m()\u001b[0m\n\u001b[1;32m      8\u001b[0m      \u001b[0msteps_per_epoch\u001b[0m\u001b[0;34m=\u001b[0m\u001b[0;36m20\u001b[0m\u001b[0;34m,\u001b[0m\u001b[0;34m\u001b[0m\u001b[0;34m\u001b[0m\u001b[0m\n\u001b[1;32m      9\u001b[0m      \u001b[0mvalidation_steps\u001b[0m\u001b[0;34m=\u001b[0m\u001b[0;36m6\u001b[0m\u001b[0;34m,\u001b[0m\u001b[0;34m\u001b[0m\u001b[0;34m\u001b[0m\u001b[0m\n\u001b[0;32m---> 10\u001b[0;31m      verbose=1)\n\u001b[0m",
            "\u001b[0;32m/usr/local/lib/python3.7/dist-packages/keras/utils/traceback_utils.py\u001b[0m in \u001b[0;36merror_handler\u001b[0;34m(*args, **kwargs)\u001b[0m\n\u001b[1;32m     65\u001b[0m     \u001b[0;32mexcept\u001b[0m \u001b[0mException\u001b[0m \u001b[0;32mas\u001b[0m \u001b[0me\u001b[0m\u001b[0;34m:\u001b[0m  \u001b[0;31m# pylint: disable=broad-except\u001b[0m\u001b[0;34m\u001b[0m\u001b[0;34m\u001b[0m\u001b[0m\n\u001b[1;32m     66\u001b[0m       \u001b[0mfiltered_tb\u001b[0m \u001b[0;34m=\u001b[0m \u001b[0m_process_traceback_frames\u001b[0m\u001b[0;34m(\u001b[0m\u001b[0me\u001b[0m\u001b[0;34m.\u001b[0m\u001b[0m__traceback__\u001b[0m\u001b[0;34m)\u001b[0m\u001b[0;34m\u001b[0m\u001b[0;34m\u001b[0m\u001b[0m\n\u001b[0;32m---> 67\u001b[0;31m       \u001b[0;32mraise\u001b[0m \u001b[0me\u001b[0m\u001b[0;34m.\u001b[0m\u001b[0mwith_traceback\u001b[0m\u001b[0;34m(\u001b[0m\u001b[0mfiltered_tb\u001b[0m\u001b[0;34m)\u001b[0m \u001b[0;32mfrom\u001b[0m \u001b[0;32mNone\u001b[0m\u001b[0;34m\u001b[0m\u001b[0;34m\u001b[0m\u001b[0m\n\u001b[0m\u001b[1;32m     68\u001b[0m     \u001b[0;32mfinally\u001b[0m\u001b[0;34m:\u001b[0m\u001b[0;34m\u001b[0m\u001b[0;34m\u001b[0m\u001b[0m\n\u001b[1;32m     69\u001b[0m       \u001b[0;32mdel\u001b[0m \u001b[0mfiltered_tb\u001b[0m\u001b[0;34m\u001b[0m\u001b[0;34m\u001b[0m\u001b[0m\n",
            "\u001b[0;32m/usr/local/lib/python3.7/dist-packages/tensorflow/python/eager/execute.py\u001b[0m in \u001b[0;36mquick_execute\u001b[0;34m(op_name, num_outputs, inputs, attrs, ctx, name)\u001b[0m\n\u001b[1;32m     53\u001b[0m     \u001b[0mctx\u001b[0m\u001b[0;34m.\u001b[0m\u001b[0mensure_initialized\u001b[0m\u001b[0;34m(\u001b[0m\u001b[0;34m)\u001b[0m\u001b[0;34m\u001b[0m\u001b[0;34m\u001b[0m\u001b[0m\n\u001b[1;32m     54\u001b[0m     tensors = pywrap_tfe.TFE_Py_Execute(ctx._handle, device_name, op_name,\n\u001b[0;32m---> 55\u001b[0;31m                                         inputs, attrs, num_outputs)\n\u001b[0m\u001b[1;32m     56\u001b[0m   \u001b[0;32mexcept\u001b[0m \u001b[0mcore\u001b[0m\u001b[0;34m.\u001b[0m\u001b[0m_NotOkStatusException\u001b[0m \u001b[0;32mas\u001b[0m \u001b[0me\u001b[0m\u001b[0;34m:\u001b[0m\u001b[0;34m\u001b[0m\u001b[0;34m\u001b[0m\u001b[0m\n\u001b[1;32m     57\u001b[0m     \u001b[0;32mif\u001b[0m \u001b[0mname\u001b[0m \u001b[0;32mis\u001b[0m \u001b[0;32mnot\u001b[0m \u001b[0;32mNone\u001b[0m\u001b[0;34m:\u001b[0m\u001b[0;34m\u001b[0m\u001b[0;34m\u001b[0m\u001b[0m\n",
            "\u001b[0;31mUnknownError\u001b[0m: Graph execution error:\n\n2 root error(s) found.\n  (0) UNKNOWN:  UnidentifiedImageError: cannot identify image file <_io.BytesIO object at 0x7f042cb12950>\nTraceback (most recent call last):\n\n  File \"/usr/local/lib/python3.7/dist-packages/tensorflow/python/ops/script_ops.py\", line 271, in __call__\n    ret = func(*args)\n\n  File \"/usr/local/lib/python3.7/dist-packages/tensorflow/python/autograph/impl/api.py\", line 642, in wrapper\n    return func(*args, **kwargs)\n\n  File \"/usr/local/lib/python3.7/dist-packages/tensorflow/python/data/ops/dataset_ops.py\", line 1004, in generator_py_func\n    values = next(generator_state.get_iterator(iterator_id))\n\n  File \"/usr/local/lib/python3.7/dist-packages/keras/engine/data_adapter.py\", line 830, in wrapped_generator\n    for data in generator_fn():\n\n  File \"/usr/local/lib/python3.7/dist-packages/keras/engine/data_adapter.py\", line 956, in generator_fn\n    yield x[i]\n\n  File \"/usr/local/lib/python3.7/dist-packages/keras_preprocessing/image/iterator.py\", line 65, in __getitem__\n    return self._get_batches_of_transformed_samples(index_array)\n\n  File \"/usr/local/lib/python3.7/dist-packages/keras_preprocessing/image/iterator.py\", line 230, in _get_batches_of_transformed_samples\n    interpolation=self.interpolation)\n\n  File \"/usr/local/lib/python3.7/dist-packages/keras_preprocessing/image/utils.py\", line 114, in load_img\n    img = pil_image.open(io.BytesIO(f.read()))\n\n  File \"/usr/local/lib/python3.7/dist-packages/PIL/Image.py\", line 2896, in open\n    \"cannot identify image file %r\" % (filename if filename else fp)\n\nPIL.UnidentifiedImageError: cannot identify image file <_io.BytesIO object at 0x7f042cb12950>\n\n\n\t [[{{node PyFunc}}]]\n\t [[IteratorGetNext]]\n\t [[IteratorGetNext/_7]]\n  (1) UNKNOWN:  UnidentifiedImageError: cannot identify image file <_io.BytesIO object at 0x7f042cb12950>\nTraceback (most recent call last):\n\n  File \"/usr/local/lib/python3.7/dist-packages/tensorflow/python/ops/script_ops.py\", line 271, in __call__\n    ret = func(*args)\n\n  File \"/usr/local/lib/python3.7/dist-packages/tensorflow/python/autograph/impl/api.py\", line 642, in wrapper\n    return func(*args, **kwargs)\n\n  File \"/usr/local/lib/python3.7/dist-packages/tensorflow/python/data/ops/dataset_ops.py\", line 1004, in generator_py_func\n    values = next(generator_state.get_iterator(iterator_id))\n\n  File \"/usr/local/lib/python3.7/dist-packages/keras/engine/data_adapter.py\", line 830, in wrapped_generator\n    for data in generator_fn():\n\n  File \"/usr/local/lib/python3.7/dist-packages/keras/engine/data_adapter.py\", line 956, in generator_fn\n    yield x[i]\n\n  File \"/usr/local/lib/python3.7/dist-packages/keras_preprocessing/image/iterator.py\", line 65, in __getitem__\n    return self._get_batches_of_transformed_samples(index_array)\n\n  File \"/usr/local/lib/python3.7/dist-packages/keras_preprocessing/image/iterator.py\", line 230, in _get_batches_of_transformed_samples\n    interpolation=self.interpolation)\n\n  File \"/usr/local/lib/python3.7/dist-packages/keras_preprocessing/image/utils.py\", line 114, in load_img\n    img = pil_image.open(io.BytesIO(f.read()))\n\n  File \"/usr/local/lib/python3.7/dist-packages/PIL/Image.py\", line 2896, in open\n    \"cannot identify image file %r\" % (filename if filename else fp)\n\nPIL.UnidentifiedImageError: cannot identify image file <_io.BytesIO object at 0x7f042cb12950>\n\n\n\t [[{{node PyFunc}}]]\n\t [[IteratorGetNext]]\n0 successful operations.\n0 derived errors ignored. [Op:__inference_train_function_12273]"
          ]
        }
      ]
    },
    {
      "cell_type": "code",
      "source": [
        "#Trianing the model2\n",
        "history2 = model2.fit(\n",
        "     train_data,\n",
        "     validation_data = val_data, \n",
        "     epochs=15,\n",
        "     steps_per_epoch=20,\n",
        "     validation_steps=10,\n",
        "     verbose=1)"
      ],
      "metadata": {
        "colab": {
          "base_uri": "https://localhost:8080/",
          "height": 1000
        },
        "id": "gkzjM_j-nGj0",
        "outputId": "a282e4f0-33f9-4054-cb99-1b2ffcc91990"
      },
      "execution_count": 56,
      "outputs": [
        {
          "output_type": "stream",
          "name": "stdout",
          "text": [
            "Epoch 1/15\n",
            "20/20 [==============================] - ETA: 0s - loss: 1.0766 - accuracy: 0.5040"
          ]
        },
        {
          "output_type": "error",
          "ename": "UnknownError",
          "evalue": "ignored",
          "traceback": [
            "\u001b[0;31m---------------------------------------------------------------------------\u001b[0m",
            "\u001b[0;31mUnknownError\u001b[0m                              Traceback (most recent call last)",
            "\u001b[0;32m<ipython-input-56-738603acf4d7>\u001b[0m in \u001b[0;36m<module>\u001b[0;34m()\u001b[0m\n\u001b[1;32m      6\u001b[0m      \u001b[0msteps_per_epoch\u001b[0m\u001b[0;34m=\u001b[0m\u001b[0;36m20\u001b[0m\u001b[0;34m,\u001b[0m\u001b[0;34m\u001b[0m\u001b[0;34m\u001b[0m\u001b[0m\n\u001b[1;32m      7\u001b[0m      \u001b[0mvalidation_steps\u001b[0m\u001b[0;34m=\u001b[0m\u001b[0;36m10\u001b[0m\u001b[0;34m,\u001b[0m\u001b[0;34m\u001b[0m\u001b[0;34m\u001b[0m\u001b[0m\n\u001b[0;32m----> 8\u001b[0;31m      verbose=1)\n\u001b[0m",
            "\u001b[0;32m/usr/local/lib/python3.7/dist-packages/keras/utils/traceback_utils.py\u001b[0m in \u001b[0;36merror_handler\u001b[0;34m(*args, **kwargs)\u001b[0m\n\u001b[1;32m     65\u001b[0m     \u001b[0;32mexcept\u001b[0m \u001b[0mException\u001b[0m \u001b[0;32mas\u001b[0m \u001b[0me\u001b[0m\u001b[0;34m:\u001b[0m  \u001b[0;31m# pylint: disable=broad-except\u001b[0m\u001b[0;34m\u001b[0m\u001b[0;34m\u001b[0m\u001b[0m\n\u001b[1;32m     66\u001b[0m       \u001b[0mfiltered_tb\u001b[0m \u001b[0;34m=\u001b[0m \u001b[0m_process_traceback_frames\u001b[0m\u001b[0;34m(\u001b[0m\u001b[0me\u001b[0m\u001b[0;34m.\u001b[0m\u001b[0m__traceback__\u001b[0m\u001b[0;34m)\u001b[0m\u001b[0;34m\u001b[0m\u001b[0;34m\u001b[0m\u001b[0m\n\u001b[0;32m---> 67\u001b[0;31m       \u001b[0;32mraise\u001b[0m \u001b[0me\u001b[0m\u001b[0;34m.\u001b[0m\u001b[0mwith_traceback\u001b[0m\u001b[0;34m(\u001b[0m\u001b[0mfiltered_tb\u001b[0m\u001b[0;34m)\u001b[0m \u001b[0;32mfrom\u001b[0m \u001b[0;32mNone\u001b[0m\u001b[0;34m\u001b[0m\u001b[0;34m\u001b[0m\u001b[0m\n\u001b[0m\u001b[1;32m     68\u001b[0m     \u001b[0;32mfinally\u001b[0m\u001b[0;34m:\u001b[0m\u001b[0;34m\u001b[0m\u001b[0;34m\u001b[0m\u001b[0m\n\u001b[1;32m     69\u001b[0m       \u001b[0;32mdel\u001b[0m \u001b[0mfiltered_tb\u001b[0m\u001b[0;34m\u001b[0m\u001b[0;34m\u001b[0m\u001b[0m\n",
            "\u001b[0;32m/usr/local/lib/python3.7/dist-packages/tensorflow/python/eager/execute.py\u001b[0m in \u001b[0;36mquick_execute\u001b[0;34m(op_name, num_outputs, inputs, attrs, ctx, name)\u001b[0m\n\u001b[1;32m     53\u001b[0m     \u001b[0mctx\u001b[0m\u001b[0;34m.\u001b[0m\u001b[0mensure_initialized\u001b[0m\u001b[0;34m(\u001b[0m\u001b[0;34m)\u001b[0m\u001b[0;34m\u001b[0m\u001b[0;34m\u001b[0m\u001b[0m\n\u001b[1;32m     54\u001b[0m     tensors = pywrap_tfe.TFE_Py_Execute(ctx._handle, device_name, op_name,\n\u001b[0;32m---> 55\u001b[0;31m                                         inputs, attrs, num_outputs)\n\u001b[0m\u001b[1;32m     56\u001b[0m   \u001b[0;32mexcept\u001b[0m \u001b[0mcore\u001b[0m\u001b[0;34m.\u001b[0m\u001b[0m_NotOkStatusException\u001b[0m \u001b[0;32mas\u001b[0m \u001b[0me\u001b[0m\u001b[0;34m:\u001b[0m\u001b[0;34m\u001b[0m\u001b[0;34m\u001b[0m\u001b[0m\n\u001b[1;32m     57\u001b[0m     \u001b[0;32mif\u001b[0m \u001b[0mname\u001b[0m \u001b[0;32mis\u001b[0m \u001b[0;32mnot\u001b[0m \u001b[0;32mNone\u001b[0m\u001b[0;34m:\u001b[0m\u001b[0;34m\u001b[0m\u001b[0;34m\u001b[0m\u001b[0m\n",
            "\u001b[0;31mUnknownError\u001b[0m: Graph execution error:\n\n2 root error(s) found.\n  (0) UNKNOWN:  UnidentifiedImageError: cannot identify image file <_io.BytesIO object at 0x7f03ea7e5ad0>\nTraceback (most recent call last):\n\n  File \"/usr/local/lib/python3.7/dist-packages/tensorflow/python/ops/script_ops.py\", line 271, in __call__\n    ret = func(*args)\n\n  File \"/usr/local/lib/python3.7/dist-packages/tensorflow/python/autograph/impl/api.py\", line 642, in wrapper\n    return func(*args, **kwargs)\n\n  File \"/usr/local/lib/python3.7/dist-packages/tensorflow/python/data/ops/dataset_ops.py\", line 1004, in generator_py_func\n    values = next(generator_state.get_iterator(iterator_id))\n\n  File \"/usr/local/lib/python3.7/dist-packages/keras/engine/data_adapter.py\", line 830, in wrapped_generator\n    for data in generator_fn():\n\n  File \"/usr/local/lib/python3.7/dist-packages/keras/engine/data_adapter.py\", line 956, in generator_fn\n    yield x[i]\n\n  File \"/usr/local/lib/python3.7/dist-packages/keras_preprocessing/image/iterator.py\", line 65, in __getitem__\n    return self._get_batches_of_transformed_samples(index_array)\n\n  File \"/usr/local/lib/python3.7/dist-packages/keras_preprocessing/image/iterator.py\", line 230, in _get_batches_of_transformed_samples\n    interpolation=self.interpolation)\n\n  File \"/usr/local/lib/python3.7/dist-packages/keras_preprocessing/image/utils.py\", line 114, in load_img\n    img = pil_image.open(io.BytesIO(f.read()))\n\n  File \"/usr/local/lib/python3.7/dist-packages/PIL/Image.py\", line 2896, in open\n    \"cannot identify image file %r\" % (filename if filename else fp)\n\nPIL.UnidentifiedImageError: cannot identify image file <_io.BytesIO object at 0x7f03ea7e5ad0>\n\n\n\t [[{{node PyFunc}}]]\n\t [[IteratorGetNext]]\n\t [[IteratorGetNext/_2]]\n  (1) UNKNOWN:  UnidentifiedImageError: cannot identify image file <_io.BytesIO object at 0x7f03ea7e5ad0>\nTraceback (most recent call last):\n\n  File \"/usr/local/lib/python3.7/dist-packages/tensorflow/python/ops/script_ops.py\", line 271, in __call__\n    ret = func(*args)\n\n  File \"/usr/local/lib/python3.7/dist-packages/tensorflow/python/autograph/impl/api.py\", line 642, in wrapper\n    return func(*args, **kwargs)\n\n  File \"/usr/local/lib/python3.7/dist-packages/tensorflow/python/data/ops/dataset_ops.py\", line 1004, in generator_py_func\n    values = next(generator_state.get_iterator(iterator_id))\n\n  File \"/usr/local/lib/python3.7/dist-packages/keras/engine/data_adapter.py\", line 830, in wrapped_generator\n    for data in generator_fn():\n\n  File \"/usr/local/lib/python3.7/dist-packages/keras/engine/data_adapter.py\", line 956, in generator_fn\n    yield x[i]\n\n  File \"/usr/local/lib/python3.7/dist-packages/keras_preprocessing/image/iterator.py\", line 65, in __getitem__\n    return self._get_batches_of_transformed_samples(index_array)\n\n  File \"/usr/local/lib/python3.7/dist-packages/keras_preprocessing/image/iterator.py\", line 230, in _get_batches_of_transformed_samples\n    interpolation=self.interpolation)\n\n  File \"/usr/local/lib/python3.7/dist-packages/keras_preprocessing/image/utils.py\", line 114, in load_img\n    img = pil_image.open(io.BytesIO(f.read()))\n\n  File \"/usr/local/lib/python3.7/dist-packages/PIL/Image.py\", line 2896, in open\n    \"cannot identify image file %r\" % (filename if filename else fp)\n\nPIL.UnidentifiedImageError: cannot identify image file <_io.BytesIO object at 0x7f03ea7e5ad0>\n\n\n\t [[{{node PyFunc}}]]\n\t [[IteratorGetNext]]\n0 successful operations.\n0 derived errors ignored. [Op:__inference_test_function_14001]"
          ]
        }
      ]
    },
    {
      "cell_type": "code",
      "source": [
        "%matplotlib inline\n",
        " \n",
        "import matplotlib.image  as mpimg\n",
        "import matplotlib.pyplot as plt\n",
        "\n",
        "acc=history.history['accuracy']\n",
        "val_acc=history.history['val_accuracy']\n",
        "loss=history.history['loss']\n",
        "val_loss=history.history['val_loss']\n",
        "\n",
        "acc2=history2.history['accuracy']\n",
        "val_acc2=history2.history['val_accuracy']\n",
        "loss2=history2.history['loss']\n",
        "val_loss2=history2.history['val_loss']\n",
        " \n",
        "epochs=range(len(acc)) # Get number of epochs\n",
        "\n",
        "plt.plot(epochs, acc, 'r', \"Training Accuracy\")\n",
        "plt.plot(epochs, val_acc, 'b', \"Validation Accuracy\")\n",
        "plt.title('Model1: Training and validation accuracy')\n",
        "plt.figure()\n",
        "\n",
        "\n",
        "plt.plot(epochs, loss, 'r', \"Training Loss\")\n",
        "plt.plot(epochs, val_loss, 'b', \"Validation Loss\")\n",
        "plt.figure()\n",
        "\n",
        "plt.plot(epochs, acc2, 'r', \"Training Accuracy\")\n",
        "plt.plot(epochs, val_acc2, 'b', \"Validation Accuracy\")\n",
        "plt.title('Model2: Training and validation accuracy')\n",
        "plt.figure()\n",
        "\n",
        "\n",
        "plt.plot(epochs, loss2, 'r', \"Training Loss\")\n",
        "plt.plot(epochs, val_loss2, 'b', \"Validation Loss\")\n",
        "plt.figure()\n",
        "\n"
      ],
      "metadata": {
        "colab": {
          "base_uri": "https://localhost:8080/",
          "height": 1000
        },
        "id": "JNviBnsWtnVb",
        "outputId": "c466bab2-e5d9-4e25-9ac5-be40f8953f70"
      },
      "execution_count": 36,
      "outputs": [
        {
          "output_type": "execute_result",
          "data": {
            "text/plain": [
              "<Figure size 432x288 with 0 Axes>"
            ]
          },
          "metadata": {},
          "execution_count": 36
        },
        {
          "output_type": "display_data",
          "data": {
            "text/plain": [
              "<Figure size 432x288 with 1 Axes>"
            ],
            "image/png": "[encoded data removed]"
          },
          "metadata": {
            "needs_background": "light"
          }
        },
        {
          "output_type": "display_data",
          "data": {
            "text/plain": [
              "<Figure size 432x288 with 1 Axes>"
            ],
            "image/png": "[encoded data removed]"
          },
          "metadata": {
            "needs_background": "light"
          }
        },
        {
          "output_type": "display_data",
          "data": {
            "text/plain": [
              "<Figure size 432x288 with 1 Axes>"
            ],
            "image/png": "[encoded data removed]"
          },
          "metadata": {
            "needs_background": "light"
          }
        },
        {
          "output_type": "display_data",
          "data": {
            "text/plain": [
              "<Figure size 432x288 with 1 Axes>"
            ],
            "image/png": "[encoded data removed]"
          },
          "metadata": {
            "needs_background": "light"
          }
        },
        {
          "output_type": "display_data",
          "data": {
            "text/plain": [
              "<Figure size 432x288 with 0 Axes>"
            ]
          },
          "metadata": {}
        }
      ]
    }
  ]
}