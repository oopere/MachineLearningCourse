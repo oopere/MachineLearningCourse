{
  "nbformat": 4,
  "nbformat_minor": 0,
  "metadata": {
    "colab": {
      "name": "HelloFlow1CatsvsDogs.ipynb",
      "provenance": [],
      "collapsed_sections": [],
      "authorship_tag": "ABX9TyN8fTKd+KaNwElqPEoDM1Yx",
      "include_colab_link": true
    },
    "kernelspec": {
      "name": "python3",
      "display_name": "Python 3"
    },
    "language_info": {
      "name": "python"
    },
    "accelerator": "GPU"
  },
  "cells": [
    {
      "cell_type": "markdown",
      "metadata": {
        "id": "view-in-github",
        "colab_type": "text"
      },
      "source": [
        "<a href=\"https://colab.research.google.com/github/oopere/MachineLearningCourse/blob/main/exercises/HelloFlow1CatsvsDogs.ipynb\" target=\"_parent\"><img src=\"https://colab.research.google.com/assets/colab-badge.svg\" alt=\"Open In Colab\"/></a>"
      ]
    },
    {
      "cell_type": "markdown",
      "source": [
        "\n",
        "let's start with TensorFlow.\n",
        "\n",
        "\n",
        "---\n",
        "\n",
        "\n",
        "In this collab, we are goig to solve three problems, and create thre different neuronal nets.\n"
      ],
      "metadata": {
        "id": "R3u_pPS7PSrj"
      }
    },
    {
      "cell_type": "markdown",
      "source": [
        "## First Sample. The most simple problem to solve \n",
        "\n",
        "---\n",
        "\n",
        "\n"
      ],
      "metadata": {
        "id": "K0Ez6Wz2T__6"
      }
    },
    {
      "cell_type": "code",
      "source": [
        "#First steep is import the libraries. \n",
        "import tensorflow as tf\n",
        "#Numpy is a lybrary that allow us to work with arrays. \n",
        "import numpy as np\n",
        "#keras is an open source neural networks lybrary writted in python that run's in varios frameworks, TensorFlow included. \n",
        "from tensorflow import keras\n",
        "print (tf.__version__)\n"
      ],
      "metadata": {
        "id": "pddGlKsiO_du",
        "colab": {
          "base_uri": "https://localhost:8080/"
        },
        "outputId": "73207341-f177-46b6-acbb-8e26a407ec60"
      },
      "execution_count": null,
      "outputs": [
        {
          "output_type": "stream",
          "name": "stdout",
          "text": [
            "2.8.0\n"
          ]
        }
      ]
    },
    {
      "cell_type": "code",
      "source": [
        "#Model with just one dense layer, one neuron, and one input. This is the most simple model possible. \n",
        "model = tf.keras.Sequential(keras.layers.Dense(units=1, input_shape=[1]))\n"
      ],
      "metadata": {
        "id": "qlPs6OeGQ7bZ"
      },
      "execution_count": null,
      "outputs": []
    },
    {
      "cell_type": "code",
      "source": [
        "#create 2 arrays, and the model must discover the relationship betwen the values. \n",
        "# (n * -1) + 2\n",
        "X = np.array([-2.0, -1.0, 0.0, 1.0, 2.0, 3.0, 4.0, 5.0, 6.0, 7.0, 8.0], dtype=float)\n",
        "y = np.array([4.0, 3.0, 2.0, 1.0, 0.0, -1.0, -2.0, -3.0, -4.0, -5.0, -6.0], dtype=float)"
      ],
      "metadata": {
        "id": "A9ClkratT9ZD"
      },
      "execution_count": null,
      "outputs": []
    },
    {
      "cell_type": "code",
      "source": [
        "#compile and train the model.\n",
        "#compile and indicate the optimezer and the model. By the moment we need to understand that this both functions are where the magic happens. \n",
        "#The optimizer is the function responsible to make a guess. \n",
        "#The loss function is responsible to indicate how accurated the guees is. \n",
        "#They try to be more accurated in each epoch\n",
        "model.compile(optimizer=\"sgd\", loss=\"mean_squared_error\") \n",
        "model.fit(X, y, epochs=250)"
      ],
      "metadata": {
        "colab": {
          "base_uri": "https://localhost:8080/"
        },
        "id": "UiE53I3fWFvI",
        "outputId": "dad7fd9b-17f6-4279-a473-b32bdf6fd6fb"
      },
      "execution_count": null,
      "outputs": [
        {
          "output_type": "stream",
          "name": "stdout",
          "text": [
            "Epoch 1/250\n",
            "1/1 [==============================] - 0s 239ms/step - loss: 6.3385e-05\n",
            "Epoch 2/250\n",
            "1/1 [==============================] - 0s 8ms/step - loss: 6.2090e-05\n",
            "Epoch 3/250\n",
            "1/1 [==============================] - 0s 6ms/step - loss: 6.0822e-05\n",
            "Epoch 4/250\n",
            "1/1 [==============================] - 0s 4ms/step - loss: 5.9580e-05\n",
            "Epoch 5/250\n",
            "1/1 [==============================] - 0s 5ms/step - loss: 5.8363e-05\n",
            "Epoch 6/250\n",
            "1/1 [==============================] - 0s 4ms/step - loss: 5.7171e-05\n",
            "Epoch 7/250\n",
            "1/1 [==============================] - 0s 5ms/step - loss: 5.6004e-05\n",
            "Epoch 8/250\n",
            "1/1 [==============================] - 0s 5ms/step - loss: 5.4860e-05\n",
            "Epoch 9/250\n",
            "1/1 [==============================] - 0s 5ms/step - loss: 5.3739e-05\n",
            "Epoch 10/250\n",
            "1/1 [==============================] - 0s 9ms/step - loss: 5.2642e-05\n",
            "Epoch 11/250\n",
            "1/1 [==============================] - 0s 5ms/step - loss: 5.1566e-05\n",
            "Epoch 12/250\n",
            "1/1 [==============================] - 0s 5ms/step - loss: 5.0514e-05\n",
            "Epoch 13/250\n",
            "1/1 [==============================] - 0s 5ms/step - loss: 4.9482e-05\n",
            "Epoch 14/250\n",
            "1/1 [==============================] - 0s 5ms/step - loss: 4.8470e-05\n",
            "Epoch 15/250\n",
            "1/1 [==============================] - 0s 5ms/step - loss: 4.7480e-05\n",
            "Epoch 16/250\n",
            "1/1 [==============================] - 0s 5ms/step - loss: 4.6512e-05\n",
            "Epoch 17/250\n",
            "1/1 [==============================] - 0s 5ms/step - loss: 4.5562e-05\n",
            "Epoch 18/250\n",
            "1/1 [==============================] - 0s 5ms/step - loss: 4.4631e-05\n",
            "Epoch 19/250\n",
            "1/1 [==============================] - 0s 9ms/step - loss: 4.3719e-05\n",
            "Epoch 20/250\n",
            "1/1 [==============================] - 0s 5ms/step - loss: 4.2827e-05\n",
            "Epoch 21/250\n",
            "1/1 [==============================] - 0s 5ms/step - loss: 4.1952e-05\n",
            "Epoch 22/250\n",
            "1/1 [==============================] - 0s 22ms/step - loss: 4.1096e-05\n",
            "Epoch 23/250\n",
            "1/1 [==============================] - 0s 7ms/step - loss: 4.0256e-05\n",
            "Epoch 24/250\n",
            "1/1 [==============================] - 0s 7ms/step - loss: 3.9434e-05\n",
            "Epoch 25/250\n",
            "1/1 [==============================] - 0s 7ms/step - loss: 3.8629e-05\n",
            "Epoch 26/250\n",
            "1/1 [==============================] - 0s 10ms/step - loss: 3.7840e-05\n",
            "Epoch 27/250\n",
            "1/1 [==============================] - 0s 7ms/step - loss: 3.7067e-05\n",
            "Epoch 28/250\n",
            "1/1 [==============================] - 0s 5ms/step - loss: 3.6311e-05\n",
            "Epoch 29/250\n",
            "1/1 [==============================] - 0s 5ms/step - loss: 3.5569e-05\n",
            "Epoch 30/250\n",
            "1/1 [==============================] - 0s 6ms/step - loss: 3.4842e-05\n",
            "Epoch 31/250\n",
            "1/1 [==============================] - 0s 13ms/step - loss: 3.4131e-05\n",
            "Epoch 32/250\n",
            "1/1 [==============================] - 0s 7ms/step - loss: 3.3434e-05\n",
            "Epoch 33/250\n",
            "1/1 [==============================] - 0s 7ms/step - loss: 3.2751e-05\n",
            "Epoch 34/250\n",
            "1/1 [==============================] - 0s 7ms/step - loss: 3.2082e-05\n",
            "Epoch 35/250\n",
            "1/1 [==============================] - 0s 7ms/step - loss: 3.1427e-05\n",
            "Epoch 36/250\n",
            "1/1 [==============================] - 0s 7ms/step - loss: 3.0785e-05\n",
            "Epoch 37/250\n",
            "1/1 [==============================] - 0s 8ms/step - loss: 3.0156e-05\n",
            "Epoch 38/250\n",
            "1/1 [==============================] - 0s 6ms/step - loss: 2.9542e-05\n",
            "Epoch 39/250\n",
            "1/1 [==============================] - 0s 6ms/step - loss: 2.8938e-05\n",
            "Epoch 40/250\n",
            "1/1 [==============================] - 0s 7ms/step - loss: 2.8347e-05\n",
            "Epoch 41/250\n",
            "1/1 [==============================] - 0s 7ms/step - loss: 2.7768e-05\n",
            "Epoch 42/250\n",
            "1/1 [==============================] - 0s 7ms/step - loss: 2.7201e-05\n",
            "Epoch 43/250\n",
            "1/1 [==============================] - 0s 6ms/step - loss: 2.6645e-05\n",
            "Epoch 44/250\n",
            "1/1 [==============================] - 0s 7ms/step - loss: 2.6101e-05\n",
            "Epoch 45/250\n",
            "1/1 [==============================] - 0s 7ms/step - loss: 2.5568e-05\n",
            "Epoch 46/250\n",
            "1/1 [==============================] - 0s 7ms/step - loss: 2.5047e-05\n",
            "Epoch 47/250\n",
            "1/1 [==============================] - 0s 7ms/step - loss: 2.4534e-05\n",
            "Epoch 48/250\n",
            "1/1 [==============================] - 0s 7ms/step - loss: 2.4033e-05\n",
            "Epoch 49/250\n",
            "1/1 [==============================] - 0s 7ms/step - loss: 2.3542e-05\n",
            "Epoch 50/250\n",
            "1/1 [==============================] - 0s 6ms/step - loss: 2.3061e-05\n",
            "Epoch 51/250\n",
            "1/1 [==============================] - 0s 7ms/step - loss: 2.2590e-05\n",
            "Epoch 52/250\n",
            "1/1 [==============================] - 0s 15ms/step - loss: 2.2128e-05\n",
            "Epoch 53/250\n",
            "1/1 [==============================] - 0s 6ms/step - loss: 2.1676e-05\n",
            "Epoch 54/250\n",
            "1/1 [==============================] - 0s 7ms/step - loss: 2.1234e-05\n",
            "Epoch 55/250\n",
            "1/1 [==============================] - 0s 6ms/step - loss: 2.0800e-05\n",
            "Epoch 56/250\n",
            "1/1 [==============================] - 0s 6ms/step - loss: 2.0376e-05\n",
            "Epoch 57/250\n",
            "1/1 [==============================] - 0s 6ms/step - loss: 1.9959e-05\n",
            "Epoch 58/250\n",
            "1/1 [==============================] - 0s 7ms/step - loss: 1.9551e-05\n",
            "Epoch 59/250\n",
            "1/1 [==============================] - 0s 7ms/step - loss: 1.9152e-05\n",
            "Epoch 60/250\n",
            "1/1 [==============================] - 0s 7ms/step - loss: 1.8761e-05\n",
            "Epoch 61/250\n",
            "1/1 [==============================] - 0s 6ms/step - loss: 1.8377e-05\n",
            "Epoch 62/250\n",
            "1/1 [==============================] - 0s 7ms/step - loss: 1.8002e-05\n",
            "Epoch 63/250\n",
            "1/1 [==============================] - 0s 7ms/step - loss: 1.7634e-05\n",
            "Epoch 64/250\n",
            "1/1 [==============================] - 0s 7ms/step - loss: 1.7275e-05\n",
            "Epoch 65/250\n",
            "1/1 [==============================] - 0s 8ms/step - loss: 1.6922e-05\n",
            "Epoch 66/250\n",
            "1/1 [==============================] - 0s 8ms/step - loss: 1.6577e-05\n",
            "Epoch 67/250\n",
            "1/1 [==============================] - 0s 7ms/step - loss: 1.6238e-05\n",
            "Epoch 68/250\n",
            "1/1 [==============================] - 0s 8ms/step - loss: 1.5906e-05\n",
            "Epoch 69/250\n",
            "1/1 [==============================] - 0s 7ms/step - loss: 1.5582e-05\n",
            "Epoch 70/250\n",
            "1/1 [==============================] - 0s 7ms/step - loss: 1.5264e-05\n",
            "Epoch 71/250\n",
            "1/1 [==============================] - 0s 7ms/step - loss: 1.4951e-05\n",
            "Epoch 72/250\n",
            "1/1 [==============================] - 0s 7ms/step - loss: 1.4646e-05\n",
            "Epoch 73/250\n",
            "1/1 [==============================] - 0s 7ms/step - loss: 1.4347e-05\n",
            "Epoch 74/250\n",
            "1/1 [==============================] - 0s 8ms/step - loss: 1.4054e-05\n",
            "Epoch 75/250\n",
            "1/1 [==============================] - 0s 7ms/step - loss: 1.3767e-05\n",
            "Epoch 76/250\n",
            "1/1 [==============================] - 0s 8ms/step - loss: 1.3486e-05\n",
            "Epoch 77/250\n",
            "1/1 [==============================] - 0s 7ms/step - loss: 1.3211e-05\n",
            "Epoch 78/250\n",
            "1/1 [==============================] - 0s 9ms/step - loss: 1.2941e-05\n",
            "Epoch 79/250\n",
            "1/1 [==============================] - 0s 8ms/step - loss: 1.2676e-05\n",
            "Epoch 80/250\n",
            "1/1 [==============================] - 0s 10ms/step - loss: 1.2418e-05\n",
            "Epoch 81/250\n",
            "1/1 [==============================] - 0s 7ms/step - loss: 1.2164e-05\n",
            "Epoch 82/250\n",
            "1/1 [==============================] - 0s 8ms/step - loss: 1.1916e-05\n",
            "Epoch 83/250\n",
            "1/1 [==============================] - 0s 8ms/step - loss: 1.1672e-05\n",
            "Epoch 84/250\n",
            "1/1 [==============================] - 0s 8ms/step - loss: 1.1434e-05\n",
            "Epoch 85/250\n",
            "1/1 [==============================] - 0s 7ms/step - loss: 1.1201e-05\n",
            "Epoch 86/250\n",
            "1/1 [==============================] - 0s 8ms/step - loss: 1.0971e-05\n",
            "Epoch 87/250\n",
            "1/1 [==============================] - 0s 7ms/step - loss: 1.0748e-05\n",
            "Epoch 88/250\n",
            "1/1 [==============================] - 0s 7ms/step - loss: 1.0528e-05\n",
            "Epoch 89/250\n",
            "1/1 [==============================] - 0s 8ms/step - loss: 1.0313e-05\n",
            "Epoch 90/250\n",
            "1/1 [==============================] - 0s 7ms/step - loss: 1.0102e-05\n",
            "Epoch 91/250\n",
            "1/1 [==============================] - 0s 7ms/step - loss: 9.8962e-06\n",
            "Epoch 92/250\n",
            "1/1 [==============================] - 0s 8ms/step - loss: 9.6942e-06\n",
            "Epoch 93/250\n",
            "1/1 [==============================] - 0s 7ms/step - loss: 9.4961e-06\n",
            "Epoch 94/250\n",
            "1/1 [==============================] - 0s 7ms/step - loss: 9.3022e-06\n",
            "Epoch 95/250\n",
            "1/1 [==============================] - 0s 7ms/step - loss: 9.1119e-06\n",
            "Epoch 96/250\n",
            "1/1 [==============================] - 0s 7ms/step - loss: 8.9262e-06\n",
            "Epoch 97/250\n",
            "1/1 [==============================] - 0s 18ms/step - loss: 8.7442e-06\n",
            "Epoch 98/250\n",
            "1/1 [==============================] - 0s 15ms/step - loss: 8.5654e-06\n",
            "Epoch 99/250\n",
            "1/1 [==============================] - 0s 18ms/step - loss: 8.3904e-06\n",
            "Epoch 100/250\n",
            "1/1 [==============================] - 0s 9ms/step - loss: 8.2189e-06\n",
            "Epoch 101/250\n",
            "1/1 [==============================] - 0s 11ms/step - loss: 8.0513e-06\n",
            "Epoch 102/250\n",
            "1/1 [==============================] - 0s 9ms/step - loss: 7.8864e-06\n",
            "Epoch 103/250\n",
            "1/1 [==============================] - 0s 10ms/step - loss: 7.7256e-06\n",
            "Epoch 104/250\n",
            "1/1 [==============================] - 0s 15ms/step - loss: 7.5679e-06\n",
            "Epoch 105/250\n",
            "1/1 [==============================] - 0s 14ms/step - loss: 7.4136e-06\n",
            "Epoch 106/250\n",
            "1/1 [==============================] - 0s 16ms/step - loss: 7.2621e-06\n",
            "Epoch 107/250\n",
            "1/1 [==============================] - 0s 10ms/step - loss: 7.1137e-06\n",
            "Epoch 108/250\n",
            "1/1 [==============================] - 0s 10ms/step - loss: 6.9685e-06\n",
            "Epoch 109/250\n",
            "1/1 [==============================] - 0s 7ms/step - loss: 6.8260e-06\n",
            "Epoch 110/250\n",
            "1/1 [==============================] - 0s 8ms/step - loss: 6.6868e-06\n",
            "Epoch 111/250\n",
            "1/1 [==============================] - 0s 10ms/step - loss: 6.5501e-06\n",
            "Epoch 112/250\n",
            "1/1 [==============================] - 0s 11ms/step - loss: 6.4162e-06\n",
            "Epoch 113/250\n",
            "1/1 [==============================] - 0s 10ms/step - loss: 6.2849e-06\n",
            "Epoch 114/250\n",
            "1/1 [==============================] - 0s 8ms/step - loss: 6.1569e-06\n",
            "Epoch 115/250\n",
            "1/1 [==============================] - 0s 7ms/step - loss: 6.0312e-06\n",
            "Epoch 116/250\n",
            "1/1 [==============================] - 0s 7ms/step - loss: 5.9084e-06\n",
            "Epoch 117/250\n",
            "1/1 [==============================] - 0s 6ms/step - loss: 5.7875e-06\n",
            "Epoch 118/250\n",
            "1/1 [==============================] - 0s 7ms/step - loss: 5.6697e-06\n",
            "Epoch 119/250\n",
            "1/1 [==============================] - 0s 7ms/step - loss: 5.5535e-06\n",
            "Epoch 120/250\n",
            "1/1 [==============================] - 0s 7ms/step - loss: 5.4402e-06\n",
            "Epoch 121/250\n",
            "1/1 [==============================] - 0s 13ms/step - loss: 5.3290e-06\n",
            "Epoch 122/250\n",
            "1/1 [==============================] - 0s 7ms/step - loss: 5.2200e-06\n",
            "Epoch 123/250\n",
            "1/1 [==============================] - 0s 7ms/step - loss: 5.1133e-06\n",
            "Epoch 124/250\n",
            "1/1 [==============================] - 0s 7ms/step - loss: 5.0090e-06\n",
            "Epoch 125/250\n",
            "1/1 [==============================] - 0s 7ms/step - loss: 4.9067e-06\n",
            "Epoch 126/250\n",
            "1/1 [==============================] - 0s 6ms/step - loss: 4.8064e-06\n",
            "Epoch 127/250\n",
            "1/1 [==============================] - 0s 6ms/step - loss: 4.7082e-06\n",
            "Epoch 128/250\n",
            "1/1 [==============================] - 0s 9ms/step - loss: 4.6122e-06\n",
            "Epoch 129/250\n",
            "1/1 [==============================] - 0s 7ms/step - loss: 4.5181e-06\n",
            "Epoch 130/250\n",
            "1/1 [==============================] - 0s 8ms/step - loss: 4.4258e-06\n",
            "Epoch 131/250\n",
            "1/1 [==============================] - 0s 8ms/step - loss: 4.3352e-06\n",
            "Epoch 132/250\n",
            "1/1 [==============================] - 0s 7ms/step - loss: 4.2468e-06\n",
            "Epoch 133/250\n",
            "1/1 [==============================] - 0s 9ms/step - loss: 4.1602e-06\n",
            "Epoch 134/250\n",
            "1/1 [==============================] - 0s 6ms/step - loss: 4.0752e-06\n",
            "Epoch 135/250\n",
            "1/1 [==============================] - 0s 7ms/step - loss: 3.9921e-06\n",
            "Epoch 136/250\n",
            "1/1 [==============================] - 0s 7ms/step - loss: 3.9107e-06\n",
            "Epoch 137/250\n",
            "1/1 [==============================] - 0s 6ms/step - loss: 3.8305e-06\n",
            "Epoch 138/250\n",
            "1/1 [==============================] - 0s 8ms/step - loss: 3.7524e-06\n",
            "Epoch 139/250\n",
            "1/1 [==============================] - 0s 9ms/step - loss: 3.6758e-06\n",
            "Epoch 140/250\n",
            "1/1 [==============================] - 0s 5ms/step - loss: 3.6009e-06\n",
            "Epoch 141/250\n",
            "1/1 [==============================] - 0s 5ms/step - loss: 3.5274e-06\n",
            "Epoch 142/250\n",
            "1/1 [==============================] - 0s 6ms/step - loss: 3.4552e-06\n",
            "Epoch 143/250\n",
            "1/1 [==============================] - 0s 6ms/step - loss: 3.3846e-06\n",
            "Epoch 144/250\n",
            "1/1 [==============================] - 0s 6ms/step - loss: 3.3155e-06\n",
            "Epoch 145/250\n",
            "1/1 [==============================] - 0s 8ms/step - loss: 3.2478e-06\n",
            "Epoch 146/250\n",
            "1/1 [==============================] - 0s 5ms/step - loss: 3.1814e-06\n",
            "Epoch 147/250\n",
            "1/1 [==============================] - 0s 6ms/step - loss: 3.1163e-06\n",
            "Epoch 148/250\n",
            "1/1 [==============================] - 0s 6ms/step - loss: 3.0529e-06\n",
            "Epoch 149/250\n",
            "1/1 [==============================] - 0s 6ms/step - loss: 2.9904e-06\n",
            "Epoch 150/250\n",
            "1/1 [==============================] - 0s 5ms/step - loss: 2.9294e-06\n",
            "Epoch 151/250\n",
            "1/1 [==============================] - 0s 5ms/step - loss: 2.8697e-06\n",
            "Epoch 152/250\n",
            "1/1 [==============================] - 0s 5ms/step - loss: 2.8110e-06\n",
            "Epoch 153/250\n",
            "1/1 [==============================] - 0s 5ms/step - loss: 2.7537e-06\n",
            "Epoch 154/250\n",
            "1/1 [==============================] - 0s 5ms/step - loss: 2.6973e-06\n",
            "Epoch 155/250\n",
            "1/1 [==============================] - 0s 5ms/step - loss: 2.6423e-06\n",
            "Epoch 156/250\n",
            "1/1 [==============================] - 0s 8ms/step - loss: 2.5884e-06\n",
            "Epoch 157/250\n",
            "1/1 [==============================] - 0s 7ms/step - loss: 2.5354e-06\n",
            "Epoch 158/250\n",
            "1/1 [==============================] - 0s 6ms/step - loss: 2.4836e-06\n",
            "Epoch 159/250\n",
            "1/1 [==============================] - 0s 6ms/step - loss: 2.4328e-06\n",
            "Epoch 160/250\n",
            "1/1 [==============================] - 0s 5ms/step - loss: 2.3833e-06\n",
            "Epoch 161/250\n",
            "1/1 [==============================] - 0s 5ms/step - loss: 2.3345e-06\n",
            "Epoch 162/250\n",
            "1/1 [==============================] - 0s 6ms/step - loss: 2.2868e-06\n",
            "Epoch 163/250\n",
            "1/1 [==============================] - 0s 6ms/step - loss: 2.2403e-06\n",
            "Epoch 164/250\n",
            "1/1 [==============================] - 0s 5ms/step - loss: 2.1944e-06\n",
            "Epoch 165/250\n",
            "1/1 [==============================] - 0s 5ms/step - loss: 2.1496e-06\n",
            "Epoch 166/250\n",
            "1/1 [==============================] - 0s 6ms/step - loss: 2.1057e-06\n",
            "Epoch 167/250\n",
            "1/1 [==============================] - 0s 6ms/step - loss: 2.0627e-06\n",
            "Epoch 168/250\n",
            "1/1 [==============================] - 0s 6ms/step - loss: 2.0207e-06\n",
            "Epoch 169/250\n",
            "1/1 [==============================] - 0s 6ms/step - loss: 1.9792e-06\n",
            "Epoch 170/250\n",
            "1/1 [==============================] - 0s 6ms/step - loss: 1.9390e-06\n",
            "Epoch 171/250\n",
            "1/1 [==============================] - 0s 6ms/step - loss: 1.8994e-06\n",
            "Epoch 172/250\n",
            "1/1 [==============================] - 0s 6ms/step - loss: 1.8606e-06\n",
            "Epoch 173/250\n",
            "1/1 [==============================] - 0s 6ms/step - loss: 1.8226e-06\n",
            "Epoch 174/250\n",
            "1/1 [==============================] - 0s 5ms/step - loss: 1.7855e-06\n",
            "Epoch 175/250\n",
            "1/1 [==============================] - 0s 6ms/step - loss: 1.7489e-06\n",
            "Epoch 176/250\n",
            "1/1 [==============================] - 0s 6ms/step - loss: 1.7132e-06\n",
            "Epoch 177/250\n",
            "1/1 [==============================] - 0s 5ms/step - loss: 1.6781e-06\n",
            "Epoch 178/250\n",
            "1/1 [==============================] - 0s 6ms/step - loss: 1.6438e-06\n",
            "Epoch 179/250\n",
            "1/1 [==============================] - 0s 5ms/step - loss: 1.6102e-06\n",
            "Epoch 180/250\n",
            "1/1 [==============================] - 0s 12ms/step - loss: 1.5772e-06\n",
            "Epoch 181/250\n",
            "1/1 [==============================] - 0s 9ms/step - loss: 1.5452e-06\n",
            "Epoch 182/250\n",
            "1/1 [==============================] - 0s 8ms/step - loss: 1.5137e-06\n",
            "Epoch 183/250\n",
            "1/1 [==============================] - 0s 5ms/step - loss: 1.4828e-06\n",
            "Epoch 184/250\n",
            "1/1 [==============================] - 0s 5ms/step - loss: 1.4525e-06\n",
            "Epoch 185/250\n",
            "1/1 [==============================] - 0s 5ms/step - loss: 1.4230e-06\n",
            "Epoch 186/250\n",
            "1/1 [==============================] - 0s 5ms/step - loss: 1.3938e-06\n",
            "Epoch 187/250\n",
            "1/1 [==============================] - 0s 8ms/step - loss: 1.3652e-06\n",
            "Epoch 188/250\n",
            "1/1 [==============================] - 0s 5ms/step - loss: 1.3373e-06\n",
            "Epoch 189/250\n",
            "1/1 [==============================] - 0s 5ms/step - loss: 1.3100e-06\n",
            "Epoch 190/250\n",
            "1/1 [==============================] - 0s 5ms/step - loss: 1.2833e-06\n",
            "Epoch 191/250\n",
            "1/1 [==============================] - 0s 6ms/step - loss: 1.2572e-06\n",
            "Epoch 192/250\n",
            "1/1 [==============================] - 0s 6ms/step - loss: 1.2314e-06\n",
            "Epoch 193/250\n",
            "1/1 [==============================] - 0s 16ms/step - loss: 1.2063e-06\n",
            "Epoch 194/250\n",
            "1/1 [==============================] - 0s 12ms/step - loss: 1.1817e-06\n",
            "Epoch 195/250\n",
            "1/1 [==============================] - 0s 7ms/step - loss: 1.1575e-06\n",
            "Epoch 196/250\n",
            "1/1 [==============================] - 0s 5ms/step - loss: 1.1339e-06\n",
            "Epoch 197/250\n",
            "1/1 [==============================] - 0s 6ms/step - loss: 1.1107e-06\n",
            "Epoch 198/250\n",
            "1/1 [==============================] - 0s 5ms/step - loss: 1.0881e-06\n",
            "Epoch 199/250\n",
            "1/1 [==============================] - 0s 8ms/step - loss: 1.0658e-06\n",
            "Epoch 200/250\n",
            "1/1 [==============================] - 0s 6ms/step - loss: 1.0441e-06\n",
            "Epoch 201/250\n",
            "1/1 [==============================] - 0s 5ms/step - loss: 1.0229e-06\n",
            "Epoch 202/250\n",
            "1/1 [==============================] - 0s 5ms/step - loss: 1.0019e-06\n",
            "Epoch 203/250\n",
            "1/1 [==============================] - 0s 8ms/step - loss: 9.8144e-07\n",
            "Epoch 204/250\n",
            "1/1 [==============================] - 0s 5ms/step - loss: 9.6134e-07\n",
            "Epoch 205/250\n",
            "1/1 [==============================] - 0s 6ms/step - loss: 9.4164e-07\n",
            "Epoch 206/250\n",
            "1/1 [==============================] - 0s 5ms/step - loss: 9.2252e-07\n",
            "Epoch 207/250\n",
            "1/1 [==============================] - 0s 5ms/step - loss: 9.0370e-07\n",
            "Epoch 208/250\n",
            "1/1 [==============================] - 0s 6ms/step - loss: 8.8513e-07\n",
            "Epoch 209/250\n",
            "1/1 [==============================] - 0s 6ms/step - loss: 8.6701e-07\n",
            "Epoch 210/250\n",
            "1/1 [==============================] - 0s 6ms/step - loss: 8.4943e-07\n",
            "Epoch 211/250\n",
            "1/1 [==============================] - 0s 7ms/step - loss: 8.3214e-07\n",
            "Epoch 212/250\n",
            "1/1 [==============================] - 0s 7ms/step - loss: 8.1521e-07\n",
            "Epoch 213/250\n",
            "1/1 [==============================] - 0s 6ms/step - loss: 7.9844e-07\n",
            "Epoch 214/250\n",
            "1/1 [==============================] - 0s 10ms/step - loss: 7.8219e-07\n",
            "Epoch 215/250\n",
            "1/1 [==============================] - 0s 6ms/step - loss: 7.6622e-07\n",
            "Epoch 216/250\n",
            "1/1 [==============================] - 0s 7ms/step - loss: 7.5056e-07\n",
            "Epoch 217/250\n",
            "1/1 [==============================] - 0s 9ms/step - loss: 7.3519e-07\n",
            "Epoch 218/250\n",
            "1/1 [==============================] - 0s 9ms/step - loss: 7.2008e-07\n",
            "Epoch 219/250\n",
            "1/1 [==============================] - 0s 6ms/step - loss: 7.0545e-07\n",
            "Epoch 220/250\n",
            "1/1 [==============================] - 0s 9ms/step - loss: 6.9100e-07\n",
            "Epoch 221/250\n",
            "1/1 [==============================] - 0s 6ms/step - loss: 6.7679e-07\n",
            "Epoch 222/250\n",
            "1/1 [==============================] - 0s 7ms/step - loss: 6.6288e-07\n",
            "Epoch 223/250\n",
            "1/1 [==============================] - 0s 9ms/step - loss: 6.4932e-07\n",
            "Epoch 224/250\n",
            "1/1 [==============================] - 0s 7ms/step - loss: 6.3600e-07\n",
            "Epoch 225/250\n",
            "1/1 [==============================] - 0s 6ms/step - loss: 6.2292e-07\n",
            "Epoch 226/250\n",
            "1/1 [==============================] - 0s 6ms/step - loss: 6.1018e-07\n",
            "Epoch 227/250\n",
            "1/1 [==============================] - 0s 6ms/step - loss: 5.9761e-07\n",
            "Epoch 228/250\n",
            "1/1 [==============================] - 0s 9ms/step - loss: 5.8548e-07\n",
            "Epoch 229/250\n",
            "1/1 [==============================] - 0s 6ms/step - loss: 5.7345e-07\n",
            "Epoch 230/250\n",
            "1/1 [==============================] - 0s 6ms/step - loss: 5.6170e-07\n",
            "Epoch 231/250\n",
            "1/1 [==============================] - 0s 10ms/step - loss: 5.5023e-07\n",
            "Epoch 232/250\n",
            "1/1 [==============================] - 0s 7ms/step - loss: 5.3898e-07\n",
            "Epoch 233/250\n",
            "1/1 [==============================] - 0s 12ms/step - loss: 5.2797e-07\n",
            "Epoch 234/250\n",
            "1/1 [==============================] - 0s 13ms/step - loss: 5.1725e-07\n",
            "Epoch 235/250\n",
            "1/1 [==============================] - 0s 5ms/step - loss: 5.0673e-07\n",
            "Epoch 236/250\n",
            "1/1 [==============================] - 0s 6ms/step - loss: 4.9646e-07\n",
            "Epoch 237/250\n",
            "1/1 [==============================] - 0s 9ms/step - loss: 4.8623e-07\n",
            "Epoch 238/250\n",
            "1/1 [==============================] - 0s 10ms/step - loss: 4.7628e-07\n",
            "Epoch 239/250\n",
            "1/1 [==============================] - 0s 9ms/step - loss: 4.6649e-07\n",
            "Epoch 240/250\n",
            "1/1 [==============================] - 0s 9ms/step - loss: 4.5699e-07\n",
            "Epoch 241/250\n",
            "1/1 [==============================] - 0s 7ms/step - loss: 4.4765e-07\n",
            "Epoch 242/250\n",
            "1/1 [==============================] - 0s 6ms/step - loss: 4.3860e-07\n",
            "Epoch 243/250\n",
            "1/1 [==============================] - 0s 6ms/step - loss: 4.2963e-07\n",
            "Epoch 244/250\n",
            "1/1 [==============================] - 0s 6ms/step - loss: 4.2082e-07\n",
            "Epoch 245/250\n",
            "1/1 [==============================] - 0s 6ms/step - loss: 4.1220e-07\n",
            "Epoch 246/250\n",
            "1/1 [==============================] - 0s 6ms/step - loss: 4.0374e-07\n",
            "Epoch 247/250\n",
            "1/1 [==============================] - 0s 5ms/step - loss: 3.9558e-07\n",
            "Epoch 248/250\n",
            "1/1 [==============================] - 0s 5ms/step - loss: 3.8745e-07\n",
            "Epoch 249/250\n",
            "1/1 [==============================] - 0s 6ms/step - loss: 3.7954e-07\n",
            "Epoch 250/250\n",
            "1/1 [==============================] - 0s 6ms/step - loss: 3.7183e-07\n"
          ]
        },
        {
          "output_type": "execute_result",
          "data": {
            "text/plain": [
              "<keras.callbacks.History at 0x7ff8eb9fa710>"
            ]
          },
          "metadata": {},
          "execution_count": 7
        }
      ]
    },
    {
      "cell_type": "code",
      "source": [
        "#expect something near -8. \n",
        "print(model.predict([10.0]))"
      ],
      "metadata": {
        "colab": {
          "base_uri": "https://localhost:8080/"
        },
        "id": "cqtIdC_PZxAU",
        "outputId": "9bcf005d-d416-4a15-b98c-a8b82b392cfc"
      },
      "execution_count": null,
      "outputs": [
        {
          "output_type": "stream",
          "name": "stdout",
          "text": [
            "[[-7.993168]]\n"
          ]
        }
      ]
    },
    {
      "cell_type": "markdown",
      "source": [
        "# Working with Images\n",
        "https://www.kaggle.com/datasets/muniryadi/cat-vs-rabbit?select=val-cat-rabbit\n",
        "\n",
        "cats vs rabbits"
      ],
      "metadata": {
        "id": "V-EfFty6_uKR"
      }
    },
    {
      "cell_type": "code",
      "source": [
        "#First steep is import the libraries. \n",
        "import tensorflow as tf\n",
        "#Numpy is a lybrary that allow us to work with arrays. \n",
        "import numpy as np\n",
        "#keras is an open source neural networks lybrary writted in python that run's in varios frameworks, TensorFlow included. \n",
        "from tensorflow import keras\n",
        "print (tf.__version__)\n"
      ],
      "metadata": {
        "id": "OvREzvxr5nSj"
      },
      "execution_count": null,
      "outputs": []
    },
    {
      "cell_type": "code",
      "source": [
        "#obtain the data from martra.uadla.com\n",
        "\n",
        "!wget --no-check-certificate \\\n",
        "https://martra.uadla.com/docs/validationCats.zip \\-O /tmp/validationCats.zip\n",
        "\n",
        "!wget --no-check-certificate \\\n",
        "https://martra.uadla.com/docs/validationDogs.zip \\-O /tmp/validationDogs.zip\n"
      ],
      "metadata": {
        "colab": {
          "base_uri": "https://localhost:8080/"
        },
        "id": "S91fBKeP_0Ng",
        "outputId": "8258a11a-1994-4e17-c0b9-dc3e314879c2"
      },
      "execution_count": 20,
      "outputs": [
        {
          "output_type": "stream",
          "name": "stdout",
          "text": [
            "--2022-05-23 21:57:03--  https://martra.uadla.com/docs/validationCats.zip\n",
            "Resolving martra.uadla.com (martra.uadla.com)... 162.144.22.118\n",
            "Connecting to martra.uadla.com (martra.uadla.com)|162.144.22.118|:443... connected.\n",
            "HTTP request sent, awaiting response... 200 OK\n",
            "Length: 71717093 (68M) [application/zip]\n",
            "Saving to: ‘/tmp/validationCats.zip’\n",
            "\n",
            "/tmp/validationCats 100%[===================>]  68.39M  14.3MB/s    in 6.3s    \n",
            "\n",
            "2022-05-23 21:57:11 (10.9 MB/s) - ‘/tmp/validationCats.zip’ saved [71717093/71717093]\n",
            "\n",
            "--2022-05-23 21:57:11--  https://martra.uadla.com/docs/validationDogs.zip\n",
            "Resolving martra.uadla.com (martra.uadla.com)... 162.144.22.118\n",
            "Connecting to martra.uadla.com (martra.uadla.com)|162.144.22.118|:443... connected.\n",
            "HTTP request sent, awaiting response... 200 OK\n",
            "Length: 88854115 (85M) [application/zip]\n",
            "Saving to: ‘/tmp/validationDogs.zip’\n",
            "\n",
            "/tmp/validationDogs 100%[===================>]  84.74M  14.5MB/s    in 7.5s    \n",
            "\n",
            "2022-05-23 21:57:19 (11.3 MB/s) - ‘/tmp/validationDogs.zip’ saved [88854115/88854115]\n",
            "\n"
          ]
        }
      ]
    },
    {
      "cell_type": "code",
      "source": [
        "#unzip the data\n",
        "import zipfile\n",
        "cvr_zip_file = '/tmp/validationCats.zip'\n",
        "zipmem = zipfile.ZipFile(cvr_zip_file)\n",
        "zipmem.extractall('/tmp/catsvsdogs/validation')\n",
        "\n",
        "cvr_zip_file = '/tmp/validationDogs.zip'\n",
        "zipmem = zipfile.ZipFile(cvr_zip_file)\n",
        "zipmem.extractall('/tmp/catsvsdogs/validation')\n",
        "\n",
        "zipmem.close()"
      ],
      "metadata": {
        "id": "OkyG_WmaOJlP"
      },
      "execution_count": 21,
      "outputs": []
    },
    {
      "cell_type": "code",
      "source": [
        "#create the model\n",
        "#it's a minimal model for images, with just an Convolutionatl layer and a MaxPooling layer\n",
        "model = tf.keras.models.Sequential([\n",
        "  tf.keras.layers.Conv2D(16, (4,4), activation=\"relu\", input_shape=(300, 300, 3)),\n",
        "  tf.keras.layers.MaxPooling2D(2,2),  \n",
        "  tf.keras.layers.Flatten(), \n",
        "  tf.keras.layers.Dense(128, activation=\"relu\"), \n",
        "  tf.keras.layers.Dense(1, activation=\"sigmoid\")\n",
        "])\n"
      ],
      "metadata": {
        "id": "4IjdNUfPbPsQ"
      },
      "execution_count": null,
      "outputs": []
    },
    {
      "cell_type": "code",
      "source": [
        "model.summary()"
      ],
      "metadata": {
        "colab": {
          "base_uri": "https://localhost:8080/"
        },
        "id": "IKQXXxUzefcZ",
        "outputId": "826fbf2d-21a5-4006-a64b-300050736daf"
      },
      "execution_count": null,
      "outputs": [
        {
          "output_type": "stream",
          "name": "stdout",
          "text": [
            "Model: \"sequential\"\n",
            "_________________________________________________________________\n",
            " Layer (type)                Output Shape              Param #   \n",
            "=================================================================\n",
            " conv2d (Conv2D)             (None, 297, 297, 16)      784       \n",
            "                                                                 \n",
            " max_pooling2d (MaxPooling2D  (None, 148, 148, 16)     0         \n",
            " )                                                               \n",
            "                                                                 \n",
            " flatten (Flatten)           (None, 350464)            0         \n",
            "                                                                 \n",
            " dense (Dense)               (None, 128)               44859520  \n",
            "                                                                 \n",
            " dense_1 (Dense)             (None, 1)                 129       \n",
            "                                                                 \n",
            "=================================================================\n",
            "Total params: 44,860,433\n",
            "Trainable params: 44,860,433\n",
            "Non-trainable params: 0\n",
            "_________________________________________________________________\n"
          ]
        }
      ]
    },
    {
      "cell_type": "code",
      "source": [
        " #create the model\n",
        "#a model with more convutionals and Pooling layers obtains leess parameters. \n",
        "model2 = tf.keras.models.Sequential([\n",
        "  tf.keras.layers.Conv2D(16, (4,4), activation=\"relu\", input_shape=(300, 300, 3)),\n",
        "  tf.keras.layers.MaxPooling2D(2,2),  \n",
        "  tf.keras.layers.Conv2D(32, (4,4), activation=\"relu\", input_shape=(300, 300, 3)),\n",
        "  tf.keras.layers.MaxPooling2D(2,2),  \n",
        "  tf.keras.layers.Conv2D(64, (4,4), activation=\"relu\", input_shape=(300, 300, 3)),\n",
        "  tf.keras.layers.MaxPooling2D(2,2),  \n",
        "  tf.keras.layers.Flatten(), \n",
        "  tf.keras.layers.Dense(512, activation=\"relu\"), \n",
        "  tf.keras.layers.Dense(1, activation=\"sigmoid\")\n",
        "])"
      ],
      "metadata": {
        "id": "9lU68GaYeo8h"
      },
      "execution_count": null,
      "outputs": []
    },
    {
      "cell_type": "code",
      "source": [
        "model2.summary()"
      ],
      "metadata": {
        "colab": {
          "base_uri": "https://localhost:8080/"
        },
        "id": "ygmXqTe_e3Tx",
        "outputId": "ee8d9106-c96b-4392-ba36-b98d1635d1c0"
      },
      "execution_count": null,
      "outputs": [
        {
          "output_type": "stream",
          "name": "stdout",
          "text": [
            "Model: \"sequential_1\"\n",
            "_________________________________________________________________\n",
            " Layer (type)                Output Shape              Param #   \n",
            "=================================================================\n",
            " conv2d_1 (Conv2D)           (None, 297, 297, 16)      784       \n",
            "                                                                 \n",
            " max_pooling2d_1 (MaxPooling  (None, 148, 148, 16)     0         \n",
            " 2D)                                                             \n",
            "                                                                 \n",
            " conv2d_2 (Conv2D)           (None, 145, 145, 32)      8224      \n",
            "                                                                 \n",
            " max_pooling2d_2 (MaxPooling  (None, 72, 72, 32)       0         \n",
            " 2D)                                                             \n",
            "                                                                 \n",
            " conv2d_3 (Conv2D)           (None, 69, 69, 64)        32832     \n",
            "                                                                 \n",
            " max_pooling2d_3 (MaxPooling  (None, 34, 34, 64)       0         \n",
            " 2D)                                                             \n",
            "                                                                 \n",
            " flatten_1 (Flatten)         (None, 73984)             0         \n",
            "                                                                 \n",
            " dense_2 (Dense)             (None, 512)               37880320  \n",
            "                                                                 \n",
            " dense_3 (Dense)             (None, 1)                 513       \n",
            "                                                                 \n",
            "=================================================================\n",
            "Total params: 37,922,673\n",
            "Trainable params: 37,922,673\n",
            "Non-trainable params: 0\n",
            "_________________________________________________________________\n"
          ]
        }
      ]
    },
    {
      "cell_type": "code",
      "source": [
        "#compile model \n",
        "from tensorflow.keras.optimizers import RMSprop\n",
        "#binary_crossentropy is a loss function that works really weel with binary clasifications. \n",
        "model.compile(loss=\"binary_crossentropy\", \n",
        "              optimizer=RMSprop(learning_rate=0.001), \n",
        "              metrics=['accuracy'])\n",
        "model2.compile(loss=\"binary_crossentropy\", \n",
        "              optimizer=RMSprop(learning_rate=0.001), \n",
        "              metrics=['accuracy'])"
      ],
      "metadata": {
        "id": "Wf3hcRN8e6sb"
      },
      "execution_count": null,
      "outputs": []
    },
    {
      "cell_type": "code",
      "source": [
        "#preparing the images\n",
        "from tensorflow.keras.preprocessing.image import ImageDataGenerator\n",
        "#TRAIN Dataset\n",
        "#Normalize the images\n",
        "train_idg = ImageDataGenerator(rescale=1/255)\n",
        "train_data = train_idg.flow_from_directory(\n",
        "    '/tmp/catsvsrabbits/cats_vs_Rabbits/train-cat-rabbit', \n",
        "    target_size = (300, 300), \n",
        "    batch_size = 16, \n",
        "    class_mode='binary'\n",
        ")\n",
        "#VALIDATION Dataset\n",
        "val_idg = ImageDataGenerator(rescale=1/255)\n",
        "val_data = val_idg.flow_from_directory(\n",
        "    '/tmp/catsvsrabbits/cats_vs_Rabbits/val-cat-rabbit', \n",
        "    target_size = (300, 300), \n",
        "    batch_size = 16, \n",
        "    class_mode='binary'\n",
        ")"
      ],
      "metadata": {
        "colab": {
          "base_uri": "https://localhost:8080/"
        },
        "id": "gxgcfWQugXoH",
        "outputId": "d3e9089d-3267-4dca-d616-4b3b82cc03f3"
      },
      "execution_count": null,
      "outputs": [
        {
          "output_type": "stream",
          "name": "stdout",
          "text": [
            "Found 1600 images belonging to 2 classes.\n",
            "Found 414 images belonging to 2 classes.\n"
          ]
        }
      ]
    },
    {
      "cell_type": "code",
      "source": [
        "#Trianing the model\n",
        "history = model.fit(\n",
        "     train_data,\n",
        "     validation_data = val_data, \n",
        "     epochs=30,\n",
        "     steps_per_epoch=8,\n",
        "     validation_steps=8,\n",
        "     verbose=1)"
      ],
      "metadata": {
        "colab": {
          "base_uri": "https://localhost:8080/"
        },
        "id": "pgLBJic-m2Gz",
        "outputId": "a2449980-a21f-4657-8ee0-3414d503b784"
      },
      "execution_count": null,
      "outputs": [
        {
          "output_type": "stream",
          "name": "stdout",
          "text": [
            "Epoch 1/30\n",
            "8/8 [==============================] - 1s 135ms/step - loss: 0.0216 - accuracy: 1.0000 - val_loss: 2.7680 - val_accuracy: 0.7500\n",
            "Epoch 2/30\n",
            "8/8 [==============================] - 1s 125ms/step - loss: 0.0052 - accuracy: 1.0000 - val_loss: 1.3515 - val_accuracy: 0.8125\n",
            "Epoch 3/30\n",
            "8/8 [==============================] - 1s 128ms/step - loss: 0.7833 - accuracy: 0.8672 - val_loss: 1.1534 - val_accuracy: 0.7344\n",
            "Epoch 4/30\n",
            "8/8 [==============================] - 1s 127ms/step - loss: 0.1464 - accuracy: 0.9453 - val_loss: 1.0568 - val_accuracy: 0.7344\n",
            "Epoch 5/30\n",
            "8/8 [==============================] - 1s 137ms/step - loss: 0.4735 - accuracy: 0.9141 - val_loss: 0.8784 - val_accuracy: 0.8438\n",
            "Epoch 6/30\n",
            "8/8 [==============================] - 1s 125ms/step - loss: 0.0232 - accuracy: 1.0000 - val_loss: 1.7194 - val_accuracy: 0.7578\n",
            "Epoch 7/30\n",
            "8/8 [==============================] - 1s 124ms/step - loss: 0.0280 - accuracy: 0.9922 - val_loss: 0.6209 - val_accuracy: 0.8047\n",
            "Epoch 8/30\n",
            "8/8 [==============================] - 1s 126ms/step - loss: 0.0178 - accuracy: 0.9922 - val_loss: 1.0341 - val_accuracy: 0.7422\n",
            "Epoch 9/30\n",
            "8/8 [==============================] - 1s 123ms/step - loss: 0.0660 - accuracy: 0.9766 - val_loss: 1.1593 - val_accuracy: 0.7344\n",
            "Epoch 10/30\n",
            "8/8 [==============================] - 1s 127ms/step - loss: 0.0336 - accuracy: 0.9844 - val_loss: 1.5116 - val_accuracy: 0.7344\n",
            "Epoch 11/30\n",
            "8/8 [==============================] - 1s 123ms/step - loss: 0.0236 - accuracy: 1.0000 - val_loss: 0.7221 - val_accuracy: 0.8359\n",
            "Epoch 12/30\n",
            "8/8 [==============================] - 1s 124ms/step - loss: 0.1832 - accuracy: 0.9609 - val_loss: 2.0948 - val_accuracy: 0.7344\n",
            "Epoch 13/30\n",
            "8/8 [==============================] - 1s 124ms/step - loss: 0.0208 - accuracy: 1.0000 - val_loss: 1.1016 - val_accuracy: 0.7500\n",
            "Epoch 14/30\n",
            "8/8 [==============================] - 1s 122ms/step - loss: 0.0068 - accuracy: 1.0000 - val_loss: 1.8021 - val_accuracy: 0.7734\n",
            "Epoch 15/30\n",
            "8/8 [==============================] - 1s 121ms/step - loss: 0.0284 - accuracy: 0.9922 - val_loss: 1.2387 - val_accuracy: 0.7422\n",
            "Epoch 16/30\n",
            "8/8 [==============================] - 1s 126ms/step - loss: 0.1092 - accuracy: 0.9844 - val_loss: 0.6904 - val_accuracy: 0.7656\n",
            "Epoch 17/30\n",
            "8/8 [==============================] - 1s 125ms/step - loss: 0.0269 - accuracy: 0.9922 - val_loss: 1.9473 - val_accuracy: 0.7422\n",
            "Epoch 18/30\n",
            "8/8 [==============================] - 1s 126ms/step - loss: 0.0051 - accuracy: 1.0000 - val_loss: 2.5297 - val_accuracy: 0.7734\n",
            "Epoch 19/30\n",
            "8/8 [==============================] - 1s 124ms/step - loss: 0.0056 - accuracy: 1.0000 - val_loss: 0.9213 - val_accuracy: 0.7734\n",
            "Epoch 20/30\n",
            "8/8 [==============================] - 1s 126ms/step - loss: 0.6126 - accuracy: 0.8984 - val_loss: 1.1698 - val_accuracy: 0.8047\n",
            "Epoch 21/30\n",
            "8/8 [==============================] - 1s 120ms/step - loss: 0.0559 - accuracy: 0.9922 - val_loss: 0.7216 - val_accuracy: 0.7891\n",
            "Epoch 22/30\n",
            "8/8 [==============================] - 1s 125ms/step - loss: 0.0063 - accuracy: 1.0000 - val_loss: 1.6155 - val_accuracy: 0.7734\n",
            "Epoch 23/30\n",
            "8/8 [==============================] - 1s 150ms/step - loss: 0.0146 - accuracy: 1.0000 - val_loss: 1.3283 - val_accuracy: 0.7891\n",
            "Epoch 24/30\n",
            "8/8 [==============================] - 1s 124ms/step - loss: 0.0145 - accuracy: 0.9922 - val_loss: 1.0561 - val_accuracy: 0.7734\n",
            "Epoch 25/30\n",
            "8/8 [==============================] - 1s 133ms/step - loss: 0.0037 - accuracy: 1.0000 - val_loss: 3.4995 - val_accuracy: 0.6953\n",
            "Epoch 26/30\n",
            "8/8 [==============================] - 1s 124ms/step - loss: 3.3022 - accuracy: 0.8672 - val_loss: 4.1157 - val_accuracy: 0.5781\n",
            "Epoch 27/30\n",
            "8/8 [==============================] - 1s 155ms/step - loss: 0.2252 - accuracy: 0.9609 - val_loss: 1.4296 - val_accuracy: 0.7812\n",
            "Epoch 28/30\n",
            "8/8 [==============================] - 1s 124ms/step - loss: 0.0070 - accuracy: 1.0000 - val_loss: 1.6716 - val_accuracy: 0.7812\n",
            "Epoch 29/30\n",
            "8/8 [==============================] - 1s 126ms/step - loss: 0.0082 - accuracy: 1.0000 - val_loss: 1.1178 - val_accuracy: 0.7969\n",
            "Epoch 30/30\n",
            "8/8 [==============================] - 1s 123ms/step - loss: 0.0164 - accuracy: 0.9922 - val_loss: 1.9574 - val_accuracy: 0.7656\n"
          ]
        }
      ]
    },
    {
      "cell_type": "code",
      "source": [
        "#Trianing the model2\n",
        "history2 = model2.fit(\n",
        "     train_data,\n",
        "     validation_data = val_data, \n",
        "     epochs=30,\n",
        "     steps_per_epoch=8,\n",
        "     validation_steps=8,\n",
        "     verbose=1)"
      ],
      "metadata": {
        "colab": {
          "base_uri": "https://localhost:8080/"
        },
        "id": "gkzjM_j-nGj0",
        "outputId": "c8891a57-2d1f-4f0d-9111-60a4bad78a8c"
      },
      "execution_count": null,
      "outputs": [
        {
          "output_type": "stream",
          "name": "stdout",
          "text": [
            "Epoch 1/30\n",
            "8/8 [==============================] - 1s 137ms/step - loss: 0.1478 - accuracy: 0.9375 - val_loss: 1.0007 - val_accuracy: 0.8203\n",
            "Epoch 2/30\n",
            "8/8 [==============================] - 1s 129ms/step - loss: 0.1215 - accuracy: 0.9531 - val_loss: 0.7870 - val_accuracy: 0.7344\n",
            "Epoch 3/30\n",
            "8/8 [==============================] - 1s 128ms/step - loss: 0.4517 - accuracy: 0.8594 - val_loss: 0.7304 - val_accuracy: 0.7344\n",
            "Epoch 4/30\n",
            "8/8 [==============================] - 1s 131ms/step - loss: 0.2288 - accuracy: 0.9062 - val_loss: 0.7409 - val_accuracy: 0.7578\n",
            "Epoch 5/30\n",
            "8/8 [==============================] - 1s 126ms/step - loss: 0.1851 - accuracy: 0.9375 - val_loss: 0.7299 - val_accuracy: 0.7812\n",
            "Epoch 6/30\n",
            "8/8 [==============================] - 1s 130ms/step - loss: 0.2364 - accuracy: 0.9141 - val_loss: 1.0637 - val_accuracy: 0.7812\n",
            "Epoch 7/30\n",
            "8/8 [==============================] - 1s 128ms/step - loss: 0.1232 - accuracy: 0.9688 - val_loss: 0.7738 - val_accuracy: 0.7656\n",
            "Epoch 8/30\n",
            "8/8 [==============================] - 1s 131ms/step - loss: 0.0956 - accuracy: 0.9688 - val_loss: 0.9504 - val_accuracy: 0.7344\n",
            "Epoch 9/30\n",
            "8/8 [==============================] - 1s 127ms/step - loss: 0.0868 - accuracy: 0.9766 - val_loss: 0.9456 - val_accuracy: 0.7578\n",
            "Epoch 10/30\n",
            "8/8 [==============================] - 1s 125ms/step - loss: 0.1797 - accuracy: 0.9453 - val_loss: 1.2585 - val_accuracy: 0.7891\n",
            "Epoch 11/30\n",
            "8/8 [==============================] - 1s 128ms/step - loss: 0.0926 - accuracy: 0.9609 - val_loss: 0.5859 - val_accuracy: 0.8359\n",
            "Epoch 12/30\n",
            "8/8 [==============================] - 1s 197ms/step - loss: 0.0493 - accuracy: 0.9922 - val_loss: 0.7605 - val_accuracy: 0.7344\n",
            "Epoch 13/30\n",
            "8/8 [==============================] - 2s 247ms/step - loss: 0.5358 - accuracy: 0.8750 - val_loss: 0.5826 - val_accuracy: 0.7344\n",
            "Epoch 14/30\n",
            "8/8 [==============================] - 2s 242ms/step - loss: 0.2272 - accuracy: 0.8828 - val_loss: 1.0735 - val_accuracy: 0.7812\n",
            "Epoch 15/30\n",
            "8/8 [==============================] - 1s 127ms/step - loss: 0.1640 - accuracy: 0.9766 - val_loss: 0.5810 - val_accuracy: 0.8281\n",
            "Epoch 16/30\n",
            "8/8 [==============================] - 1s 127ms/step - loss: 0.1172 - accuracy: 0.9609 - val_loss: 0.9354 - val_accuracy: 0.7578\n",
            "Epoch 17/30\n",
            "8/8 [==============================] - 1s 125ms/step - loss: 0.1199 - accuracy: 0.9453 - val_loss: 0.9195 - val_accuracy: 0.7578\n",
            "Epoch 18/30\n",
            "8/8 [==============================] - 1s 135ms/step - loss: 0.1125 - accuracy: 0.9531 - val_loss: 1.8166 - val_accuracy: 0.7500\n",
            "Epoch 19/30\n",
            "8/8 [==============================] - 2s 209ms/step - loss: 0.3232 - accuracy: 0.8984 - val_loss: 0.5070 - val_accuracy: 0.8047\n",
            "Epoch 20/30\n",
            "8/8 [==============================] - 1s 129ms/step - loss: 0.0653 - accuracy: 0.9844 - val_loss: 1.0719 - val_accuracy: 0.7266\n",
            "Epoch 21/30\n",
            "8/8 [==============================] - 1s 128ms/step - loss: 0.1181 - accuracy: 0.9453 - val_loss: 1.0431 - val_accuracy: 0.7812\n",
            "Epoch 22/30\n",
            "8/8 [==============================] - 1s 129ms/step - loss: 0.1173 - accuracy: 0.9688 - val_loss: 0.9107 - val_accuracy: 0.7891\n",
            "Epoch 23/30\n",
            "8/8 [==============================] - 1s 126ms/step - loss: 0.0639 - accuracy: 0.9688 - val_loss: 1.6929 - val_accuracy: 0.7656\n",
            "Epoch 24/30\n",
            "8/8 [==============================] - 1s 127ms/step - loss: 0.0690 - accuracy: 0.9688 - val_loss: 0.9716 - val_accuracy: 0.7812\n",
            "Epoch 25/30\n",
            "8/8 [==============================] - 1s 130ms/step - loss: 0.2157 - accuracy: 0.9141 - val_loss: 1.3442 - val_accuracy: 0.7656\n",
            "Epoch 26/30\n",
            "8/8 [==============================] - 1s 131ms/step - loss: 0.0239 - accuracy: 0.9922 - val_loss: 0.6977 - val_accuracy: 0.8438\n",
            "Epoch 27/30\n",
            "8/8 [==============================] - 1s 130ms/step - loss: 0.0424 - accuracy: 0.9844 - val_loss: 0.7953 - val_accuracy: 0.8516\n",
            "Epoch 28/30\n",
            "8/8 [==============================] - 1s 129ms/step - loss: 0.1638 - accuracy: 0.9688 - val_loss: 1.1208 - val_accuracy: 0.7734\n",
            "Epoch 29/30\n",
            "8/8 [==============================] - 1s 127ms/step - loss: 0.0538 - accuracy: 0.9766 - val_loss: 0.7820 - val_accuracy: 0.7734\n",
            "Epoch 30/30\n",
            "8/8 [==============================] - 1s 124ms/step - loss: 0.0461 - accuracy: 0.9922 - val_loss: 1.1683 - val_accuracy: 0.7969\n"
          ]
        }
      ]
    },
    {
      "cell_type": "code",
      "source": [
        "%matplotlib inline\n",
        " \n",
        "import matplotlib.image  as mpimg\n",
        "import matplotlib.pyplot as plt\n",
        "\n",
        "acc=history.history['accuracy']\n",
        "val_acc=history.history['val_accuracy']\n",
        "loss=history.history['loss']\n",
        "val_loss=history.history['val_loss']\n",
        "\n",
        "acc2=history2.history['accuracy']\n",
        "val_acc2=history2.history['val_accuracy']\n",
        "loss2=history2.history['loss']\n",
        "val_loss2=history2.history['val_loss']\n",
        " \n",
        "epochs=range(len(acc)) # Get number of epochs\n",
        "\n",
        "plt.plot(epochs, acc, 'r', \"Training Accuracy\")\n",
        "plt.plot(epochs, val_acc, 'b', \"Validation Accuracy\")\n",
        "plt.title('Model1: Training and validation accuracy')\n",
        "plt.figure()\n",
        "\n",
        "\n",
        "plt.plot(epochs, loss, 'r', \"Training Loss\")\n",
        "plt.plot(epochs, val_loss, 'b', \"Validation Loss\")\n",
        "plt.figure()\n",
        "\n",
        "plt.plot(epochs, acc2, 'r', \"Training Accuracy\")\n",
        "plt.plot(epochs, val_acc2, 'b', \"Validation Accuracy\")\n",
        "plt.title('Model2: Training and validation accuracy')\n",
        "plt.figure()\n",
        "\n",
        "\n",
        "plt.plot(epochs, loss2, 'r', \"Training Loss\")\n",
        "plt.plot(epochs, val_loss2, 'b', \"Validation Loss\")\n",
        "plt.figure()\n",
        "\n"
      ],
      "metadata": {
        "colab": {
          "base_uri": "https://localhost:8080/",
          "height": 1000
        },
        "id": "JNviBnsWtnVb",
        "outputId": "8df58407-6770-4399-fe04-3cd380ff7fee"
      },
      "execution_count": null,
      "outputs": [
        {
          "output_type": "execute_result",
          "data": {
            "text/plain": [
              "<Figure size 432x288 with 0 Axes>"
            ]
          },
          "metadata": {},
          "execution_count": 22
        },
        {
          "output_type": "display_data",
          "data": {
            "text/plain": [
              "<Figure size 432x288 with 1 Axes>"
            ],
            "image/png": "[encoded data removed]"
          },
          "metadata": {
            "needs_background": "light"
          }
        },
        {
          "output_type": "display_data",
          "data": {
            "text/plain": [
              "<Figure size 432x288 with 1 Axes>"
            ],
            "image/png": "[encoded data removed]"
          },
          "metadata": {
            "needs_background": "light"
          }
        },
        {
          "output_type": "display_data",
          "data": {
            "text/plain": [
              "<Figure size 432x288 with 1 Axes>"
            ],
            "image/png": "[encoded data removed]"
          },
          "metadata": {
            "needs_background": "light"
          }
        },
        {
          "output_type": "display_data",
          "data": {
            "text/plain": [
              "<Figure size 432x288 with 1 Axes>"
            ],
            "image/png": "[encoded data removed]"
          },
          "metadata": {
            "needs_background": "light"
          }
        },
        {
          "output_type": "display_data",
          "data": {
            "text/plain": [
              "<Figure size 432x288 with 0 Axes>"
            ]
          },
          "metadata": {}
        }
      ]
    }
  ]
}